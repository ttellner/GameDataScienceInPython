{
 "cells": [
  {
   "attachments": {},
   "cell_type": "markdown",
   "metadata": {},
   "source": [
    "# Chapter 4 Lab 3\n",
    "\n",
    "## Goal\n",
    "\n",
    "The goal of this lab is to demonstrate how you can use Python to perform feature selection - specifically forward and backward selection.\n",
    "\n",
    "Python has several libraries within sklearn that mimic - almost - the R stepwise model selection. None of them however will perfectly reproduce the output. Otherwise, there is a library we will install and import called 'mlxtend'. mlxtend has a feature_selection.SequentialFeatureSelector module (names identically to the one in sklearn). mlxtend's sequential feature selector works more like R's stepwise methodology.\n",
    "\n",
    "We do have to do one two things manually as well. See the comments below as we step through this.\n",
    "\n",
    "First, import what we need and then we read in the normalized numeric data from Lab 1 of this chapter."
   ]
  },
  {
   "cell_type": "code",
   "execution_count": 296,
   "metadata": {},
   "outputs": [],
   "source": [
    "#! pip install mlxtend"
   ]
  },
  {
   "cell_type": "code",
   "execution_count": 2,
   "metadata": {},
   "outputs": [],
   "source": [
    "import pandas as pd\n",
    "import numpy as np\n",
    "from sklearn.linear_model import LinearRegression\n",
    "from sklearn.metrics import mean_squared_error, make_scorer\n",
    "from math import log\n",
    "from mlxtend.feature_selection import SequentialFeatureSelector as SFS\n",
    "import functools\n",
    "import operator\n",
    "# from sklearn.preprocessing import StandardScaler"
   ]
  },
  {
   "cell_type": "code",
   "execution_count": 3,
   "metadata": {},
   "outputs": [
    {
     "data": {
      "text/html": [
       "<div>\n",
       "<style scoped>\n",
       "    .dataframe tbody tr th:only-of-type {\n",
       "        vertical-align: middle;\n",
       "    }\n",
       "\n",
       "    .dataframe tbody tr th {\n",
       "        vertical-align: top;\n",
       "    }\n",
       "\n",
       "    .dataframe thead th {\n",
       "        text-align: right;\n",
       "    }\n",
       "</style>\n",
       "<table border=\"1\" class=\"dataframe\">\n",
       "  <thead>\n",
       "    <tr style=\"text-align: right;\">\n",
       "      <th></th>\n",
       "      <th>GamesPlayed</th>\n",
       "      <th>GamesWon</th>\n",
       "      <th>GamesLeft</th>\n",
       "      <th>Ditches</th>\n",
       "      <th>Points</th>\n",
       "      <th>Kills</th>\n",
       "      <th>KillsPerMin</th>\n",
       "      <th>Deaths</th>\n",
       "      <th>Assists</th>\n",
       "      <th>CreepsKilled</th>\n",
       "      <th>CreepsDenied</th>\n",
       "      <th>NeutralsKilled</th>\n",
       "      <th>TowersDestroyed</th>\n",
       "      <th>RaxsDestroyed</th>\n",
       "      <th>TotalTime</th>\n",
       "    </tr>\n",
       "  </thead>\n",
       "  <tbody>\n",
       "    <tr>\n",
       "      <th>0</th>\n",
       "      <td>0.141363</td>\n",
       "      <td>0.140590</td>\n",
       "      <td>0.150</td>\n",
       "      <td>0.333333</td>\n",
       "      <td>0.350240</td>\n",
       "      <td>0.095653</td>\n",
       "      <td>0.285714</td>\n",
       "      <td>0.111196</td>\n",
       "      <td>0.122158</td>\n",
       "      <td>0.104007</td>\n",
       "      <td>0.069642</td>\n",
       "      <td>0.080559</td>\n",
       "      <td>0.136486</td>\n",
       "      <td>0.132340</td>\n",
       "      <td>0.259791</td>\n",
       "    </tr>\n",
       "    <tr>\n",
       "      <th>1</th>\n",
       "      <td>0.020602</td>\n",
       "      <td>0.022109</td>\n",
       "      <td>0.000</td>\n",
       "      <td>0.000000</td>\n",
       "      <td>0.262429</td>\n",
       "      <td>0.015711</td>\n",
       "      <td>0.309524</td>\n",
       "      <td>0.026489</td>\n",
       "      <td>0.021663</td>\n",
       "      <td>0.012018</td>\n",
       "      <td>0.011797</td>\n",
       "      <td>0.010606</td>\n",
       "      <td>0.018839</td>\n",
       "      <td>0.020158</td>\n",
       "      <td>0.039233</td>\n",
       "    </tr>\n",
       "    <tr>\n",
       "      <th>2</th>\n",
       "      <td>0.000634</td>\n",
       "      <td>0.000000</td>\n",
       "      <td>0.000</td>\n",
       "      <td>0.000000</td>\n",
       "      <td>0.269743</td>\n",
       "      <td>0.000463</td>\n",
       "      <td>0.261905</td>\n",
       "      <td>0.001648</td>\n",
       "      <td>0.000523</td>\n",
       "      <td>0.000475</td>\n",
       "      <td>0.000228</td>\n",
       "      <td>0.000163</td>\n",
       "      <td>0.000000</td>\n",
       "      <td>0.000000</td>\n",
       "      <td>0.001125</td>\n",
       "    </tr>\n",
       "    <tr>\n",
       "      <th>3</th>\n",
       "      <td>0.031379</td>\n",
       "      <td>0.033447</td>\n",
       "      <td>0.125</td>\n",
       "      <td>0.055556</td>\n",
       "      <td>0.434886</td>\n",
       "      <td>0.045447</td>\n",
       "      <td>0.619048</td>\n",
       "      <td>0.026372</td>\n",
       "      <td>0.027159</td>\n",
       "      <td>0.037422</td>\n",
       "      <td>0.042929</td>\n",
       "      <td>0.033030</td>\n",
       "      <td>0.050750</td>\n",
       "      <td>0.031551</td>\n",
       "      <td>0.057959</td>\n",
       "    </tr>\n",
       "    <tr>\n",
       "      <th>4</th>\n",
       "      <td>0.000000</td>\n",
       "      <td>0.000567</td>\n",
       "      <td>0.000</td>\n",
       "      <td>0.000000</td>\n",
       "      <td>0.284200</td>\n",
       "      <td>0.000379</td>\n",
       "      <td>0.666667</td>\n",
       "      <td>0.000118</td>\n",
       "      <td>0.000291</td>\n",
       "      <td>0.000078</td>\n",
       "      <td>0.000182</td>\n",
       "      <td>0.000070</td>\n",
       "      <td>0.000000</td>\n",
       "      <td>0.000000</td>\n",
       "      <td>0.000139</td>\n",
       "    </tr>\n",
       "  </tbody>\n",
       "</table>\n",
       "</div>"
      ],
      "text/plain": [
       "    GamesPlayed   GamesWon   GamesLeft   Ditches    Points     Kills  \\\n",
       "0      0.141363   0.140590       0.150  0.333333  0.350240  0.095653   \n",
       "1      0.020602   0.022109       0.000  0.000000  0.262429  0.015711   \n",
       "2      0.000634   0.000000       0.000  0.000000  0.269743  0.000463   \n",
       "3      0.031379   0.033447       0.125  0.055556  0.434886  0.045447   \n",
       "4      0.000000   0.000567       0.000  0.000000  0.284200  0.000379   \n",
       "\n",
       "    KillsPerMin    Deaths   Assists   CreepsKilled   CreepsDenied  \\\n",
       "0      0.285714  0.111196  0.122158       0.104007       0.069642   \n",
       "1      0.309524  0.026489  0.021663       0.012018       0.011797   \n",
       "2      0.261905  0.001648  0.000523       0.000475       0.000228   \n",
       "3      0.619048  0.026372  0.027159       0.037422       0.042929   \n",
       "4      0.666667  0.000118  0.000291       0.000078       0.000182   \n",
       "\n",
       "    NeutralsKilled   TowersDestroyed   RaxsDestroyed   TotalTime  \n",
       "0         0.080559          0.136486        0.132340    0.259791  \n",
       "1         0.010606          0.018839        0.020158    0.039233  \n",
       "2         0.000163          0.000000        0.000000    0.001125  \n",
       "3         0.033030          0.050750        0.031551    0.057959  \n",
       "4         0.000070          0.000000        0.000000    0.000139  "
      ]
     },
     "execution_count": 3,
     "metadata": {},
     "output_type": "execute_result"
    }
   ],
   "source": [
    "dota_df1 = pd.read_csv(\"Dota_normalized.csv\")\n",
    "dota_df1.head()"
   ]
  },
  {
   "attachments": {},
   "cell_type": "markdown",
   "metadata": {},
   "source": [
    "Since we'll use linear regression, we break the data up into feature (X) and target (y). In this case, we want to see how the variables relate to 'Kills', so 'Kills' is our target (y)."
   ]
  },
  {
   "cell_type": "code",
   "execution_count": 4,
   "metadata": {},
   "outputs": [],
   "source": [
    "y = dota_df1[' Kills']\n",
    "X = dota_df1.drop([' Kills'], axis=1)"
   ]
  },
  {
   "cell_type": "code",
   "execution_count": 5,
   "metadata": {},
   "outputs": [],
   "source": [
    "feature_names = np.array(X.columns)"
   ]
  },
  {
   "attachments": {},
   "cell_type": "markdown",
   "metadata": {},
   "source": [
    "## Linear Regression and AIC\n",
    "\n",
    "Quick detour: As far as I know, there is no pre-packaged AIC functionality in Python. Though, with such a huge community, there may be one out there somewhere!\n",
    "\n",
    "As a result, we will define our own function to calculate AIC and then use 'make_scorer' in order to turn it into a scoring method that can be passed to our regression. Since the R code in the lab suggests that all 14 features are important to the regression and gives them an AIC score, let's regress all 14 and see if our custom AIC formula agrees!\n",
    "\n",
    "Step 1: instantiate a linear regression object and fit it. Later, we can use it to predict what we think 'y' would be and compare the two to help calculate our AIC."
   ]
  },
  {
   "cell_type": "code",
   "execution_count": 6,
   "metadata": {},
   "outputs": [
    {
     "data": {
      "text/html": [
       "<style>#sk-container-id-1 {color: black;background-color: white;}#sk-container-id-1 pre{padding: 0;}#sk-container-id-1 div.sk-toggleable {background-color: white;}#sk-container-id-1 label.sk-toggleable__label {cursor: pointer;display: block;width: 100%;margin-bottom: 0;padding: 0.3em;box-sizing: border-box;text-align: center;}#sk-container-id-1 label.sk-toggleable__label-arrow:before {content: \"▸\";float: left;margin-right: 0.25em;color: #696969;}#sk-container-id-1 label.sk-toggleable__label-arrow:hover:before {color: black;}#sk-container-id-1 div.sk-estimator:hover label.sk-toggleable__label-arrow:before {color: black;}#sk-container-id-1 div.sk-toggleable__content {max-height: 0;max-width: 0;overflow: hidden;text-align: left;background-color: #f0f8ff;}#sk-container-id-1 div.sk-toggleable__content pre {margin: 0.2em;color: black;border-radius: 0.25em;background-color: #f0f8ff;}#sk-container-id-1 input.sk-toggleable__control:checked~div.sk-toggleable__content {max-height: 200px;max-width: 100%;overflow: auto;}#sk-container-id-1 input.sk-toggleable__control:checked~label.sk-toggleable__label-arrow:before {content: \"▾\";}#sk-container-id-1 div.sk-estimator input.sk-toggleable__control:checked~label.sk-toggleable__label {background-color: #d4ebff;}#sk-container-id-1 div.sk-label input.sk-toggleable__control:checked~label.sk-toggleable__label {background-color: #d4ebff;}#sk-container-id-1 input.sk-hidden--visually {border: 0;clip: rect(1px 1px 1px 1px);clip: rect(1px, 1px, 1px, 1px);height: 1px;margin: -1px;overflow: hidden;padding: 0;position: absolute;width: 1px;}#sk-container-id-1 div.sk-estimator {font-family: monospace;background-color: #f0f8ff;border: 1px dotted black;border-radius: 0.25em;box-sizing: border-box;margin-bottom: 0.5em;}#sk-container-id-1 div.sk-estimator:hover {background-color: #d4ebff;}#sk-container-id-1 div.sk-parallel-item::after {content: \"\";width: 100%;border-bottom: 1px solid gray;flex-grow: 1;}#sk-container-id-1 div.sk-label:hover label.sk-toggleable__label {background-color: #d4ebff;}#sk-container-id-1 div.sk-serial::before {content: \"\";position: absolute;border-left: 1px solid gray;box-sizing: border-box;top: 0;bottom: 0;left: 50%;z-index: 0;}#sk-container-id-1 div.sk-serial {display: flex;flex-direction: column;align-items: center;background-color: white;padding-right: 0.2em;padding-left: 0.2em;position: relative;}#sk-container-id-1 div.sk-item {position: relative;z-index: 1;}#sk-container-id-1 div.sk-parallel {display: flex;align-items: stretch;justify-content: center;background-color: white;position: relative;}#sk-container-id-1 div.sk-item::before, #sk-container-id-1 div.sk-parallel-item::before {content: \"\";position: absolute;border-left: 1px solid gray;box-sizing: border-box;top: 0;bottom: 0;left: 50%;z-index: -1;}#sk-container-id-1 div.sk-parallel-item {display: flex;flex-direction: column;z-index: 1;position: relative;background-color: white;}#sk-container-id-1 div.sk-parallel-item:first-child::after {align-self: flex-end;width: 50%;}#sk-container-id-1 div.sk-parallel-item:last-child::after {align-self: flex-start;width: 50%;}#sk-container-id-1 div.sk-parallel-item:only-child::after {width: 0;}#sk-container-id-1 div.sk-dashed-wrapped {border: 1px dashed gray;margin: 0 0.4em 0.5em 0.4em;box-sizing: border-box;padding-bottom: 0.4em;background-color: white;}#sk-container-id-1 div.sk-label label {font-family: monospace;font-weight: bold;display: inline-block;line-height: 1.2em;}#sk-container-id-1 div.sk-label-container {text-align: center;}#sk-container-id-1 div.sk-container {/* jupyter's `normalize.less` sets `[hidden] { display: none; }` but bootstrap.min.css set `[hidden] { display: none !important; }` so we also need the `!important` here to be able to override the default hidden behavior on the sphinx rendered scikit-learn.org. See: https://github.com/scikit-learn/scikit-learn/issues/21755 */display: inline-block !important;position: relative;}#sk-container-id-1 div.sk-text-repr-fallback {display: none;}</style><div id=\"sk-container-id-1\" class=\"sk-top-container\"><div class=\"sk-text-repr-fallback\"><pre>LinearRegression()</pre><b>In a Jupyter environment, please rerun this cell to show the HTML representation or trust the notebook. <br />On GitHub, the HTML representation is unable to render, please try loading this page with nbviewer.org.</b></div><div class=\"sk-container\" hidden><div class=\"sk-item\"><div class=\"sk-estimator sk-toggleable\"><input class=\"sk-toggleable__control sk-hidden--visually\" id=\"sk-estimator-id-1\" type=\"checkbox\" checked><label for=\"sk-estimator-id-1\" class=\"sk-toggleable__label sk-toggleable__label-arrow\">LinearRegression</label><div class=\"sk-toggleable__content\"><pre>LinearRegression()</pre></div></div></div></div></div>"
      ],
      "text/plain": [
       "LinearRegression()"
      ]
     },
     "execution_count": 6,
     "metadata": {},
     "output_type": "execute_result"
    }
   ],
   "source": [
    "lm = LinearRegression()\n",
    "lm.fit(X,y)"
   ]
  },
  {
   "attachments": {},
   "cell_type": "markdown",
   "metadata": {},
   "source": [
    "Step 2: Let's define AIC in a function. We have to be careful because the 'make_scorer' factory limits the way we can pass variables to it. The function below and its parameters is the recommended way of setting the function up."
   ]
  },
  {
   "cell_type": "code",
   "execution_count": 7,
   "metadata": {},
   "outputs": [],
   "source": [
    "def aic_min(y_true, y_hat):\n",
    "    n_param = len(lm.coef_) + 1\n",
    "    mse = mean_squared_error(y_true, y_hat)\n",
    "    aic = len(y_true) * log(mse) + 2 * n_param\n",
    "    return aic"
   ]
  },
  {
   "attachments": {},
   "cell_type": "markdown",
   "metadata": {},
   "source": [
    "Step 3: We use the 'make_scorer' factory to convert our function to a scorer."
   ]
  },
  {
   "cell_type": "code",
   "execution_count": 8,
   "metadata": {},
   "outputs": [],
   "source": [
    "score = make_scorer(aic_min, greater_is_better=False)"
   ]
  },
  {
   "attachments": {},
   "cell_type": "markdown",
   "metadata": {},
   "source": [
    "Step 4: Let's compare!\n",
    "\n",
    "Calling our aic_min fuction directly with the original y values and those predicted by our model gives us an AIC score that matches the R code output! So far, so good!"
   ]
  },
  {
   "cell_type": "code",
   "execution_count": 9,
   "metadata": {},
   "outputs": [
    {
     "name": "stdout",
     "output_type": "stream",
     "text": [
      "AIC: -8794.529\n"
     ]
    }
   ],
   "source": [
    "aic_score = aic_min(y, lm.predict(X))\n",
    "print(F\"AIC: %.3f\" % aic_score)"
   ]
  },
  {
   "attachments": {},
   "cell_type": "markdown",
   "metadata": {},
   "source": [
    "But! When we use our scorer that was produced by 'make_scorer', the absolute value still agree - but now it is positive! Potentially confusing!\n",
    "\n",
    "The reason is that scorers assume \"greater is better\" so outputs a positive number. Even though we set the parameter 'greater_is_better'= False, this still occurs because we've only told it that lower figures are better in the AIC case; it still prints the absolute value of the lowest AIC score."
   ]
  },
  {
   "cell_type": "code",
   "execution_count": 10,
   "metadata": {},
   "outputs": [
    {
     "name": "stdout",
     "output_type": "stream",
     "text": [
      "AIC: 8794.529\n"
     ]
    }
   ],
   "source": [
    "aic_custom_score = score(lm, X, y)\n",
    "print(F\"AIC: %.3f\" % aic_custom_score)"
   ]
  },
  {
   "attachments": {},
   "cell_type": "markdown",
   "metadata": {},
   "source": [
    "## Sequential Feature Selection\n",
    "\n",
    "mlxtend provides us with backward and forward selection. We will have to massage the output slightly to approximate the R stepwise output. We can however output the most helpful parts!\n",
    "\n",
    "Let's break down the paramters\n",
    "\n",
    "1. 'lm' is the model were using - the one we used above\n",
    "2. 'k_features=(1,14)' is by default 1. Setting a range is like telling it \"I'll take any number of features from 1 to 14 in total!\" \n",
    "3. 'forward=False' is somewhat self-explanatory. This means we want backward selection. Forward is deault and does not need to be specified.\n",
    "4. 'scoring=score' is where we declare that we want to use our custom AIC function from up above.\n",
    "5. 'cv=0' stops the selector from using cross-validation. This is a weakness of sklearn's selector, which does not allow you to prohibit cross-validation\n"
   ]
  },
  {
   "attachments": {},
   "cell_type": "markdown",
   "metadata": {},
   "source": [
    "### Backward Feature Selection"
   ]
  },
  {
   "attachments": {},
   "cell_type": "markdown",
   "metadata": {},
   "source": [
    "Instantiate our selector - backwards will be first."
   ]
  },
  {
   "cell_type": "code",
   "execution_count": 11,
   "metadata": {},
   "outputs": [
    {
     "data": {
      "text/html": [
       "<style>#sk-container-id-2 {color: black;background-color: white;}#sk-container-id-2 pre{padding: 0;}#sk-container-id-2 div.sk-toggleable {background-color: white;}#sk-container-id-2 label.sk-toggleable__label {cursor: pointer;display: block;width: 100%;margin-bottom: 0;padding: 0.3em;box-sizing: border-box;text-align: center;}#sk-container-id-2 label.sk-toggleable__label-arrow:before {content: \"▸\";float: left;margin-right: 0.25em;color: #696969;}#sk-container-id-2 label.sk-toggleable__label-arrow:hover:before {color: black;}#sk-container-id-2 div.sk-estimator:hover label.sk-toggleable__label-arrow:before {color: black;}#sk-container-id-2 div.sk-toggleable__content {max-height: 0;max-width: 0;overflow: hidden;text-align: left;background-color: #f0f8ff;}#sk-container-id-2 div.sk-toggleable__content pre {margin: 0.2em;color: black;border-radius: 0.25em;background-color: #f0f8ff;}#sk-container-id-2 input.sk-toggleable__control:checked~div.sk-toggleable__content {max-height: 200px;max-width: 100%;overflow: auto;}#sk-container-id-2 input.sk-toggleable__control:checked~label.sk-toggleable__label-arrow:before {content: \"▾\";}#sk-container-id-2 div.sk-estimator input.sk-toggleable__control:checked~label.sk-toggleable__label {background-color: #d4ebff;}#sk-container-id-2 div.sk-label input.sk-toggleable__control:checked~label.sk-toggleable__label {background-color: #d4ebff;}#sk-container-id-2 input.sk-hidden--visually {border: 0;clip: rect(1px 1px 1px 1px);clip: rect(1px, 1px, 1px, 1px);height: 1px;margin: -1px;overflow: hidden;padding: 0;position: absolute;width: 1px;}#sk-container-id-2 div.sk-estimator {font-family: monospace;background-color: #f0f8ff;border: 1px dotted black;border-radius: 0.25em;box-sizing: border-box;margin-bottom: 0.5em;}#sk-container-id-2 div.sk-estimator:hover {background-color: #d4ebff;}#sk-container-id-2 div.sk-parallel-item::after {content: \"\";width: 100%;border-bottom: 1px solid gray;flex-grow: 1;}#sk-container-id-2 div.sk-label:hover label.sk-toggleable__label {background-color: #d4ebff;}#sk-container-id-2 div.sk-serial::before {content: \"\";position: absolute;border-left: 1px solid gray;box-sizing: border-box;top: 0;bottom: 0;left: 50%;z-index: 0;}#sk-container-id-2 div.sk-serial {display: flex;flex-direction: column;align-items: center;background-color: white;padding-right: 0.2em;padding-left: 0.2em;position: relative;}#sk-container-id-2 div.sk-item {position: relative;z-index: 1;}#sk-container-id-2 div.sk-parallel {display: flex;align-items: stretch;justify-content: center;background-color: white;position: relative;}#sk-container-id-2 div.sk-item::before, #sk-container-id-2 div.sk-parallel-item::before {content: \"\";position: absolute;border-left: 1px solid gray;box-sizing: border-box;top: 0;bottom: 0;left: 50%;z-index: -1;}#sk-container-id-2 div.sk-parallel-item {display: flex;flex-direction: column;z-index: 1;position: relative;background-color: white;}#sk-container-id-2 div.sk-parallel-item:first-child::after {align-self: flex-end;width: 50%;}#sk-container-id-2 div.sk-parallel-item:last-child::after {align-self: flex-start;width: 50%;}#sk-container-id-2 div.sk-parallel-item:only-child::after {width: 0;}#sk-container-id-2 div.sk-dashed-wrapped {border: 1px dashed gray;margin: 0 0.4em 0.5em 0.4em;box-sizing: border-box;padding-bottom: 0.4em;background-color: white;}#sk-container-id-2 div.sk-label label {font-family: monospace;font-weight: bold;display: inline-block;line-height: 1.2em;}#sk-container-id-2 div.sk-label-container {text-align: center;}#sk-container-id-2 div.sk-container {/* jupyter's `normalize.less` sets `[hidden] { display: none; }` but bootstrap.min.css set `[hidden] { display: none !important; }` so we also need the `!important` here to be able to override the default hidden behavior on the sphinx rendered scikit-learn.org. See: https://github.com/scikit-learn/scikit-learn/issues/21755 */display: inline-block !important;position: relative;}#sk-container-id-2 div.sk-text-repr-fallback {display: none;}</style><div id=\"sk-container-id-2\" class=\"sk-top-container\"><div class=\"sk-text-repr-fallback\"><pre>SequentialFeatureSelector(cv=0, estimator=LinearRegression(), forward=False,\n",
       "                          k_features=(1, 14),\n",
       "                          scoring=make_scorer(aic_min, greater_is_better=False))</pre><b>In a Jupyter environment, please rerun this cell to show the HTML representation or trust the notebook. <br />On GitHub, the HTML representation is unable to render, please try loading this page with nbviewer.org.</b></div><div class=\"sk-container\" hidden><div class=\"sk-item sk-dashed-wrapped\"><div class=\"sk-label-container\"><div class=\"sk-label sk-toggleable\"><input class=\"sk-toggleable__control sk-hidden--visually\" id=\"sk-estimator-id-2\" type=\"checkbox\" ><label for=\"sk-estimator-id-2\" class=\"sk-toggleable__label sk-toggleable__label-arrow\">SequentialFeatureSelector</label><div class=\"sk-toggleable__content\"><pre>SequentialFeatureSelector(cv=0, estimator=LinearRegression(), forward=False,\n",
       "                          k_features=(1, 14),\n",
       "                          scoring=make_scorer(aic_min, greater_is_better=False))</pre></div></div></div><div class=\"sk-parallel\"><div class=\"sk-parallel-item\"><div class=\"sk-item\"><div class=\"sk-label-container\"><div class=\"sk-label sk-toggleable\"><input class=\"sk-toggleable__control sk-hidden--visually\" id=\"sk-estimator-id-3\" type=\"checkbox\" ><label for=\"sk-estimator-id-3\" class=\"sk-toggleable__label sk-toggleable__label-arrow\">estimator: LinearRegression</label><div class=\"sk-toggleable__content\"><pre>LinearRegression()</pre></div></div></div><div class=\"sk-serial\"><div class=\"sk-item\"><div class=\"sk-estimator sk-toggleable\"><input class=\"sk-toggleable__control sk-hidden--visually\" id=\"sk-estimator-id-4\" type=\"checkbox\" ><label for=\"sk-estimator-id-4\" class=\"sk-toggleable__label sk-toggleable__label-arrow\">LinearRegression</label><div class=\"sk-toggleable__content\"><pre>LinearRegression()</pre></div></div></div></div></div></div></div></div></div></div>"
      ],
      "text/plain": [
       "SequentialFeatureSelector(cv=0, estimator=LinearRegression(), forward=False,\n",
       "                          k_features=(1, 14),\n",
       "                          scoring=make_scorer(aic_min, greater_is_better=False))"
      ]
     },
     "execution_count": 11,
     "metadata": {},
     "output_type": "execute_result"
    }
   ],
   "source": [
    "selector_b = SFS(lm, k_features=(1,14), forward=False, scoring=score, cv=0)\n",
    "selector_b.fit(X,y)"
   ]
  },
  {
   "attachments": {},
   "cell_type": "markdown",
   "metadata": {},
   "source": [
    "We can now access some attributes and put them into a simple dataframe.\n",
    "\n",
    "This shows us the AIC connected to each set of features."
   ]
  },
  {
   "cell_type": "code",
   "execution_count": 12,
   "metadata": {},
   "outputs": [
    {
     "data": {
      "text/html": [
       "<div>\n",
       "<style scoped>\n",
       "    .dataframe tbody tr th:only-of-type {\n",
       "        vertical-align: middle;\n",
       "    }\n",
       "\n",
       "    .dataframe tbody tr th {\n",
       "        vertical-align: top;\n",
       "    }\n",
       "\n",
       "    .dataframe thead th {\n",
       "        text-align: right;\n",
       "    }\n",
       "</style>\n",
       "<table border=\"1\" class=\"dataframe\">\n",
       "  <thead>\n",
       "    <tr style=\"text-align: right;\">\n",
       "      <th></th>\n",
       "      <th>AIC</th>\n",
       "      <th>Features</th>\n",
       "    </tr>\n",
       "  </thead>\n",
       "  <tbody>\n",
       "    <tr>\n",
       "      <th>14</th>\n",
       "      <td>8794.5</td>\n",
       "      <td>( GamesPlayed,  GamesWon,  GamesLeft,  Ditches,  Points,  KillsPerMin,  Deaths,  Assists,  CreepsKilled,  CreepsDenied,  NeutralsKilled,  TowersDestroyed,  RaxsDestroyed,  TotalTime)</td>\n",
       "    </tr>\n",
       "    <tr>\n",
       "      <th>13</th>\n",
       "      <td>8789.3</td>\n",
       "      <td>( GamesPlayed,  GamesWon,  GamesLeft,  Ditches,  KillsPerMin,  Deaths,  Assists,  CreepsKilled,  CreepsDenied,  NeutralsKilled,  TowersDestroyed,  RaxsDestroyed,  TotalTime)</td>\n",
       "    </tr>\n",
       "    <tr>\n",
       "      <th>12</th>\n",
       "      <td>8781.2</td>\n",
       "      <td>( GamesPlayed,  GamesWon,  GamesLeft,  Ditches,  KillsPerMin,  Deaths,  Assists,  CreepsKilled,  CreepsDenied,  TowersDestroyed,  RaxsDestroyed,  TotalTime)</td>\n",
       "    </tr>\n",
       "    <tr>\n",
       "      <th>11</th>\n",
       "      <td>8764.6</td>\n",
       "      <td>( GamesPlayed,  GamesWon,  GamesLeft,  Ditches,  Deaths,  Assists,  CreepsKilled,  CreepsDenied,  TowersDestroyed,  RaxsDestroyed,  TotalTime)</td>\n",
       "    </tr>\n",
       "    <tr>\n",
       "      <th>10</th>\n",
       "      <td>8747.3</td>\n",
       "      <td>( GamesPlayed,  GamesWon,  GamesLeft,  Ditches,  Assists,  CreepsKilled,  CreepsDenied,  TowersDestroyed,  RaxsDestroyed,  TotalTime)</td>\n",
       "    </tr>\n",
       "    <tr>\n",
       "      <th>9</th>\n",
       "      <td>8730.1</td>\n",
       "      <td>( GamesPlayed,  GamesWon,  GamesLeft,  Ditches,  Assists,  CreepsKilled,  CreepsDenied,  TowersDestroyed,  RaxsDestroyed)</td>\n",
       "    </tr>\n",
       "    <tr>\n",
       "      <th>8</th>\n",
       "      <td>8711.0</td>\n",
       "      <td>( GamesPlayed,  GamesWon,  GamesLeft,  Assists,  CreepsKilled,  CreepsDenied,  TowersDestroyed,  RaxsDestroyed)</td>\n",
       "    </tr>\n",
       "    <tr>\n",
       "      <th>7</th>\n",
       "      <td>8693.9</td>\n",
       "      <td>( GamesPlayed,  GamesWon,  Assists,  CreepsKilled,  CreepsDenied,  TowersDestroyed,  RaxsDestroyed)</td>\n",
       "    </tr>\n",
       "    <tr>\n",
       "      <th>6</th>\n",
       "      <td>8663.2</td>\n",
       "      <td>( GamesPlayed,  Assists,  CreepsKilled,  CreepsDenied,  TowersDestroyed,  RaxsDestroyed)</td>\n",
       "    </tr>\n",
       "    <tr>\n",
       "      <th>5</th>\n",
       "      <td>8625.7</td>\n",
       "      <td>( GamesPlayed,  Assists,  CreepsKilled,  CreepsDenied,  TowersDestroyed)</td>\n",
       "    </tr>\n",
       "    <tr>\n",
       "      <th>4</th>\n",
       "      <td>8546.4</td>\n",
       "      <td>( Assists,  CreepsKilled,  CreepsDenied,  TowersDestroyed)</td>\n",
       "    </tr>\n",
       "    <tr>\n",
       "      <th>3</th>\n",
       "      <td>8487.8</td>\n",
       "      <td>( Assists,  CreepsKilled,  TowersDestroyed)</td>\n",
       "    </tr>\n",
       "    <tr>\n",
       "      <th>2</th>\n",
       "      <td>8349.5</td>\n",
       "      <td>( Assists,  TowersDestroyed)</td>\n",
       "    </tr>\n",
       "    <tr>\n",
       "      <th>1</th>\n",
       "      <td>7948.4</td>\n",
       "      <td>( TowersDestroyed,)</td>\n",
       "    </tr>\n",
       "  </tbody>\n",
       "</table>\n",
       "</div>"
      ],
      "text/plain": [
       "       AIC  \\\n",
       "14  8794.5   \n",
       "13  8789.3   \n",
       "12  8781.2   \n",
       "11  8764.6   \n",
       "10  8747.3   \n",
       "9   8730.1   \n",
       "8   8711.0   \n",
       "7   8693.9   \n",
       "6   8663.2   \n",
       "5   8625.7   \n",
       "4   8546.4   \n",
       "3   8487.8   \n",
       "2   8349.5   \n",
       "1   7948.4   \n",
       "\n",
       "                                                                                                                                                                                  Features  \n",
       "14  ( GamesPlayed,  GamesWon,  GamesLeft,  Ditches,  Points,  KillsPerMin,  Deaths,  Assists,  CreepsKilled,  CreepsDenied,  NeutralsKilled,  TowersDestroyed,  RaxsDestroyed,  TotalTime)  \n",
       "13           ( GamesPlayed,  GamesWon,  GamesLeft,  Ditches,  KillsPerMin,  Deaths,  Assists,  CreepsKilled,  CreepsDenied,  NeutralsKilled,  TowersDestroyed,  RaxsDestroyed,  TotalTime)  \n",
       "12                            ( GamesPlayed,  GamesWon,  GamesLeft,  Ditches,  KillsPerMin,  Deaths,  Assists,  CreepsKilled,  CreepsDenied,  TowersDestroyed,  RaxsDestroyed,  TotalTime)  \n",
       "11                                          ( GamesPlayed,  GamesWon,  GamesLeft,  Ditches,  Deaths,  Assists,  CreepsKilled,  CreepsDenied,  TowersDestroyed,  RaxsDestroyed,  TotalTime)  \n",
       "10                                                   ( GamesPlayed,  GamesWon,  GamesLeft,  Ditches,  Assists,  CreepsKilled,  CreepsDenied,  TowersDestroyed,  RaxsDestroyed,  TotalTime)  \n",
       "9                                                                ( GamesPlayed,  GamesWon,  GamesLeft,  Ditches,  Assists,  CreepsKilled,  CreepsDenied,  TowersDestroyed,  RaxsDestroyed)  \n",
       "8                                                                          ( GamesPlayed,  GamesWon,  GamesLeft,  Assists,  CreepsKilled,  CreepsDenied,  TowersDestroyed,  RaxsDestroyed)  \n",
       "7                                                                                      ( GamesPlayed,  GamesWon,  Assists,  CreepsKilled,  CreepsDenied,  TowersDestroyed,  RaxsDestroyed)  \n",
       "6                                                                                                 ( GamesPlayed,  Assists,  CreepsKilled,  CreepsDenied,  TowersDestroyed,  RaxsDestroyed)  \n",
       "5                                                                                                                 ( GamesPlayed,  Assists,  CreepsKilled,  CreepsDenied,  TowersDestroyed)  \n",
       "4                                                                                                                               ( Assists,  CreepsKilled,  CreepsDenied,  TowersDestroyed)  \n",
       "3                                                                                                                                              ( Assists,  CreepsKilled,  TowersDestroyed)  \n",
       "2                                                                                                                                                             ( Assists,  TowersDestroyed)  \n",
       "1                                                                                                                                                                      ( TowersDestroyed,)  "
      ]
     },
     "execution_count": 12,
     "metadata": {},
     "output_type": "execute_result"
    }
   ],
   "source": [
    "pd.set_option('display.max_colwidth', None)\n",
    "\n",
    "back_df = pd.DataFrame.from_dict(selector_b.subsets_, orient='index', columns=[ 'avg_score', 'feature_names']).round(1)\n",
    "back_df.rename(columns={'':'# Features', 'avg_score':'AIC', 'feature_names':'Features' }, inplace=True)\n",
    "back_df"
   ]
  },
  {
   "attachments": {},
   "cell_type": "markdown",
   "metadata": {},
   "source": [
    "Remember! Our custom scorer is outputting an absolute value - so 8794.5 is out best score.  We can verify the score of the model that our selector picked and then the features attached to that model"
   ]
  },
  {
   "cell_type": "code",
   "execution_count": 353,
   "metadata": {},
   "outputs": [
    {
     "data": {
      "text/plain": [
       "8794.528865544704"
      ]
     },
     "execution_count": 353,
     "metadata": {},
     "output_type": "execute_result"
    }
   ],
   "source": [
    "selector_b.k_score_"
   ]
  },
  {
   "cell_type": "code",
   "execution_count": 405,
   "metadata": {},
   "outputs": [
    {
     "data": {
      "text/plain": [
       "(' GamesPlayed',\n",
       " ' GamesWon',\n",
       " ' GamesLeft',\n",
       " ' Ditches',\n",
       " ' Points',\n",
       " ' KillsPerMin',\n",
       " ' Deaths',\n",
       " ' Assists',\n",
       " ' CreepsKilled',\n",
       " ' CreepsDenied',\n",
       " ' NeutralsKilled',\n",
       " ' TowersDestroyed',\n",
       " ' RaxsDestroyed',\n",
       " ' TotalTime')"
      ]
     },
     "execution_count": 405,
     "metadata": {},
     "output_type": "execute_result"
    }
   ],
   "source": [
    "selector_b.k_feature_names_"
   ]
  },
  {
   "attachments": {},
   "cell_type": "markdown",
   "metadata": {},
   "source": [
    "### Forward Feature Selection\n",
    "\n",
    "Now, we can follow the same methodology for forward selection. (Remember, you really don't need to include \"forward=True\" in this case.)\n",
    "\n",
    "We can quickly run the selector, dump the output into a dataframe and check the value of the AIC and it's set of features."
   ]
  },
  {
   "cell_type": "code",
   "execution_count": 13,
   "metadata": {},
   "outputs": [
    {
     "data": {
      "text/html": [
       "<style>#sk-container-id-3 {color: black;background-color: white;}#sk-container-id-3 pre{padding: 0;}#sk-container-id-3 div.sk-toggleable {background-color: white;}#sk-container-id-3 label.sk-toggleable__label {cursor: pointer;display: block;width: 100%;margin-bottom: 0;padding: 0.3em;box-sizing: border-box;text-align: center;}#sk-container-id-3 label.sk-toggleable__label-arrow:before {content: \"▸\";float: left;margin-right: 0.25em;color: #696969;}#sk-container-id-3 label.sk-toggleable__label-arrow:hover:before {color: black;}#sk-container-id-3 div.sk-estimator:hover label.sk-toggleable__label-arrow:before {color: black;}#sk-container-id-3 div.sk-toggleable__content {max-height: 0;max-width: 0;overflow: hidden;text-align: left;background-color: #f0f8ff;}#sk-container-id-3 div.sk-toggleable__content pre {margin: 0.2em;color: black;border-radius: 0.25em;background-color: #f0f8ff;}#sk-container-id-3 input.sk-toggleable__control:checked~div.sk-toggleable__content {max-height: 200px;max-width: 100%;overflow: auto;}#sk-container-id-3 input.sk-toggleable__control:checked~label.sk-toggleable__label-arrow:before {content: \"▾\";}#sk-container-id-3 div.sk-estimator input.sk-toggleable__control:checked~label.sk-toggleable__label {background-color: #d4ebff;}#sk-container-id-3 div.sk-label input.sk-toggleable__control:checked~label.sk-toggleable__label {background-color: #d4ebff;}#sk-container-id-3 input.sk-hidden--visually {border: 0;clip: rect(1px 1px 1px 1px);clip: rect(1px, 1px, 1px, 1px);height: 1px;margin: -1px;overflow: hidden;padding: 0;position: absolute;width: 1px;}#sk-container-id-3 div.sk-estimator {font-family: monospace;background-color: #f0f8ff;border: 1px dotted black;border-radius: 0.25em;box-sizing: border-box;margin-bottom: 0.5em;}#sk-container-id-3 div.sk-estimator:hover {background-color: #d4ebff;}#sk-container-id-3 div.sk-parallel-item::after {content: \"\";width: 100%;border-bottom: 1px solid gray;flex-grow: 1;}#sk-container-id-3 div.sk-label:hover label.sk-toggleable__label {background-color: #d4ebff;}#sk-container-id-3 div.sk-serial::before {content: \"\";position: absolute;border-left: 1px solid gray;box-sizing: border-box;top: 0;bottom: 0;left: 50%;z-index: 0;}#sk-container-id-3 div.sk-serial {display: flex;flex-direction: column;align-items: center;background-color: white;padding-right: 0.2em;padding-left: 0.2em;position: relative;}#sk-container-id-3 div.sk-item {position: relative;z-index: 1;}#sk-container-id-3 div.sk-parallel {display: flex;align-items: stretch;justify-content: center;background-color: white;position: relative;}#sk-container-id-3 div.sk-item::before, #sk-container-id-3 div.sk-parallel-item::before {content: \"\";position: absolute;border-left: 1px solid gray;box-sizing: border-box;top: 0;bottom: 0;left: 50%;z-index: -1;}#sk-container-id-3 div.sk-parallel-item {display: flex;flex-direction: column;z-index: 1;position: relative;background-color: white;}#sk-container-id-3 div.sk-parallel-item:first-child::after {align-self: flex-end;width: 50%;}#sk-container-id-3 div.sk-parallel-item:last-child::after {align-self: flex-start;width: 50%;}#sk-container-id-3 div.sk-parallel-item:only-child::after {width: 0;}#sk-container-id-3 div.sk-dashed-wrapped {border: 1px dashed gray;margin: 0 0.4em 0.5em 0.4em;box-sizing: border-box;padding-bottom: 0.4em;background-color: white;}#sk-container-id-3 div.sk-label label {font-family: monospace;font-weight: bold;display: inline-block;line-height: 1.2em;}#sk-container-id-3 div.sk-label-container {text-align: center;}#sk-container-id-3 div.sk-container {/* jupyter's `normalize.less` sets `[hidden] { display: none; }` but bootstrap.min.css set `[hidden] { display: none !important; }` so we also need the `!important` here to be able to override the default hidden behavior on the sphinx rendered scikit-learn.org. See: https://github.com/scikit-learn/scikit-learn/issues/21755 */display: inline-block !important;position: relative;}#sk-container-id-3 div.sk-text-repr-fallback {display: none;}</style><div id=\"sk-container-id-3\" class=\"sk-top-container\"><div class=\"sk-text-repr-fallback\"><pre>SequentialFeatureSelector(cv=0, estimator=LinearRegression(),\n",
       "                          k_features=(1, 14),\n",
       "                          scoring=make_scorer(aic_min, greater_is_better=False))</pre><b>In a Jupyter environment, please rerun this cell to show the HTML representation or trust the notebook. <br />On GitHub, the HTML representation is unable to render, please try loading this page with nbviewer.org.</b></div><div class=\"sk-container\" hidden><div class=\"sk-item sk-dashed-wrapped\"><div class=\"sk-label-container\"><div class=\"sk-label sk-toggleable\"><input class=\"sk-toggleable__control sk-hidden--visually\" id=\"sk-estimator-id-5\" type=\"checkbox\" ><label for=\"sk-estimator-id-5\" class=\"sk-toggleable__label sk-toggleable__label-arrow\">SequentialFeatureSelector</label><div class=\"sk-toggleable__content\"><pre>SequentialFeatureSelector(cv=0, estimator=LinearRegression(),\n",
       "                          k_features=(1, 14),\n",
       "                          scoring=make_scorer(aic_min, greater_is_better=False))</pre></div></div></div><div class=\"sk-parallel\"><div class=\"sk-parallel-item\"><div class=\"sk-item\"><div class=\"sk-label-container\"><div class=\"sk-label sk-toggleable\"><input class=\"sk-toggleable__control sk-hidden--visually\" id=\"sk-estimator-id-6\" type=\"checkbox\" ><label for=\"sk-estimator-id-6\" class=\"sk-toggleable__label sk-toggleable__label-arrow\">estimator: LinearRegression</label><div class=\"sk-toggleable__content\"><pre>LinearRegression()</pre></div></div></div><div class=\"sk-serial\"><div class=\"sk-item\"><div class=\"sk-estimator sk-toggleable\"><input class=\"sk-toggleable__control sk-hidden--visually\" id=\"sk-estimator-id-7\" type=\"checkbox\" ><label for=\"sk-estimator-id-7\" class=\"sk-toggleable__label sk-toggleable__label-arrow\">LinearRegression</label><div class=\"sk-toggleable__content\"><pre>LinearRegression()</pre></div></div></div></div></div></div></div></div></div></div>"
      ],
      "text/plain": [
       "SequentialFeatureSelector(cv=0, estimator=LinearRegression(),\n",
       "                          k_features=(1, 14),\n",
       "                          scoring=make_scorer(aic_min, greater_is_better=False))"
      ]
     },
     "execution_count": 13,
     "metadata": {},
     "output_type": "execute_result"
    }
   ],
   "source": [
    "selector_f = SFS(lm, k_features=(1,14), forward=True, scoring=score, cv=0)\n",
    "selector_f.fit(X,y)"
   ]
  },
  {
   "cell_type": "code",
   "execution_count": 14,
   "metadata": {},
   "outputs": [
    {
     "data": {
      "text/html": [
       "<div>\n",
       "<style scoped>\n",
       "    .dataframe tbody tr th:only-of-type {\n",
       "        vertical-align: middle;\n",
       "    }\n",
       "\n",
       "    .dataframe tbody tr th {\n",
       "        vertical-align: top;\n",
       "    }\n",
       "\n",
       "    .dataframe thead th {\n",
       "        text-align: right;\n",
       "    }\n",
       "</style>\n",
       "<table border=\"1\" class=\"dataframe\">\n",
       "  <thead>\n",
       "    <tr style=\"text-align: right;\">\n",
       "      <th></th>\n",
       "      <th>AIC</th>\n",
       "      <th>Features</th>\n",
       "    </tr>\n",
       "  </thead>\n",
       "  <tbody>\n",
       "    <tr>\n",
       "      <th>1</th>\n",
       "      <td>7948.4</td>\n",
       "      <td>( TowersDestroyed,)</td>\n",
       "    </tr>\n",
       "    <tr>\n",
       "      <th>2</th>\n",
       "      <td>8358.9</td>\n",
       "      <td>( GamesWon,  TowersDestroyed)</td>\n",
       "    </tr>\n",
       "    <tr>\n",
       "      <th>3</th>\n",
       "      <td>8490.7</td>\n",
       "      <td>( GamesWon,  CreepsKilled,  TowersDestroyed)</td>\n",
       "    </tr>\n",
       "    <tr>\n",
       "      <th>4</th>\n",
       "      <td>8542.6</td>\n",
       "      <td>( GamesWon,  CreepsKilled,  CreepsDenied,  TowersDestroyed)</td>\n",
       "    </tr>\n",
       "    <tr>\n",
       "      <th>5</th>\n",
       "      <td>8602.7</td>\n",
       "      <td>( GamesPlayed,  GamesWon,  CreepsKilled,  CreepsDenied,  TowersDestroyed)</td>\n",
       "    </tr>\n",
       "    <tr>\n",
       "      <th>6</th>\n",
       "      <td>8658.8</td>\n",
       "      <td>( GamesPlayed,  GamesWon,  Assists,  CreepsKilled,  CreepsDenied,  TowersDestroyed)</td>\n",
       "    </tr>\n",
       "    <tr>\n",
       "      <th>7</th>\n",
       "      <td>8693.9</td>\n",
       "      <td>( GamesPlayed,  GamesWon,  Assists,  CreepsKilled,  CreepsDenied,  TowersDestroyed,  RaxsDestroyed)</td>\n",
       "    </tr>\n",
       "    <tr>\n",
       "      <th>8</th>\n",
       "      <td>8716.7</td>\n",
       "      <td>( GamesPlayed,  GamesWon,  KillsPerMin,  Assists,  CreepsKilled,  CreepsDenied,  TowersDestroyed,  RaxsDestroyed)</td>\n",
       "    </tr>\n",
       "    <tr>\n",
       "      <th>9</th>\n",
       "      <td>8729.8</td>\n",
       "      <td>( GamesPlayed,  GamesWon,  GamesLeft,  KillsPerMin,  Assists,  CreepsKilled,  CreepsDenied,  TowersDestroyed,  RaxsDestroyed)</td>\n",
       "    </tr>\n",
       "    <tr>\n",
       "      <th>10</th>\n",
       "      <td>8748.0</td>\n",
       "      <td>( GamesPlayed,  GamesWon,  GamesLeft,  Ditches,  KillsPerMin,  Assists,  CreepsKilled,  CreepsDenied,  TowersDestroyed,  RaxsDestroyed)</td>\n",
       "    </tr>\n",
       "    <tr>\n",
       "      <th>11</th>\n",
       "      <td>8763.5</td>\n",
       "      <td>( GamesPlayed,  GamesWon,  GamesLeft,  Ditches,  KillsPerMin,  Assists,  CreepsKilled,  CreepsDenied,  TowersDestroyed,  RaxsDestroyed,  TotalTime)</td>\n",
       "    </tr>\n",
       "    <tr>\n",
       "      <th>12</th>\n",
       "      <td>8781.2</td>\n",
       "      <td>( GamesPlayed,  GamesWon,  GamesLeft,  Ditches,  KillsPerMin,  Deaths,  Assists,  CreepsKilled,  CreepsDenied,  TowersDestroyed,  RaxsDestroyed,  TotalTime)</td>\n",
       "    </tr>\n",
       "    <tr>\n",
       "      <th>13</th>\n",
       "      <td>8789.3</td>\n",
       "      <td>( GamesPlayed,  GamesWon,  GamesLeft,  Ditches,  KillsPerMin,  Deaths,  Assists,  CreepsKilled,  CreepsDenied,  NeutralsKilled,  TowersDestroyed,  RaxsDestroyed,  TotalTime)</td>\n",
       "    </tr>\n",
       "    <tr>\n",
       "      <th>14</th>\n",
       "      <td>8794.5</td>\n",
       "      <td>( GamesPlayed,  GamesWon,  GamesLeft,  Ditches,  Points,  KillsPerMin,  Deaths,  Assists,  CreepsKilled,  CreepsDenied,  NeutralsKilled,  TowersDestroyed,  RaxsDestroyed,  TotalTime)</td>\n",
       "    </tr>\n",
       "  </tbody>\n",
       "</table>\n",
       "</div>"
      ],
      "text/plain": [
       "       AIC  \\\n",
       "1   7948.4   \n",
       "2   8358.9   \n",
       "3   8490.7   \n",
       "4   8542.6   \n",
       "5   8602.7   \n",
       "6   8658.8   \n",
       "7   8693.9   \n",
       "8   8716.7   \n",
       "9   8729.8   \n",
       "10  8748.0   \n",
       "11  8763.5   \n",
       "12  8781.2   \n",
       "13  8789.3   \n",
       "14  8794.5   \n",
       "\n",
       "                                                                                                                                                                                  Features  \n",
       "1                                                                                                                                                                      ( TowersDestroyed,)  \n",
       "2                                                                                                                                                            ( GamesWon,  TowersDestroyed)  \n",
       "3                                                                                                                                             ( GamesWon,  CreepsKilled,  TowersDestroyed)  \n",
       "4                                                                                                                              ( GamesWon,  CreepsKilled,  CreepsDenied,  TowersDestroyed)  \n",
       "5                                                                                                                ( GamesPlayed,  GamesWon,  CreepsKilled,  CreepsDenied,  TowersDestroyed)  \n",
       "6                                                                                                      ( GamesPlayed,  GamesWon,  Assists,  CreepsKilled,  CreepsDenied,  TowersDestroyed)  \n",
       "7                                                                                      ( GamesPlayed,  GamesWon,  Assists,  CreepsKilled,  CreepsDenied,  TowersDestroyed,  RaxsDestroyed)  \n",
       "8                                                                        ( GamesPlayed,  GamesWon,  KillsPerMin,  Assists,  CreepsKilled,  CreepsDenied,  TowersDestroyed,  RaxsDestroyed)  \n",
       "9                                                            ( GamesPlayed,  GamesWon,  GamesLeft,  KillsPerMin,  Assists,  CreepsKilled,  CreepsDenied,  TowersDestroyed,  RaxsDestroyed)  \n",
       "10                                                 ( GamesPlayed,  GamesWon,  GamesLeft,  Ditches,  KillsPerMin,  Assists,  CreepsKilled,  CreepsDenied,  TowersDestroyed,  RaxsDestroyed)  \n",
       "11                                     ( GamesPlayed,  GamesWon,  GamesLeft,  Ditches,  KillsPerMin,  Assists,  CreepsKilled,  CreepsDenied,  TowersDestroyed,  RaxsDestroyed,  TotalTime)  \n",
       "12                            ( GamesPlayed,  GamesWon,  GamesLeft,  Ditches,  KillsPerMin,  Deaths,  Assists,  CreepsKilled,  CreepsDenied,  TowersDestroyed,  RaxsDestroyed,  TotalTime)  \n",
       "13           ( GamesPlayed,  GamesWon,  GamesLeft,  Ditches,  KillsPerMin,  Deaths,  Assists,  CreepsKilled,  CreepsDenied,  NeutralsKilled,  TowersDestroyed,  RaxsDestroyed,  TotalTime)  \n",
       "14  ( GamesPlayed,  GamesWon,  GamesLeft,  Ditches,  Points,  KillsPerMin,  Deaths,  Assists,  CreepsKilled,  CreepsDenied,  NeutralsKilled,  TowersDestroyed,  RaxsDestroyed,  TotalTime)  "
      ]
     },
     "execution_count": 14,
     "metadata": {},
     "output_type": "execute_result"
    }
   ],
   "source": [
    "forwrd_df = pd.DataFrame.from_dict(selector_f.subsets_, orient='index', columns=[ 'avg_score', 'feature_names']).round(1)\n",
    "forwrd_df.rename(columns={'':'# Features', 'avg_score':'AIC', 'feature_names':'Features' }, inplace=True)\n",
    "\n",
    "forwrd_df\n"
   ]
  },
  {
   "cell_type": "code",
   "execution_count": 15,
   "metadata": {},
   "outputs": [
    {
     "data": {
      "text/plain": [
       "8794.528865544704"
      ]
     },
     "execution_count": 15,
     "metadata": {},
     "output_type": "execute_result"
    }
   ],
   "source": [
    "selector_b.k_score_"
   ]
  },
  {
   "cell_type": "code",
   "execution_count": 16,
   "metadata": {},
   "outputs": [
    {
     "data": {
      "text/plain": [
       "(' GamesPlayed',\n",
       " ' GamesWon',\n",
       " ' GamesLeft',\n",
       " ' Ditches',\n",
       " ' Points',\n",
       " ' KillsPerMin',\n",
       " ' Deaths',\n",
       " ' Assists',\n",
       " ' CreepsKilled',\n",
       " ' CreepsDenied',\n",
       " ' NeutralsKilled',\n",
       " ' TowersDestroyed',\n",
       " ' RaxsDestroyed',\n",
       " ' TotalTime')"
      ]
     },
     "execution_count": 16,
     "metadata": {},
     "output_type": "execute_result"
    }
   ],
   "source": [
    "selector_f.k_feature_names_"
   ]
  }
 ],
 "metadata": {
  "kernelspec": {
   "display_name": "Python 3",
   "language": "python",
   "name": "python3"
  },
  "language_info": {
   "codemirror_mode": {
    "name": "ipython",
    "version": 3
   },
   "file_extension": ".py",
   "mimetype": "text/x-python",
   "name": "python",
   "nbconvert_exporter": "python",
   "pygments_lexer": "ipython3",
   "version": "3.9.13"
  },
  "orig_nbformat": 4,
  "vscode": {
   "interpreter": {
    "hash": "7095d004690a4310ee029a4ed4342831ae42e1b6c0e2d5855d436eb5c4e09b7a"
   }
  }
 },
 "nbformat": 4,
 "nbformat_minor": 2
}
