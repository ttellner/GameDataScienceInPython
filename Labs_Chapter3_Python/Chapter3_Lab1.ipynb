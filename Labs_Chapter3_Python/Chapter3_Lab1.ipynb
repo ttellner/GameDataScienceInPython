{
 "cells": [
  {
   "attachments": {},
   "cell_type": "markdown",
   "metadata": {},
   "source": [
    "# Chapter3_Lab1\n",
    "\n",
    "## Goal\n",
    "In this lab, we will work with the VPAL data to explore the distribution for some of the variables in the dataset. We will also perform some descriptive analysis.\n",
    "\n",
    "## Computing Centrality of the data\n",
    "First, we upload the data - which is in the parsed file \"VPALDataParsed.csv\" - into a dataframe."
   ]
  },
  {
   "cell_type": "code",
   "execution_count": 4,
   "metadata": {},
   "outputs": [],
   "source": [
    "import pandas as pd\n",
    "import numpy as np\n",
    "import matplotlib.pyplot as plt"
   ]
  },
  {
   "cell_type": "code",
   "execution_count": 3,
   "metadata": {},
   "outputs": [
    {
     "data": {
      "text/html": [
       "<div>\n",
       "<style scoped>\n",
       "    .dataframe tbody tr th:only-of-type {\n",
       "        vertical-align: middle;\n",
       "    }\n",
       "\n",
       "    .dataframe tbody tr th {\n",
       "        vertical-align: top;\n",
       "    }\n",
       "\n",
       "    .dataframe thead th {\n",
       "        text-align: right;\n",
       "    }\n",
       "</style>\n",
       "<table border=\"1\" class=\"dataframe\">\n",
       "  <thead>\n",
       "    <tr style=\"text-align: right;\">\n",
       "      <th></th>\n",
       "      <th>User ID</th>\n",
       "      <th>Quest Taken</th>\n",
       "      <th>Quest Completed</th>\n",
       "      <th>Dialogues</th>\n",
       "      <th>Loots</th>\n",
       "      <th>Loots Items</th>\n",
       "      <th>Loots Dead</th>\n",
       "      <th>Shots</th>\n",
       "      <th>Kills</th>\n",
       "      <th>Interaction NPC</th>\n",
       "      <th>Interaction Container</th>\n",
       "      <th>Attacks</th>\n",
       "      <th>Attacks - Quest Related</th>\n",
       "      <th>Attacks - Friendly NPC</th>\n",
       "      <th>Attacks - UnMotivated</th>\n",
       "      <th>Attacks - SelfDefense</th>\n",
       "      <th>Trajectory</th>\n",
       "    </tr>\n",
       "  </thead>\n",
       "  <tbody>\n",
       "    <tr>\n",
       "      <th>0</th>\n",
       "      <td>101</td>\n",
       "      <td>7</td>\n",
       "      <td>5</td>\n",
       "      <td>39</td>\n",
       "      <td>48</td>\n",
       "      <td>42</td>\n",
       "      <td>4</td>\n",
       "      <td>115</td>\n",
       "      <td>10</td>\n",
       "      <td>16</td>\n",
       "      <td>32</td>\n",
       "      <td>47</td>\n",
       "      <td>38</td>\n",
       "      <td>0</td>\n",
       "      <td>4</td>\n",
       "      <td>5</td>\n",
       "      <td>[Introhouse, Outside, Bar, Outside, SheriffOff...</td>\n",
       "    </tr>\n",
       "    <tr>\n",
       "      <th>1</th>\n",
       "      <td>103</td>\n",
       "      <td>9</td>\n",
       "      <td>4</td>\n",
       "      <td>47</td>\n",
       "      <td>35</td>\n",
       "      <td>33</td>\n",
       "      <td>2</td>\n",
       "      <td>0</td>\n",
       "      <td>1</td>\n",
       "      <td>23</td>\n",
       "      <td>33</td>\n",
       "      <td>7</td>\n",
       "      <td>7</td>\n",
       "      <td>0</td>\n",
       "      <td>0</td>\n",
       "      <td>0</td>\n",
       "      <td>[Introhouse, Outside, Bar, Outside, SheriffOff...</td>\n",
       "    </tr>\n",
       "    <tr>\n",
       "      <th>2</th>\n",
       "      <td>105</td>\n",
       "      <td>7</td>\n",
       "      <td>5</td>\n",
       "      <td>68</td>\n",
       "      <td>1</td>\n",
       "      <td>0</td>\n",
       "      <td>1</td>\n",
       "      <td>0</td>\n",
       "      <td>1</td>\n",
       "      <td>27</td>\n",
       "      <td>20</td>\n",
       "      <td>3</td>\n",
       "      <td>3</td>\n",
       "      <td>0</td>\n",
       "      <td>0</td>\n",
       "      <td>0</td>\n",
       "      <td>[Introhouse, Outside, Introhouse, Outside, Aba...</td>\n",
       "    </tr>\n",
       "    <tr>\n",
       "      <th>3</th>\n",
       "      <td>106</td>\n",
       "      <td>8</td>\n",
       "      <td>3</td>\n",
       "      <td>64</td>\n",
       "      <td>59</td>\n",
       "      <td>42</td>\n",
       "      <td>0</td>\n",
       "      <td>302</td>\n",
       "      <td>44</td>\n",
       "      <td>24</td>\n",
       "      <td>33</td>\n",
       "      <td>341</td>\n",
       "      <td>115</td>\n",
       "      <td>212</td>\n",
       "      <td>8</td>\n",
       "      <td>6</td>\n",
       "      <td>[Introhouse, Outside, Bar, Outside, SheriffOff...</td>\n",
       "    </tr>\n",
       "    <tr>\n",
       "      <th>4</th>\n",
       "      <td>108</td>\n",
       "      <td>6</td>\n",
       "      <td>3</td>\n",
       "      <td>27</td>\n",
       "      <td>2</td>\n",
       "      <td>2</td>\n",
       "      <td>0</td>\n",
       "      <td>15</td>\n",
       "      <td>0</td>\n",
       "      <td>12</td>\n",
       "      <td>2</td>\n",
       "      <td>14</td>\n",
       "      <td>13</td>\n",
       "      <td>1</td>\n",
       "      <td>0</td>\n",
       "      <td>0</td>\n",
       "      <td>[Introhouse, Outside, Bar, Outside, Mine]</td>\n",
       "    </tr>\n",
       "  </tbody>\n",
       "</table>\n",
       "</div>"
      ],
      "text/plain": [
       "   User ID  Quest Taken  Quest Completed  Dialogues  Loots  Loots Items  \\\n",
       "0      101            7                5         39     48           42   \n",
       "1      103            9                4         47     35           33   \n",
       "2      105            7                5         68      1            0   \n",
       "3      106            8                3         64     59           42   \n",
       "4      108            6                3         27      2            2   \n",
       "\n",
       "   Loots Dead  Shots  Kills  Interaction NPC  Interaction Container  Attacks  \\\n",
       "0           4    115     10               16                     32       47   \n",
       "1           2      0      1               23                     33        7   \n",
       "2           1      0      1               27                     20        3   \n",
       "3           0    302     44               24                     33      341   \n",
       "4           0     15      0               12                      2       14   \n",
       "\n",
       "   Attacks - Quest Related  Attacks - Friendly NPC  Attacks - UnMotivated  \\\n",
       "0                       38                       0                      4   \n",
       "1                        7                       0                      0   \n",
       "2                        3                       0                      0   \n",
       "3                      115                     212                      8   \n",
       "4                       13                       1                      0   \n",
       "\n",
       "   Attacks - SelfDefense                                         Trajectory  \n",
       "0                      5  [Introhouse, Outside, Bar, Outside, SheriffOff...  \n",
       "1                      0  [Introhouse, Outside, Bar, Outside, SheriffOff...  \n",
       "2                      0  [Introhouse, Outside, Introhouse, Outside, Aba...  \n",
       "3                      6  [Introhouse, Outside, Bar, Outside, SheriffOff...  \n",
       "4                      0          [Introhouse, Outside, Bar, Outside, Mine]  "
      ]
     },
     "execution_count": 3,
     "metadata": {},
     "output_type": "execute_result"
    }
   ],
   "source": [
    "vpal_df1 = pd.read_csv(\"VPALDataParsed.csv\")\n",
    "vpal_df1.head()"
   ]
  },
  {
   "attachments": {},
   "cell_type": "markdown",
   "metadata": {},
   "source": [
    "We're going to be working with the Quest Completed column. We will plot it as a histogram and then measure its mean, median and mode\n",
    "\n",
    "We'll plot this in three different ways. First, we'll use matplotlib to plot a distribution curve over the histogram. It's not smoothed, but you can certainly see whether or not it is normally distributed or not."
   ]
  },
  {
   "cell_type": "code",
   "execution_count": 104,
   "metadata": {},
   "outputs": [
    {
     "data": {
      "image/png": "[encoded data removed]",
      "text/plain": [
       "<Figure size 640x480 with 1 Axes>"
      ]
     },
     "metadata": {},
     "output_type": "display_data"
    }
   ],
   "source": [
    "from scipy.stats import norm\n",
    "from scipy.interpolate import make_interp_spline\n",
    "import seaborn as sns\n",
    "\n",
    "mu, std = norm.fit(vpal_df1[\"Quest Completed\"])\n",
    "plt.hist(vpal_df1[\"Quest Completed\"], bins=10, rwidth=0.98, density=True);\n",
    "\n",
    "xmin, xmax = plt.xlim()\n",
    "x = np.linspace(xmin, xmax, 10)\n",
    "p = norm.pdf(x, mu, std)\n",
    "\n",
    "plt.plot(x, p, 'k', linewidth=2)\n",
    "title = \"Fitted Values: Mean - {:.2f} and Std: {:.2f}\".format(mu, std)\n",
    "plt.title(title)\n",
    "\n",
    "plt.show;\n"
   ]
  },
  {
   "attachments": {},
   "cell_type": "markdown",
   "metadata": {},
   "source": [
    "One thing you should note: the Y-axis is not what we would expect. It represents the probability, not an actual count.\n",
    "\n",
    "To solve this easily, we'll use two seaborn plots. Seaborn is built on top of matplotlib so it is an easy solution rather than manually adding lines of code using matplotlib. We will use histplot and distplot. From the names you should be able to guess what they plot: histogram and distribution.\n",
    "\n",
    "Conveniently, the retain the more useful Y-axis."
   ]
  },
  {
   "cell_type": "code",
   "execution_count": 101,
   "metadata": {},
   "outputs": [
    {
     "data": {
      "image/png": "[encoded data removed]",
      "text/plain": [
       "<Figure size 640x480 with 1 Axes>"
      ]
     },
     "metadata": {},
     "output_type": "display_data"
    }
   ],
   "source": [
    "sns.histplot(vpal_df1[\"Quest Completed\"], kde=True, bins=10, color='darkblue');"
   ]
  },
  {
   "cell_type": "code",
   "execution_count": 102,
   "metadata": {},
   "outputs": [
    {
     "data": {
      "image/png": "[encoded data removed]",
      "text/plain": [
       "<Figure size 500x500 with 1 Axes>"
      ]
     },
     "metadata": {},
     "output_type": "display_data"
    }
   ],
   "source": [
    "sns.displot(vpal_df1[\"Quest Completed\"], kde=True, bins=10, color='darkblue');"
   ]
  },
  {
   "attachments": {},
   "cell_type": "markdown",
   "metadata": {},
   "source": [
    "Despite their slight differences in appearance, we can see a bell-shaped, normal distribution.\n",
    "\n",
    "Now, let's access the measures of centrality directly.\n",
    "\n",
    "You can easily access these measure for ALL of the columns in the dataframe with a \"describe\" attribute."
   ]
  },
  {
   "cell_type": "code",
   "execution_count": 103,
   "metadata": {},
   "outputs": [
    {
     "data": {
      "text/html": [
       "<div>\n",
       "<style scoped>\n",
       "    .dataframe tbody tr th:only-of-type {\n",
       "        vertical-align: middle;\n",
       "    }\n",
       "\n",
       "    .dataframe tbody tr th {\n",
       "        vertical-align: top;\n",
       "    }\n",
       "\n",
       "    .dataframe thead th {\n",
       "        text-align: right;\n",
       "    }\n",
       "</style>\n",
       "<table border=\"1\" class=\"dataframe\">\n",
       "  <thead>\n",
       "    <tr style=\"text-align: right;\">\n",
       "      <th></th>\n",
       "      <th>User ID</th>\n",
       "      <th>Quest Taken</th>\n",
       "      <th>Quest Completed</th>\n",
       "      <th>Dialogues</th>\n",
       "      <th>Loots</th>\n",
       "      <th>Loots Items</th>\n",
       "      <th>Loots Dead</th>\n",
       "      <th>Shots</th>\n",
       "      <th>Kills</th>\n",
       "      <th>Interaction NPC</th>\n",
       "      <th>Interaction Container</th>\n",
       "      <th>Attacks</th>\n",
       "      <th>Attacks - Quest Related</th>\n",
       "      <th>Attacks - Friendly NPC</th>\n",
       "      <th>Attacks - UnMotivated</th>\n",
       "      <th>Attacks - SelfDefense</th>\n",
       "    </tr>\n",
       "  </thead>\n",
       "  <tbody>\n",
       "    <tr>\n",
       "      <th>count</th>\n",
       "      <td>70.000000</td>\n",
       "      <td>70.000000</td>\n",
       "      <td>70.000000</td>\n",
       "      <td>70.000000</td>\n",
       "      <td>70.000000</td>\n",
       "      <td>70.000000</td>\n",
       "      <td>70.000000</td>\n",
       "      <td>70.000000</td>\n",
       "      <td>70.000000</td>\n",
       "      <td>70.000000</td>\n",
       "      <td>70.000000</td>\n",
       "      <td>70.000000</td>\n",
       "      <td>70.000000</td>\n",
       "      <td>70.000000</td>\n",
       "      <td>70.000000</td>\n",
       "      <td>70.000000</td>\n",
       "    </tr>\n",
       "    <tr>\n",
       "      <th>mean</th>\n",
       "      <td>143.157143</td>\n",
       "      <td>9.528571</td>\n",
       "      <td>4.571429</td>\n",
       "      <td>55.914286</td>\n",
       "      <td>30.285714</td>\n",
       "      <td>23.471429</td>\n",
       "      <td>4.228571</td>\n",
       "      <td>39.671429</td>\n",
       "      <td>8.871429</td>\n",
       "      <td>25.000000</td>\n",
       "      <td>21.014286</td>\n",
       "      <td>48.971429</td>\n",
       "      <td>13.900000</td>\n",
       "      <td>21.957143</td>\n",
       "      <td>4.671429</td>\n",
       "      <td>8.442857</td>\n",
       "    </tr>\n",
       "    <tr>\n",
       "      <th>std</th>\n",
       "      <td>26.442519</td>\n",
       "      <td>3.458748</td>\n",
       "      <td>1.814366</td>\n",
       "      <td>22.204415</td>\n",
       "      <td>19.745587</td>\n",
       "      <td>17.876161</td>\n",
       "      <td>6.290484</td>\n",
       "      <td>55.361715</td>\n",
       "      <td>8.816851</td>\n",
       "      <td>12.359354</td>\n",
       "      <td>12.827160</td>\n",
       "      <td>65.672656</td>\n",
       "      <td>23.955968</td>\n",
       "      <td>52.682928</td>\n",
       "      <td>9.472648</td>\n",
       "      <td>11.559093</td>\n",
       "    </tr>\n",
       "    <tr>\n",
       "      <th>min</th>\n",
       "      <td>101.000000</td>\n",
       "      <td>1.000000</td>\n",
       "      <td>0.000000</td>\n",
       "      <td>7.000000</td>\n",
       "      <td>0.000000</td>\n",
       "      <td>0.000000</td>\n",
       "      <td>0.000000</td>\n",
       "      <td>0.000000</td>\n",
       "      <td>0.000000</td>\n",
       "      <td>2.000000</td>\n",
       "      <td>0.000000</td>\n",
       "      <td>0.000000</td>\n",
       "      <td>0.000000</td>\n",
       "      <td>0.000000</td>\n",
       "      <td>0.000000</td>\n",
       "      <td>0.000000</td>\n",
       "    </tr>\n",
       "    <tr>\n",
       "      <th>25%</th>\n",
       "      <td>122.250000</td>\n",
       "      <td>7.000000</td>\n",
       "      <td>3.000000</td>\n",
       "      <td>40.500000</td>\n",
       "      <td>12.250000</td>\n",
       "      <td>6.000000</td>\n",
       "      <td>0.000000</td>\n",
       "      <td>0.000000</td>\n",
       "      <td>2.000000</td>\n",
       "      <td>16.000000</td>\n",
       "      <td>10.000000</td>\n",
       "      <td>7.750000</td>\n",
       "      <td>3.000000</td>\n",
       "      <td>0.000000</td>\n",
       "      <td>0.000000</td>\n",
       "      <td>0.000000</td>\n",
       "    </tr>\n",
       "    <tr>\n",
       "      <th>50%</th>\n",
       "      <td>140.500000</td>\n",
       "      <td>9.500000</td>\n",
       "      <td>4.500000</td>\n",
       "      <td>56.000000</td>\n",
       "      <td>32.500000</td>\n",
       "      <td>26.000000</td>\n",
       "      <td>2.500000</td>\n",
       "      <td>14.500000</td>\n",
       "      <td>7.500000</td>\n",
       "      <td>23.500000</td>\n",
       "      <td>21.000000</td>\n",
       "      <td>32.000000</td>\n",
       "      <td>4.000000</td>\n",
       "      <td>1.000000</td>\n",
       "      <td>0.000000</td>\n",
       "      <td>2.000000</td>\n",
       "    </tr>\n",
       "    <tr>\n",
       "      <th>75%</th>\n",
       "      <td>160.750000</td>\n",
       "      <td>12.000000</td>\n",
       "      <td>5.750000</td>\n",
       "      <td>72.750000</td>\n",
       "      <td>47.000000</td>\n",
       "      <td>39.000000</td>\n",
       "      <td>5.000000</td>\n",
       "      <td>63.000000</td>\n",
       "      <td>11.000000</td>\n",
       "      <td>34.250000</td>\n",
       "      <td>31.000000</td>\n",
       "      <td>47.750000</td>\n",
       "      <td>12.750000</td>\n",
       "      <td>13.250000</td>\n",
       "      <td>5.750000</td>\n",
       "      <td>16.750000</td>\n",
       "    </tr>\n",
       "    <tr>\n",
       "      <th>max</th>\n",
       "      <td>236.000000</td>\n",
       "      <td>16.000000</td>\n",
       "      <td>10.000000</td>\n",
       "      <td>115.000000</td>\n",
       "      <td>64.000000</td>\n",
       "      <td>60.000000</td>\n",
       "      <td>35.000000</td>\n",
       "      <td>302.000000</td>\n",
       "      <td>44.000000</td>\n",
       "      <td>61.000000</td>\n",
       "      <td>53.000000</td>\n",
       "      <td>341.000000</td>\n",
       "      <td>115.000000</td>\n",
       "      <td>255.000000</td>\n",
       "      <td>48.000000</td>\n",
       "      <td>41.000000</td>\n",
       "    </tr>\n",
       "  </tbody>\n",
       "</table>\n",
       "</div>"
      ],
      "text/plain": [
       "          User ID  Quest Taken  Quest Completed   Dialogues      Loots  \\\n",
       "count   70.000000    70.000000        70.000000   70.000000  70.000000   \n",
       "mean   143.157143     9.528571         4.571429   55.914286  30.285714   \n",
       "std     26.442519     3.458748         1.814366   22.204415  19.745587   \n",
       "min    101.000000     1.000000         0.000000    7.000000   0.000000   \n",
       "25%    122.250000     7.000000         3.000000   40.500000  12.250000   \n",
       "50%    140.500000     9.500000         4.500000   56.000000  32.500000   \n",
       "75%    160.750000    12.000000         5.750000   72.750000  47.000000   \n",
       "max    236.000000    16.000000        10.000000  115.000000  64.000000   \n",
       "\n",
       "       Loots Items  Loots Dead       Shots      Kills  Interaction NPC  \\\n",
       "count    70.000000   70.000000   70.000000  70.000000        70.000000   \n",
       "mean     23.471429    4.228571   39.671429   8.871429        25.000000   \n",
       "std      17.876161    6.290484   55.361715   8.816851        12.359354   \n",
       "min       0.000000    0.000000    0.000000   0.000000         2.000000   \n",
       "25%       6.000000    0.000000    0.000000   2.000000        16.000000   \n",
       "50%      26.000000    2.500000   14.500000   7.500000        23.500000   \n",
       "75%      39.000000    5.000000   63.000000  11.000000        34.250000   \n",
       "max      60.000000   35.000000  302.000000  44.000000        61.000000   \n",
       "\n",
       "       Interaction Container     Attacks  Attacks - Quest Related  \\\n",
       "count              70.000000   70.000000                70.000000   \n",
       "mean               21.014286   48.971429                13.900000   \n",
       "std                12.827160   65.672656                23.955968   \n",
       "min                 0.000000    0.000000                 0.000000   \n",
       "25%                10.000000    7.750000                 3.000000   \n",
       "50%                21.000000   32.000000                 4.000000   \n",
       "75%                31.000000   47.750000                12.750000   \n",
       "max                53.000000  341.000000               115.000000   \n",
       "\n",
       "       Attacks - Friendly NPC  Attacks - UnMotivated  Attacks - SelfDefense  \n",
       "count               70.000000              70.000000              70.000000  \n",
       "mean                21.957143               4.671429               8.442857  \n",
       "std                 52.682928               9.472648              11.559093  \n",
       "min                  0.000000               0.000000               0.000000  \n",
       "25%                  0.000000               0.000000               0.000000  \n",
       "50%                  1.000000               0.000000               2.000000  \n",
       "75%                 13.250000               5.750000              16.750000  \n",
       "max                255.000000              48.000000              41.000000  "
      ]
     },
     "execution_count": 103,
     "metadata": {},
     "output_type": "execute_result"
    }
   ],
   "source": [
    "vpal_df1.describe()"
   ]
  },
  {
   "attachments": {},
   "cell_type": "markdown",
   "metadata": {},
   "source": [
    "As you can see, the Quest Completed column shows a mean of 4.571429 and a standard deviation of 1.814366.\n",
    "\n",
    "But, what if we didn't want all this info?"
   ]
  },
  {
   "cell_type": "code",
   "execution_count": 105,
   "metadata": {},
   "outputs": [
    {
     "data": {
      "text/plain": [
       "4.571428571428571"
      ]
     },
     "execution_count": 105,
     "metadata": {},
     "output_type": "execute_result"
    }
   ],
   "source": [
    "vpal_df1[\"Quest Completed\"].mean()"
   ]
  },
  {
   "cell_type": "code",
   "execution_count": 106,
   "metadata": {},
   "outputs": [
    {
     "data": {
      "text/plain": [
       "1.8143664089258569"
      ]
     },
     "execution_count": 106,
     "metadata": {},
     "output_type": "execute_result"
    }
   ],
   "source": [
    "vpal_df1[\"Quest Completed\"].std()"
   ]
  },
  {
   "cell_type": "code",
   "execution_count": 108,
   "metadata": {},
   "outputs": [
    {
     "data": {
      "text/plain": [
       "4.5"
      ]
     },
     "execution_count": 108,
     "metadata": {},
     "output_type": "execute_result"
    }
   ],
   "source": [
    "vpal_df1[\"Quest Completed\"].median()"
   ]
  },
  {
   "cell_type": "code",
   "execution_count": 110,
   "metadata": {},
   "outputs": [
    {
     "data": {
      "text/plain": [
       "0    3\n",
       "1    5\n",
       "Name: Quest Completed, dtype: int64"
      ]
     },
     "execution_count": 110,
     "metadata": {},
     "output_type": "execute_result"
    }
   ],
   "source": [
    "vpal_df1[\"Quest Completed\"].mode()"
   ]
  },
  {
   "attachments": {},
   "cell_type": "markdown",
   "metadata": {},
   "source": [
    "The mode returns two outputs - because there are two modes. The first column is the index of the output table. The second column are the two modes, 3 and 5.\n",
    "\n",
    "We can verify this is correct by counting the values in the column and seeing if 3 and 5 occur most often - which is the definition of 'mode'."
   ]
  },
  {
   "cell_type": "code",
   "execution_count": 111,
   "metadata": {},
   "outputs": [
    {
     "data": {
      "text/plain": [
       "5     17\n",
       "3     17\n",
       "4     13\n",
       "6      8\n",
       "7      6\n",
       "2      3\n",
       "8      2\n",
       "9      1\n",
       "10     1\n",
       "0      1\n",
       "1      1\n",
       "Name: Quest Completed, dtype: int64"
      ]
     },
     "execution_count": 111,
     "metadata": {},
     "output_type": "execute_result"
    }
   ],
   "source": [
    "vpal_df1[\"Quest Completed\"].value_counts()"
   ]
  },
  {
   "attachments": {},
   "cell_type": "markdown",
   "metadata": {},
   "source": [
    "3 and 5 occur most often at 17 times each!\n",
    "\n",
    "Also, not that the mean and median are very close. This is also an indication of a normal distribution. But, what about a skewed distribution? Let's look at one next."
   ]
  },
  {
   "cell_type": "code",
   "execution_count": 112,
   "metadata": {},
   "outputs": [
    {
     "data": {
      "image/png": "[encoded data removed]",
      "text/plain": [
       "<Figure size 640x480 with 1 Axes>"
      ]
     },
     "metadata": {},
     "output_type": "display_data"
    }
   ],
   "source": [
    "sns.histplot(vpal_df1[\"Kills\"], kde=True, bins=10, color='darkblue');"
   ]
  },
  {
   "attachments": {},
   "cell_type": "markdown",
   "metadata": {},
   "source": [
    "This is a very different curve! Also, the distance between mean and median is much larger - reflecting the skew."
   ]
  },
  {
   "cell_type": "code",
   "execution_count": 113,
   "metadata": {},
   "outputs": [
    {
     "data": {
      "text/plain": [
       "8.871428571428572"
      ]
     },
     "execution_count": 113,
     "metadata": {},
     "output_type": "execute_result"
    }
   ],
   "source": [
    "vpal_df1[\"Kills\"].mean()"
   ]
  },
  {
   "cell_type": "code",
   "execution_count": 114,
   "metadata": {},
   "outputs": [
    {
     "data": {
      "text/plain": [
       "7.5"
      ]
     },
     "execution_count": 114,
     "metadata": {},
     "output_type": "execute_result"
    }
   ],
   "source": [
    "vpal_df1[\"Kills\"].median()"
   ]
  },
  {
   "attachments": {},
   "cell_type": "markdown",
   "metadata": {},
   "source": [
    "There's more than 1 whole number difference!\n",
    "\n",
    "The vast majority of the curve - apart from the small increase and peak at the beginning - looks very much like an exponential curve. In order to tranform this to a normal distribution, we will use a square root transformation. This is recommended for left skewed distributions.\n"
   ]
  },
  {
   "cell_type": "code",
   "execution_count": 126,
   "metadata": {},
   "outputs": [
    {
     "data": {
      "image/png": "[encoded data removed]",
      "text/plain": [
       "<Figure size 640x480 with 2 Axes>"
      ]
     },
     "metadata": {},
     "output_type": "display_data"
    }
   ],
   "source": [
    "np.random.seed(42)\n",
    "data_transf = np.sqrt(vpal_df1[\"Kills\"])\n",
    "\n",
    "fig, axs = plt.subplots(nrows=1, ncols=2, sharey=False)\n",
    "sns.histplot(ax=axs[0], data=vpal_df1[\"Kills\"], kde=True, bins=10, color='darkblue')\n",
    "sns.histplot(ax=axs[1], data=data_transf, kde=True, bins=10, color='darkblue');\n",
    "\n",
    "axs[0].set_title(\"Original\")\n",
    "axs[1].set_title(\"Square Root Transformed\");"
   ]
  },
  {
   "attachments": {},
   "cell_type": "markdown",
   "metadata": {},
   "source": [
    "Not perfect - but much better!\n",
    "\n",
    "Now let's look at the range for both columns, along with the variance and standard deviation for each."
   ]
  },
  {
   "cell_type": "code",
   "execution_count": 143,
   "metadata": {},
   "outputs": [
    {
     "name": "stdout",
     "output_type": "stream",
     "text": [
      "The range of the Quest Completed column:  (0, 10)\n",
      "The variance of the Quest Completed column: 3.29\n",
      "The standard deviation of the Quest Completed column: 1.81\n"
     ]
    }
   ],
   "source": [
    "rangeQC = (vpal_df1[\"Quest Completed\"].min(axis=0), vpal_df1[\"Quest Completed\"].max(axis=0))\n",
    "print(\"The range of the Quest Completed column: \", rangeQC)\n",
    "\n",
    "varQC = (vpal_df1[\"Quest Completed\"].var(axis=0))\n",
    "print(\"The variance of the Quest Completed column: {:.2f}\".format(varQC))\n",
    "\n",
    "sdQC = (vpal_df1[\"Quest Completed\"].std(axis=0))\n",
    "print(\"The standard deviation of the Quest Completed column: {:.2f}\".format(sdQC))"
   ]
  },
  {
   "cell_type": "code",
   "execution_count": 141,
   "metadata": {},
   "outputs": [
    {
     "name": "stdout",
     "output_type": "stream",
     "text": [
      "The range of the Kills column:  (0, 44)\n",
      "The variance of the Kills column: 77.74\n",
      "The standard deviation of the Kills column: 8.82\n"
     ]
    }
   ],
   "source": [
    "rangeK = (vpal_df1[\"Kills\"].min(axis=0), vpal_df1[\"Kills\"].max(axis=0))\n",
    "print(\"The range of the Kills column: \", rangeK)\n",
    "\n",
    "varK = (vpal_df1[\"Kills\"].var(axis=0))\n",
    "print(\"The variance of the Kills column: {:.2f}\".format(varK))\n",
    "\n",
    "sdK = (vpal_df1[\"Kills\"].std(axis=0))\n",
    "print(\"The standard deviation of the Kills column: {:.2f}\".format(sdK))"
   ]
  },
  {
   "attachments": {},
   "cell_type": "markdown",
   "metadata": {},
   "source": [
    "## Correlation"
   ]
  },
  {
   "cell_type": "code",
   "execution_count": null,
   "metadata": {},
   "outputs": [],
   "source": []
  }
 ],
 "metadata": {
  "kernelspec": {
   "display_name": "Python 3",
   "language": "python",
   "name": "python3"
  },
  "language_info": {
   "codemirror_mode": {
    "name": "ipython",
    "version": 3
   },
   "file_extension": ".py",
   "mimetype": "text/x-python",
   "name": "python",
   "nbconvert_exporter": "python",
   "pygments_lexer": "ipython3",
   "version": "3.9.13"
  },
  "orig_nbformat": 4,
  "vscode": {
   "interpreter": {
    "hash": "7095d004690a4310ee029a4ed4342831ae42e1b6c0e2d5855d436eb5c4e09b7a"
   }
  }
 },
 "nbformat": 4,
 "nbformat_minor": 2
}
