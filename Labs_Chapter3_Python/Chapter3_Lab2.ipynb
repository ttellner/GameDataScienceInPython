{
 "cells": [
  {
   "attachments": {},
   "cell_type": "markdown",
   "metadata": {},
   "source": [
    "# Chapter 3 Lab 2\n",
    "\n",
    "## Goal\n",
    "\n",
    "In this lab, we will conduct some exmaple inferential statistics with the VPAL data. We will be working with two datasets. One is data on experienced players. The second is the same type of data collected on inexperienced players. Both groups will be compared using data on the number of quests completed and kills made.\n",
    "\n",
    "But, collecting and comparing this data is meaningless without a hypothesis. In this case, the Null hypothesis - the hypothesis that is being tested - is that there is NO difference between the two groups. The Alternative hypothesis is what could be the case given the analysis. More specifically, we cannot say that the groups are different. We can only say that we \"reject the Null hypothesis\" that the groups are the same.\n",
    "\n",
    "In this case, the hypothesis that experienced players have completed more quests and more kills. Once done, you can also attempt to predict experience from the data and which variables are more predictive of the variable."
   ]
  },
  {
   "cell_type": "code",
   "execution_count": 96,
   "metadata": {},
   "outputs": [],
   "source": [
    "import pandas as pd\n",
    "import numpy as np\n",
    "import matplotlib.pyplot as plt\n",
    "import scipy.stats as stats\n",
    "import seaborn as sns"
   ]
  },
  {
   "attachments": {},
   "cell_type": "markdown",
   "metadata": {},
   "source": [
    "Read in the inexperienced player data"
   ]
  },
  {
   "cell_type": "code",
   "execution_count": 97,
   "metadata": {},
   "outputs": [
    {
     "data": {
      "text/html": [
       "<div>\n",
       "<style scoped>\n",
       "    .dataframe tbody tr th:only-of-type {\n",
       "        vertical-align: middle;\n",
       "    }\n",
       "\n",
       "    .dataframe tbody tr th {\n",
       "        vertical-align: top;\n",
       "    }\n",
       "\n",
       "    .dataframe thead th {\n",
       "        text-align: right;\n",
       "    }\n",
       "</style>\n",
       "<table border=\"1\" class=\"dataframe\">\n",
       "  <thead>\n",
       "    <tr style=\"text-align: right;\">\n",
       "      <th></th>\n",
       "      <th>User ID</th>\n",
       "      <th>Gender</th>\n",
       "      <th>Quest Taken</th>\n",
       "      <th>Quest Completed</th>\n",
       "      <th>Dialogues</th>\n",
       "      <th>Loots</th>\n",
       "      <th>Loots Items</th>\n",
       "      <th>Loots Dead</th>\n",
       "      <th>Shots</th>\n",
       "      <th>Kills</th>\n",
       "      <th>Interaction NPC</th>\n",
       "      <th>Interaction Container</th>\n",
       "      <th>Attacks</th>\n",
       "      <th>Attacks - Quest Related</th>\n",
       "      <th>Attacks - Friendly NPC</th>\n",
       "      <th>Attacks - UnMotivated</th>\n",
       "      <th>Attacks - SelfDefense</th>\n",
       "    </tr>\n",
       "  </thead>\n",
       "  <tbody>\n",
       "    <tr>\n",
       "      <th>0</th>\n",
       "      <td>105</td>\n",
       "      <td>1</td>\n",
       "      <td>7</td>\n",
       "      <td>5</td>\n",
       "      <td>68</td>\n",
       "      <td>1</td>\n",
       "      <td>0</td>\n",
       "      <td>1</td>\n",
       "      <td>0</td>\n",
       "      <td>1</td>\n",
       "      <td>27</td>\n",
       "      <td>20</td>\n",
       "      <td>3</td>\n",
       "      <td>3</td>\n",
       "      <td>0</td>\n",
       "      <td>0</td>\n",
       "      <td>0</td>\n",
       "    </tr>\n",
       "    <tr>\n",
       "      <th>1</th>\n",
       "      <td>109</td>\n",
       "      <td>1</td>\n",
       "      <td>9</td>\n",
       "      <td>3</td>\n",
       "      <td>79</td>\n",
       "      <td>3</td>\n",
       "      <td>1</td>\n",
       "      <td>0</td>\n",
       "      <td>201</td>\n",
       "      <td>3</td>\n",
       "      <td>30</td>\n",
       "      <td>31</td>\n",
       "      <td>57</td>\n",
       "      <td>54</td>\n",
       "      <td>3</td>\n",
       "      <td>0</td>\n",
       "      <td>0</td>\n",
       "    </tr>\n",
       "    <tr>\n",
       "      <th>2</th>\n",
       "      <td>111</td>\n",
       "      <td>1</td>\n",
       "      <td>7</td>\n",
       "      <td>3</td>\n",
       "      <td>46</td>\n",
       "      <td>13</td>\n",
       "      <td>4</td>\n",
       "      <td>5</td>\n",
       "      <td>45</td>\n",
       "      <td>9</td>\n",
       "      <td>13</td>\n",
       "      <td>20</td>\n",
       "      <td>71</td>\n",
       "      <td>0</td>\n",
       "      <td>14</td>\n",
       "      <td>30</td>\n",
       "      <td>27</td>\n",
       "    </tr>\n",
       "    <tr>\n",
       "      <th>3</th>\n",
       "      <td>115</td>\n",
       "      <td>1</td>\n",
       "      <td>14</td>\n",
       "      <td>3</td>\n",
       "      <td>63</td>\n",
       "      <td>60</td>\n",
       "      <td>60</td>\n",
       "      <td>0</td>\n",
       "      <td>0</td>\n",
       "      <td>0</td>\n",
       "      <td>16</td>\n",
       "      <td>0</td>\n",
       "      <td>0</td>\n",
       "      <td>0</td>\n",
       "      <td>0</td>\n",
       "      <td>0</td>\n",
       "      <td>0</td>\n",
       "    </tr>\n",
       "    <tr>\n",
       "      <th>4</th>\n",
       "      <td>123</td>\n",
       "      <td>1</td>\n",
       "      <td>16</td>\n",
       "      <td>5</td>\n",
       "      <td>82</td>\n",
       "      <td>33</td>\n",
       "      <td>33</td>\n",
       "      <td>0</td>\n",
       "      <td>6</td>\n",
       "      <td>1</td>\n",
       "      <td>29</td>\n",
       "      <td>13</td>\n",
       "      <td>5</td>\n",
       "      <td>5</td>\n",
       "      <td>0</td>\n",
       "      <td>0</td>\n",
       "      <td>0</td>\n",
       "    </tr>\n",
       "  </tbody>\n",
       "</table>\n",
       "</div>"
      ],
      "text/plain": [
       "   User ID  Gender  Quest Taken  Quest Completed  Dialogues  Loots  \\\n",
       "0      105       1            7                5         68      1   \n",
       "1      109       1            9                3         79      3   \n",
       "2      111       1            7                3         46     13   \n",
       "3      115       1           14                3         63     60   \n",
       "4      123       1           16                5         82     33   \n",
       "\n",
       "   Loots Items  Loots Dead  Shots  Kills  Interaction NPC  \\\n",
       "0            0           1      0      1               27   \n",
       "1            1           0    201      3               30   \n",
       "2            4           5     45      9               13   \n",
       "3           60           0      0      0               16   \n",
       "4           33           0      6      1               29   \n",
       "\n",
       "   Interaction Container  Attacks  Attacks - Quest Related  \\\n",
       "0                     20        3                        3   \n",
       "1                     31       57                       54   \n",
       "2                     20       71                        0   \n",
       "3                      0        0                        0   \n",
       "4                     13        5                        5   \n",
       "\n",
       "   Attacks - Friendly NPC  Attacks - UnMotivated  Attacks - SelfDefense  \n",
       "0                       0                      0                      0  \n",
       "1                       3                      0                      0  \n",
       "2                      14                     30                     27  \n",
       "3                       0                      0                      0  \n",
       "4                       0                      0                      0  "
      ]
     },
     "execution_count": 97,
     "metadata": {},
     "output_type": "execute_result"
    }
   ],
   "source": [
    "Inexperienced = pd.read_csv(\"ExpNeg_GameData.csv\")\n",
    "Inexperienced.head()"
   ]
  },
  {
   "attachments": {},
   "cell_type": "markdown",
   "metadata": {},
   "source": [
    "Next, read in the experienced player data."
   ]
  },
  {
   "cell_type": "code",
   "execution_count": 98,
   "metadata": {},
   "outputs": [
    {
     "data": {
      "text/html": [
       "<div>\n",
       "<style scoped>\n",
       "    .dataframe tbody tr th:only-of-type {\n",
       "        vertical-align: middle;\n",
       "    }\n",
       "\n",
       "    .dataframe tbody tr th {\n",
       "        vertical-align: top;\n",
       "    }\n",
       "\n",
       "    .dataframe thead th {\n",
       "        text-align: right;\n",
       "    }\n",
       "</style>\n",
       "<table border=\"1\" class=\"dataframe\">\n",
       "  <thead>\n",
       "    <tr style=\"text-align: right;\">\n",
       "      <th></th>\n",
       "      <th>User ID</th>\n",
       "      <th>Gender</th>\n",
       "      <th>Quest Taken</th>\n",
       "      <th>Quest Completed</th>\n",
       "      <th>Dialogues</th>\n",
       "      <th>Loots</th>\n",
       "      <th>Loots Items</th>\n",
       "      <th>Loots Dead</th>\n",
       "      <th>Shots</th>\n",
       "      <th>Kills</th>\n",
       "      <th>Interaction NPC</th>\n",
       "      <th>Interaction Container</th>\n",
       "      <th>Attacks</th>\n",
       "      <th>Attacks - Quest Related</th>\n",
       "      <th>Attacks - Friendly NPC</th>\n",
       "      <th>Attacks - UnMotivated</th>\n",
       "      <th>Attacks - SelfDefense</th>\n",
       "    </tr>\n",
       "  </thead>\n",
       "  <tbody>\n",
       "    <tr>\n",
       "      <th>0</th>\n",
       "      <td>173</td>\n",
       "      <td>1</td>\n",
       "      <td>7</td>\n",
       "      <td>5</td>\n",
       "      <td>65</td>\n",
       "      <td>12</td>\n",
       "      <td>6</td>\n",
       "      <td>5</td>\n",
       "      <td>23</td>\n",
       "      <td>10</td>\n",
       "      <td>38</td>\n",
       "      <td>19</td>\n",
       "      <td>30</td>\n",
       "      <td>11</td>\n",
       "      <td>0</td>\n",
       "      <td>18</td>\n",
       "      <td>1</td>\n",
       "    </tr>\n",
       "    <tr>\n",
       "      <th>1</th>\n",
       "      <td>113</td>\n",
       "      <td>1</td>\n",
       "      <td>8</td>\n",
       "      <td>5</td>\n",
       "      <td>56</td>\n",
       "      <td>52</td>\n",
       "      <td>46</td>\n",
       "      <td>2</td>\n",
       "      <td>71</td>\n",
       "      <td>9</td>\n",
       "      <td>32</td>\n",
       "      <td>39</td>\n",
       "      <td>42</td>\n",
       "      <td>41</td>\n",
       "      <td>0</td>\n",
       "      <td>0</td>\n",
       "      <td>1</td>\n",
       "    </tr>\n",
       "    <tr>\n",
       "      <th>2</th>\n",
       "      <td>137</td>\n",
       "      <td>1</td>\n",
       "      <td>11</td>\n",
       "      <td>7</td>\n",
       "      <td>87</td>\n",
       "      <td>22</td>\n",
       "      <td>16</td>\n",
       "      <td>0</td>\n",
       "      <td>99</td>\n",
       "      <td>6</td>\n",
       "      <td>29</td>\n",
       "      <td>24</td>\n",
       "      <td>25</td>\n",
       "      <td>25</td>\n",
       "      <td>0</td>\n",
       "      <td>0</td>\n",
       "      <td>0</td>\n",
       "    </tr>\n",
       "    <tr>\n",
       "      <th>3</th>\n",
       "      <td>153</td>\n",
       "      <td>1</td>\n",
       "      <td>13</td>\n",
       "      <td>6</td>\n",
       "      <td>74</td>\n",
       "      <td>13</td>\n",
       "      <td>6</td>\n",
       "      <td>7</td>\n",
       "      <td>72</td>\n",
       "      <td>11</td>\n",
       "      <td>40</td>\n",
       "      <td>36</td>\n",
       "      <td>44</td>\n",
       "      <td>4</td>\n",
       "      <td>1</td>\n",
       "      <td>16</td>\n",
       "      <td>23</td>\n",
       "    </tr>\n",
       "    <tr>\n",
       "      <th>4</th>\n",
       "      <td>165</td>\n",
       "      <td>1</td>\n",
       "      <td>11</td>\n",
       "      <td>5</td>\n",
       "      <td>58</td>\n",
       "      <td>24</td>\n",
       "      <td>16</td>\n",
       "      <td>8</td>\n",
       "      <td>10</td>\n",
       "      <td>8</td>\n",
       "      <td>23</td>\n",
       "      <td>40</td>\n",
       "      <td>20</td>\n",
       "      <td>3</td>\n",
       "      <td>2</td>\n",
       "      <td>8</td>\n",
       "      <td>7</td>\n",
       "    </tr>\n",
       "  </tbody>\n",
       "</table>\n",
       "</div>"
      ],
      "text/plain": [
       "   User ID  Gender  Quest Taken  Quest Completed  Dialogues  Loots  \\\n",
       "0      173       1            7                5         65     12   \n",
       "1      113       1            8                5         56     52   \n",
       "2      137       1           11                7         87     22   \n",
       "3      153       1           13                6         74     13   \n",
       "4      165       1           11                5         58     24   \n",
       "\n",
       "   Loots Items  Loots Dead  Shots  Kills  Interaction NPC  \\\n",
       "0            6           5     23     10               38   \n",
       "1           46           2     71      9               32   \n",
       "2           16           0     99      6               29   \n",
       "3            6           7     72     11               40   \n",
       "4           16           8     10      8               23   \n",
       "\n",
       "   Interaction Container  Attacks  Attacks - Quest Related  \\\n",
       "0                     19       30                       11   \n",
       "1                     39       42                       41   \n",
       "2                     24       25                       25   \n",
       "3                     36       44                        4   \n",
       "4                     40       20                        3   \n",
       "\n",
       "   Attacks - Friendly NPC  Attacks - UnMotivated  Attacks - SelfDefense  \n",
       "0                       0                     18                      1  \n",
       "1                       0                      0                      1  \n",
       "2                       0                      0                      0  \n",
       "3                       1                     16                     23  \n",
       "4                       2                      8                      7  "
      ]
     },
     "execution_count": 98,
     "metadata": {},
     "output_type": "execute_result"
    }
   ],
   "source": [
    "Experienced = pd.read_csv(\"ExpPos_GameData.csv\")\n",
    "Experienced.head()"
   ]
  },
  {
   "attachments": {},
   "cell_type": "markdown",
   "metadata": {},
   "source": [
    "In order to test our hypothesis, we will use a t-test. A t-test is used to determine if there is a significant difference between two groups of data. The mean is pivotal - which means that the variance of the data sets is also important.\n",
    "\n",
    "To pick the correct t-test we need to check for normality of distribution and compare the variances of the two data sets.\n",
    "\n",
    "First, let's look at the distribution of Quests for both."
   ]
  },
  {
   "cell_type": "code",
   "execution_count": 99,
   "metadata": {},
   "outputs": [
    {
     "data": {
      "image/png": "[encoded data removed]",
      "text/plain": [
       "<Figure size 640x480 with 1 Axes>"
      ]
     },
     "metadata": {},
     "output_type": "display_data"
    }
   ],
   "source": [
    "sns.histplot(Inexperienced[\"Quest Completed\"], kde=True, bins=10, color='darkblue');"
   ]
  },
  {
   "cell_type": "code",
   "execution_count": 100,
   "metadata": {},
   "outputs": [
    {
     "data": {
      "image/png": "[encoded data removed]",
      "text/plain": [
       "<Figure size 640x480 with 1 Axes>"
      ]
     },
     "metadata": {},
     "output_type": "display_data"
    }
   ],
   "source": [
    "sns.histplot(Experienced[\"Quest Completed\"], kde=True, bins=10, color='darkblue');"
   ]
  },
  {
   "attachments": {},
   "cell_type": "markdown",
   "metadata": {},
   "source": [
    "Both visualizations indicate a reasonably normal distribution. However, another requirement is that the variances are equal. Let's check that now."
   ]
  },
  {
   "cell_type": "code",
   "execution_count": 101,
   "metadata": {},
   "outputs": [
    {
     "name": "stdout",
     "output_type": "stream",
     "text": [
      "3.25 2.283446712018141\n"
     ]
    }
   ],
   "source": [
    "print(np.var(Experienced[\"Quest Completed\"]), np.var(Inexperienced[\"Quest Completed\"]))"
   ]
  },
  {
   "attachments": {},
   "cell_type": "markdown",
   "metadata": {},
   "source": [
    "The variances are different! \n",
    "\n",
    "So a quick word about different variances: The are three common types of t-tests. Independent, Welch, and Paired. For this lab, we are most concerned with the first two. Paired t-tests are used when you have two samples from the same population. For example, if you choose 25 people and have them take one version of an exam and then have the same 25 people take a second version, to compare the means of the resulting scores, you would use a paired t-test.\n",
    "\n",
    "This is currently not the case. The difference between instances when you'd use an independent or Welch t-test is when the variances of the two samples are equal or unequal respectively. However, in practice, these t-tests are robust to differences in variances - especially if your sample sizes are roughly equal in size and the one variance is not more than twice the other variance. In other words, both independent and Welch t-tests should reach the same conclusion though calculate different p-values.\n",
    "\n",
    "If variance is more than twice the other, then default to the Welch t-test. That is not the case here.\n",
    "\n",
    "However, if sample sizes are unequal - and variances are unequal regardless of the difference - you should also default to Welch's t-test. If you'd explored the data sufficiently, you'd know that these two sample sizes are different. Since this is the case, we will use Welch's t-test.\n",
    "\n",
    "The Python code for both is the same - except to use Welch's t-test, simply set the \"equal_var\" parameter to False."
   ]
  },
  {
   "cell_type": "code",
   "execution_count": 102,
   "metadata": {},
   "outputs": [
    {
     "name": "stdout",
     "output_type": "stream",
     "text": [
      "Ttest_indResult(statistic=3.6883196002764467, pvalue=0.0005514791146716614)\n"
     ]
    }
   ],
   "source": [
    "print(stats.ttest_ind(Experienced[\"Quest Completed\"], Inexperienced[\"Quest Completed\"], equal_var=False))"
   ]
  },
  {
   "attachments": {},
   "cell_type": "markdown",
   "metadata": {},
   "source": [
    "The most important detail in the output is the p-value. The p-value here refers to the statistic measure in the result. If the p-value is less than .05 then we reject the Null hypothesis that the means of the Quests Completed are NOT significantly different.\n",
    "\n",
    "This p-value implies that they are significantly different.\n",
    "\n",
    "Now, we'll look at Kills."
   ]
  },
  {
   "cell_type": "code",
   "execution_count": 103,
   "metadata": {},
   "outputs": [
    {
     "data": {
      "image/png": "[encoded data removed]",
      "text/plain": [
       "<Figure size 640x480 with 1 Axes>"
      ]
     },
     "metadata": {},
     "output_type": "display_data"
    }
   ],
   "source": [
    "sns.histplot(Inexperienced[\"Kills\"], kde=True, bins=10, color='darkblue');"
   ]
  },
  {
   "cell_type": "code",
   "execution_count": 104,
   "metadata": {},
   "outputs": [
    {
     "data": {
      "image/png": "[encoded data removed]",
      "text/plain": [
       "<Figure size 640x480 with 1 Axes>"
      ]
     },
     "metadata": {},
     "output_type": "display_data"
    }
   ],
   "source": [
    "sns.histplot(Experienced[\"Kills\"], kde=True, bins=10, color='darkblue');"
   ]
  },
  {
   "attachments": {},
   "cell_type": "markdown",
   "metadata": {},
   "source": [
    "It is immediately apparent that these distributions are not normally distributed. Due to it's robustness, we will continue by using Welch's t-test here are as well. \n",
    "\n",
    "Note that you could perform Square Root Transformation as we did in the previous lab for this chapter and then perform the test as well.\n",
    "\n",
    "Let's also check the variances."
   ]
  },
  {
   "cell_type": "code",
   "execution_count": 105,
   "metadata": {},
   "outputs": [
    {
     "name": "stdout",
     "output_type": "stream",
     "text": [
      "56.061224489795926 83.85997732426301\n"
     ]
    }
   ],
   "source": [
    "print(np.var(Experienced[\"Kills\"]), np.var(Inexperienced[\"Kills\"]))"
   ]
  },
  {
   "cell_type": "code",
   "execution_count": 106,
   "metadata": {},
   "outputs": [
    {
     "name": "stdout",
     "output_type": "stream",
     "text": [
      "Ttest_indResult(statistic=1.9819781347454943, pvalue=0.051718669590685135)\n"
     ]
    }
   ],
   "source": [
    "print(stats.ttest_ind(Experienced[\"Kills\"], Inexperienced[\"Kills\"], equal_var = False))"
   ]
  },
  {
   "attachments": {},
   "cell_type": "markdown",
   "metadata": {},
   "source": [
    "In this case, the p-value is slightly greater than .05. However, bear in mind that since the distributions are not normally distributed you can be suspicious of the results."
   ]
  },
  {
   "attachments": {},
   "cell_type": "markdown",
   "metadata": {},
   "source": [
    "## ANOVA - Analysis of Variance"
   ]
  },
  {
   "cell_type": "code",
   "execution_count": 107,
   "metadata": {},
   "outputs": [
    {
     "data": {
      "text/html": [
       "<div>\n",
       "<style scoped>\n",
       "    .dataframe tbody tr th:only-of-type {\n",
       "        vertical-align: middle;\n",
       "    }\n",
       "\n",
       "    .dataframe tbody tr th {\n",
       "        vertical-align: top;\n",
       "    }\n",
       "\n",
       "    .dataframe thead th {\n",
       "        text-align: right;\n",
       "    }\n",
       "</style>\n",
       "<table border=\"1\" class=\"dataframe\">\n",
       "  <thead>\n",
       "    <tr style=\"text-align: right;\">\n",
       "      <th></th>\n",
       "      <th>Expertise</th>\n",
       "      <th>Gender</th>\n",
       "    </tr>\n",
       "  </thead>\n",
       "  <tbody>\n",
       "    <tr>\n",
       "      <th>0</th>\n",
       "      <td>3</td>\n",
       "      <td>2</td>\n",
       "    </tr>\n",
       "    <tr>\n",
       "      <th>1</th>\n",
       "      <td>3</td>\n",
       "      <td>1</td>\n",
       "    </tr>\n",
       "    <tr>\n",
       "      <th>2</th>\n",
       "      <td>2</td>\n",
       "      <td>2</td>\n",
       "    </tr>\n",
       "    <tr>\n",
       "      <th>3</th>\n",
       "      <td>2</td>\n",
       "      <td>1</td>\n",
       "    </tr>\n",
       "    <tr>\n",
       "      <th>4</th>\n",
       "      <td>3</td>\n",
       "      <td>2</td>\n",
       "    </tr>\n",
       "  </tbody>\n",
       "</table>\n",
       "</div>"
      ],
      "text/plain": [
       "   Expertise  Gender\n",
       "0          3       2\n",
       "1          3       1\n",
       "2          2       2\n",
       "3          2       1\n",
       "4          3       2"
      ]
     },
     "execution_count": 107,
     "metadata": {},
     "output_type": "execute_result"
    }
   ],
   "source": [
    "vpal_df2 = pd.read_csv(\"GamingExpertese&Gender.csv\")\n",
    "vpal_df2 = pd.DataFrame(vpal_df2)\n",
    "vpal_df2.head()"
   ]
  },
  {
   "cell_type": "code",
   "execution_count": 108,
   "metadata": {},
   "outputs": [
    {
     "data": {
      "text/html": [
       "<div>\n",
       "<style scoped>\n",
       "    .dataframe tbody tr th:only-of-type {\n",
       "        vertical-align: middle;\n",
       "    }\n",
       "\n",
       "    .dataframe tbody tr th {\n",
       "        vertical-align: top;\n",
       "    }\n",
       "\n",
       "    .dataframe thead th {\n",
       "        text-align: right;\n",
       "    }\n",
       "</style>\n",
       "<table border=\"1\" class=\"dataframe\">\n",
       "  <thead>\n",
       "    <tr style=\"text-align: right;\">\n",
       "      <th></th>\n",
       "      <th>Expertise</th>\n",
       "      <th>Gender</th>\n",
       "    </tr>\n",
       "  </thead>\n",
       "  <tbody>\n",
       "    <tr>\n",
       "      <th>count</th>\n",
       "      <td>64.000000</td>\n",
       "      <td>64.000000</td>\n",
       "    </tr>\n",
       "    <tr>\n",
       "      <th>mean</th>\n",
       "      <td>2.609375</td>\n",
       "      <td>1.515625</td>\n",
       "    </tr>\n",
       "    <tr>\n",
       "      <th>std</th>\n",
       "      <td>0.884024</td>\n",
       "      <td>0.503706</td>\n",
       "    </tr>\n",
       "    <tr>\n",
       "      <th>min</th>\n",
       "      <td>1.000000</td>\n",
       "      <td>1.000000</td>\n",
       "    </tr>\n",
       "    <tr>\n",
       "      <th>25%</th>\n",
       "      <td>2.000000</td>\n",
       "      <td>1.000000</td>\n",
       "    </tr>\n",
       "    <tr>\n",
       "      <th>50%</th>\n",
       "      <td>3.000000</td>\n",
       "      <td>2.000000</td>\n",
       "    </tr>\n",
       "    <tr>\n",
       "      <th>75%</th>\n",
       "      <td>3.000000</td>\n",
       "      <td>2.000000</td>\n",
       "    </tr>\n",
       "    <tr>\n",
       "      <th>max</th>\n",
       "      <td>4.000000</td>\n",
       "      <td>2.000000</td>\n",
       "    </tr>\n",
       "  </tbody>\n",
       "</table>\n",
       "</div>"
      ],
      "text/plain": [
       "       Expertise     Gender\n",
       "count  64.000000  64.000000\n",
       "mean    2.609375   1.515625\n",
       "std     0.884024   0.503706\n",
       "min     1.000000   1.000000\n",
       "25%     2.000000   1.000000\n",
       "50%     3.000000   2.000000\n",
       "75%     3.000000   2.000000\n",
       "max     4.000000   2.000000"
      ]
     },
     "execution_count": 108,
     "metadata": {},
     "output_type": "execute_result"
    }
   ],
   "source": [
    "vpal_df2.describe()"
   ]
  },
  {
   "attachments": {},
   "cell_type": "markdown",
   "metadata": {},
   "source": [
    "From this quick peek at the data, we see that Expertise has four levels and Gender has two. Let's use a test called Levene's test to check for the equality of variances.\n",
    "\n",
    "However, unlike R, the Pythonic path to completing this test for categorical variables is a little bumpier due to the fact that Python implements categories which are not exactly like R factors.\n",
    "\n",
    "Python categories will infer a category for each unique type of value in the column - in this case Gender and in this case a 1 or a 2. Python will convert the values to categories but also keep them as their original data type though they appear as 'object' when you run 'info()'."
   ]
  },
  {
   "cell_type": "code",
   "execution_count": 109,
   "metadata": {},
   "outputs": [
    {
     "name": "stdout",
     "output_type": "stream",
     "text": [
      "<class 'pandas.core.frame.DataFrame'>\n",
      "RangeIndex: 64 entries, 0 to 63\n",
      "Data columns (total 2 columns):\n",
      " #   Column     Non-Null Count  Dtype   \n",
      "---  ------     --------------  -----   \n",
      " 0   Expertise  64 non-null     int64   \n",
      " 1   Gender     64 non-null     category\n",
      "dtypes: category(1), int64(1)\n",
      "memory usage: 828.0 bytes\n"
     ]
    }
   ],
   "source": [
    "vpal_df2[\"Gender\"] = vpal_df2[\"Gender\"].astype(\"category\")\n",
    "vpal_df2.info()"
   ]
  },
  {
   "attachments": {},
   "cell_type": "markdown",
   "metadata": {},
   "source": [
    "When you change a column to categories and there are more than two categories involved, there are a few other considerations. Check the documentation on this to learn more.\n",
    "\n",
    "With the column now categorical, the traditional way is to split the Gender column up by values and compare their variances. Using 'query' on the column, we can do so. We then apply Levene's test using the mean as the center.\n",
    "\n",
    "Since the value will either be a 1 or a 2, we create two groups and then compare them."
   ]
  },
  {
   "cell_type": "code",
   "execution_count": 110,
   "metadata": {},
   "outputs": [
    {
     "name": "stdout",
     "output_type": "stream",
     "text": [
      "10.641485716593131 0.0017999926681844256\n"
     ]
    }
   ],
   "source": [
    "from scipy.stats import levene, bartlett\n",
    "grp1 = vpal_df2.query('Gender == 1')['Expertise']\n",
    "grp2 = vpal_df2.query('Gender == 2')['Expertise']\n",
    "\n",
    "stat, p = levene(grp1, grp2, center='mean')\n",
    "\n",
    "print(stat, p)"
   ]
  },
  {
   "attachments": {},
   "cell_type": "markdown",
   "metadata": {},
   "source": [
    "The second value is the p-value. This clearly shows that we can reject the Null hypothesis and assume the variance are different.\n",
    "\n",
    "Next, we'll see slightly simpler code. This package does a little bit of the work for us and then applies Levene's test. It also outputs it for us is a nicer fashion."
   ]
  },
  {
   "cell_type": "code",
   "execution_count": 111,
   "metadata": {},
   "outputs": [],
   "source": [
    "#!pip install pingouin\n",
    "import pingouin as pg"
   ]
  },
  {
   "attachments": {},
   "cell_type": "markdown",
   "metadata": {},
   "source": [
    "After importing pingouin, we call 'homoscedasticity'. The parameters are, in order: the dataframe name, the dependent variable (dv), the categorical variable to group (group) and the center.\n",
    "\n",
    "If you don't specify 'center=mean' then you will not apply Levene's test. Also, as before, you do not have to specify 'Levene' as opposed to 'Bartlett' for the method.\n",
    "\n",
    "Note: The Bartlett method is used for normal distributions while Levene's does not require normality."
   ]
  },
  {
   "cell_type": "code",
   "execution_count": 112,
   "metadata": {},
   "outputs": [
    {
     "data": {
      "text/html": [
       "<div>\n",
       "<style scoped>\n",
       "    .dataframe tbody tr th:only-of-type {\n",
       "        vertical-align: middle;\n",
       "    }\n",
       "\n",
       "    .dataframe tbody tr th {\n",
       "        vertical-align: top;\n",
       "    }\n",
       "\n",
       "    .dataframe thead th {\n",
       "        text-align: right;\n",
       "    }\n",
       "</style>\n",
       "<table border=\"1\" class=\"dataframe\">\n",
       "  <thead>\n",
       "    <tr style=\"text-align: right;\">\n",
       "      <th></th>\n",
       "      <th>W</th>\n",
       "      <th>pval</th>\n",
       "      <th>equal_var</th>\n",
       "    </tr>\n",
       "  </thead>\n",
       "  <tbody>\n",
       "    <tr>\n",
       "      <th>levene</th>\n",
       "      <td>10.641486</td>\n",
       "      <td>0.0018</td>\n",
       "      <td>False</td>\n",
       "    </tr>\n",
       "  </tbody>\n",
       "</table>\n",
       "</div>"
      ],
      "text/plain": [
       "                W    pval  equal_var\n",
       "levene  10.641486  0.0018      False"
      ]
     },
     "execution_count": 112,
     "metadata": {},
     "output_type": "execute_result"
    }
   ],
   "source": [
    "pg.homoscedasticity(vpal_df2, dv='Expertise', group='Gender', center='mean')"
   ]
  },
  {
   "attachments": {},
   "cell_type": "markdown",
   "metadata": {},
   "source": [
    "Here, we get the same output but more readable and with less work. It also tells us explicitly whether or not the variances are equal!\n",
    "\n",
    "Let's proceed with Welch's F test - which looks similar to the homoscedasticity code above."
   ]
  },
  {
   "cell_type": "code",
   "execution_count": 113,
   "metadata": {},
   "outputs": [
    {
     "data": {
      "text/html": [
       "<div>\n",
       "<style scoped>\n",
       "    .dataframe tbody tr th:only-of-type {\n",
       "        vertical-align: middle;\n",
       "    }\n",
       "\n",
       "    .dataframe tbody tr th {\n",
       "        vertical-align: top;\n",
       "    }\n",
       "\n",
       "    .dataframe thead th {\n",
       "        text-align: right;\n",
       "    }\n",
       "</style>\n",
       "<table border=\"1\" class=\"dataframe\">\n",
       "  <thead>\n",
       "    <tr style=\"text-align: right;\">\n",
       "      <th></th>\n",
       "      <th>Source</th>\n",
       "      <th>ddof1</th>\n",
       "      <th>ddof2</th>\n",
       "      <th>F</th>\n",
       "      <th>p-unc</th>\n",
       "      <th>np2</th>\n",
       "    </tr>\n",
       "  </thead>\n",
       "  <tbody>\n",
       "    <tr>\n",
       "      <th>0</th>\n",
       "      <td>Gender</td>\n",
       "      <td>1</td>\n",
       "      <td>57.278954</td>\n",
       "      <td>19.852405</td>\n",
       "      <td>0.000039</td>\n",
       "      <td>0.245177</td>\n",
       "    </tr>\n",
       "  </tbody>\n",
       "</table>\n",
       "</div>"
      ],
      "text/plain": [
       "   Source  ddof1      ddof2          F     p-unc       np2\n",
       "0  Gender      1  57.278954  19.852405  0.000039  0.245177"
      ]
     },
     "execution_count": 113,
     "metadata": {},
     "output_type": "execute_result"
    }
   ],
   "source": [
    "pg.welch_anova(dv = \"Expertise\", between = \"Gender\", data = vpal_df2)"
   ]
  },
  {
   "attachments": {},
   "cell_type": "markdown",
   "metadata": {},
   "source": [
    "As you can see from the very low p-value - labeled \"p-unc\" - there is a significant effect of gender on expertise.\n",
    "\n",
    "We can also perform robust ANOVA as well."
   ]
  },
  {
   "cell_type": "code",
   "execution_count": 114,
   "metadata": {},
   "outputs": [],
   "source": [
    "import statsmodels.stats as sts\n",
    "from statsmodels.stats.oneway import anova_oneway\n"
   ]
  },
  {
   "cell_type": "code",
   "execution_count": 115,
   "metadata": {},
   "outputs": [
    {
     "data": {
      "text/plain": [
       "(18.874054318286, 0.00012630346550806376)"
      ]
     },
     "execution_count": 115,
     "metadata": {},
     "output_type": "execute_result"
    }
   ],
   "source": [
    "stat1, pval1 = sts.oneway.anova_oneway(vpal_df2[\"Expertise\"], vpal_df2[\"Gender\"], trim_frac=0.1)\n",
    "stat1, pval1   "
   ]
  },
  {
   "attachments": {},
   "cell_type": "markdown",
   "metadata": {},
   "source": [
    "This outcome - with the p-value being the second of the two - supports the conclusion of the prior test."
   ]
  },
  {
   "attachments": {},
   "cell_type": "markdown",
   "metadata": {},
   "source": [
    "## Factorial ANOVA"
   ]
  },
  {
   "attachments": {},
   "cell_type": "markdown",
   "metadata": {},
   "source": [
    "Often, the analysis is slightly more complex. This is where Factorial ANOVA comes in handy. With this method, we can test not only for the effects between single factors, but also between factors themselves to see if a \"combined\" interaction is taking place.\n",
    "\n",
    "For example, we will read in new data and test if there is an effect of Gender on Expertise, Quests Completed on Expertise as well as any effect that Gender and Quests Completed have together on Expertise.\n",
    "\n",
    "There are different ways of doing this test, so please refer to the documentation for more detailed information."
   ]
  },
  {
   "cell_type": "code",
   "execution_count": 116,
   "metadata": {},
   "outputs": [
    {
     "data": {
      "text/html": [
       "<div>\n",
       "<style scoped>\n",
       "    .dataframe tbody tr th:only-of-type {\n",
       "        vertical-align: middle;\n",
       "    }\n",
       "\n",
       "    .dataframe tbody tr th {\n",
       "        vertical-align: top;\n",
       "    }\n",
       "\n",
       "    .dataframe thead th {\n",
       "        text-align: right;\n",
       "    }\n",
       "</style>\n",
       "<table border=\"1\" class=\"dataframe\">\n",
       "  <thead>\n",
       "    <tr style=\"text-align: right;\">\n",
       "      <th></th>\n",
       "      <th>Gender</th>\n",
       "      <th>GameExp</th>\n",
       "      <th>Quest Taken</th>\n",
       "      <th>Quest Completed</th>\n",
       "      <th>Dialogues</th>\n",
       "      <th>Loots</th>\n",
       "      <th>Loots Items</th>\n",
       "      <th>Loots Dead</th>\n",
       "      <th>Shots</th>\n",
       "      <th>Kills</th>\n",
       "      <th>Interaction NPC</th>\n",
       "      <th>Interaction Container</th>\n",
       "      <th>Attacks</th>\n",
       "      <th>Attacks - Quest Related</th>\n",
       "      <th>Attacks - Friendly NPC</th>\n",
       "      <th>Attacks - UnMotivated</th>\n",
       "      <th>Attacks - SelfDefense</th>\n",
       "    </tr>\n",
       "  </thead>\n",
       "  <tbody>\n",
       "    <tr>\n",
       "      <th>0</th>\n",
       "      <td>2</td>\n",
       "      <td>2.126400</td>\n",
       "      <td>7</td>\n",
       "      <td>5</td>\n",
       "      <td>39</td>\n",
       "      <td>48</td>\n",
       "      <td>42</td>\n",
       "      <td>4</td>\n",
       "      <td>115</td>\n",
       "      <td>10</td>\n",
       "      <td>16</td>\n",
       "      <td>32</td>\n",
       "      <td>47</td>\n",
       "      <td>38</td>\n",
       "      <td>0</td>\n",
       "      <td>4</td>\n",
       "      <td>5</td>\n",
       "    </tr>\n",
       "    <tr>\n",
       "      <th>1</th>\n",
       "      <td>1</td>\n",
       "      <td>-0.674583</td>\n",
       "      <td>9</td>\n",
       "      <td>4</td>\n",
       "      <td>47</td>\n",
       "      <td>35</td>\n",
       "      <td>33</td>\n",
       "      <td>2</td>\n",
       "      <td>0</td>\n",
       "      <td>1</td>\n",
       "      <td>23</td>\n",
       "      <td>33</td>\n",
       "      <td>7</td>\n",
       "      <td>7</td>\n",
       "      <td>0</td>\n",
       "      <td>0</td>\n",
       "      <td>0</td>\n",
       "    </tr>\n",
       "    <tr>\n",
       "      <th>2</th>\n",
       "      <td>1</td>\n",
       "      <td>-1.988516</td>\n",
       "      <td>7</td>\n",
       "      <td>5</td>\n",
       "      <td>68</td>\n",
       "      <td>1</td>\n",
       "      <td>0</td>\n",
       "      <td>1</td>\n",
       "      <td>0</td>\n",
       "      <td>1</td>\n",
       "      <td>27</td>\n",
       "      <td>20</td>\n",
       "      <td>3</td>\n",
       "      <td>3</td>\n",
       "      <td>0</td>\n",
       "      <td>0</td>\n",
       "      <td>0</td>\n",
       "    </tr>\n",
       "    <tr>\n",
       "      <th>3</th>\n",
       "      <td>2</td>\n",
       "      <td>-1.988516</td>\n",
       "      <td>8</td>\n",
       "      <td>3</td>\n",
       "      <td>64</td>\n",
       "      <td>59</td>\n",
       "      <td>42</td>\n",
       "      <td>0</td>\n",
       "      <td>302</td>\n",
       "      <td>44</td>\n",
       "      <td>24</td>\n",
       "      <td>33</td>\n",
       "      <td>341</td>\n",
       "      <td>115</td>\n",
       "      <td>212</td>\n",
       "      <td>8</td>\n",
       "      <td>6</td>\n",
       "    </tr>\n",
       "    <tr>\n",
       "      <th>4</th>\n",
       "      <td>2</td>\n",
       "      <td>-0.588025</td>\n",
       "      <td>6</td>\n",
       "      <td>3</td>\n",
       "      <td>27</td>\n",
       "      <td>2</td>\n",
       "      <td>2</td>\n",
       "      <td>0</td>\n",
       "      <td>15</td>\n",
       "      <td>0</td>\n",
       "      <td>12</td>\n",
       "      <td>2</td>\n",
       "      <td>14</td>\n",
       "      <td>13</td>\n",
       "      <td>1</td>\n",
       "      <td>0</td>\n",
       "      <td>0</td>\n",
       "    </tr>\n",
       "  </tbody>\n",
       "</table>\n",
       "</div>"
      ],
      "text/plain": [
       "   Gender   GameExp  Quest Taken  Quest Completed  Dialogues  Loots  \\\n",
       "0       2  2.126400            7                5         39     48   \n",
       "1       1 -0.674583            9                4         47     35   \n",
       "2       1 -1.988516            7                5         68      1   \n",
       "3       2 -1.988516            8                3         64     59   \n",
       "4       2 -0.588025            6                3         27      2   \n",
       "\n",
       "   Loots Items  Loots Dead  Shots  Kills  Interaction NPC  \\\n",
       "0           42           4    115     10               16   \n",
       "1           33           2      0      1               23   \n",
       "2            0           1      0      1               27   \n",
       "3           42           0    302     44               24   \n",
       "4            2           0     15      0               12   \n",
       "\n",
       "   Interaction Container  Attacks  Attacks - Quest Related  \\\n",
       "0                     32       47                       38   \n",
       "1                     33        7                        7   \n",
       "2                     20        3                        3   \n",
       "3                     33      341                      115   \n",
       "4                      2       14                       13   \n",
       "\n",
       "   Attacks - Friendly NPC  Attacks - UnMotivated  Attacks - SelfDefense  \n",
       "0                       0                      4                      5  \n",
       "1                       0                      0                      0  \n",
       "2                       0                      0                      0  \n",
       "3                     212                      8                      6  \n",
       "4                       1                      0                      0  "
      ]
     },
     "execution_count": 116,
     "metadata": {},
     "output_type": "execute_result"
    }
   ],
   "source": [
    "vpal_df3 = pd.read_csv(\"VPALCovariats.csv\")\n",
    "vpal_df3 = pd.DataFrame(vpal_df3)\n",
    "vpal_df3.head()"
   ]
  },
  {
   "attachments": {},
   "cell_type": "markdown",
   "metadata": {},
   "source": [
    "For convenience, I am renaming the Quest Completed column. This has no bearing on the outcome of the test."
   ]
  },
  {
   "cell_type": "code",
   "execution_count": 117,
   "metadata": {},
   "outputs": [
    {
     "data": {
      "text/html": [
       "<div>\n",
       "<style scoped>\n",
       "    .dataframe tbody tr th:only-of-type {\n",
       "        vertical-align: middle;\n",
       "    }\n",
       "\n",
       "    .dataframe tbody tr th {\n",
       "        vertical-align: top;\n",
       "    }\n",
       "\n",
       "    .dataframe thead th {\n",
       "        text-align: right;\n",
       "    }\n",
       "</style>\n",
       "<table border=\"1\" class=\"dataframe\">\n",
       "  <thead>\n",
       "    <tr style=\"text-align: right;\">\n",
       "      <th></th>\n",
       "      <th>Gender</th>\n",
       "      <th>GameExp</th>\n",
       "      <th>Quest Taken</th>\n",
       "      <th>Completed</th>\n",
       "      <th>Dialogues</th>\n",
       "      <th>Loots</th>\n",
       "      <th>Loots Items</th>\n",
       "      <th>Loots Dead</th>\n",
       "      <th>Shots</th>\n",
       "      <th>Kills</th>\n",
       "      <th>Interaction NPC</th>\n",
       "      <th>Interaction Container</th>\n",
       "      <th>Attacks</th>\n",
       "      <th>Attacks - Quest Related</th>\n",
       "      <th>Attacks - Friendly NPC</th>\n",
       "      <th>Attacks - UnMotivated</th>\n",
       "      <th>Attacks - SelfDefense</th>\n",
       "    </tr>\n",
       "  </thead>\n",
       "  <tbody>\n",
       "    <tr>\n",
       "      <th>0</th>\n",
       "      <td>2</td>\n",
       "      <td>2.126400</td>\n",
       "      <td>7</td>\n",
       "      <td>5</td>\n",
       "      <td>39</td>\n",
       "      <td>48</td>\n",
       "      <td>42</td>\n",
       "      <td>4</td>\n",
       "      <td>115</td>\n",
       "      <td>10</td>\n",
       "      <td>16</td>\n",
       "      <td>32</td>\n",
       "      <td>47</td>\n",
       "      <td>38</td>\n",
       "      <td>0</td>\n",
       "      <td>4</td>\n",
       "      <td>5</td>\n",
       "    </tr>\n",
       "    <tr>\n",
       "      <th>1</th>\n",
       "      <td>1</td>\n",
       "      <td>-0.674583</td>\n",
       "      <td>9</td>\n",
       "      <td>4</td>\n",
       "      <td>47</td>\n",
       "      <td>35</td>\n",
       "      <td>33</td>\n",
       "      <td>2</td>\n",
       "      <td>0</td>\n",
       "      <td>1</td>\n",
       "      <td>23</td>\n",
       "      <td>33</td>\n",
       "      <td>7</td>\n",
       "      <td>7</td>\n",
       "      <td>0</td>\n",
       "      <td>0</td>\n",
       "      <td>0</td>\n",
       "    </tr>\n",
       "    <tr>\n",
       "      <th>2</th>\n",
       "      <td>1</td>\n",
       "      <td>-1.988516</td>\n",
       "      <td>7</td>\n",
       "      <td>5</td>\n",
       "      <td>68</td>\n",
       "      <td>1</td>\n",
       "      <td>0</td>\n",
       "      <td>1</td>\n",
       "      <td>0</td>\n",
       "      <td>1</td>\n",
       "      <td>27</td>\n",
       "      <td>20</td>\n",
       "      <td>3</td>\n",
       "      <td>3</td>\n",
       "      <td>0</td>\n",
       "      <td>0</td>\n",
       "      <td>0</td>\n",
       "    </tr>\n",
       "    <tr>\n",
       "      <th>3</th>\n",
       "      <td>2</td>\n",
       "      <td>-1.988516</td>\n",
       "      <td>8</td>\n",
       "      <td>3</td>\n",
       "      <td>64</td>\n",
       "      <td>59</td>\n",
       "      <td>42</td>\n",
       "      <td>0</td>\n",
       "      <td>302</td>\n",
       "      <td>44</td>\n",
       "      <td>24</td>\n",
       "      <td>33</td>\n",
       "      <td>341</td>\n",
       "      <td>115</td>\n",
       "      <td>212</td>\n",
       "      <td>8</td>\n",
       "      <td>6</td>\n",
       "    </tr>\n",
       "    <tr>\n",
       "      <th>4</th>\n",
       "      <td>2</td>\n",
       "      <td>-0.588025</td>\n",
       "      <td>6</td>\n",
       "      <td>3</td>\n",
       "      <td>27</td>\n",
       "      <td>2</td>\n",
       "      <td>2</td>\n",
       "      <td>0</td>\n",
       "      <td>15</td>\n",
       "      <td>0</td>\n",
       "      <td>12</td>\n",
       "      <td>2</td>\n",
       "      <td>14</td>\n",
       "      <td>13</td>\n",
       "      <td>1</td>\n",
       "      <td>0</td>\n",
       "      <td>0</td>\n",
       "    </tr>\n",
       "  </tbody>\n",
       "</table>\n",
       "</div>"
      ],
      "text/plain": [
       "   Gender   GameExp  Quest Taken  Completed  Dialogues  Loots  Loots Items  \\\n",
       "0       2  2.126400            7          5         39     48           42   \n",
       "1       1 -0.674583            9          4         47     35           33   \n",
       "2       1 -1.988516            7          5         68      1            0   \n",
       "3       2 -1.988516            8          3         64     59           42   \n",
       "4       2 -0.588025            6          3         27      2            2   \n",
       "\n",
       "   Loots Dead  Shots  Kills  Interaction NPC  Interaction Container  Attacks  \\\n",
       "0           4    115     10               16                     32       47   \n",
       "1           2      0      1               23                     33        7   \n",
       "2           1      0      1               27                     20        3   \n",
       "3           0    302     44               24                     33      341   \n",
       "4           0     15      0               12                      2       14   \n",
       "\n",
       "   Attacks - Quest Related  Attacks - Friendly NPC  Attacks - UnMotivated  \\\n",
       "0                       38                       0                      4   \n",
       "1                        7                       0                      0   \n",
       "2                        3                       0                      0   \n",
       "3                      115                     212                      8   \n",
       "4                       13                       1                      0   \n",
       "\n",
       "   Attacks - SelfDefense  \n",
       "0                      5  \n",
       "1                      0  \n",
       "2                      0  \n",
       "3                      6  \n",
       "4                      0  "
      ]
     },
     "execution_count": 117,
     "metadata": {},
     "output_type": "execute_result"
    }
   ],
   "source": [
    "vpal_df3 = vpal_df3.rename({ \"Quest Completed\" :\"Completed\"}, axis=1)\n",
    "vpal_df3.head()"
   ]
  },
  {
   "attachments": {},
   "cell_type": "markdown",
   "metadata": {},
   "source": [
    "We will need some additional help from statsmodel."
   ]
  },
  {
   "cell_type": "code",
   "execution_count": 118,
   "metadata": {},
   "outputs": [],
   "source": [
    "import statsmodels.api as sm\n",
    "from statsmodels.formula.api import ols"
   ]
  },
  {
   "attachments": {},
   "cell_type": "markdown",
   "metadata": {},
   "source": [
    "Lastly, we create the model. This should look familiar to R users."
   ]
  },
  {
   "cell_type": "code",
   "execution_count": 132,
   "metadata": {},
   "outputs": [
    {
     "data": {
      "text/html": [
       "<div>\n",
       "<style scoped>\n",
       "    .dataframe tbody tr th:only-of-type {\n",
       "        vertical-align: middle;\n",
       "    }\n",
       "\n",
       "    .dataframe tbody tr th {\n",
       "        vertical-align: top;\n",
       "    }\n",
       "\n",
       "    .dataframe thead th {\n",
       "        text-align: right;\n",
       "    }\n",
       "</style>\n",
       "<table border=\"1\" class=\"dataframe\">\n",
       "  <thead>\n",
       "    <tr style=\"text-align: right;\">\n",
       "      <th></th>\n",
       "      <th>df</th>\n",
       "      <th>sum_sq</th>\n",
       "      <th>mean_sq</th>\n",
       "      <th>F</th>\n",
       "      <th>PR(&gt;F)</th>\n",
       "    </tr>\n",
       "  </thead>\n",
       "  <tbody>\n",
       "    <tr>\n",
       "      <th>Gender</th>\n",
       "      <td>1.0</td>\n",
       "      <td>60.429030</td>\n",
       "      <td>60.429030</td>\n",
       "      <td>27.544251</td>\n",
       "      <td>0.000002</td>\n",
       "    </tr>\n",
       "    <tr>\n",
       "      <th>Completed</th>\n",
       "      <td>1.0</td>\n",
       "      <td>56.579948</td>\n",
       "      <td>56.579948</td>\n",
       "      <td>25.789795</td>\n",
       "      <td>0.000003</td>\n",
       "    </tr>\n",
       "    <tr>\n",
       "      <th>Gender:Completed</th>\n",
       "      <td>1.0</td>\n",
       "      <td>3.358671</td>\n",
       "      <td>3.358671</td>\n",
       "      <td>1.530921</td>\n",
       "      <td>0.220358</td>\n",
       "    </tr>\n",
       "    <tr>\n",
       "      <th>Residual</th>\n",
       "      <td>66.0</td>\n",
       "      <td>144.796676</td>\n",
       "      <td>2.193889</td>\n",
       "      <td>NaN</td>\n",
       "      <td>NaN</td>\n",
       "    </tr>\n",
       "  </tbody>\n",
       "</table>\n",
       "</div>"
      ],
      "text/plain": [
       "                    df      sum_sq    mean_sq          F    PR(>F)\n",
       "Gender             1.0   60.429030  60.429030  27.544251  0.000002\n",
       "Completed          1.0   56.579948  56.579948  25.789795  0.000003\n",
       "Gender:Completed   1.0    3.358671   3.358671   1.530921  0.220358\n",
       "Residual          66.0  144.796676   2.193889        NaN       NaN"
      ]
     },
     "execution_count": 132,
     "metadata": {},
     "output_type": "execute_result"
    }
   ],
   "source": [
    "model = ols(\"\"\"GameExp ~ Gender + Completed + Gender:Completed\"\"\", data=vpal_df3).fit()\n",
    "sm.stats.anova_lm(model, typ=1)"
   ]
  },
  {
   "cell_type": "code",
   "execution_count": 140,
   "metadata": {},
   "outputs": [
    {
     "data": {
      "text/html": [
       "<table class=\"simpletable\">\n",
       "<caption>OLS Regression Results</caption>\n",
       "<tr>\n",
       "  <th>Dep. Variable:</th>        <td>R-squared</td>    <th>  R-squared:         </th> <td>   0.454</td>\n",
       "</tr>\n",
       "<tr>\n",
       "  <th>Model:</th>                   <td>OLS</td>       <th>  Adj. R-squared:    </th> <td>   0.429</td>\n",
       "</tr>\n",
       "<tr>\n",
       "  <th>Method:</th>             <td>Least Squares</td>  <th>  F-statistic:       </th> <td>   18.29</td>\n",
       "</tr>\n",
       "<tr>\n",
       "  <th>Date:</th>             <td>Tue, 14 Feb 2023</td> <th>  Prob (F-statistic):</th> <td>9.59e-09</td>\n",
       "</tr>\n",
       "<tr>\n",
       "  <th>Time:</th>                 <td>11:15:03</td>     <th>  Log-Likelihood:    </th> <td> -124.76</td>\n",
       "</tr>\n",
       "<tr>\n",
       "  <th>No. Observations:</th>      <td>    70</td>      <th>  AIC:               </th> <td>   257.5</td>\n",
       "</tr>\n",
       "<tr>\n",
       "  <th>Df Residuals:</th>          <td>    66</td>      <th>  BIC:               </th> <td>   266.5</td>\n",
       "</tr>\n",
       "<tr>\n",
       "  <th>Df Model:</th>              <td>     3</td>      <th>                     </th>     <td> </td>   \n",
       "</tr>\n",
       "<tr>\n",
       "  <th>Covariance Type:</th>      <td>nonrobust</td>    <th>                     </th>     <td> </td>   \n",
       "</tr>\n",
       "</table>\n",
       "<table class=\"simpletable\">\n",
       "<tr>\n",
       "          <td></td>            <th>coef</th>     <th>std err</th>      <th>t</th>      <th>P>|t|</th>  <th>[0.025</th>    <th>0.975]</th>  \n",
       "</tr>\n",
       "<tr>\n",
       "  <th>Intercept</th>        <td>   -2.8478</td> <td>    1.865</td> <td>   -1.527</td> <td> 0.131</td> <td>   -6.571</td> <td>    0.875</td>\n",
       "</tr>\n",
       "<tr>\n",
       "  <th>Gender</th>           <td>    0.5279</td> <td>    1.066</td> <td>    0.495</td> <td> 0.622</td> <td>   -1.600</td> <td>    2.656</td>\n",
       "</tr>\n",
       "<tr>\n",
       "  <th>Completed</th>        <td>    0.0255</td> <td>    0.396</td> <td>    0.065</td> <td> 0.949</td> <td>   -0.764</td> <td>    0.816</td>\n",
       "</tr>\n",
       "<tr>\n",
       "  <th>Gender:Completed</th> <td>    0.2741</td> <td>    0.222</td> <td>    1.237</td> <td> 0.220</td> <td>   -0.168</td> <td>    0.717</td>\n",
       "</tr>\n",
       "</table>\n",
       "<table class=\"simpletable\">\n",
       "<tr>\n",
       "  <th>Omnibus:</th>       <td> 0.630</td> <th>  Durbin-Watson:     </th> <td>   1.663</td>\n",
       "</tr>\n",
       "<tr>\n",
       "  <th>Prob(Omnibus):</th> <td> 0.730</td> <th>  Jarque-Bera (JB):  </th> <td>   0.763</td>\n",
       "</tr>\n",
       "<tr>\n",
       "  <th>Skew:</th>          <td> 0.178</td> <th>  Prob(JB):          </th> <td>   0.683</td>\n",
       "</tr>\n",
       "<tr>\n",
       "  <th>Kurtosis:</th>      <td> 2.633</td> <th>  Cond. No.          </th> <td>    115.</td>\n",
       "</tr>\n",
       "</table><br/><br/>Notes:<br/>[1] Standard Errors assume that the covariance matrix of the errors is correctly specified."
      ],
      "text/plain": [
       "<class 'statsmodels.iolib.summary.Summary'>\n",
       "\"\"\"\n",
       "                            OLS Regression Results                            \n",
       "==============================================================================\n",
       "Dep. Variable:              R-squared   R-squared:                       0.454\n",
       "Model:                            OLS   Adj. R-squared:                  0.429\n",
       "Method:                 Least Squares   F-statistic:                     18.29\n",
       "Date:                Tue, 14 Feb 2023   Prob (F-statistic):           9.59e-09\n",
       "Time:                        11:15:03   Log-Likelihood:                -124.76\n",
       "No. Observations:                  70   AIC:                             257.5\n",
       "Df Residuals:                      66   BIC:                             266.5\n",
       "Df Model:                           3                                         \n",
       "Covariance Type:            nonrobust                                         \n",
       "====================================================================================\n",
       "                       coef    std err          t      P>|t|      [0.025      0.975]\n",
       "------------------------------------------------------------------------------------\n",
       "Intercept           -2.8478      1.865     -1.527      0.131      -6.571       0.875\n",
       "Gender               0.5279      1.066      0.495      0.622      -1.600       2.656\n",
       "Completed            0.0255      0.396      0.065      0.949      -0.764       0.816\n",
       "Gender:Completed     0.2741      0.222      1.237      0.220      -0.168       0.717\n",
       "==============================================================================\n",
       "Omnibus:                        0.630   Durbin-Watson:                   1.663\n",
       "Prob(Omnibus):                  0.730   Jarque-Bera (JB):                0.763\n",
       "Skew:                           0.178   Prob(JB):                        0.683\n",
       "Kurtosis:                       2.633   Cond. No.                         115.\n",
       "==============================================================================\n",
       "\n",
       "Notes:\n",
       "[1] Standard Errors assume that the covariance matrix of the errors is correctly specified.\n",
       "\"\"\""
      ]
     },
     "execution_count": 140,
     "metadata": {},
     "output_type": "execute_result"
    }
   ],
   "source": [
    "model.summary()"
   ]
  },
  {
   "attachments": {},
   "cell_type": "markdown",
   "metadata": {},
   "source": [
    "This summary table above is important. For example, by looking at the \"R-squared\" measure - 0.454 - we can see that our model explains approximatelt 45% of the variance!"
   ]
  }
 ],
 "metadata": {
  "kernelspec": {
   "display_name": "base",
   "language": "python",
   "name": "python3"
  },
  "language_info": {
   "codemirror_mode": {
    "name": "ipython",
    "version": 3
   },
   "file_extension": ".py",
   "mimetype": "text/x-python",
   "name": "python",
   "nbconvert_exporter": "python",
   "pygments_lexer": "ipython3",
   "version": "3.9.13"
  },
  "orig_nbformat": 4,
  "vscode": {
   "interpreter": {
    "hash": "60790f95b3b586c184cfaca05abf0ee5339eeeac63d325e1c1f0322a7f8da95d"
   }
  }
 },
 "nbformat": 4,
 "nbformat_minor": 2
}
