{
 "cells": [
  {
   "attachments": {},
   "cell_type": "markdown",
   "metadata": {},
   "source": [
    "# Chapter 7 Lab 7\n",
    "\n",
    "## Goal\n",
    "In this lab, we will continue to use the DoTalicious data set from previous labs. Using a Support Vector Machine (Linear) for classification, we will attempt to predict a player's SkillLevel. If you remember, the raw data represents skill level with numbers between 0 and 3 with 0 being Novice and 3 being Expert. We would expect a player's SkillLevel to be a reflection of their other stats such as Kills and Deaths.\n",
    "\n",
    "Scikit-learn has a SVC package that we will use. We will use RepeatKFold and GridSearchCV again for this exersice to tune the cost and gamma parameters.\n",
    "\n",
    "## Preparation\n",
    "\n",
    "Load the required packages below."
   ]
  },
  {
   "cell_type": "code",
   "execution_count": 22,
   "metadata": {},
   "outputs": [],
   "source": [
    "from sklearn.model_selection import train_test_split, RepeatedStratifiedKFold, GridSearchCV\n",
    "from sklearn.metrics import ConfusionMatrixDisplay, cohen_kappa_score, classification_report, precision_recall_fscore_support\n",
    "from sklearn.dummy import DummyClassifier\n",
    "from sklearn.svm import SVC\n",
    "from sklearn.preprocessing import StandardScaler\n",
    "import pandas as pd\n",
    "import numpy as np\n",
    "import matplotlib as mpl\n",
    "import matplotlib.pyplot as plt\n",
    "%matplotlib inline\n",
    "import seaborn as sns\n",
    "import sys\n",
    "from io import StringIO\n",
    "\n",
    "import warnings\n",
    "warnings.filterwarnings('ignore')\n"
   ]
  },
  {
   "attachments": {},
   "cell_type": "markdown",
   "metadata": {},
   "source": [
    "## Step 1: Data Pre-processing\n",
    "\n",
    "Let's read in the data and take a quick look at it."
   ]
  },
  {
   "cell_type": "code",
   "execution_count": 3,
   "metadata": {},
   "outputs": [
    {
     "data": {
      "text/html": [
       "<div>\n",
       "<style scoped>\n",
       "    .dataframe tbody tr th:only-of-type {\n",
       "        vertical-align: middle;\n",
       "    }\n",
       "\n",
       "    .dataframe tbody tr th {\n",
       "        vertical-align: top;\n",
       "    }\n",
       "\n",
       "    .dataframe thead th {\n",
       "        text-align: right;\n",
       "    }\n",
       "</style>\n",
       "<table border=\"1\" class=\"dataframe\">\n",
       "  <thead>\n",
       "    <tr style=\"text-align: right;\">\n",
       "      <th></th>\n",
       "      <th>GamesPlayed</th>\n",
       "      <th>GamesWon</th>\n",
       "      <th>GamesLeft</th>\n",
       "      <th>Ditches</th>\n",
       "      <th>Points</th>\n",
       "      <th>SkillLevel</th>\n",
       "      <th>Kills</th>\n",
       "      <th>KillsPerMin</th>\n",
       "      <th>Deaths</th>\n",
       "      <th>Assists</th>\n",
       "      <th>CreepsKilled</th>\n",
       "      <th>CreepsDenied</th>\n",
       "      <th>NeutralsKilled</th>\n",
       "      <th>TowersDestroyed</th>\n",
       "      <th>RaxsDestroyed</th>\n",
       "      <th>TotalTime</th>\n",
       "    </tr>\n",
       "  </thead>\n",
       "  <tbody>\n",
       "    <tr>\n",
       "      <th>0</th>\n",
       "      <td>447</td>\n",
       "      <td>248</td>\n",
       "      <td>6</td>\n",
       "      <td>6</td>\n",
       "      <td>1111.360</td>\n",
       "      <td>1</td>\n",
       "      <td>2271</td>\n",
       "      <td>0.12</td>\n",
       "      <td>1889</td>\n",
       "      <td>4201</td>\n",
       "      <td>38736</td>\n",
       "      <td>3058</td>\n",
       "      <td>3456</td>\n",
       "      <td>355</td>\n",
       "      <td>151</td>\n",
       "      <td>1116780</td>\n",
       "    </tr>\n",
       "    <tr>\n",
       "      <th>1</th>\n",
       "      <td>66</td>\n",
       "      <td>39</td>\n",
       "      <td>0</td>\n",
       "      <td>0</td>\n",
       "      <td>989.882</td>\n",
       "      <td>1</td>\n",
       "      <td>373</td>\n",
       "      <td>0.13</td>\n",
       "      <td>450</td>\n",
       "      <td>745</td>\n",
       "      <td>4484</td>\n",
       "      <td>518</td>\n",
       "      <td>455</td>\n",
       "      <td>49</td>\n",
       "      <td>23</td>\n",
       "      <td>169800</td>\n",
       "    </tr>\n",
       "    <tr>\n",
       "      <th>2</th>\n",
       "      <td>3</td>\n",
       "      <td>0</td>\n",
       "      <td>0</td>\n",
       "      <td>0</td>\n",
       "      <td>1000.000</td>\n",
       "      <td>0</td>\n",
       "      <td>11</td>\n",
       "      <td>0.11</td>\n",
       "      <td>28</td>\n",
       "      <td>18</td>\n",
       "      <td>186</td>\n",
       "      <td>10</td>\n",
       "      <td>7</td>\n",
       "      <td>0</td>\n",
       "      <td>0</td>\n",
       "      <td>6180</td>\n",
       "    </tr>\n",
       "    <tr>\n",
       "      <th>3</th>\n",
       "      <td>100</td>\n",
       "      <td>59</td>\n",
       "      <td>5</td>\n",
       "      <td>1</td>\n",
       "      <td>1228.460</td>\n",
       "      <td>1</td>\n",
       "      <td>1079</td>\n",
       "      <td>0.26</td>\n",
       "      <td>448</td>\n",
       "      <td>934</td>\n",
       "      <td>13943</td>\n",
       "      <td>1885</td>\n",
       "      <td>1417</td>\n",
       "      <td>132</td>\n",
       "      <td>36</td>\n",
       "      <td>250200</td>\n",
       "    </tr>\n",
       "    <tr>\n",
       "      <th>4</th>\n",
       "      <td>1</td>\n",
       "      <td>1</td>\n",
       "      <td>0</td>\n",
       "      <td>0</td>\n",
       "      <td>1020.000</td>\n",
       "      <td>0</td>\n",
       "      <td>9</td>\n",
       "      <td>0.28</td>\n",
       "      <td>2</td>\n",
       "      <td>10</td>\n",
       "      <td>38</td>\n",
       "      <td>8</td>\n",
       "      <td>3</td>\n",
       "      <td>0</td>\n",
       "      <td>0</td>\n",
       "      <td>1944</td>\n",
       "    </tr>\n",
       "  </tbody>\n",
       "</table>\n",
       "</div>"
      ],
      "text/plain": [
       "   GamesPlayed  GamesWon  GamesLeft  Ditches    Points SkillLevel  Kills  \\\n",
       "0          447       248          6        6  1111.360          1   2271   \n",
       "1           66        39          0        0   989.882          1    373   \n",
       "2            3         0          0        0  1000.000          0     11   \n",
       "3          100        59          5        1  1228.460          1   1079   \n",
       "4            1         1          0        0  1020.000          0      9   \n",
       "\n",
       "   KillsPerMin   Deaths  Assists  CreepsKilled  CreepsDenied   NeutralsKilled  \\\n",
       "0         0.12     1889     4201         38736          3058             3456   \n",
       "1         0.13      450      745          4484           518              455   \n",
       "2         0.11       28       18           186            10                7   \n",
       "3         0.26      448      934         13943          1885             1417   \n",
       "4         0.28        2       10            38             8                3   \n",
       "\n",
       "    TowersDestroyed   RaxsDestroyed  TotalTime  \n",
       "0               355             151    1116780  \n",
       "1                49              23     169800  \n",
       "2                 0               0       6180  \n",
       "3               132              36     250200  \n",
       "4                 0               0       1944  "
      ]
     },
     "execution_count": 3,
     "metadata": {},
     "output_type": "execute_result"
    }
   ],
   "source": [
    "dota_df1 = pd.read_csv('DoTalicious_cleaned1000players.csv')\n",
    "dota_df1.drop(['PlayerID'], axis=1, inplace=True)\n",
    "dota_df1.head()"
   ]
  },
  {
   "cell_type": "code",
   "execution_count": 4,
   "metadata": {},
   "outputs": [
    {
     "name": "stdout",
     "output_type": "stream",
     "text": [
      "<class 'pandas.core.frame.DataFrame'>\n",
      "RangeIndex: 868 entries, 0 to 867\n",
      "Data columns (total 16 columns):\n",
      " #   Column            Non-Null Count  Dtype  \n",
      "---  ------            --------------  -----  \n",
      " 0   GamesPlayed       868 non-null    int64  \n",
      " 1   GamesWon          868 non-null    int64  \n",
      " 2   GamesLeft         868 non-null    int64  \n",
      " 3   Ditches           868 non-null    int64  \n",
      " 4   Points            868 non-null    float64\n",
      " 5   SkillLevel        868 non-null    object \n",
      " 6   Kills             868 non-null    int64  \n",
      " 7   KillsPerMin       868 non-null    float64\n",
      " 8    Deaths           868 non-null    int64  \n",
      " 9   Assists           868 non-null    int64  \n",
      " 10  CreepsKilled      868 non-null    int64  \n",
      " 11  CreepsDenied      868 non-null    int64  \n",
      " 12   NeutralsKilled   868 non-null    int64  \n",
      " 13   TowersDestroyed  868 non-null    int64  \n",
      " 14   RaxsDestroyed    868 non-null    int64  \n",
      " 15   TotalTime        868 non-null    object \n",
      "dtypes: float64(2), int64(12), object(2)\n",
      "memory usage: 108.6+ KB\n"
     ]
    }
   ],
   "source": [
    "dota_df1.info()"
   ]
  },
  {
   "cell_type": "code",
   "execution_count": 5,
   "metadata": {},
   "outputs": [
    {
     "name": "stdout",
     "output_type": "stream",
     "text": [
      "<class 'pandas.core.frame.DataFrame'>\n",
      "RangeIndex: 868 entries, 0 to 867\n",
      "Data columns (total 16 columns):\n",
      " #   Column           Non-Null Count  Dtype  \n",
      "---  ------           --------------  -----  \n",
      " 0   GamesPlayed      868 non-null    int64  \n",
      " 1   GamesWon         868 non-null    int64  \n",
      " 2   GamesLeft        868 non-null    int64  \n",
      " 3   Ditches          868 non-null    int64  \n",
      " 4   Points           868 non-null    float64\n",
      " 5   SkillLevel       868 non-null    object \n",
      " 6   Kills            868 non-null    int64  \n",
      " 7   KillsPerMin      868 non-null    float64\n",
      " 8   Deaths           868 non-null    int64  \n",
      " 9   Assists          868 non-null    int64  \n",
      " 10  CreepsKilled     868 non-null    int64  \n",
      " 11  CreepsDenied     868 non-null    int64  \n",
      " 12  NeutralsKilled   868 non-null    int64  \n",
      " 13  TowersDestroyed  868 non-null    int64  \n",
      " 14  RaxsDestroyed    868 non-null    int64  \n",
      " 15  TotalTime        868 non-null    object \n",
      "dtypes: float64(2), int64(12), object(2)\n",
      "memory usage: 108.6+ KB\n"
     ]
    }
   ],
   "source": [
    "dota_df1 = dota_df1.rename(columns=lambda x: x.strip())\n",
    "dota_df1.info()"
   ]
  },
  {
   "attachments": {},
   "cell_type": "markdown",
   "metadata": {},
   "source": [
    "Notice that we will need to change some data types."
   ]
  },
  {
   "cell_type": "code",
   "execution_count": 6,
   "metadata": {},
   "outputs": [],
   "source": [
    "dota_df1['TotalTime'] = pd.to_numeric(dota_df1['TotalTime'], errors='coerce')"
   ]
  },
  {
   "attachments": {},
   "cell_type": "markdown",
   "metadata": {},
   "source": [
    "We'll make a quick fix to an odd value in SkillLevel too. Here, we'll remove the row."
   ]
  },
  {
   "cell_type": "code",
   "execution_count": 7,
   "metadata": {},
   "outputs": [],
   "source": [
    "dota_df1.loc[dota_df1['SkillLevel'] ==' SkillLevelNull', 'SkillLevel'] = '1'"
   ]
  },
  {
   "attachments": {},
   "cell_type": "markdown",
   "metadata": {},
   "source": [
    "Lastly, let's work on the SkillLevel column! We need to change it to categorical."
   ]
  },
  {
   "cell_type": "code",
   "execution_count": 8,
   "metadata": {},
   "outputs": [
    {
     "name": "stdout",
     "output_type": "stream",
     "text": [
      "<class 'pandas.core.frame.DataFrame'>\n",
      "RangeIndex: 868 entries, 0 to 867\n",
      "Data columns (total 16 columns):\n",
      " #   Column           Non-Null Count  Dtype   \n",
      "---  ------           --------------  -----   \n",
      " 0   GamesPlayed      868 non-null    int64   \n",
      " 1   GamesWon         868 non-null    int64   \n",
      " 2   GamesLeft        868 non-null    int64   \n",
      " 3   Ditches          868 non-null    int64   \n",
      " 4   Points           868 non-null    float64 \n",
      " 5   SkillLevel       868 non-null    category\n",
      " 6   Kills            868 non-null    int64   \n",
      " 7   KillsPerMin      868 non-null    float64 \n",
      " 8   Deaths           868 non-null    int64   \n",
      " 9   Assists          868 non-null    int64   \n",
      " 10  CreepsKilled     868 non-null    int64   \n",
      " 11  CreepsDenied     868 non-null    int64   \n",
      " 12  NeutralsKilled   868 non-null    int64   \n",
      " 13  TowersDestroyed  868 non-null    int64   \n",
      " 14  RaxsDestroyed    868 non-null    int64   \n",
      " 15  TotalTime        867 non-null    float64 \n",
      "dtypes: category(1), float64(3), int64(12)\n",
      "memory usage: 102.9 KB\n"
     ]
    }
   ],
   "source": [
    "dota_df1['SkillLevel'] = pd.Series(dota_df1['SkillLevel'].astype('category'))\n",
    "dota_df1.info()"
   ]
  },
  {
   "attachments": {},
   "cell_type": "markdown",
   "metadata": {},
   "source": [
    "Next, let's check for null values and remove those."
   ]
  },
  {
   "cell_type": "code",
   "execution_count": 9,
   "metadata": {},
   "outputs": [
    {
     "data": {
      "text/plain": [
       "1"
      ]
     },
     "execution_count": 9,
     "metadata": {},
     "output_type": "execute_result"
    }
   ],
   "source": [
    "dota_df1.isna().sum().sum()"
   ]
  },
  {
   "cell_type": "code",
   "execution_count": 10,
   "metadata": {},
   "outputs": [
    {
     "data": {
      "text/html": [
       "<div>\n",
       "<style scoped>\n",
       "    .dataframe tbody tr th:only-of-type {\n",
       "        vertical-align: middle;\n",
       "    }\n",
       "\n",
       "    .dataframe tbody tr th {\n",
       "        vertical-align: top;\n",
       "    }\n",
       "\n",
       "    .dataframe thead th {\n",
       "        text-align: right;\n",
       "    }\n",
       "</style>\n",
       "<table border=\"1\" class=\"dataframe\">\n",
       "  <thead>\n",
       "    <tr style=\"text-align: right;\">\n",
       "      <th></th>\n",
       "      <th>GamesPlayed</th>\n",
       "      <th>GamesWon</th>\n",
       "      <th>GamesLeft</th>\n",
       "      <th>Ditches</th>\n",
       "      <th>Points</th>\n",
       "      <th>SkillLevel</th>\n",
       "      <th>Kills</th>\n",
       "      <th>KillsPerMin</th>\n",
       "      <th>Deaths</th>\n",
       "      <th>Assists</th>\n",
       "      <th>CreepsKilled</th>\n",
       "      <th>CreepsDenied</th>\n",
       "      <th>NeutralsKilled</th>\n",
       "      <th>TowersDestroyed</th>\n",
       "      <th>RaxsDestroyed</th>\n",
       "      <th>TotalTime</th>\n",
       "    </tr>\n",
       "  </thead>\n",
       "  <tbody>\n",
       "    <tr>\n",
       "      <th>517</th>\n",
       "      <td>0</td>\n",
       "      <td>0</td>\n",
       "      <td>0</td>\n",
       "      <td>0</td>\n",
       "      <td>1000.0</td>\n",
       "      <td>0</td>\n",
       "      <td>0</td>\n",
       "      <td>0.0</td>\n",
       "      <td>0</td>\n",
       "      <td>0</td>\n",
       "      <td>0</td>\n",
       "      <td>0</td>\n",
       "      <td>0</td>\n",
       "      <td>0</td>\n",
       "      <td>0</td>\n",
       "      <td>NaN</td>\n",
       "    </tr>\n",
       "  </tbody>\n",
       "</table>\n",
       "</div>"
      ],
      "text/plain": [
       "     GamesPlayed  GamesWon  GamesLeft  Ditches  Points SkillLevel  Kills  \\\n",
       "517            0         0          0        0  1000.0          0      0   \n",
       "\n",
       "     KillsPerMin  Deaths  Assists  CreepsKilled  CreepsDenied  NeutralsKilled  \\\n",
       "517          0.0       0        0             0             0               0   \n",
       "\n",
       "     TowersDestroyed  RaxsDestroyed  TotalTime  \n",
       "517                0              0        NaN  "
      ]
     },
     "execution_count": 10,
     "metadata": {},
     "output_type": "execute_result"
    }
   ],
   "source": [
    "dota_df1[dota_df1.isnull().any(axis=1)]"
   ]
  },
  {
   "cell_type": "code",
   "execution_count": 11,
   "metadata": {},
   "outputs": [],
   "source": [
    "dota_df1.drop([517], inplace=True)"
   ]
  },
  {
   "cell_type": "code",
   "execution_count": 12,
   "metadata": {},
   "outputs": [
    {
     "data": {
      "text/plain": [
       "0"
      ]
     },
     "execution_count": 12,
     "metadata": {},
     "output_type": "execute_result"
    }
   ],
   "source": [
    "dota_df1.isna().sum().sum()"
   ]
  },
  {
   "attachments": {},
   "cell_type": "markdown",
   "metadata": {},
   "source": [
    "## Step 2: Set up training and testing set\n",
    "\n",
    "The first step is to split the data into two pieces of two parts each: first into X, y for predictors and target respectively and then train (X,y) and test (X,y).\n",
    "\n",
    "As discussed in Lab 2, we will also standardize the data after splitting it.\n",
    "\n",
    "Keep in mind, as also mentioned in Lab 2, there is a mild debate about whether or not you should also scale the y (target) data because in doing so, you lose interpretability but in not doing so you do NOT usually lose any model quality.\n",
    "\n",
    "Here, we will only standardize the independent variables (aka predictors or X)."
   ]
  },
  {
   "cell_type": "code",
   "execution_count": 13,
   "metadata": {},
   "outputs": [],
   "source": [
    "y = dota_df1['SkillLevel']\n",
    "X = dota_df1.drop(['SkillLevel'], axis=1, inplace=False)"
   ]
  },
  {
   "attachments": {},
   "cell_type": "markdown",
   "metadata": {},
   "source": [
    "We set 'test_size' to 0.25, which means the training data size will be 75% of the original data sets X and y."
   ]
  },
  {
   "cell_type": "code",
   "execution_count": 14,
   "metadata": {},
   "outputs": [],
   "source": [
    "X_train, X_test, y_train, y_test = train_test_split(X, y, test_size=0.25, random_state=101)"
   ]
  },
  {
   "attachments": {},
   "cell_type": "markdown",
   "metadata": {},
   "source": [
    "Lastly, we'll standardize the data."
   ]
  },
  {
   "cell_type": "code",
   "execution_count": 15,
   "metadata": {},
   "outputs": [],
   "source": [
    "scaler = StandardScaler()\n",
    "Xtrn_scaled = pd.DataFrame(scaler.fit_transform(X_train), columns = X_train.columns)\n",
    "Xtst_scaled = pd.DataFrame(scaler.fit_transform(X_test), columns = X_test.columns)"
   ]
  },
  {
   "attachments": {},
   "cell_type": "markdown",
   "metadata": {},
   "source": [
    "## Step 3: Apply the SVM Model"
   ]
  },
  {
   "attachments": {},
   "cell_type": "markdown",
   "metadata": {},
   "source": [
    "According to sklearn's documentation for SVMs in general - especially when using the Radial Basis Function as a kernel:\n",
    "\n",
    "\"Proper choice of C and gamma is critical to the SVM’s performance. One is advised to use GridSearchCV with C and gamma spaced exponentially far apart to choose good values.\" We will generate values spaced exponentially by using numpy's logspace.\n",
    "\n",
    "Choosing the ranges and their structure can result in wildly different outcomes, often resulting in Accuracy being lost. Finding these ranges is a discussion beyond the scope of this lab."
   ]
  },
  {
   "cell_type": "code",
   "execution_count": 171,
   "metadata": {},
   "outputs": [
    {
     "data": {
      "text/html": [
       "<style>#sk-container-id-18 {color: black;background-color: white;}#sk-container-id-18 pre{padding: 0;}#sk-container-id-18 div.sk-toggleable {background-color: white;}#sk-container-id-18 label.sk-toggleable__label {cursor: pointer;display: block;width: 100%;margin-bottom: 0;padding: 0.3em;box-sizing: border-box;text-align: center;}#sk-container-id-18 label.sk-toggleable__label-arrow:before {content: \"▸\";float: left;margin-right: 0.25em;color: #696969;}#sk-container-id-18 label.sk-toggleable__label-arrow:hover:before {color: black;}#sk-container-id-18 div.sk-estimator:hover label.sk-toggleable__label-arrow:before {color: black;}#sk-container-id-18 div.sk-toggleable__content {max-height: 0;max-width: 0;overflow: hidden;text-align: left;background-color: #f0f8ff;}#sk-container-id-18 div.sk-toggleable__content pre {margin: 0.2em;color: black;border-radius: 0.25em;background-color: #f0f8ff;}#sk-container-id-18 input.sk-toggleable__control:checked~div.sk-toggleable__content {max-height: 200px;max-width: 100%;overflow: auto;}#sk-container-id-18 input.sk-toggleable__control:checked~label.sk-toggleable__label-arrow:before {content: \"▾\";}#sk-container-id-18 div.sk-estimator input.sk-toggleable__control:checked~label.sk-toggleable__label {background-color: #d4ebff;}#sk-container-id-18 div.sk-label input.sk-toggleable__control:checked~label.sk-toggleable__label {background-color: #d4ebff;}#sk-container-id-18 input.sk-hidden--visually {border: 0;clip: rect(1px 1px 1px 1px);clip: rect(1px, 1px, 1px, 1px);height: 1px;margin: -1px;overflow: hidden;padding: 0;position: absolute;width: 1px;}#sk-container-id-18 div.sk-estimator {font-family: monospace;background-color: #f0f8ff;border: 1px dotted black;border-radius: 0.25em;box-sizing: border-box;margin-bottom: 0.5em;}#sk-container-id-18 div.sk-estimator:hover {background-color: #d4ebff;}#sk-container-id-18 div.sk-parallel-item::after {content: \"\";width: 100%;border-bottom: 1px solid gray;flex-grow: 1;}#sk-container-id-18 div.sk-label:hover label.sk-toggleable__label {background-color: #d4ebff;}#sk-container-id-18 div.sk-serial::before {content: \"\";position: absolute;border-left: 1px solid gray;box-sizing: border-box;top: 0;bottom: 0;left: 50%;z-index: 0;}#sk-container-id-18 div.sk-serial {display: flex;flex-direction: column;align-items: center;background-color: white;padding-right: 0.2em;padding-left: 0.2em;position: relative;}#sk-container-id-18 div.sk-item {position: relative;z-index: 1;}#sk-container-id-18 div.sk-parallel {display: flex;align-items: stretch;justify-content: center;background-color: white;position: relative;}#sk-container-id-18 div.sk-item::before, #sk-container-id-18 div.sk-parallel-item::before {content: \"\";position: absolute;border-left: 1px solid gray;box-sizing: border-box;top: 0;bottom: 0;left: 50%;z-index: -1;}#sk-container-id-18 div.sk-parallel-item {display: flex;flex-direction: column;z-index: 1;position: relative;background-color: white;}#sk-container-id-18 div.sk-parallel-item:first-child::after {align-self: flex-end;width: 50%;}#sk-container-id-18 div.sk-parallel-item:last-child::after {align-self: flex-start;width: 50%;}#sk-container-id-18 div.sk-parallel-item:only-child::after {width: 0;}#sk-container-id-18 div.sk-dashed-wrapped {border: 1px dashed gray;margin: 0 0.4em 0.5em 0.4em;box-sizing: border-box;padding-bottom: 0.4em;background-color: white;}#sk-container-id-18 div.sk-label label {font-family: monospace;font-weight: bold;display: inline-block;line-height: 1.2em;}#sk-container-id-18 div.sk-label-container {text-align: center;}#sk-container-id-18 div.sk-container {/* jupyter's `normalize.less` sets `[hidden] { display: none; }` but bootstrap.min.css set `[hidden] { display: none !important; }` so we also need the `!important` here to be able to override the default hidden behavior on the sphinx rendered scikit-learn.org. See: https://github.com/scikit-learn/scikit-learn/issues/21755 */display: inline-block !important;position: relative;}#sk-container-id-18 div.sk-text-repr-fallback {display: none;}</style><div id=\"sk-container-id-18\" class=\"sk-top-container\"><div class=\"sk-text-repr-fallback\"><pre>GridSearchCV(cv=RepeatedStratifiedKFold(n_repeats=3, n_splits=10, random_state=101),\n",
       "             estimator=SVC(), n_jobs=-1,\n",
       "             param_grid={&#x27;C&#x27;: array([63.09573445, 64.73082037, 66.40827851, 68.12920691, 69.89473207,\n",
       "       71.7060097 , 73.56422545, 75.47059567, 77.42636827, 79.43282347]),\n",
       "                         &#x27;gamma&#x27;: array([0.95499259, 0.95743899, 0.95989167, 0.96235063, 0.96481588,\n",
       "       0.96728746, 0.96976536, 0.97224961, 0.97474023, 0.97723722])},\n",
       "             scoring=&#x27;accuracy&#x27;)</pre><b>In a Jupyter environment, please rerun this cell to show the HTML representation or trust the notebook. <br />On GitHub, the HTML representation is unable to render, please try loading this page with nbviewer.org.</b></div><div class=\"sk-container\" hidden><div class=\"sk-item sk-dashed-wrapped\"><div class=\"sk-label-container\"><div class=\"sk-label sk-toggleable\"><input class=\"sk-toggleable__control sk-hidden--visually\" id=\"sk-estimator-id-40\" type=\"checkbox\" ><label for=\"sk-estimator-id-40\" class=\"sk-toggleable__label sk-toggleable__label-arrow\">GridSearchCV</label><div class=\"sk-toggleable__content\"><pre>GridSearchCV(cv=RepeatedStratifiedKFold(n_repeats=3, n_splits=10, random_state=101),\n",
       "             estimator=SVC(), n_jobs=-1,\n",
       "             param_grid={&#x27;C&#x27;: array([63.09573445, 64.73082037, 66.40827851, 68.12920691, 69.89473207,\n",
       "       71.7060097 , 73.56422545, 75.47059567, 77.42636827, 79.43282347]),\n",
       "                         &#x27;gamma&#x27;: array([0.95499259, 0.95743899, 0.95989167, 0.96235063, 0.96481588,\n",
       "       0.96728746, 0.96976536, 0.97224961, 0.97474023, 0.97723722])},\n",
       "             scoring=&#x27;accuracy&#x27;)</pre></div></div></div><div class=\"sk-parallel\"><div class=\"sk-parallel-item\"><div class=\"sk-item\"><div class=\"sk-label-container\"><div class=\"sk-label sk-toggleable\"><input class=\"sk-toggleable__control sk-hidden--visually\" id=\"sk-estimator-id-41\" type=\"checkbox\" ><label for=\"sk-estimator-id-41\" class=\"sk-toggleable__label sk-toggleable__label-arrow\">estimator: SVC</label><div class=\"sk-toggleable__content\"><pre>SVC()</pre></div></div></div><div class=\"sk-serial\"><div class=\"sk-item\"><div class=\"sk-estimator sk-toggleable\"><input class=\"sk-toggleable__control sk-hidden--visually\" id=\"sk-estimator-id-42\" type=\"checkbox\" ><label for=\"sk-estimator-id-42\" class=\"sk-toggleable__label sk-toggleable__label-arrow\">SVC</label><div class=\"sk-toggleable__content\"><pre>SVC()</pre></div></div></div></div></div></div></div></div></div></div>"
      ],
      "text/plain": [
       "GridSearchCV(cv=RepeatedStratifiedKFold(n_repeats=3, n_splits=10, random_state=101),\n",
       "             estimator=SVC(), n_jobs=-1,\n",
       "             param_grid={'C': array([63.09573445, 64.73082037, 66.40827851, 68.12920691, 69.89473207,\n",
       "       71.7060097 , 73.56422545, 75.47059567, 77.42636827, 79.43282347]),\n",
       "                         'gamma': array([0.95499259, 0.95743899, 0.95989167, 0.96235063, 0.96481588,\n",
       "       0.96728746, 0.96976536, 0.97224961, 0.97474023, 0.97723722])},\n",
       "             scoring='accuracy')"
      ]
     },
     "execution_count": 171,
     "metadata": {},
     "output_type": "execute_result"
    }
   ],
   "source": [
    "#define model\n",
    "svc_mod = SVC(kernel='rbf')\n",
    "\n",
    "#set up the repeating cv and params\n",
    "rcv = RepeatedStratifiedKFold(n_splits=10, n_repeats=3, random_state=101)\n",
    "opt_c = np.logspace(1.8, 1.9, 10)\n",
    "opt_gamma = np.logspace(-.02, -.01, 10)\n",
    "params = {'C': opt_c, 'gamma': opt_gamma}\n",
    "\n",
    "#create model, perform Repeated CV and evaluate model\n",
    "scores = GridSearchCV(svc_mod, params, scoring='accuracy', cv=rcv, n_jobs=-1)\n",
    "scores.fit(Xtrn_scaled, y_train)"
   ]
  },
  {
   "cell_type": "code",
   "execution_count": 172,
   "metadata": {},
   "outputs": [
    {
     "data": {
      "text/plain": [
       "{'C': 64.73082037010398, 'gamma': 0.9747402255566063}"
      ]
     },
     "execution_count": 172,
     "metadata": {},
     "output_type": "execute_result"
    }
   ],
   "source": [
    "scores.best_params_"
   ]
  },
  {
   "cell_type": "code",
   "execution_count": 173,
   "metadata": {},
   "outputs": [
    {
     "data": {
      "text/plain": [
       "0.8887179487179488"
      ]
     },
     "execution_count": 173,
     "metadata": {},
     "output_type": "execute_result"
    }
   ],
   "source": [
    "scores.best_score_"
   ]
  },
  {
   "cell_type": "code",
   "execution_count": 174,
   "metadata": {},
   "outputs": [
    {
     "data": {
      "text/html": [
       "<style>#sk-container-id-19 {color: black;background-color: white;}#sk-container-id-19 pre{padding: 0;}#sk-container-id-19 div.sk-toggleable {background-color: white;}#sk-container-id-19 label.sk-toggleable__label {cursor: pointer;display: block;width: 100%;margin-bottom: 0;padding: 0.3em;box-sizing: border-box;text-align: center;}#sk-container-id-19 label.sk-toggleable__label-arrow:before {content: \"▸\";float: left;margin-right: 0.25em;color: #696969;}#sk-container-id-19 label.sk-toggleable__label-arrow:hover:before {color: black;}#sk-container-id-19 div.sk-estimator:hover label.sk-toggleable__label-arrow:before {color: black;}#sk-container-id-19 div.sk-toggleable__content {max-height: 0;max-width: 0;overflow: hidden;text-align: left;background-color: #f0f8ff;}#sk-container-id-19 div.sk-toggleable__content pre {margin: 0.2em;color: black;border-radius: 0.25em;background-color: #f0f8ff;}#sk-container-id-19 input.sk-toggleable__control:checked~div.sk-toggleable__content {max-height: 200px;max-width: 100%;overflow: auto;}#sk-container-id-19 input.sk-toggleable__control:checked~label.sk-toggleable__label-arrow:before {content: \"▾\";}#sk-container-id-19 div.sk-estimator input.sk-toggleable__control:checked~label.sk-toggleable__label {background-color: #d4ebff;}#sk-container-id-19 div.sk-label input.sk-toggleable__control:checked~label.sk-toggleable__label {background-color: #d4ebff;}#sk-container-id-19 input.sk-hidden--visually {border: 0;clip: rect(1px 1px 1px 1px);clip: rect(1px, 1px, 1px, 1px);height: 1px;margin: -1px;overflow: hidden;padding: 0;position: absolute;width: 1px;}#sk-container-id-19 div.sk-estimator {font-family: monospace;background-color: #f0f8ff;border: 1px dotted black;border-radius: 0.25em;box-sizing: border-box;margin-bottom: 0.5em;}#sk-container-id-19 div.sk-estimator:hover {background-color: #d4ebff;}#sk-container-id-19 div.sk-parallel-item::after {content: \"\";width: 100%;border-bottom: 1px solid gray;flex-grow: 1;}#sk-container-id-19 div.sk-label:hover label.sk-toggleable__label {background-color: #d4ebff;}#sk-container-id-19 div.sk-serial::before {content: \"\";position: absolute;border-left: 1px solid gray;box-sizing: border-box;top: 0;bottom: 0;left: 50%;z-index: 0;}#sk-container-id-19 div.sk-serial {display: flex;flex-direction: column;align-items: center;background-color: white;padding-right: 0.2em;padding-left: 0.2em;position: relative;}#sk-container-id-19 div.sk-item {position: relative;z-index: 1;}#sk-container-id-19 div.sk-parallel {display: flex;align-items: stretch;justify-content: center;background-color: white;position: relative;}#sk-container-id-19 div.sk-item::before, #sk-container-id-19 div.sk-parallel-item::before {content: \"\";position: absolute;border-left: 1px solid gray;box-sizing: border-box;top: 0;bottom: 0;left: 50%;z-index: -1;}#sk-container-id-19 div.sk-parallel-item {display: flex;flex-direction: column;z-index: 1;position: relative;background-color: white;}#sk-container-id-19 div.sk-parallel-item:first-child::after {align-self: flex-end;width: 50%;}#sk-container-id-19 div.sk-parallel-item:last-child::after {align-self: flex-start;width: 50%;}#sk-container-id-19 div.sk-parallel-item:only-child::after {width: 0;}#sk-container-id-19 div.sk-dashed-wrapped {border: 1px dashed gray;margin: 0 0.4em 0.5em 0.4em;box-sizing: border-box;padding-bottom: 0.4em;background-color: white;}#sk-container-id-19 div.sk-label label {font-family: monospace;font-weight: bold;display: inline-block;line-height: 1.2em;}#sk-container-id-19 div.sk-label-container {text-align: center;}#sk-container-id-19 div.sk-container {/* jupyter's `normalize.less` sets `[hidden] { display: none; }` but bootstrap.min.css set `[hidden] { display: none !important; }` so we also need the `!important` here to be able to override the default hidden behavior on the sphinx rendered scikit-learn.org. See: https://github.com/scikit-learn/scikit-learn/issues/21755 */display: inline-block !important;position: relative;}#sk-container-id-19 div.sk-text-repr-fallback {display: none;}</style><div id=\"sk-container-id-19\" class=\"sk-top-container\"><div class=\"sk-text-repr-fallback\"><pre>SVC(C=64.73082037010398, gamma=0.9747402255566063)</pre><b>In a Jupyter environment, please rerun this cell to show the HTML representation or trust the notebook. <br />On GitHub, the HTML representation is unable to render, please try loading this page with nbviewer.org.</b></div><div class=\"sk-container\" hidden><div class=\"sk-item\"><div class=\"sk-estimator sk-toggleable\"><input class=\"sk-toggleable__control sk-hidden--visually\" id=\"sk-estimator-id-43\" type=\"checkbox\" checked><label for=\"sk-estimator-id-43\" class=\"sk-toggleable__label sk-toggleable__label-arrow\">SVC</label><div class=\"sk-toggleable__content\"><pre>SVC(C=64.73082037010398, gamma=0.9747402255566063)</pre></div></div></div></div></div>"
      ],
      "text/plain": [
       "SVC(C=64.73082037010398, gamma=0.9747402255566063)"
      ]
     },
     "execution_count": 174,
     "metadata": {},
     "output_type": "execute_result"
    }
   ],
   "source": [
    "scores.best_estimator_"
   ]
  },
  {
   "attachments": {},
   "cell_type": "markdown",
   "metadata": {},
   "source": [
    "The most common way to evaluate classification visually is with a confusion matrix. Bascially, if you predict skill level 0 and the original 'true' label was 0, then you have a true positive. Depending on your intent, this might be what you're hoping to maximize.\n",
    "\n",
    "You will explore the types of metrics in Chapter 8 in more detail.\n",
    "\n",
    "Below is a confusion matrix."
   ]
  },
  {
   "cell_type": "code",
   "execution_count": 178,
   "metadata": {},
   "outputs": [
    {
     "data": {
      "image/png": "[encoded data removed]",
      "text/plain": [
       "<Figure size 640x480 with 2 Axes>"
      ]
     },
     "metadata": {},
     "output_type": "display_data"
    }
   ],
   "source": [
    "final_model = scores.best_estimator_\n",
    "svc_pred = final_model.predict(Xtst_scaled)\n",
    "ConfusionMatrixDisplay.from_predictions(y_test, svc_pred)\n",
    "plt.show()"
   ]
  },
  {
   "attachments": {},
   "cell_type": "markdown",
   "metadata": {},
   "source": [
    "In R, the output is much more detailed. Python produces a report that is more focused on the three metrics you will use most often. Again, you will see these in more detail in the next chapter.\n",
    "\n",
    "'Support' is simply the total number of observations for each particular class. So, for the first line, 'class 0' there are 110 observations."
   ]
  },
  {
   "cell_type": "code",
   "execution_count": 179,
   "metadata": {},
   "outputs": [
    {
     "name": "stdout",
     "output_type": "stream",
     "text": [
      "              precision    recall  f1-score   support\n",
      "\n",
      "     class 0       0.83      0.95      0.89       110\n",
      "     class 1       0.85      0.79      0.81        98\n",
      "     class 2       0.00      0.00      0.00         6\n",
      "     class 3       0.00      0.00      0.00         3\n",
      "\n",
      "    accuracy                           0.84       217\n",
      "   macro avg       0.42      0.44      0.43       217\n",
      "weighted avg       0.80      0.84      0.82       217\n",
      "\n"
     ]
    }
   ],
   "source": [
    "target_names = ['class 0', 'class 1', 'class 2', 'class 3']\n",
    "print(classification_report(y_test, svc_pred, target_names=target_names))"
   ]
  },
  {
   "attachments": {},
   "cell_type": "markdown",
   "metadata": {},
   "source": [
    "We can also call up the Kappa separately if we're worried about an imbalance."
   ]
  },
  {
   "cell_type": "code",
   "execution_count": 180,
   "metadata": {},
   "outputs": [
    {
     "data": {
      "text/plain": [
       "0.6875899798445149"
      ]
     },
     "execution_count": 180,
     "metadata": {},
     "output_type": "execute_result"
    }
   ],
   "source": [
    "cohen_kappa_score(y_test, svc_pred)"
   ]
  },
  {
   "attachments": {},
   "cell_type": "markdown",
   "metadata": {},
   "source": [
    "Lastly, R focuses on 'specificity' and 'sensitivity'. These are actually two forms of 'recall'. Recall of a positive class is sensitivity while recall of a negative class is specificity.\n",
    "\n",
    "The issue is that this works in binary classification only. For present purposes, we can manipulate the predicted data into a binary for each class we have and then call up specificity and sensitivity."
   ]
  },
  {
   "cell_type": "code",
   "execution_count": 181,
   "metadata": {},
   "outputs": [
    {
     "data": {
      "text/html": [
       "<div>\n",
       "<style scoped>\n",
       "    .dataframe tbody tr th:only-of-type {\n",
       "        vertical-align: middle;\n",
       "    }\n",
       "\n",
       "    .dataframe tbody tr th {\n",
       "        vertical-align: top;\n",
       "    }\n",
       "\n",
       "    .dataframe thead th {\n",
       "        text-align: right;\n",
       "    }\n",
       "</style>\n",
       "<table border=\"1\" class=\"dataframe\">\n",
       "  <thead>\n",
       "    <tr style=\"text-align: right;\">\n",
       "      <th></th>\n",
       "      <th>0</th>\n",
       "      <th>1</th>\n",
       "      <th>2</th>\n",
       "      <th>3</th>\n",
       "    </tr>\n",
       "  </thead>\n",
       "  <tbody>\n",
       "    <tr>\n",
       "      <th>sensitivity</th>\n",
       "      <td>0.955</td>\n",
       "      <td>0.786</td>\n",
       "      <td>0.000</td>\n",
       "      <td>0.000</td>\n",
       "    </tr>\n",
       "    <tr>\n",
       "      <th>specificity</th>\n",
       "      <td>0.804</td>\n",
       "      <td>0.882</td>\n",
       "      <td>1.000</td>\n",
       "      <td>1.000</td>\n",
       "    </tr>\n",
       "  </tbody>\n",
       "</table>\n",
       "</div>"
      ],
      "text/plain": [
       "                0     1     2     3\n",
       "sensitivity 0.955 0.786 0.000 0.000\n",
       "specificity 0.804 0.882 1.000 1.000"
      ]
     },
     "execution_count": 181,
     "metadata": {},
     "output_type": "execute_result"
    }
   ],
   "source": [
    "prfs = []\n",
    "for l in [0,1,2,3]:\n",
    "    prec,recall,_,_ = precision_recall_fscore_support(np.array(y_test).astype(float)==l, np.array(svc_pred.astype(float))==l, pos_label=True,average=None)\n",
    "    prfs.append([recall[1],recall[0]])\n",
    "\n",
    "pd.DataFrame(prfs, columns = ['sensitivity','specificity']).transpose()"
   ]
  },
  {
   "attachments": {},
   "cell_type": "markdown",
   "metadata": {},
   "source": [
    "Relatively, when compared to our other classifiers in this chapter, SVM Radial does perform well - it ties with KNN at 84% Accuracy. \n",
    "\n",
    "We do continue to see, however, this weak classification of Skill Levels 2 and 3."
   ]
  }
 ],
 "metadata": {
  "kernelspec": {
   "display_name": "Python 3",
   "language": "python",
   "name": "python3"
  },
  "language_info": {
   "codemirror_mode": {
    "name": "ipython",
    "version": 3
   },
   "file_extension": ".py",
   "mimetype": "text/x-python",
   "name": "python",
   "nbconvert_exporter": "python",
   "pygments_lexer": "ipython3",
   "version": "3.9.13"
  },
  "orig_nbformat": 4
 },
 "nbformat": 4,
 "nbformat_minor": 2
}
