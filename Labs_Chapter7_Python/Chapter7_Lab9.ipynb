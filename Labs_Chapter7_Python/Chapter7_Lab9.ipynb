{
 "cells": [
  {
   "attachments": {},
   "cell_type": "markdown",
   "metadata": {},
   "source": [
    "# Chapter 7 Lab 9\n",
    "\n",
    "## Goal\n",
    "In this lab, we will continue to use the DoTalicious data set from previous labs. Using a Random Forest for classification, we will attempt to predict a player's SkillLevel. If you remember, the raw data represents skill level with numbers between 0 and 3 with 0 being Novice and 3 being Expert. We would expect a player's SkillLevel to be a reflection of their other stats such as Kills and Deaths.\n",
    "\n",
    "Scikit-learn has a RandomForestClassifier package that we will use. We will use RepeatKFold and GridSearchCV again for this exersice to tune the complexity parameter.\n",
    "\n",
    "## Preparation\n",
    "\n",
    "Load the required packages below."
   ]
  },
  {
   "cell_type": "code",
   "execution_count": 29,
   "metadata": {},
   "outputs": [],
   "source": [
    "from sklearn.model_selection import train_test_split, RepeatedKFold, GridSearchCV\n",
    "from sklearn.metrics import ConfusionMatrixDisplay, cohen_kappa_score, classification_report, precision_recall_fscore_support, make_scorer\n",
    "from sklearn.ensemble import RandomForestClassifier, ExtraTreesClassifier\n",
    "import pandas as pd\n",
    "import numpy as np\n",
    "import matplotlib as mpl\n",
    "import matplotlib.pyplot as plt\n",
    "%matplotlib inline\n",
    "import seaborn as sns\n",
    "import sys\n",
    "from io import StringIO\n",
    "\n",
    "import warnings\n",
    "warnings.filterwarnings('ignore')\n"
   ]
  },
  {
   "attachments": {},
   "cell_type": "markdown",
   "metadata": {},
   "source": [
    "## Step 1: Data Pre-processing\n",
    "\n",
    "Let's read in the data and take a quick look at it."
   ]
  },
  {
   "cell_type": "code",
   "execution_count": 2,
   "metadata": {},
   "outputs": [
    {
     "data": {
      "text/html": [
       "<div>\n",
       "<style scoped>\n",
       "    .dataframe tbody tr th:only-of-type {\n",
       "        vertical-align: middle;\n",
       "    }\n",
       "\n",
       "    .dataframe tbody tr th {\n",
       "        vertical-align: top;\n",
       "    }\n",
       "\n",
       "    .dataframe thead th {\n",
       "        text-align: right;\n",
       "    }\n",
       "</style>\n",
       "<table border=\"1\" class=\"dataframe\">\n",
       "  <thead>\n",
       "    <tr style=\"text-align: right;\">\n",
       "      <th></th>\n",
       "      <th>GamesPlayed</th>\n",
       "      <th>GamesWon</th>\n",
       "      <th>GamesLeft</th>\n",
       "      <th>Ditches</th>\n",
       "      <th>Points</th>\n",
       "      <th>SkillLevel</th>\n",
       "      <th>Kills</th>\n",
       "      <th>KillsPerMin</th>\n",
       "      <th>Deaths</th>\n",
       "      <th>Assists</th>\n",
       "      <th>CreepsKilled</th>\n",
       "      <th>CreepsDenied</th>\n",
       "      <th>NeutralsKilled</th>\n",
       "      <th>TowersDestroyed</th>\n",
       "      <th>RaxsDestroyed</th>\n",
       "      <th>TotalTime</th>\n",
       "    </tr>\n",
       "  </thead>\n",
       "  <tbody>\n",
       "    <tr>\n",
       "      <th>0</th>\n",
       "      <td>447</td>\n",
       "      <td>248</td>\n",
       "      <td>6</td>\n",
       "      <td>6</td>\n",
       "      <td>1111.360</td>\n",
       "      <td>1</td>\n",
       "      <td>2271</td>\n",
       "      <td>0.12</td>\n",
       "      <td>1889</td>\n",
       "      <td>4201</td>\n",
       "      <td>38736</td>\n",
       "      <td>3058</td>\n",
       "      <td>3456</td>\n",
       "      <td>355</td>\n",
       "      <td>151</td>\n",
       "      <td>1116780</td>\n",
       "    </tr>\n",
       "    <tr>\n",
       "      <th>1</th>\n",
       "      <td>66</td>\n",
       "      <td>39</td>\n",
       "      <td>0</td>\n",
       "      <td>0</td>\n",
       "      <td>989.882</td>\n",
       "      <td>1</td>\n",
       "      <td>373</td>\n",
       "      <td>0.13</td>\n",
       "      <td>450</td>\n",
       "      <td>745</td>\n",
       "      <td>4484</td>\n",
       "      <td>518</td>\n",
       "      <td>455</td>\n",
       "      <td>49</td>\n",
       "      <td>23</td>\n",
       "      <td>169800</td>\n",
       "    </tr>\n",
       "    <tr>\n",
       "      <th>2</th>\n",
       "      <td>3</td>\n",
       "      <td>0</td>\n",
       "      <td>0</td>\n",
       "      <td>0</td>\n",
       "      <td>1000.000</td>\n",
       "      <td>0</td>\n",
       "      <td>11</td>\n",
       "      <td>0.11</td>\n",
       "      <td>28</td>\n",
       "      <td>18</td>\n",
       "      <td>186</td>\n",
       "      <td>10</td>\n",
       "      <td>7</td>\n",
       "      <td>0</td>\n",
       "      <td>0</td>\n",
       "      <td>6180</td>\n",
       "    </tr>\n",
       "    <tr>\n",
       "      <th>3</th>\n",
       "      <td>100</td>\n",
       "      <td>59</td>\n",
       "      <td>5</td>\n",
       "      <td>1</td>\n",
       "      <td>1228.460</td>\n",
       "      <td>1</td>\n",
       "      <td>1079</td>\n",
       "      <td>0.26</td>\n",
       "      <td>448</td>\n",
       "      <td>934</td>\n",
       "      <td>13943</td>\n",
       "      <td>1885</td>\n",
       "      <td>1417</td>\n",
       "      <td>132</td>\n",
       "      <td>36</td>\n",
       "      <td>250200</td>\n",
       "    </tr>\n",
       "    <tr>\n",
       "      <th>4</th>\n",
       "      <td>1</td>\n",
       "      <td>1</td>\n",
       "      <td>0</td>\n",
       "      <td>0</td>\n",
       "      <td>1020.000</td>\n",
       "      <td>0</td>\n",
       "      <td>9</td>\n",
       "      <td>0.28</td>\n",
       "      <td>2</td>\n",
       "      <td>10</td>\n",
       "      <td>38</td>\n",
       "      <td>8</td>\n",
       "      <td>3</td>\n",
       "      <td>0</td>\n",
       "      <td>0</td>\n",
       "      <td>1944</td>\n",
       "    </tr>\n",
       "  </tbody>\n",
       "</table>\n",
       "</div>"
      ],
      "text/plain": [
       "   GamesPlayed  GamesWon  GamesLeft  Ditches    Points SkillLevel  Kills  \\\n",
       "0          447       248          6        6  1111.360          1   2271   \n",
       "1           66        39          0        0   989.882          1    373   \n",
       "2            3         0          0        0  1000.000          0     11   \n",
       "3          100        59          5        1  1228.460          1   1079   \n",
       "4            1         1          0        0  1020.000          0      9   \n",
       "\n",
       "   KillsPerMin   Deaths  Assists  CreepsKilled  CreepsDenied   NeutralsKilled  \\\n",
       "0         0.12     1889     4201         38736          3058             3456   \n",
       "1         0.13      450      745          4484           518              455   \n",
       "2         0.11       28       18           186            10                7   \n",
       "3         0.26      448      934         13943          1885             1417   \n",
       "4         0.28        2       10            38             8                3   \n",
       "\n",
       "    TowersDestroyed   RaxsDestroyed  TotalTime  \n",
       "0               355             151    1116780  \n",
       "1                49              23     169800  \n",
       "2                 0               0       6180  \n",
       "3               132              36     250200  \n",
       "4                 0               0       1944  "
      ]
     },
     "execution_count": 2,
     "metadata": {},
     "output_type": "execute_result"
    }
   ],
   "source": [
    "dota_df1 = pd.read_csv('DoTalicious_cleaned1000players.csv')\n",
    "dota_df1.drop(['PlayerID'], axis=1, inplace=True)\n",
    "dota_df1.head()"
   ]
  },
  {
   "cell_type": "code",
   "execution_count": 3,
   "metadata": {},
   "outputs": [
    {
     "name": "stdout",
     "output_type": "stream",
     "text": [
      "<class 'pandas.core.frame.DataFrame'>\n",
      "RangeIndex: 868 entries, 0 to 867\n",
      "Data columns (total 16 columns):\n",
      " #   Column            Non-Null Count  Dtype  \n",
      "---  ------            --------------  -----  \n",
      " 0   GamesPlayed       868 non-null    int64  \n",
      " 1   GamesWon          868 non-null    int64  \n",
      " 2   GamesLeft         868 non-null    int64  \n",
      " 3   Ditches           868 non-null    int64  \n",
      " 4   Points            868 non-null    float64\n",
      " 5   SkillLevel        868 non-null    object \n",
      " 6   Kills             868 non-null    int64  \n",
      " 7   KillsPerMin       868 non-null    float64\n",
      " 8    Deaths           868 non-null    int64  \n",
      " 9   Assists           868 non-null    int64  \n",
      " 10  CreepsKilled      868 non-null    int64  \n",
      " 11  CreepsDenied      868 non-null    int64  \n",
      " 12   NeutralsKilled   868 non-null    int64  \n",
      " 13   TowersDestroyed  868 non-null    int64  \n",
      " 14   RaxsDestroyed    868 non-null    int64  \n",
      " 15   TotalTime        868 non-null    object \n",
      "dtypes: float64(2), int64(12), object(2)\n",
      "memory usage: 108.6+ KB\n"
     ]
    }
   ],
   "source": [
    "dota_df1.info()"
   ]
  },
  {
   "cell_type": "code",
   "execution_count": 4,
   "metadata": {},
   "outputs": [
    {
     "name": "stdout",
     "output_type": "stream",
     "text": [
      "<class 'pandas.core.frame.DataFrame'>\n",
      "RangeIndex: 868 entries, 0 to 867\n",
      "Data columns (total 16 columns):\n",
      " #   Column           Non-Null Count  Dtype  \n",
      "---  ------           --------------  -----  \n",
      " 0   GamesPlayed      868 non-null    int64  \n",
      " 1   GamesWon         868 non-null    int64  \n",
      " 2   GamesLeft        868 non-null    int64  \n",
      " 3   Ditches          868 non-null    int64  \n",
      " 4   Points           868 non-null    float64\n",
      " 5   SkillLevel       868 non-null    object \n",
      " 6   Kills            868 non-null    int64  \n",
      " 7   KillsPerMin      868 non-null    float64\n",
      " 8   Deaths           868 non-null    int64  \n",
      " 9   Assists          868 non-null    int64  \n",
      " 10  CreepsKilled     868 non-null    int64  \n",
      " 11  CreepsDenied     868 non-null    int64  \n",
      " 12  NeutralsKilled   868 non-null    int64  \n",
      " 13  TowersDestroyed  868 non-null    int64  \n",
      " 14  RaxsDestroyed    868 non-null    int64  \n",
      " 15  TotalTime        868 non-null    object \n",
      "dtypes: float64(2), int64(12), object(2)\n",
      "memory usage: 108.6+ KB\n"
     ]
    }
   ],
   "source": [
    "dota_df1 = dota_df1.rename(columns=lambda x: x.strip())\n",
    "dota_df1.info()"
   ]
  },
  {
   "attachments": {},
   "cell_type": "markdown",
   "metadata": {},
   "source": [
    "Notice that we will need to change some data types."
   ]
  },
  {
   "cell_type": "code",
   "execution_count": 5,
   "metadata": {},
   "outputs": [],
   "source": [
    "dota_df1['TotalTime'] = pd.to_numeric(dota_df1['TotalTime'], errors='coerce')"
   ]
  },
  {
   "attachments": {},
   "cell_type": "markdown",
   "metadata": {},
   "source": [
    "We'll make a quick fix to an odd value in SkillLevel too. Here, we'll remove the row."
   ]
  },
  {
   "cell_type": "code",
   "execution_count": 6,
   "metadata": {},
   "outputs": [],
   "source": [
    "dota_df1.loc[dota_df1['SkillLevel'] ==' SkillLevelNull', 'SkillLevel'] = '1'"
   ]
  },
  {
   "attachments": {},
   "cell_type": "markdown",
   "metadata": {},
   "source": [
    "Lastly, let's work on the SkillLevel column! We need to change it to categorical."
   ]
  },
  {
   "cell_type": "code",
   "execution_count": 7,
   "metadata": {},
   "outputs": [
    {
     "name": "stdout",
     "output_type": "stream",
     "text": [
      "<class 'pandas.core.frame.DataFrame'>\n",
      "RangeIndex: 868 entries, 0 to 867\n",
      "Data columns (total 16 columns):\n",
      " #   Column           Non-Null Count  Dtype   \n",
      "---  ------           --------------  -----   \n",
      " 0   GamesPlayed      868 non-null    int64   \n",
      " 1   GamesWon         868 non-null    int64   \n",
      " 2   GamesLeft        868 non-null    int64   \n",
      " 3   Ditches          868 non-null    int64   \n",
      " 4   Points           868 non-null    float64 \n",
      " 5   SkillLevel       868 non-null    category\n",
      " 6   Kills            868 non-null    int64   \n",
      " 7   KillsPerMin      868 non-null    float64 \n",
      " 8   Deaths           868 non-null    int64   \n",
      " 9   Assists          868 non-null    int64   \n",
      " 10  CreepsKilled     868 non-null    int64   \n",
      " 11  CreepsDenied     868 non-null    int64   \n",
      " 12  NeutralsKilled   868 non-null    int64   \n",
      " 13  TowersDestroyed  868 non-null    int64   \n",
      " 14  RaxsDestroyed    868 non-null    int64   \n",
      " 15  TotalTime        867 non-null    float64 \n",
      "dtypes: category(1), float64(3), int64(12)\n",
      "memory usage: 102.9 KB\n"
     ]
    }
   ],
   "source": [
    "dota_df1['SkillLevel'] = pd.Series(dota_df1['SkillLevel'].astype('category'))\n",
    "dota_df1.info()"
   ]
  },
  {
   "attachments": {},
   "cell_type": "markdown",
   "metadata": {},
   "source": [
    "Next, let's check for null values and remove those."
   ]
  },
  {
   "cell_type": "code",
   "execution_count": 8,
   "metadata": {},
   "outputs": [
    {
     "data": {
      "text/plain": [
       "1"
      ]
     },
     "execution_count": 8,
     "metadata": {},
     "output_type": "execute_result"
    }
   ],
   "source": [
    "dota_df1.isna().sum().sum()"
   ]
  },
  {
   "cell_type": "code",
   "execution_count": 9,
   "metadata": {},
   "outputs": [
    {
     "data": {
      "text/html": [
       "<div>\n",
       "<style scoped>\n",
       "    .dataframe tbody tr th:only-of-type {\n",
       "        vertical-align: middle;\n",
       "    }\n",
       "\n",
       "    .dataframe tbody tr th {\n",
       "        vertical-align: top;\n",
       "    }\n",
       "\n",
       "    .dataframe thead th {\n",
       "        text-align: right;\n",
       "    }\n",
       "</style>\n",
       "<table border=\"1\" class=\"dataframe\">\n",
       "  <thead>\n",
       "    <tr style=\"text-align: right;\">\n",
       "      <th></th>\n",
       "      <th>GamesPlayed</th>\n",
       "      <th>GamesWon</th>\n",
       "      <th>GamesLeft</th>\n",
       "      <th>Ditches</th>\n",
       "      <th>Points</th>\n",
       "      <th>SkillLevel</th>\n",
       "      <th>Kills</th>\n",
       "      <th>KillsPerMin</th>\n",
       "      <th>Deaths</th>\n",
       "      <th>Assists</th>\n",
       "      <th>CreepsKilled</th>\n",
       "      <th>CreepsDenied</th>\n",
       "      <th>NeutralsKilled</th>\n",
       "      <th>TowersDestroyed</th>\n",
       "      <th>RaxsDestroyed</th>\n",
       "      <th>TotalTime</th>\n",
       "    </tr>\n",
       "  </thead>\n",
       "  <tbody>\n",
       "    <tr>\n",
       "      <th>517</th>\n",
       "      <td>0</td>\n",
       "      <td>0</td>\n",
       "      <td>0</td>\n",
       "      <td>0</td>\n",
       "      <td>1000.0</td>\n",
       "      <td>0</td>\n",
       "      <td>0</td>\n",
       "      <td>0.0</td>\n",
       "      <td>0</td>\n",
       "      <td>0</td>\n",
       "      <td>0</td>\n",
       "      <td>0</td>\n",
       "      <td>0</td>\n",
       "      <td>0</td>\n",
       "      <td>0</td>\n",
       "      <td>NaN</td>\n",
       "    </tr>\n",
       "  </tbody>\n",
       "</table>\n",
       "</div>"
      ],
      "text/plain": [
       "     GamesPlayed  GamesWon  GamesLeft  Ditches  Points SkillLevel  Kills  \\\n",
       "517            0         0          0        0  1000.0          0      0   \n",
       "\n",
       "     KillsPerMin  Deaths  Assists  CreepsKilled  CreepsDenied  NeutralsKilled  \\\n",
       "517          0.0       0        0             0             0               0   \n",
       "\n",
       "     TowersDestroyed  RaxsDestroyed  TotalTime  \n",
       "517                0              0        NaN  "
      ]
     },
     "execution_count": 9,
     "metadata": {},
     "output_type": "execute_result"
    }
   ],
   "source": [
    "dota_df1[dota_df1.isnull().any(axis=1)]"
   ]
  },
  {
   "cell_type": "code",
   "execution_count": 10,
   "metadata": {},
   "outputs": [],
   "source": [
    "dota_df1.drop([517], inplace=True)"
   ]
  },
  {
   "cell_type": "code",
   "execution_count": 11,
   "metadata": {},
   "outputs": [
    {
     "data": {
      "text/plain": [
       "0"
      ]
     },
     "execution_count": 11,
     "metadata": {},
     "output_type": "execute_result"
    }
   ],
   "source": [
    "dota_df1.isna().sum().sum()"
   ]
  },
  {
   "attachments": {},
   "cell_type": "markdown",
   "metadata": {},
   "source": [
    "## Step 2: Set up training and testing set\n",
    "\n",
    "The first step is to split the data into two pieces of two parts each: first into X, y for predictors and target respectively and then train (X,y) and test (X,y).\n",
    "\n",
    "Here, we do not need to standardize the variables."
   ]
  },
  {
   "cell_type": "code",
   "execution_count": 12,
   "metadata": {},
   "outputs": [],
   "source": [
    "y = dota_df1['SkillLevel']\n",
    "X = dota_df1.drop(['SkillLevel'], axis=1, inplace=False)"
   ]
  },
  {
   "attachments": {},
   "cell_type": "markdown",
   "metadata": {},
   "source": [
    "We set 'test_size' to 0.25, which means the training data size will be 75% of the original data sets X and y."
   ]
  },
  {
   "cell_type": "code",
   "execution_count": 13,
   "metadata": {},
   "outputs": [],
   "source": [
    "X_train, X_test, y_train, y_test = train_test_split(X, y, test_size=0.25, random_state=101)"
   ]
  },
  {
   "attachments": {},
   "cell_type": "markdown",
   "metadata": {},
   "source": [
    "## Step 3: Apply the SVM Model"
   ]
  },
  {
   "cell_type": "code",
   "execution_count": 15,
   "metadata": {},
   "outputs": [],
   "source": [
    "#define a new scorer\n",
    "def kappa_scorer(est, X, y):\n",
    "    y_pred = est.predict(X)\n",
    "    kappa = cohen_kappa_score(y, y_pred)\n",
    "    return kappa"
   ]
  },
  {
   "attachments": {},
   "cell_type": "markdown",
   "metadata": {},
   "source": [
    "Below, we picked n_estimators = 500 because R's ranger implementation sets the default at 500 trees. sklearn's default is 100, hence the change."
   ]
  },
  {
   "cell_type": "code",
   "execution_count": 91,
   "metadata": {},
   "outputs": [
    {
     "data": {
      "text/html": [
       "<style>#sk-container-id-6 {color: black;background-color: white;}#sk-container-id-6 pre{padding: 0;}#sk-container-id-6 div.sk-toggleable {background-color: white;}#sk-container-id-6 label.sk-toggleable__label {cursor: pointer;display: block;width: 100%;margin-bottom: 0;padding: 0.3em;box-sizing: border-box;text-align: center;}#sk-container-id-6 label.sk-toggleable__label-arrow:before {content: \"▸\";float: left;margin-right: 0.25em;color: #696969;}#sk-container-id-6 label.sk-toggleable__label-arrow:hover:before {color: black;}#sk-container-id-6 div.sk-estimator:hover label.sk-toggleable__label-arrow:before {color: black;}#sk-container-id-6 div.sk-toggleable__content {max-height: 0;max-width: 0;overflow: hidden;text-align: left;background-color: #f0f8ff;}#sk-container-id-6 div.sk-toggleable__content pre {margin: 0.2em;color: black;border-radius: 0.25em;background-color: #f0f8ff;}#sk-container-id-6 input.sk-toggleable__control:checked~div.sk-toggleable__content {max-height: 200px;max-width: 100%;overflow: auto;}#sk-container-id-6 input.sk-toggleable__control:checked~label.sk-toggleable__label-arrow:before {content: \"▾\";}#sk-container-id-6 div.sk-estimator input.sk-toggleable__control:checked~label.sk-toggleable__label {background-color: #d4ebff;}#sk-container-id-6 div.sk-label input.sk-toggleable__control:checked~label.sk-toggleable__label {background-color: #d4ebff;}#sk-container-id-6 input.sk-hidden--visually {border: 0;clip: rect(1px 1px 1px 1px);clip: rect(1px, 1px, 1px, 1px);height: 1px;margin: -1px;overflow: hidden;padding: 0;position: absolute;width: 1px;}#sk-container-id-6 div.sk-estimator {font-family: monospace;background-color: #f0f8ff;border: 1px dotted black;border-radius: 0.25em;box-sizing: border-box;margin-bottom: 0.5em;}#sk-container-id-6 div.sk-estimator:hover {background-color: #d4ebff;}#sk-container-id-6 div.sk-parallel-item::after {content: \"\";width: 100%;border-bottom: 1px solid gray;flex-grow: 1;}#sk-container-id-6 div.sk-label:hover label.sk-toggleable__label {background-color: #d4ebff;}#sk-container-id-6 div.sk-serial::before {content: \"\";position: absolute;border-left: 1px solid gray;box-sizing: border-box;top: 0;bottom: 0;left: 50%;z-index: 0;}#sk-container-id-6 div.sk-serial {display: flex;flex-direction: column;align-items: center;background-color: white;padding-right: 0.2em;padding-left: 0.2em;position: relative;}#sk-container-id-6 div.sk-item {position: relative;z-index: 1;}#sk-container-id-6 div.sk-parallel {display: flex;align-items: stretch;justify-content: center;background-color: white;position: relative;}#sk-container-id-6 div.sk-item::before, #sk-container-id-6 div.sk-parallel-item::before {content: \"\";position: absolute;border-left: 1px solid gray;box-sizing: border-box;top: 0;bottom: 0;left: 50%;z-index: -1;}#sk-container-id-6 div.sk-parallel-item {display: flex;flex-direction: column;z-index: 1;position: relative;background-color: white;}#sk-container-id-6 div.sk-parallel-item:first-child::after {align-self: flex-end;width: 50%;}#sk-container-id-6 div.sk-parallel-item:last-child::after {align-self: flex-start;width: 50%;}#sk-container-id-6 div.sk-parallel-item:only-child::after {width: 0;}#sk-container-id-6 div.sk-dashed-wrapped {border: 1px dashed gray;margin: 0 0.4em 0.5em 0.4em;box-sizing: border-box;padding-bottom: 0.4em;background-color: white;}#sk-container-id-6 div.sk-label label {font-family: monospace;font-weight: bold;display: inline-block;line-height: 1.2em;}#sk-container-id-6 div.sk-label-container {text-align: center;}#sk-container-id-6 div.sk-container {/* jupyter's `normalize.less` sets `[hidden] { display: none; }` but bootstrap.min.css set `[hidden] { display: none !important; }` so we also need the `!important` here to be able to override the default hidden behavior on the sphinx rendered scikit-learn.org. See: https://github.com/scikit-learn/scikit-learn/issues/21755 */display: inline-block !important;position: relative;}#sk-container-id-6 div.sk-text-repr-fallback {display: none;}</style><div id=\"sk-container-id-6\" class=\"sk-top-container\"><div class=\"sk-text-repr-fallback\"><pre>GridSearchCV(cv=RepeatedKFold(n_repeats=3, n_splits=10, random_state=101),\n",
       "             estimator=RandomForestClassifier(n_estimators=500, oob_score=True),\n",
       "             n_jobs=-1,\n",
       "             param_grid={&#x27;criterion&#x27;: [&#x27;gini&#x27;, &#x27;entropy&#x27;],\n",
       "                         &#x27;min_samples_split&#x27;: [1, 2, 3, 4, 5, 6, 7, 8, 9]},\n",
       "             refit=&#x27;Accuracy&#x27;,\n",
       "             scoring={&#x27;Accuracy&#x27;: &#x27;accuracy&#x27;,\n",
       "                      &#x27;Kappa&#x27;: make_scorer(cohen_kappa_score)})</pre><b>In a Jupyter environment, please rerun this cell to show the HTML representation or trust the notebook. <br />On GitHub, the HTML representation is unable to render, please try loading this page with nbviewer.org.</b></div><div class=\"sk-container\" hidden><div class=\"sk-item sk-dashed-wrapped\"><div class=\"sk-label-container\"><div class=\"sk-label sk-toggleable\"><input class=\"sk-toggleable__control sk-hidden--visually\" id=\"sk-estimator-id-16\" type=\"checkbox\" ><label for=\"sk-estimator-id-16\" class=\"sk-toggleable__label sk-toggleable__label-arrow\">GridSearchCV</label><div class=\"sk-toggleable__content\"><pre>GridSearchCV(cv=RepeatedKFold(n_repeats=3, n_splits=10, random_state=101),\n",
       "             estimator=RandomForestClassifier(n_estimators=500, oob_score=True),\n",
       "             n_jobs=-1,\n",
       "             param_grid={&#x27;criterion&#x27;: [&#x27;gini&#x27;, &#x27;entropy&#x27;],\n",
       "                         &#x27;min_samples_split&#x27;: [1, 2, 3, 4, 5, 6, 7, 8, 9]},\n",
       "             refit=&#x27;Accuracy&#x27;,\n",
       "             scoring={&#x27;Accuracy&#x27;: &#x27;accuracy&#x27;,\n",
       "                      &#x27;Kappa&#x27;: make_scorer(cohen_kappa_score)})</pre></div></div></div><div class=\"sk-parallel\"><div class=\"sk-parallel-item\"><div class=\"sk-item\"><div class=\"sk-label-container\"><div class=\"sk-label sk-toggleable\"><input class=\"sk-toggleable__control sk-hidden--visually\" id=\"sk-estimator-id-17\" type=\"checkbox\" ><label for=\"sk-estimator-id-17\" class=\"sk-toggleable__label sk-toggleable__label-arrow\">estimator: RandomForestClassifier</label><div class=\"sk-toggleable__content\"><pre>RandomForestClassifier(n_estimators=500, oob_score=True)</pre></div></div></div><div class=\"sk-serial\"><div class=\"sk-item\"><div class=\"sk-estimator sk-toggleable\"><input class=\"sk-toggleable__control sk-hidden--visually\" id=\"sk-estimator-id-18\" type=\"checkbox\" ><label for=\"sk-estimator-id-18\" class=\"sk-toggleable__label sk-toggleable__label-arrow\">RandomForestClassifier</label><div class=\"sk-toggleable__content\"><pre>RandomForestClassifier(n_estimators=500, oob_score=True)</pre></div></div></div></div></div></div></div></div></div></div>"
      ],
      "text/plain": [
       "GridSearchCV(cv=RepeatedKFold(n_repeats=3, n_splits=10, random_state=101),\n",
       "             estimator=RandomForestClassifier(n_estimators=500, oob_score=True),\n",
       "             n_jobs=-1,\n",
       "             param_grid={'criterion': ['gini', 'entropy'],\n",
       "                         'min_samples_split': [1, 2, 3, 4, 5, 6, 7, 8, 9]},\n",
       "             refit='Accuracy',\n",
       "             scoring={'Accuracy': 'accuracy',\n",
       "                      'Kappa': make_scorer(cohen_kappa_score)})"
      ]
     },
     "execution_count": 91,
     "metadata": {},
     "output_type": "execute_result"
    }
   ],
   "source": [
    "#Setup and configure settings for Repeated k-Fold CV (k-folds=10, repeats=10)\n",
    "rcv = RepeatedKFold(n_splits=10, n_repeats=3, random_state=101)\n",
    "\n",
    "#define model\n",
    "rtc = RandomForestClassifier(n_estimators=500, bootstrap=True, oob_score=True)\n",
    "scoring = {'Accuracy':'accuracy', 'Kappa':make_scorer(cohen_kappa_score)}\n",
    "min_split = list(range(1, 10, 1))\n",
    "split_rule = ['gini', 'entropy']\n",
    "params = {'min_samples_split' : min_split, 'criterion' : split_rule}\n",
    "\n",
    "#create model, perform Repeated CV and evaluate model\n",
    "scores = GridSearchCV(rtc, params, scoring=scoring, cv=rcv, refit='Accuracy', n_jobs=-1)\n",
    "scores.fit(X_train, y_train)"
   ]
  },
  {
   "cell_type": "code",
   "execution_count": 92,
   "metadata": {},
   "outputs": [
    {
     "data": {
      "text/html": [
       "<div>\n",
       "<style scoped>\n",
       "    .dataframe tbody tr th:only-of-type {\n",
       "        vertical-align: middle;\n",
       "    }\n",
       "\n",
       "    .dataframe tbody tr th {\n",
       "        vertical-align: top;\n",
       "    }\n",
       "\n",
       "    .dataframe thead th {\n",
       "        text-align: right;\n",
       "    }\n",
       "</style>\n",
       "<table border=\"1\" class=\"dataframe\">\n",
       "  <thead>\n",
       "    <tr style=\"text-align: right;\">\n",
       "      <th></th>\n",
       "      <th>Criterion</th>\n",
       "      <th>Mtry</th>\n",
       "      <th>Accuracy</th>\n",
       "      <th>Kappa</th>\n",
       "    </tr>\n",
       "  </thead>\n",
       "  <tbody>\n",
       "    <tr>\n",
       "      <th>0</th>\n",
       "      <td>gini</td>\n",
       "      <td>1</td>\n",
       "      <td>0.912308</td>\n",
       "      <td>0.828969</td>\n",
       "    </tr>\n",
       "    <tr>\n",
       "      <th>1</th>\n",
       "      <td>gini</td>\n",
       "      <td>2</td>\n",
       "      <td>0.912821</td>\n",
       "      <td>0.829684</td>\n",
       "    </tr>\n",
       "    <tr>\n",
       "      <th>2</th>\n",
       "      <td>gini</td>\n",
       "      <td>3</td>\n",
       "      <td>0.913846</td>\n",
       "      <td>0.831677</td>\n",
       "    </tr>\n",
       "    <tr>\n",
       "      <th>3</th>\n",
       "      <td>gini</td>\n",
       "      <td>4</td>\n",
       "      <td>0.910256</td>\n",
       "      <td>0.824799</td>\n",
       "    </tr>\n",
       "    <tr>\n",
       "      <th>4</th>\n",
       "      <td>gini</td>\n",
       "      <td>5</td>\n",
       "      <td>0.912821</td>\n",
       "      <td>0.829636</td>\n",
       "    </tr>\n",
       "    <tr>\n",
       "      <th>5</th>\n",
       "      <td>gini</td>\n",
       "      <td>6</td>\n",
       "      <td>0.912821</td>\n",
       "      <td>0.829366</td>\n",
       "    </tr>\n",
       "    <tr>\n",
       "      <th>6</th>\n",
       "      <td>gini</td>\n",
       "      <td>7</td>\n",
       "      <td>0.909744</td>\n",
       "      <td>0.823550</td>\n",
       "    </tr>\n",
       "    <tr>\n",
       "      <th>7</th>\n",
       "      <td>gini</td>\n",
       "      <td>8</td>\n",
       "      <td>0.909231</td>\n",
       "      <td>0.822411</td>\n",
       "    </tr>\n",
       "    <tr>\n",
       "      <th>8</th>\n",
       "      <td>gini</td>\n",
       "      <td>9</td>\n",
       "      <td>0.911282</td>\n",
       "      <td>0.826413</td>\n",
       "    </tr>\n",
       "    <tr>\n",
       "      <th>9</th>\n",
       "      <td>entropy</td>\n",
       "      <td>1</td>\n",
       "      <td>0.911795</td>\n",
       "      <td>0.828102</td>\n",
       "    </tr>\n",
       "    <tr>\n",
       "      <th>10</th>\n",
       "      <td>entropy</td>\n",
       "      <td>2</td>\n",
       "      <td>0.913333</td>\n",
       "      <td>0.831264</td>\n",
       "    </tr>\n",
       "    <tr>\n",
       "      <th>11</th>\n",
       "      <td>entropy</td>\n",
       "      <td>3</td>\n",
       "      <td>0.911795</td>\n",
       "      <td>0.828377</td>\n",
       "    </tr>\n",
       "    <tr>\n",
       "      <th>12</th>\n",
       "      <td>entropy</td>\n",
       "      <td>4</td>\n",
       "      <td>0.911795</td>\n",
       "      <td>0.827974</td>\n",
       "    </tr>\n",
       "    <tr>\n",
       "      <th>13</th>\n",
       "      <td>entropy</td>\n",
       "      <td>5</td>\n",
       "      <td>0.913333</td>\n",
       "      <td>0.830673</td>\n",
       "    </tr>\n",
       "    <tr>\n",
       "      <th>14</th>\n",
       "      <td>entropy</td>\n",
       "      <td>6</td>\n",
       "      <td>0.913333</td>\n",
       "      <td>0.830648</td>\n",
       "    </tr>\n",
       "    <tr>\n",
       "      <th>15</th>\n",
       "      <td>entropy</td>\n",
       "      <td>7</td>\n",
       "      <td>0.914872</td>\n",
       "      <td>0.833438</td>\n",
       "    </tr>\n",
       "    <tr>\n",
       "      <th>16</th>\n",
       "      <td>entropy</td>\n",
       "      <td>8</td>\n",
       "      <td>0.912308</td>\n",
       "      <td>0.828417</td>\n",
       "    </tr>\n",
       "    <tr>\n",
       "      <th>17</th>\n",
       "      <td>entropy</td>\n",
       "      <td>9</td>\n",
       "      <td>0.914359</td>\n",
       "      <td>0.832508</td>\n",
       "    </tr>\n",
       "  </tbody>\n",
       "</table>\n",
       "</div>"
      ],
      "text/plain": [
       "   Criterion Mtry  Accuracy     Kappa\n",
       "0       gini    1  0.912308  0.828969\n",
       "1       gini    2  0.912821  0.829684\n",
       "2       gini    3  0.913846  0.831677\n",
       "3       gini    4  0.910256  0.824799\n",
       "4       gini    5  0.912821  0.829636\n",
       "5       gini    6  0.912821  0.829366\n",
       "6       gini    7  0.909744  0.823550\n",
       "7       gini    8  0.909231  0.822411\n",
       "8       gini    9  0.911282  0.826413\n",
       "9    entropy    1  0.911795  0.828102\n",
       "10   entropy    2  0.913333  0.831264\n",
       "11   entropy    3  0.911795  0.828377\n",
       "12   entropy    4  0.911795  0.827974\n",
       "13   entropy    5  0.913333  0.830673\n",
       "14   entropy    6  0.913333  0.830648\n",
       "15   entropy    7  0.914872  0.833438\n",
       "16   entropy    8  0.912308  0.828417\n",
       "17   entropy    9  0.914359  0.832508"
      ]
     },
     "execution_count": 92,
     "metadata": {},
     "output_type": "execute_result"
    }
   ],
   "source": [
    "cv_df = pd.DataFrame(scores.cv_results_)\n",
    "cv_res_df = pd.DataFrame(cv_df[['param_criterion', 'param_min_samples_split', 'mean_test_Accuracy', 'mean_test_Kappa']])\n",
    "cv_res_df.rename(columns = {'param_criterion' : 'Criterion',  'param_min_samples_split': 'Mtry', 'mean_test_Accuracy' : 'Accuracy', 'mean_test_Kappa' : 'Kappa'}, inplace=True)\n",
    "cv_res_df"
   ]
  },
  {
   "cell_type": "code",
   "execution_count": 93,
   "metadata": {},
   "outputs": [
    {
     "data": {
      "text/plain": [
       "{'criterion': 'entropy', 'min_samples_split': 7}"
      ]
     },
     "execution_count": 93,
     "metadata": {},
     "output_type": "execute_result"
    }
   ],
   "source": [
    "scores.best_params_"
   ]
  },
  {
   "attachments": {},
   "cell_type": "markdown",
   "metadata": {},
   "source": [
    "From the above, we would choose 'entropy' as our criterion and 7 as min splits. Let's see how well this holds up in prediction on unseen data. \n",
    "\n",
    "The most common way to evaluate classification visually is with a confusion matrix. Bascially, if you predict skill level 0 and the original 'true' label was 0, then you have a true positive. Depending on your intent, this might be what you're hoping to maximize.\n",
    "\n",
    "You will explore the types of metrics in Chapter 8 in more detail.\n",
    "\n",
    "Below is a confusion matrix."
   ]
  },
  {
   "cell_type": "code",
   "execution_count": 94,
   "metadata": {},
   "outputs": [
    {
     "data": {
      "image/png": "[encoded data removed]",
      "text/plain": [
       "<Figure size 640x480 with 2 Axes>"
      ]
     },
     "metadata": {},
     "output_type": "display_data"
    }
   ],
   "source": [
    "final_model = scores.best_estimator_\n",
    "rtc_pred = final_model.predict(X_test)\n",
    "ConfusionMatrixDisplay.from_predictions(y_test, rtc_pred)\n",
    "plt.show()"
   ]
  },
  {
   "attachments": {},
   "cell_type": "markdown",
   "metadata": {},
   "source": [
    "In R, the output is much more detailed. Python produces a report that is more focused on the three metrics you will use most often. Again, you will see these in more detail in the next chapter.\n",
    "\n",
    "'Support' is simply the total number of observations for each particular class. So, for the first line, 'class 0' there are 110 observations."
   ]
  },
  {
   "cell_type": "code",
   "execution_count": 95,
   "metadata": {},
   "outputs": [
    {
     "name": "stdout",
     "output_type": "stream",
     "text": [
      "              precision    recall  f1-score   support\n",
      "\n",
      "     class 0       1.00      0.86      0.93       110\n",
      "     class 1       0.80      1.00      0.89        98\n",
      "     class 2       0.00      0.00      0.00         6\n",
      "     class 3       0.00      0.00      0.00         3\n",
      "\n",
      "    accuracy                           0.89       217\n",
      "   macro avg       0.45      0.47      0.45       217\n",
      "weighted avg       0.87      0.89      0.87       217\n",
      "\n"
     ]
    }
   ],
   "source": [
    "target_names = ['class 0', 'class 1', 'class 2', 'class 3']\n",
    "print(classification_report(y_test, rtc_pred, target_names=target_names))"
   ]
  },
  {
   "attachments": {},
   "cell_type": "markdown",
   "metadata": {},
   "source": [
    "We can also call up the Kappa separately if we're worried about an imbalance."
   ]
  },
  {
   "cell_type": "code",
   "execution_count": 96,
   "metadata": {},
   "outputs": [
    {
     "data": {
      "text/plain": [
       "0.7890045780496698"
      ]
     },
     "execution_count": 96,
     "metadata": {},
     "output_type": "execute_result"
    }
   ],
   "source": [
    "cohen_kappa_score(y_test, rtc_pred)"
   ]
  },
  {
   "attachments": {},
   "cell_type": "markdown",
   "metadata": {},
   "source": [
    "Lastly, R focuses on 'specificity' and 'sensitivity'. These are actually two forms of 'recall'. Recall of a positive class is sensitivity while recall of a negative class is specificity.\n",
    "\n",
    "The issue is that this works in binary classification only. For present purposes, we can manipulate the predicted data into a binary for each class we have and then call up specificity and sensitivity."
   ]
  },
  {
   "cell_type": "code",
   "execution_count": 97,
   "metadata": {},
   "outputs": [
    {
     "data": {
      "text/html": [
       "<div>\n",
       "<style scoped>\n",
       "    .dataframe tbody tr th:only-of-type {\n",
       "        vertical-align: middle;\n",
       "    }\n",
       "\n",
       "    .dataframe tbody tr th {\n",
       "        vertical-align: top;\n",
       "    }\n",
       "\n",
       "    .dataframe thead th {\n",
       "        text-align: right;\n",
       "    }\n",
       "</style>\n",
       "<table border=\"1\" class=\"dataframe\">\n",
       "  <thead>\n",
       "    <tr style=\"text-align: right;\">\n",
       "      <th></th>\n",
       "      <th>0</th>\n",
       "      <th>1</th>\n",
       "      <th>2</th>\n",
       "      <th>3</th>\n",
       "    </tr>\n",
       "  </thead>\n",
       "  <tbody>\n",
       "    <tr>\n",
       "      <th>sensitivity</th>\n",
       "      <td>0.863636</td>\n",
       "      <td>1.000000</td>\n",
       "      <td>0.0</td>\n",
       "      <td>0.0</td>\n",
       "    </tr>\n",
       "    <tr>\n",
       "      <th>specificity</th>\n",
       "      <td>1.000000</td>\n",
       "      <td>0.798319</td>\n",
       "      <td>1.0</td>\n",
       "      <td>1.0</td>\n",
       "    </tr>\n",
       "  </tbody>\n",
       "</table>\n",
       "</div>"
      ],
      "text/plain": [
       "                    0         1    2    3\n",
       "sensitivity  0.863636  1.000000  0.0  0.0\n",
       "specificity  1.000000  0.798319  1.0  1.0"
      ]
     },
     "execution_count": 97,
     "metadata": {},
     "output_type": "execute_result"
    }
   ],
   "source": [
    "prfs = []\n",
    "for l in [0,1,2,3]:\n",
    "    prec,recall,_,_ = precision_recall_fscore_support(np.array(y_test).astype(float)==l, np.array(rtc_pred.astype(float))==l, pos_label=True,average=None)\n",
    "    prfs.append([recall[1],recall[0]])\n",
    "\n",
    "pd.DataFrame(prfs, columns = ['sensitivity','specificity']).transpose()"
   ]
  },
  {
   "attachments": {},
   "cell_type": "markdown",
   "metadata": {},
   "source": [
    "Relatively, when compared to our other classifiers in this chapter, the RandomForestClassifier performs well - it exceeds our DecisionTreeClassifier  - at 87% Accuracy - with a score of 88%!. \n",
    "\n",
    "However, R implements another type of RandomForest as well - the 'extratrees' - which stands for 'extrememly randomized trees'. There is a separate ExtraTreesClassifier available through sklearn. \n",
    "\n",
    "We will implement it here and compare with our first random forest. In this case, it will produce the same result - 88% Accuracy. It's important nonetheless to see this implemented."
   ]
  },
  {
   "cell_type": "code",
   "execution_count": 84,
   "metadata": {},
   "outputs": [
    {
     "data": {
      "text/html": [
       "<style>#sk-container-id-5 {color: black;background-color: white;}#sk-container-id-5 pre{padding: 0;}#sk-container-id-5 div.sk-toggleable {background-color: white;}#sk-container-id-5 label.sk-toggleable__label {cursor: pointer;display: block;width: 100%;margin-bottom: 0;padding: 0.3em;box-sizing: border-box;text-align: center;}#sk-container-id-5 label.sk-toggleable__label-arrow:before {content: \"▸\";float: left;margin-right: 0.25em;color: #696969;}#sk-container-id-5 label.sk-toggleable__label-arrow:hover:before {color: black;}#sk-container-id-5 div.sk-estimator:hover label.sk-toggleable__label-arrow:before {color: black;}#sk-container-id-5 div.sk-toggleable__content {max-height: 0;max-width: 0;overflow: hidden;text-align: left;background-color: #f0f8ff;}#sk-container-id-5 div.sk-toggleable__content pre {margin: 0.2em;color: black;border-radius: 0.25em;background-color: #f0f8ff;}#sk-container-id-5 input.sk-toggleable__control:checked~div.sk-toggleable__content {max-height: 200px;max-width: 100%;overflow: auto;}#sk-container-id-5 input.sk-toggleable__control:checked~label.sk-toggleable__label-arrow:before {content: \"▾\";}#sk-container-id-5 div.sk-estimator input.sk-toggleable__control:checked~label.sk-toggleable__label {background-color: #d4ebff;}#sk-container-id-5 div.sk-label input.sk-toggleable__control:checked~label.sk-toggleable__label {background-color: #d4ebff;}#sk-container-id-5 input.sk-hidden--visually {border: 0;clip: rect(1px 1px 1px 1px);clip: rect(1px, 1px, 1px, 1px);height: 1px;margin: -1px;overflow: hidden;padding: 0;position: absolute;width: 1px;}#sk-container-id-5 div.sk-estimator {font-family: monospace;background-color: #f0f8ff;border: 1px dotted black;border-radius: 0.25em;box-sizing: border-box;margin-bottom: 0.5em;}#sk-container-id-5 div.sk-estimator:hover {background-color: #d4ebff;}#sk-container-id-5 div.sk-parallel-item::after {content: \"\";width: 100%;border-bottom: 1px solid gray;flex-grow: 1;}#sk-container-id-5 div.sk-label:hover label.sk-toggleable__label {background-color: #d4ebff;}#sk-container-id-5 div.sk-serial::before {content: \"\";position: absolute;border-left: 1px solid gray;box-sizing: border-box;top: 0;bottom: 0;left: 50%;z-index: 0;}#sk-container-id-5 div.sk-serial {display: flex;flex-direction: column;align-items: center;background-color: white;padding-right: 0.2em;padding-left: 0.2em;position: relative;}#sk-container-id-5 div.sk-item {position: relative;z-index: 1;}#sk-container-id-5 div.sk-parallel {display: flex;align-items: stretch;justify-content: center;background-color: white;position: relative;}#sk-container-id-5 div.sk-item::before, #sk-container-id-5 div.sk-parallel-item::before {content: \"\";position: absolute;border-left: 1px solid gray;box-sizing: border-box;top: 0;bottom: 0;left: 50%;z-index: -1;}#sk-container-id-5 div.sk-parallel-item {display: flex;flex-direction: column;z-index: 1;position: relative;background-color: white;}#sk-container-id-5 div.sk-parallel-item:first-child::after {align-self: flex-end;width: 50%;}#sk-container-id-5 div.sk-parallel-item:last-child::after {align-self: flex-start;width: 50%;}#sk-container-id-5 div.sk-parallel-item:only-child::after {width: 0;}#sk-container-id-5 div.sk-dashed-wrapped {border: 1px dashed gray;margin: 0 0.4em 0.5em 0.4em;box-sizing: border-box;padding-bottom: 0.4em;background-color: white;}#sk-container-id-5 div.sk-label label {font-family: monospace;font-weight: bold;display: inline-block;line-height: 1.2em;}#sk-container-id-5 div.sk-label-container {text-align: center;}#sk-container-id-5 div.sk-container {/* jupyter's `normalize.less` sets `[hidden] { display: none; }` but bootstrap.min.css set `[hidden] { display: none !important; }` so we also need the `!important` here to be able to override the default hidden behavior on the sphinx rendered scikit-learn.org. See: https://github.com/scikit-learn/scikit-learn/issues/21755 */display: inline-block !important;position: relative;}#sk-container-id-5 div.sk-text-repr-fallback {display: none;}</style><div id=\"sk-container-id-5\" class=\"sk-top-container\"><div class=\"sk-text-repr-fallback\"><pre>GridSearchCV(cv=RepeatedKFold(n_repeats=3, n_splits=10, random_state=101),\n",
       "             estimator=ExtraTreesClassifier(bootstrap=True, n_estimators=500,\n",
       "                                            oob_score=True),\n",
       "             n_jobs=-1,\n",
       "             param_grid={&#x27;criterion&#x27;: [&#x27;gini&#x27;, &#x27;entropy&#x27;],\n",
       "                         &#x27;min_samples_split&#x27;: [1, 2, 3, 4, 5, 6, 7, 8, 9]},\n",
       "             refit=&#x27;Accuracy&#x27;,\n",
       "             scoring={&#x27;Accuracy&#x27;: &#x27;accuracy&#x27;,\n",
       "                      &#x27;Kappa&#x27;: make_scorer(cohen_kappa_score)})</pre><b>In a Jupyter environment, please rerun this cell to show the HTML representation or trust the notebook. <br />On GitHub, the HTML representation is unable to render, please try loading this page with nbviewer.org.</b></div><div class=\"sk-container\" hidden><div class=\"sk-item sk-dashed-wrapped\"><div class=\"sk-label-container\"><div class=\"sk-label sk-toggleable\"><input class=\"sk-toggleable__control sk-hidden--visually\" id=\"sk-estimator-id-13\" type=\"checkbox\" ><label for=\"sk-estimator-id-13\" class=\"sk-toggleable__label sk-toggleable__label-arrow\">GridSearchCV</label><div class=\"sk-toggleable__content\"><pre>GridSearchCV(cv=RepeatedKFold(n_repeats=3, n_splits=10, random_state=101),\n",
       "             estimator=ExtraTreesClassifier(bootstrap=True, n_estimators=500,\n",
       "                                            oob_score=True),\n",
       "             n_jobs=-1,\n",
       "             param_grid={&#x27;criterion&#x27;: [&#x27;gini&#x27;, &#x27;entropy&#x27;],\n",
       "                         &#x27;min_samples_split&#x27;: [1, 2, 3, 4, 5, 6, 7, 8, 9]},\n",
       "             refit=&#x27;Accuracy&#x27;,\n",
       "             scoring={&#x27;Accuracy&#x27;: &#x27;accuracy&#x27;,\n",
       "                      &#x27;Kappa&#x27;: make_scorer(cohen_kappa_score)})</pre></div></div></div><div class=\"sk-parallel\"><div class=\"sk-parallel-item\"><div class=\"sk-item\"><div class=\"sk-label-container\"><div class=\"sk-label sk-toggleable\"><input class=\"sk-toggleable__control sk-hidden--visually\" id=\"sk-estimator-id-14\" type=\"checkbox\" ><label for=\"sk-estimator-id-14\" class=\"sk-toggleable__label sk-toggleable__label-arrow\">estimator: ExtraTreesClassifier</label><div class=\"sk-toggleable__content\"><pre>ExtraTreesClassifier(bootstrap=True, n_estimators=500, oob_score=True)</pre></div></div></div><div class=\"sk-serial\"><div class=\"sk-item\"><div class=\"sk-estimator sk-toggleable\"><input class=\"sk-toggleable__control sk-hidden--visually\" id=\"sk-estimator-id-15\" type=\"checkbox\" ><label for=\"sk-estimator-id-15\" class=\"sk-toggleable__label sk-toggleable__label-arrow\">ExtraTreesClassifier</label><div class=\"sk-toggleable__content\"><pre>ExtraTreesClassifier(bootstrap=True, n_estimators=500, oob_score=True)</pre></div></div></div></div></div></div></div></div></div></div>"
      ],
      "text/plain": [
       "GridSearchCV(cv=RepeatedKFold(n_repeats=3, n_splits=10, random_state=101),\n",
       "             estimator=ExtraTreesClassifier(bootstrap=True, n_estimators=500,\n",
       "                                            oob_score=True),\n",
       "             n_jobs=-1,\n",
       "             param_grid={'criterion': ['gini', 'entropy'],\n",
       "                         'min_samples_split': [1, 2, 3, 4, 5, 6, 7, 8, 9]},\n",
       "             refit='Accuracy',\n",
       "             scoring={'Accuracy': 'accuracy',\n",
       "                      'Kappa': make_scorer(cohen_kappa_score)})"
      ]
     },
     "execution_count": 84,
     "metadata": {},
     "output_type": "execute_result"
    }
   ],
   "source": [
    "#Setup and configure settings for Repeated k-Fold CV (k-folds=10, repeats=10)\n",
    "rcv = RepeatedKFold(n_splits=10, n_repeats=3, random_state=101)\n",
    "\n",
    "#define model\n",
    "xrtc = ExtraTreesClassifier(n_estimators=500, bootstrap=True, oob_score=True)\n",
    "scoring = {'Accuracy':'accuracy', 'Kappa':make_scorer(cohen_kappa_score)}\n",
    "min_split = list(range(1, 10, 1))\n",
    "split_rule = ['gini', 'entropy']\n",
    "params = {'min_samples_split' : min_split, 'criterion' : split_rule}\n",
    "\n",
    "#create model, perform Repeated CV and evaluate model\n",
    "scores_x = GridSearchCV(xrtc, params, scoring=scoring, cv=rcv, refit='Accuracy', n_jobs=-1)\n",
    "scores_x.fit(X_train, y_train)"
   ]
  },
  {
   "cell_type": "code",
   "execution_count": 85,
   "metadata": {},
   "outputs": [
    {
     "data": {
      "text/html": [
       "<div>\n",
       "<style scoped>\n",
       "    .dataframe tbody tr th:only-of-type {\n",
       "        vertical-align: middle;\n",
       "    }\n",
       "\n",
       "    .dataframe tbody tr th {\n",
       "        vertical-align: top;\n",
       "    }\n",
       "\n",
       "    .dataframe thead th {\n",
       "        text-align: right;\n",
       "    }\n",
       "</style>\n",
       "<table border=\"1\" class=\"dataframe\">\n",
       "  <thead>\n",
       "    <tr style=\"text-align: right;\">\n",
       "      <th></th>\n",
       "      <th>Criterion</th>\n",
       "      <th>Mtry</th>\n",
       "      <th>Accuracy</th>\n",
       "      <th>Kappa</th>\n",
       "    </tr>\n",
       "  </thead>\n",
       "  <tbody>\n",
       "    <tr>\n",
       "      <th>0</th>\n",
       "      <td>gini</td>\n",
       "      <td>1</td>\n",
       "      <td>0.911795</td>\n",
       "      <td>0.827545</td>\n",
       "    </tr>\n",
       "    <tr>\n",
       "      <th>1</th>\n",
       "      <td>gini</td>\n",
       "      <td>2</td>\n",
       "      <td>0.912821</td>\n",
       "      <td>0.829373</td>\n",
       "    </tr>\n",
       "    <tr>\n",
       "      <th>2</th>\n",
       "      <td>gini</td>\n",
       "      <td>3</td>\n",
       "      <td>0.910769</td>\n",
       "      <td>0.825454</td>\n",
       "    </tr>\n",
       "    <tr>\n",
       "      <th>3</th>\n",
       "      <td>gini</td>\n",
       "      <td>4</td>\n",
       "      <td>0.912821</td>\n",
       "      <td>0.829272</td>\n",
       "    </tr>\n",
       "    <tr>\n",
       "      <th>4</th>\n",
       "      <td>gini</td>\n",
       "      <td>5</td>\n",
       "      <td>0.912821</td>\n",
       "      <td>0.829182</td>\n",
       "    </tr>\n",
       "    <tr>\n",
       "      <th>5</th>\n",
       "      <td>gini</td>\n",
       "      <td>6</td>\n",
       "      <td>0.910769</td>\n",
       "      <td>0.825131</td>\n",
       "    </tr>\n",
       "    <tr>\n",
       "      <th>6</th>\n",
       "      <td>gini</td>\n",
       "      <td>7</td>\n",
       "      <td>0.910256</td>\n",
       "      <td>0.824116</td>\n",
       "    </tr>\n",
       "    <tr>\n",
       "      <th>7</th>\n",
       "      <td>gini</td>\n",
       "      <td>8</td>\n",
       "      <td>0.911282</td>\n",
       "      <td>0.826014</td>\n",
       "    </tr>\n",
       "    <tr>\n",
       "      <th>8</th>\n",
       "      <td>gini</td>\n",
       "      <td>9</td>\n",
       "      <td>0.909231</td>\n",
       "      <td>0.822077</td>\n",
       "    </tr>\n",
       "    <tr>\n",
       "      <th>9</th>\n",
       "      <td>entropy</td>\n",
       "      <td>1</td>\n",
       "      <td>0.909231</td>\n",
       "      <td>0.822556</td>\n",
       "    </tr>\n",
       "    <tr>\n",
       "      <th>10</th>\n",
       "      <td>entropy</td>\n",
       "      <td>2</td>\n",
       "      <td>0.910256</td>\n",
       "      <td>0.824450</td>\n",
       "    </tr>\n",
       "    <tr>\n",
       "      <th>11</th>\n",
       "      <td>entropy</td>\n",
       "      <td>3</td>\n",
       "      <td>0.910769</td>\n",
       "      <td>0.825497</td>\n",
       "    </tr>\n",
       "    <tr>\n",
       "      <th>12</th>\n",
       "      <td>entropy</td>\n",
       "      <td>4</td>\n",
       "      <td>0.912821</td>\n",
       "      <td>0.829360</td>\n",
       "    </tr>\n",
       "    <tr>\n",
       "      <th>13</th>\n",
       "      <td>entropy</td>\n",
       "      <td>5</td>\n",
       "      <td>0.909231</td>\n",
       "      <td>0.822254</td>\n",
       "    </tr>\n",
       "    <tr>\n",
       "      <th>14</th>\n",
       "      <td>entropy</td>\n",
       "      <td>6</td>\n",
       "      <td>0.912308</td>\n",
       "      <td>0.828328</td>\n",
       "    </tr>\n",
       "    <tr>\n",
       "      <th>15</th>\n",
       "      <td>entropy</td>\n",
       "      <td>7</td>\n",
       "      <td>0.908718</td>\n",
       "      <td>0.821148</td>\n",
       "    </tr>\n",
       "    <tr>\n",
       "      <th>16</th>\n",
       "      <td>entropy</td>\n",
       "      <td>8</td>\n",
       "      <td>0.909744</td>\n",
       "      <td>0.822964</td>\n",
       "    </tr>\n",
       "    <tr>\n",
       "      <th>17</th>\n",
       "      <td>entropy</td>\n",
       "      <td>9</td>\n",
       "      <td>0.910769</td>\n",
       "      <td>0.825040</td>\n",
       "    </tr>\n",
       "  </tbody>\n",
       "</table>\n",
       "</div>"
      ],
      "text/plain": [
       "   Criterion Mtry  Accuracy     Kappa\n",
       "0       gini    1  0.911795  0.827545\n",
       "1       gini    2  0.912821  0.829373\n",
       "2       gini    3  0.910769  0.825454\n",
       "3       gini    4  0.912821  0.829272\n",
       "4       gini    5  0.912821  0.829182\n",
       "5       gini    6  0.910769  0.825131\n",
       "6       gini    7  0.910256  0.824116\n",
       "7       gini    8  0.911282  0.826014\n",
       "8       gini    9  0.909231  0.822077\n",
       "9    entropy    1  0.909231  0.822556\n",
       "10   entropy    2  0.910256  0.824450\n",
       "11   entropy    3  0.910769  0.825497\n",
       "12   entropy    4  0.912821  0.829360\n",
       "13   entropy    5  0.909231  0.822254\n",
       "14   entropy    6  0.912308  0.828328\n",
       "15   entropy    7  0.908718  0.821148\n",
       "16   entropy    8  0.909744  0.822964\n",
       "17   entropy    9  0.910769  0.825040"
      ]
     },
     "execution_count": 85,
     "metadata": {},
     "output_type": "execute_result"
    }
   ],
   "source": [
    "cv_dfx = pd.DataFrame(scores_x.cv_results_)\n",
    "cv_res_dfx = pd.DataFrame(cv_dfx[['param_criterion', 'param_min_samples_split', 'mean_test_Accuracy', 'mean_test_Kappa']])\n",
    "cv_res_dfx.rename(columns = {'param_criterion' : 'Criterion',  'param_min_samples_split': 'Mtry', 'mean_test_Accuracy' : 'Accuracy', 'mean_test_Kappa' : 'Kappa'}, inplace=True)\n",
    "cv_res_dfx"
   ]
  },
  {
   "cell_type": "code",
   "execution_count": 86,
   "metadata": {},
   "outputs": [
    {
     "data": {
      "text/plain": [
       "{'criterion': 'gini', 'min_samples_split': 2}"
      ]
     },
     "execution_count": 86,
     "metadata": {},
     "output_type": "execute_result"
    }
   ],
   "source": [
    "scores_x.best_params_"
   ]
  },
  {
   "attachments": {},
   "cell_type": "markdown",
   "metadata": {},
   "source": [
    "This time we will set min splits to 6 and stick with entropy."
   ]
  },
  {
   "cell_type": "code",
   "execution_count": 87,
   "metadata": {},
   "outputs": [
    {
     "data": {
      "image/png": "[encoded data removed]",
      "text/plain": [
       "<Figure size 640x480 with 2 Axes>"
      ]
     },
     "metadata": {},
     "output_type": "display_data"
    }
   ],
   "source": [
    "final_model_x = scores_x.best_estimator_\n",
    "xrtc_pred = final_model_x.predict(X_test)\n",
    "ConfusionMatrixDisplay.from_predictions(y_test, xrtc_pred)\n",
    "plt.show()"
   ]
  },
  {
   "cell_type": "code",
   "execution_count": 88,
   "metadata": {},
   "outputs": [
    {
     "name": "stdout",
     "output_type": "stream",
     "text": [
      "              precision    recall  f1-score   support\n",
      "\n",
      "     class 0       0.99      0.86      0.92       110\n",
      "     class 1       0.80      0.99      0.89        98\n",
      "     class 2       0.00      0.00      0.00         6\n",
      "     class 3       0.00      0.00      0.00         3\n",
      "\n",
      "    accuracy                           0.88       217\n",
      "   macro avg       0.45      0.46      0.45       217\n",
      "weighted avg       0.86      0.88      0.87       217\n",
      "\n"
     ]
    }
   ],
   "source": [
    "print(classification_report(y_test, xrtc_pred, target_names=target_names))"
   ]
  },
  {
   "cell_type": "code",
   "execution_count": null,
   "metadata": {},
   "outputs": [],
   "source": [
    "plt.plot(cv_res_df['Complexity'], cv_res_df['Accuracy']);"
   ]
  },
  {
   "attachments": {},
   "cell_type": "markdown",
   "metadata": {},
   "source": [
    "## Step 4: Examining independent variables' importance\n",
    "\n",
    "As discussed in the text, random forests produce an additional attribute: variable importance.\n",
    "\n",
    "Note: Both of the models demonstrated in this Lab can produce different importances."
   ]
  },
  {
   "cell_type": "code",
   "execution_count": 89,
   "metadata": {},
   "outputs": [
    {
     "data": {
      "text/html": [
       "<div>\n",
       "<style scoped>\n",
       "    .dataframe tbody tr th:only-of-type {\n",
       "        vertical-align: middle;\n",
       "    }\n",
       "\n",
       "    .dataframe tbody tr th {\n",
       "        vertical-align: top;\n",
       "    }\n",
       "\n",
       "    .dataframe thead th {\n",
       "        text-align: right;\n",
       "    }\n",
       "</style>\n",
       "<table border=\"1\" class=\"dataframe\">\n",
       "  <thead>\n",
       "    <tr style=\"text-align: right;\">\n",
       "      <th></th>\n",
       "      <th>Feature</th>\n",
       "      <th>Importance</th>\n",
       "    </tr>\n",
       "  </thead>\n",
       "  <tbody>\n",
       "    <tr>\n",
       "      <th>0</th>\n",
       "      <td>GamesPlayed</td>\n",
       "      <td>0.082970</td>\n",
       "    </tr>\n",
       "    <tr>\n",
       "      <th>1</th>\n",
       "      <td>GamesWon</td>\n",
       "      <td>0.115047</td>\n",
       "    </tr>\n",
       "    <tr>\n",
       "      <th>2</th>\n",
       "      <td>GamesLeft</td>\n",
       "      <td>0.031062</td>\n",
       "    </tr>\n",
       "    <tr>\n",
       "      <th>3</th>\n",
       "      <td>Ditches</td>\n",
       "      <td>0.025017</td>\n",
       "    </tr>\n",
       "    <tr>\n",
       "      <th>4</th>\n",
       "      <td>Points</td>\n",
       "      <td>0.040966</td>\n",
       "    </tr>\n",
       "    <tr>\n",
       "      <th>5</th>\n",
       "      <td>Kills</td>\n",
       "      <td>0.081628</td>\n",
       "    </tr>\n",
       "    <tr>\n",
       "      <th>6</th>\n",
       "      <td>KillsPerMin</td>\n",
       "      <td>0.034576</td>\n",
       "    </tr>\n",
       "    <tr>\n",
       "      <th>7</th>\n",
       "      <td>Deaths</td>\n",
       "      <td>0.066080</td>\n",
       "    </tr>\n",
       "    <tr>\n",
       "      <th>8</th>\n",
       "      <td>Assists</td>\n",
       "      <td>0.082591</td>\n",
       "    </tr>\n",
       "    <tr>\n",
       "      <th>9</th>\n",
       "      <td>CreepsKilled</td>\n",
       "      <td>0.074724</td>\n",
       "    </tr>\n",
       "    <tr>\n",
       "      <th>10</th>\n",
       "      <td>CreepsDenied</td>\n",
       "      <td>0.067638</td>\n",
       "    </tr>\n",
       "    <tr>\n",
       "      <th>11</th>\n",
       "      <td>NeutralsKilled</td>\n",
       "      <td>0.064526</td>\n",
       "    </tr>\n",
       "    <tr>\n",
       "      <th>12</th>\n",
       "      <td>TowersDestroyed</td>\n",
       "      <td>0.076242</td>\n",
       "    </tr>\n",
       "    <tr>\n",
       "      <th>13</th>\n",
       "      <td>RaxsDestroyed</td>\n",
       "      <td>0.076653</td>\n",
       "    </tr>\n",
       "    <tr>\n",
       "      <th>14</th>\n",
       "      <td>TotalTime</td>\n",
       "      <td>0.080280</td>\n",
       "    </tr>\n",
       "  </tbody>\n",
       "</table>\n",
       "</div>"
      ],
      "text/plain": [
       "            Feature  Importance\n",
       "0       GamesPlayed    0.082970\n",
       "1          GamesWon    0.115047\n",
       "2         GamesLeft    0.031062\n",
       "3           Ditches    0.025017\n",
       "4            Points    0.040966\n",
       "5             Kills    0.081628\n",
       "6       KillsPerMin    0.034576\n",
       "7            Deaths    0.066080\n",
       "8           Assists    0.082591\n",
       "9      CreepsKilled    0.074724\n",
       "10     CreepsDenied    0.067638\n",
       "11   NeutralsKilled    0.064526\n",
       "12  TowersDestroyed    0.076242\n",
       "13    RaxsDestroyed    0.076653\n",
       "14        TotalTime    0.080280"
      ]
     },
     "execution_count": 89,
     "metadata": {},
     "output_type": "execute_result"
    }
   ],
   "source": [
    "names = pd.DataFrame(X_test.columns, columns=['Feature'])\n",
    "imps = pd.DataFrame(final_model_x.feature_importances_, columns=['Importance'])\n",
    "varImp = pd.concat([names, imps], axis=1,).reindex(names.index)\n",
    "varImp"
   ]
  },
  {
   "cell_type": "code",
   "execution_count": 90,
   "metadata": {},
   "outputs": [
    {
     "data": {
      "image/png": "[encoded data removed]",
      "text/plain": [
       "<Figure size 640x480 with 1 Axes>"
      ]
     },
     "metadata": {},
     "output_type": "display_data"
    }
   ],
   "source": [
    "sns.barplot(\n",
    "    data=varImp, x = 'Importance', y = 'Feature', width = .1, order=varImp.sort_values('Importance', ascending=False).Feature\n",
    ");"
   ]
  },
  {
   "attachments": {},
   "cell_type": "markdown",
   "metadata": {},
   "source": [
    "This is a very useful visualization. Our 'extratrees' model indicates that the top three features are 'GamesWon', 'GamesPlayed' and 'Assists'  - followed closely by 'Kills' and 'TotalTime'.\n",
    "\n",
    "Logically, 'TotalTime', 'GamesPlayed' and 'GamesWon' should be highly correlated, so the top five appear really to be top 3 - 'Kills', 'Assists' and the three time-based features.\n",
    "\n",
    "Also, you'll remember that our decision tree also picked 'GamesWon' as its top reason to split the data. After that, things seemed to muddled for it to make further decisions. Could it be that there was such high correlation between 'GamesWon' and other features that the other features did not reveal any different reasons to split the data? It's worth looking into!\n",
    "\n",
    "Lastly, sklearn's own documentation admits that feature importance as implemented by RandomForestsClassifier has a bias and recommend using sklearn.inspection.permutation_importance. You should have a good idea of how feature importance works and can be used from this lab however, so exploring permutation_importance is left to the reader."
   ]
  }
 ],
 "metadata": {
  "kernelspec": {
   "display_name": "Python 3",
   "language": "python",
   "name": "python3"
  },
  "language_info": {
   "codemirror_mode": {
    "name": "ipython",
    "version": 3
   },
   "file_extension": ".py",
   "mimetype": "text/x-python",
   "name": "python",
   "nbconvert_exporter": "python",
   "pygments_lexer": "ipython3",
   "version": "3.9.13"
  },
  "orig_nbformat": 4
 },
 "nbformat": 4,
 "nbformat_minor": 2
}
