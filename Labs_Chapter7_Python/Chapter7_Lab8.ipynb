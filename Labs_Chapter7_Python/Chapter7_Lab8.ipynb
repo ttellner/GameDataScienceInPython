{
 "cells": [
  {
   "attachments": {},
   "cell_type": "markdown",
   "metadata": {},
   "source": [
    "# Chapter 7 Lab 8\n",
    "\n",
    "## Goal\n",
    "In this lab, we will continue to use the DoTalicious data set from previous labs. Using a Decision Tree (DT) for classification, we will attempt to predict a player's SkillLevel. If you remember, the raw data represents skill level with numbers between 0 and 3 with 0 being Novice and 3 being Expert. We would expect a player's SkillLevel to be a reflection of their other stats such as Kills and Deaths.\n",
    "\n",
    "Scikit-learn has a DecisionTreeClassifier package that we will use. We will use RepeatKFold and GridSearchCV again for this exersice to tune the complexity parameter.\n",
    "\n",
    "## Preparation\n",
    "\n",
    "Load the required packages below."
   ]
  },
  {
   "cell_type": "code",
   "execution_count": 23,
   "metadata": {},
   "outputs": [],
   "source": [
    "from sklearn.model_selection import train_test_split, RepeatedKFold, GridSearchCV\n",
    "from sklearn.metrics import ConfusionMatrixDisplay, cohen_kappa_score, classification_report, precision_recall_fscore_support, make_scorer\n",
    "from sklearn.tree import DecisionTreeClassifier\n",
    "import pandas as pd\n",
    "import numpy as np\n",
    "import matplotlib as mpl\n",
    "import matplotlib.pyplot as plt\n",
    "%matplotlib inline\n",
    "import seaborn as sns\n",
    "import sys\n",
    "from io import StringIO\n",
    "\n",
    "import warnings\n",
    "warnings.filterwarnings('ignore')\n"
   ]
  },
  {
   "attachments": {},
   "cell_type": "markdown",
   "metadata": {},
   "source": [
    "## Step 1: Data Pre-processing\n",
    "\n",
    "Let's read in the data and take a quick look at it."
   ]
  },
  {
   "cell_type": "code",
   "execution_count": 3,
   "metadata": {},
   "outputs": [
    {
     "data": {
      "text/html": [
       "<div>\n",
       "<style scoped>\n",
       "    .dataframe tbody tr th:only-of-type {\n",
       "        vertical-align: middle;\n",
       "    }\n",
       "\n",
       "    .dataframe tbody tr th {\n",
       "        vertical-align: top;\n",
       "    }\n",
       "\n",
       "    .dataframe thead th {\n",
       "        text-align: right;\n",
       "    }\n",
       "</style>\n",
       "<table border=\"1\" class=\"dataframe\">\n",
       "  <thead>\n",
       "    <tr style=\"text-align: right;\">\n",
       "      <th></th>\n",
       "      <th>GamesPlayed</th>\n",
       "      <th>GamesWon</th>\n",
       "      <th>GamesLeft</th>\n",
       "      <th>Ditches</th>\n",
       "      <th>Points</th>\n",
       "      <th>SkillLevel</th>\n",
       "      <th>Kills</th>\n",
       "      <th>KillsPerMin</th>\n",
       "      <th>Deaths</th>\n",
       "      <th>Assists</th>\n",
       "      <th>CreepsKilled</th>\n",
       "      <th>CreepsDenied</th>\n",
       "      <th>NeutralsKilled</th>\n",
       "      <th>TowersDestroyed</th>\n",
       "      <th>RaxsDestroyed</th>\n",
       "      <th>TotalTime</th>\n",
       "    </tr>\n",
       "  </thead>\n",
       "  <tbody>\n",
       "    <tr>\n",
       "      <th>0</th>\n",
       "      <td>447</td>\n",
       "      <td>248</td>\n",
       "      <td>6</td>\n",
       "      <td>6</td>\n",
       "      <td>1111.360</td>\n",
       "      <td>1</td>\n",
       "      <td>2271</td>\n",
       "      <td>0.12</td>\n",
       "      <td>1889</td>\n",
       "      <td>4201</td>\n",
       "      <td>38736</td>\n",
       "      <td>3058</td>\n",
       "      <td>3456</td>\n",
       "      <td>355</td>\n",
       "      <td>151</td>\n",
       "      <td>1116780</td>\n",
       "    </tr>\n",
       "    <tr>\n",
       "      <th>1</th>\n",
       "      <td>66</td>\n",
       "      <td>39</td>\n",
       "      <td>0</td>\n",
       "      <td>0</td>\n",
       "      <td>989.882</td>\n",
       "      <td>1</td>\n",
       "      <td>373</td>\n",
       "      <td>0.13</td>\n",
       "      <td>450</td>\n",
       "      <td>745</td>\n",
       "      <td>4484</td>\n",
       "      <td>518</td>\n",
       "      <td>455</td>\n",
       "      <td>49</td>\n",
       "      <td>23</td>\n",
       "      <td>169800</td>\n",
       "    </tr>\n",
       "    <tr>\n",
       "      <th>2</th>\n",
       "      <td>3</td>\n",
       "      <td>0</td>\n",
       "      <td>0</td>\n",
       "      <td>0</td>\n",
       "      <td>1000.000</td>\n",
       "      <td>0</td>\n",
       "      <td>11</td>\n",
       "      <td>0.11</td>\n",
       "      <td>28</td>\n",
       "      <td>18</td>\n",
       "      <td>186</td>\n",
       "      <td>10</td>\n",
       "      <td>7</td>\n",
       "      <td>0</td>\n",
       "      <td>0</td>\n",
       "      <td>6180</td>\n",
       "    </tr>\n",
       "    <tr>\n",
       "      <th>3</th>\n",
       "      <td>100</td>\n",
       "      <td>59</td>\n",
       "      <td>5</td>\n",
       "      <td>1</td>\n",
       "      <td>1228.460</td>\n",
       "      <td>1</td>\n",
       "      <td>1079</td>\n",
       "      <td>0.26</td>\n",
       "      <td>448</td>\n",
       "      <td>934</td>\n",
       "      <td>13943</td>\n",
       "      <td>1885</td>\n",
       "      <td>1417</td>\n",
       "      <td>132</td>\n",
       "      <td>36</td>\n",
       "      <td>250200</td>\n",
       "    </tr>\n",
       "    <tr>\n",
       "      <th>4</th>\n",
       "      <td>1</td>\n",
       "      <td>1</td>\n",
       "      <td>0</td>\n",
       "      <td>0</td>\n",
       "      <td>1020.000</td>\n",
       "      <td>0</td>\n",
       "      <td>9</td>\n",
       "      <td>0.28</td>\n",
       "      <td>2</td>\n",
       "      <td>10</td>\n",
       "      <td>38</td>\n",
       "      <td>8</td>\n",
       "      <td>3</td>\n",
       "      <td>0</td>\n",
       "      <td>0</td>\n",
       "      <td>1944</td>\n",
       "    </tr>\n",
       "  </tbody>\n",
       "</table>\n",
       "</div>"
      ],
      "text/plain": [
       "   GamesPlayed  GamesWon  GamesLeft  Ditches    Points SkillLevel  Kills  \\\n",
       "0          447       248          6        6  1111.360          1   2271   \n",
       "1           66        39          0        0   989.882          1    373   \n",
       "2            3         0          0        0  1000.000          0     11   \n",
       "3          100        59          5        1  1228.460          1   1079   \n",
       "4            1         1          0        0  1020.000          0      9   \n",
       "\n",
       "   KillsPerMin   Deaths  Assists  CreepsKilled  CreepsDenied   NeutralsKilled  \\\n",
       "0         0.12     1889     4201         38736          3058             3456   \n",
       "1         0.13      450      745          4484           518              455   \n",
       "2         0.11       28       18           186            10                7   \n",
       "3         0.26      448      934         13943          1885             1417   \n",
       "4         0.28        2       10            38             8                3   \n",
       "\n",
       "    TowersDestroyed   RaxsDestroyed  TotalTime  \n",
       "0               355             151    1116780  \n",
       "1                49              23     169800  \n",
       "2                 0               0       6180  \n",
       "3               132              36     250200  \n",
       "4                 0               0       1944  "
      ]
     },
     "execution_count": 3,
     "metadata": {},
     "output_type": "execute_result"
    }
   ],
   "source": [
    "dota_df1 = pd.read_csv('DoTalicious_cleaned1000players.csv')\n",
    "dota_df1.drop(['PlayerID'], axis=1, inplace=True)\n",
    "dota_df1.head()"
   ]
  },
  {
   "cell_type": "code",
   "execution_count": 4,
   "metadata": {},
   "outputs": [
    {
     "name": "stdout",
     "output_type": "stream",
     "text": [
      "<class 'pandas.core.frame.DataFrame'>\n",
      "RangeIndex: 868 entries, 0 to 867\n",
      "Data columns (total 16 columns):\n",
      " #   Column            Non-Null Count  Dtype  \n",
      "---  ------            --------------  -----  \n",
      " 0   GamesPlayed       868 non-null    int64  \n",
      " 1   GamesWon          868 non-null    int64  \n",
      " 2   GamesLeft         868 non-null    int64  \n",
      " 3   Ditches           868 non-null    int64  \n",
      " 4   Points            868 non-null    float64\n",
      " 5   SkillLevel        868 non-null    object \n",
      " 6   Kills             868 non-null    int64  \n",
      " 7   KillsPerMin       868 non-null    float64\n",
      " 8    Deaths           868 non-null    int64  \n",
      " 9   Assists           868 non-null    int64  \n",
      " 10  CreepsKilled      868 non-null    int64  \n",
      " 11  CreepsDenied      868 non-null    int64  \n",
      " 12   NeutralsKilled   868 non-null    int64  \n",
      " 13   TowersDestroyed  868 non-null    int64  \n",
      " 14   RaxsDestroyed    868 non-null    int64  \n",
      " 15   TotalTime        868 non-null    object \n",
      "dtypes: float64(2), int64(12), object(2)\n",
      "memory usage: 108.6+ KB\n"
     ]
    }
   ],
   "source": [
    "dota_df1.info()"
   ]
  },
  {
   "cell_type": "code",
   "execution_count": 5,
   "metadata": {},
   "outputs": [
    {
     "name": "stdout",
     "output_type": "stream",
     "text": [
      "<class 'pandas.core.frame.DataFrame'>\n",
      "RangeIndex: 868 entries, 0 to 867\n",
      "Data columns (total 16 columns):\n",
      " #   Column           Non-Null Count  Dtype  \n",
      "---  ------           --------------  -----  \n",
      " 0   GamesPlayed      868 non-null    int64  \n",
      " 1   GamesWon         868 non-null    int64  \n",
      " 2   GamesLeft        868 non-null    int64  \n",
      " 3   Ditches          868 non-null    int64  \n",
      " 4   Points           868 non-null    float64\n",
      " 5   SkillLevel       868 non-null    object \n",
      " 6   Kills            868 non-null    int64  \n",
      " 7   KillsPerMin      868 non-null    float64\n",
      " 8   Deaths           868 non-null    int64  \n",
      " 9   Assists          868 non-null    int64  \n",
      " 10  CreepsKilled     868 non-null    int64  \n",
      " 11  CreepsDenied     868 non-null    int64  \n",
      " 12  NeutralsKilled   868 non-null    int64  \n",
      " 13  TowersDestroyed  868 non-null    int64  \n",
      " 14  RaxsDestroyed    868 non-null    int64  \n",
      " 15  TotalTime        868 non-null    object \n",
      "dtypes: float64(2), int64(12), object(2)\n",
      "memory usage: 108.6+ KB\n"
     ]
    }
   ],
   "source": [
    "dota_df1 = dota_df1.rename(columns=lambda x: x.strip())\n",
    "dota_df1.info()"
   ]
  },
  {
   "attachments": {},
   "cell_type": "markdown",
   "metadata": {},
   "source": [
    "Notice that we will need to change some data types."
   ]
  },
  {
   "cell_type": "code",
   "execution_count": 6,
   "metadata": {},
   "outputs": [],
   "source": [
    "dota_df1['TotalTime'] = pd.to_numeric(dota_df1['TotalTime'], errors='coerce')"
   ]
  },
  {
   "attachments": {},
   "cell_type": "markdown",
   "metadata": {},
   "source": [
    "We'll make a quick fix to an odd value in SkillLevel too. Here, we'll remove the row."
   ]
  },
  {
   "cell_type": "code",
   "execution_count": 7,
   "metadata": {},
   "outputs": [],
   "source": [
    "dota_df1.loc[dota_df1['SkillLevel'] ==' SkillLevelNull', 'SkillLevel'] = '1'"
   ]
  },
  {
   "attachments": {},
   "cell_type": "markdown",
   "metadata": {},
   "source": [
    "Lastly, let's work on the SkillLevel column! We need to change it to categorical."
   ]
  },
  {
   "cell_type": "code",
   "execution_count": 8,
   "metadata": {},
   "outputs": [
    {
     "name": "stdout",
     "output_type": "stream",
     "text": [
      "<class 'pandas.core.frame.DataFrame'>\n",
      "RangeIndex: 868 entries, 0 to 867\n",
      "Data columns (total 16 columns):\n",
      " #   Column           Non-Null Count  Dtype   \n",
      "---  ------           --------------  -----   \n",
      " 0   GamesPlayed      868 non-null    int64   \n",
      " 1   GamesWon         868 non-null    int64   \n",
      " 2   GamesLeft        868 non-null    int64   \n",
      " 3   Ditches          868 non-null    int64   \n",
      " 4   Points           868 non-null    float64 \n",
      " 5   SkillLevel       868 non-null    category\n",
      " 6   Kills            868 non-null    int64   \n",
      " 7   KillsPerMin      868 non-null    float64 \n",
      " 8   Deaths           868 non-null    int64   \n",
      " 9   Assists          868 non-null    int64   \n",
      " 10  CreepsKilled     868 non-null    int64   \n",
      " 11  CreepsDenied     868 non-null    int64   \n",
      " 12  NeutralsKilled   868 non-null    int64   \n",
      " 13  TowersDestroyed  868 non-null    int64   \n",
      " 14  RaxsDestroyed    868 non-null    int64   \n",
      " 15  TotalTime        867 non-null    float64 \n",
      "dtypes: category(1), float64(3), int64(12)\n",
      "memory usage: 102.9 KB\n"
     ]
    }
   ],
   "source": [
    "dota_df1['SkillLevel'] = pd.Series(dota_df1['SkillLevel'].astype('category'))\n",
    "dota_df1.info()"
   ]
  },
  {
   "attachments": {},
   "cell_type": "markdown",
   "metadata": {},
   "source": [
    "Next, let's check for null values and remove those."
   ]
  },
  {
   "cell_type": "code",
   "execution_count": 9,
   "metadata": {},
   "outputs": [
    {
     "data": {
      "text/plain": [
       "1"
      ]
     },
     "execution_count": 9,
     "metadata": {},
     "output_type": "execute_result"
    }
   ],
   "source": [
    "dota_df1.isna().sum().sum()"
   ]
  },
  {
   "cell_type": "code",
   "execution_count": 10,
   "metadata": {},
   "outputs": [
    {
     "data": {
      "text/html": [
       "<div>\n",
       "<style scoped>\n",
       "    .dataframe tbody tr th:only-of-type {\n",
       "        vertical-align: middle;\n",
       "    }\n",
       "\n",
       "    .dataframe tbody tr th {\n",
       "        vertical-align: top;\n",
       "    }\n",
       "\n",
       "    .dataframe thead th {\n",
       "        text-align: right;\n",
       "    }\n",
       "</style>\n",
       "<table border=\"1\" class=\"dataframe\">\n",
       "  <thead>\n",
       "    <tr style=\"text-align: right;\">\n",
       "      <th></th>\n",
       "      <th>GamesPlayed</th>\n",
       "      <th>GamesWon</th>\n",
       "      <th>GamesLeft</th>\n",
       "      <th>Ditches</th>\n",
       "      <th>Points</th>\n",
       "      <th>SkillLevel</th>\n",
       "      <th>Kills</th>\n",
       "      <th>KillsPerMin</th>\n",
       "      <th>Deaths</th>\n",
       "      <th>Assists</th>\n",
       "      <th>CreepsKilled</th>\n",
       "      <th>CreepsDenied</th>\n",
       "      <th>NeutralsKilled</th>\n",
       "      <th>TowersDestroyed</th>\n",
       "      <th>RaxsDestroyed</th>\n",
       "      <th>TotalTime</th>\n",
       "    </tr>\n",
       "  </thead>\n",
       "  <tbody>\n",
       "    <tr>\n",
       "      <th>517</th>\n",
       "      <td>0</td>\n",
       "      <td>0</td>\n",
       "      <td>0</td>\n",
       "      <td>0</td>\n",
       "      <td>1000.0</td>\n",
       "      <td>0</td>\n",
       "      <td>0</td>\n",
       "      <td>0.0</td>\n",
       "      <td>0</td>\n",
       "      <td>0</td>\n",
       "      <td>0</td>\n",
       "      <td>0</td>\n",
       "      <td>0</td>\n",
       "      <td>0</td>\n",
       "      <td>0</td>\n",
       "      <td>NaN</td>\n",
       "    </tr>\n",
       "  </tbody>\n",
       "</table>\n",
       "</div>"
      ],
      "text/plain": [
       "     GamesPlayed  GamesWon  GamesLeft  Ditches  Points SkillLevel  Kills  \\\n",
       "517            0         0          0        0  1000.0          0      0   \n",
       "\n",
       "     KillsPerMin  Deaths  Assists  CreepsKilled  CreepsDenied  NeutralsKilled  \\\n",
       "517          0.0       0        0             0             0               0   \n",
       "\n",
       "     TowersDestroyed  RaxsDestroyed  TotalTime  \n",
       "517                0              0        NaN  "
      ]
     },
     "execution_count": 10,
     "metadata": {},
     "output_type": "execute_result"
    }
   ],
   "source": [
    "dota_df1[dota_df1.isnull().any(axis=1)]"
   ]
  },
  {
   "cell_type": "code",
   "execution_count": 11,
   "metadata": {},
   "outputs": [],
   "source": [
    "dota_df1.drop([517], inplace=True)"
   ]
  },
  {
   "cell_type": "code",
   "execution_count": 12,
   "metadata": {},
   "outputs": [
    {
     "data": {
      "text/plain": [
       "0"
      ]
     },
     "execution_count": 12,
     "metadata": {},
     "output_type": "execute_result"
    }
   ],
   "source": [
    "dota_df1.isna().sum().sum()"
   ]
  },
  {
   "attachments": {},
   "cell_type": "markdown",
   "metadata": {},
   "source": [
    "## Step 2: Set up training and testing set\n",
    "\n",
    "The first step is to split the data into two pieces of two parts each: first into X, y for predictors and target respectively and then train (X,y) and test (X,y).\n",
    "\n",
    "As discussed in Lab 2, we will also standardize the data after splitting it.\n",
    "\n",
    "Keep in mind, as also mentioned in Lab 2, there is a mild debate about whether or not you should also scale the y (target) data because in doing so, you lose interpretability but in not doing so you do NOT usually lose any model quality.\n",
    "\n",
    "Here, we will only standardize the independent variables (aka predictors or X)."
   ]
  },
  {
   "cell_type": "code",
   "execution_count": 13,
   "metadata": {},
   "outputs": [],
   "source": [
    "y = dota_df1['SkillLevel']\n",
    "X = dota_df1.drop(['SkillLevel'], axis=1, inplace=False)"
   ]
  },
  {
   "attachments": {},
   "cell_type": "markdown",
   "metadata": {},
   "source": [
    "We set 'test_size' to 0.25, which means the training data size will be 75% of the original data sets X and y."
   ]
  },
  {
   "cell_type": "code",
   "execution_count": 14,
   "metadata": {},
   "outputs": [],
   "source": [
    "X_train, X_test, y_train, y_test = train_test_split(X, y, test_size=0.25, random_state=101)"
   ]
  },
  {
   "attachments": {},
   "cell_type": "markdown",
   "metadata": {},
   "source": [
    "Lastly, we'll standardize the data."
   ]
  },
  {
   "attachments": {},
   "cell_type": "markdown",
   "metadata": {},
   "source": [
    "## Step 3: Apply the SVM Model"
   ]
  },
  {
   "cell_type": "code",
   "execution_count": 21,
   "metadata": {},
   "outputs": [],
   "source": [
    "#define a new scorer\n",
    "def kappa_scorer(est, X, y):\n",
    "    y_pred = est.predict(X)\n",
    "    kappa = cohen_kappa_score(y, y_pred)\n",
    "    return kappa"
   ]
  },
  {
   "cell_type": "code",
   "execution_count": 36,
   "metadata": {},
   "outputs": [
    {
     "data": {
      "text/html": [
       "<style>#sk-container-id-2 {color: black;background-color: white;}#sk-container-id-2 pre{padding: 0;}#sk-container-id-2 div.sk-toggleable {background-color: white;}#sk-container-id-2 label.sk-toggleable__label {cursor: pointer;display: block;width: 100%;margin-bottom: 0;padding: 0.3em;box-sizing: border-box;text-align: center;}#sk-container-id-2 label.sk-toggleable__label-arrow:before {content: \"▸\";float: left;margin-right: 0.25em;color: #696969;}#sk-container-id-2 label.sk-toggleable__label-arrow:hover:before {color: black;}#sk-container-id-2 div.sk-estimator:hover label.sk-toggleable__label-arrow:before {color: black;}#sk-container-id-2 div.sk-toggleable__content {max-height: 0;max-width: 0;overflow: hidden;text-align: left;background-color: #f0f8ff;}#sk-container-id-2 div.sk-toggleable__content pre {margin: 0.2em;color: black;border-radius: 0.25em;background-color: #f0f8ff;}#sk-container-id-2 input.sk-toggleable__control:checked~div.sk-toggleable__content {max-height: 200px;max-width: 100%;overflow: auto;}#sk-container-id-2 input.sk-toggleable__control:checked~label.sk-toggleable__label-arrow:before {content: \"▾\";}#sk-container-id-2 div.sk-estimator input.sk-toggleable__control:checked~label.sk-toggleable__label {background-color: #d4ebff;}#sk-container-id-2 div.sk-label input.sk-toggleable__control:checked~label.sk-toggleable__label {background-color: #d4ebff;}#sk-container-id-2 input.sk-hidden--visually {border: 0;clip: rect(1px 1px 1px 1px);clip: rect(1px, 1px, 1px, 1px);height: 1px;margin: -1px;overflow: hidden;padding: 0;position: absolute;width: 1px;}#sk-container-id-2 div.sk-estimator {font-family: monospace;background-color: #f0f8ff;border: 1px dotted black;border-radius: 0.25em;box-sizing: border-box;margin-bottom: 0.5em;}#sk-container-id-2 div.sk-estimator:hover {background-color: #d4ebff;}#sk-container-id-2 div.sk-parallel-item::after {content: \"\";width: 100%;border-bottom: 1px solid gray;flex-grow: 1;}#sk-container-id-2 div.sk-label:hover label.sk-toggleable__label {background-color: #d4ebff;}#sk-container-id-2 div.sk-serial::before {content: \"\";position: absolute;border-left: 1px solid gray;box-sizing: border-box;top: 0;bottom: 0;left: 50%;z-index: 0;}#sk-container-id-2 div.sk-serial {display: flex;flex-direction: column;align-items: center;background-color: white;padding-right: 0.2em;padding-left: 0.2em;position: relative;}#sk-container-id-2 div.sk-item {position: relative;z-index: 1;}#sk-container-id-2 div.sk-parallel {display: flex;align-items: stretch;justify-content: center;background-color: white;position: relative;}#sk-container-id-2 div.sk-item::before, #sk-container-id-2 div.sk-parallel-item::before {content: \"\";position: absolute;border-left: 1px solid gray;box-sizing: border-box;top: 0;bottom: 0;left: 50%;z-index: -1;}#sk-container-id-2 div.sk-parallel-item {display: flex;flex-direction: column;z-index: 1;position: relative;background-color: white;}#sk-container-id-2 div.sk-parallel-item:first-child::after {align-self: flex-end;width: 50%;}#sk-container-id-2 div.sk-parallel-item:last-child::after {align-self: flex-start;width: 50%;}#sk-container-id-2 div.sk-parallel-item:only-child::after {width: 0;}#sk-container-id-2 div.sk-dashed-wrapped {border: 1px dashed gray;margin: 0 0.4em 0.5em 0.4em;box-sizing: border-box;padding-bottom: 0.4em;background-color: white;}#sk-container-id-2 div.sk-label label {font-family: monospace;font-weight: bold;display: inline-block;line-height: 1.2em;}#sk-container-id-2 div.sk-label-container {text-align: center;}#sk-container-id-2 div.sk-container {/* jupyter's `normalize.less` sets `[hidden] { display: none; }` but bootstrap.min.css set `[hidden] { display: none !important; }` so we also need the `!important` here to be able to override the default hidden behavior on the sphinx rendered scikit-learn.org. See: https://github.com/scikit-learn/scikit-learn/issues/21755 */display: inline-block !important;position: relative;}#sk-container-id-2 div.sk-text-repr-fallback {display: none;}</style><div id=\"sk-container-id-2\" class=\"sk-top-container\"><div class=\"sk-text-repr-fallback\"><pre>GridSearchCV(cv=RepeatedKFold(n_repeats=3, n_splits=10, random_state=101),\n",
       "             estimator=DecisionTreeClassifier(), n_jobs=-1,\n",
       "             param_grid={&#x27;ccp_alpha&#x27;: [0.1, 0.14, 0.18000000000000002,\n",
       "                                       0.22000000000000003, 0.26,\n",
       "                                       0.30000000000000004, 0.3400000000000001,\n",
       "                                       0.38, 0.42000000000000004,\n",
       "                                       0.4600000000000001, 0.5000000000000001,\n",
       "                                       0.54, 0.5800000000000001,\n",
       "                                       0.6200000000000001, 0.66,\n",
       "                                       0.7000000000000001, 0.7400000000000001,\n",
       "                                       0.7800000000000001, 0.8200000000000002,\n",
       "                                       0.8600000000000001, 0.9000000000000001,\n",
       "                                       0.9400000000000002,\n",
       "                                       0.9800000000000001]},\n",
       "             refit=&#x27;Accuracy&#x27;,\n",
       "             scoring={&#x27;Accuracy&#x27;: &#x27;accuracy&#x27;,\n",
       "                      &#x27;Kappa&#x27;: make_scorer(cohen_kappa_score)})</pre><b>In a Jupyter environment, please rerun this cell to show the HTML representation or trust the notebook. <br />On GitHub, the HTML representation is unable to render, please try loading this page with nbviewer.org.</b></div><div class=\"sk-container\" hidden><div class=\"sk-item sk-dashed-wrapped\"><div class=\"sk-label-container\"><div class=\"sk-label sk-toggleable\"><input class=\"sk-toggleable__control sk-hidden--visually\" id=\"sk-estimator-id-4\" type=\"checkbox\" ><label for=\"sk-estimator-id-4\" class=\"sk-toggleable__label sk-toggleable__label-arrow\">GridSearchCV</label><div class=\"sk-toggleable__content\"><pre>GridSearchCV(cv=RepeatedKFold(n_repeats=3, n_splits=10, random_state=101),\n",
       "             estimator=DecisionTreeClassifier(), n_jobs=-1,\n",
       "             param_grid={&#x27;ccp_alpha&#x27;: [0.1, 0.14, 0.18000000000000002,\n",
       "                                       0.22000000000000003, 0.26,\n",
       "                                       0.30000000000000004, 0.3400000000000001,\n",
       "                                       0.38, 0.42000000000000004,\n",
       "                                       0.4600000000000001, 0.5000000000000001,\n",
       "                                       0.54, 0.5800000000000001,\n",
       "                                       0.6200000000000001, 0.66,\n",
       "                                       0.7000000000000001, 0.7400000000000001,\n",
       "                                       0.7800000000000001, 0.8200000000000002,\n",
       "                                       0.8600000000000001, 0.9000000000000001,\n",
       "                                       0.9400000000000002,\n",
       "                                       0.9800000000000001]},\n",
       "             refit=&#x27;Accuracy&#x27;,\n",
       "             scoring={&#x27;Accuracy&#x27;: &#x27;accuracy&#x27;,\n",
       "                      &#x27;Kappa&#x27;: make_scorer(cohen_kappa_score)})</pre></div></div></div><div class=\"sk-parallel\"><div class=\"sk-parallel-item\"><div class=\"sk-item\"><div class=\"sk-label-container\"><div class=\"sk-label sk-toggleable\"><input class=\"sk-toggleable__control sk-hidden--visually\" id=\"sk-estimator-id-5\" type=\"checkbox\" ><label for=\"sk-estimator-id-5\" class=\"sk-toggleable__label sk-toggleable__label-arrow\">estimator: DecisionTreeClassifier</label><div class=\"sk-toggleable__content\"><pre>DecisionTreeClassifier()</pre></div></div></div><div class=\"sk-serial\"><div class=\"sk-item\"><div class=\"sk-estimator sk-toggleable\"><input class=\"sk-toggleable__control sk-hidden--visually\" id=\"sk-estimator-id-6\" type=\"checkbox\" ><label for=\"sk-estimator-id-6\" class=\"sk-toggleable__label sk-toggleable__label-arrow\">DecisionTreeClassifier</label><div class=\"sk-toggleable__content\"><pre>DecisionTreeClassifier()</pre></div></div></div></div></div></div></div></div></div></div>"
      ],
      "text/plain": [
       "GridSearchCV(cv=RepeatedKFold(n_repeats=3, n_splits=10, random_state=101),\n",
       "             estimator=DecisionTreeClassifier(), n_jobs=-1,\n",
       "             param_grid={'ccp_alpha': [0.1, 0.14, 0.18000000000000002,\n",
       "                                       0.22000000000000003, 0.26,\n",
       "                                       0.30000000000000004, 0.3400000000000001,\n",
       "                                       0.38, 0.42000000000000004,\n",
       "                                       0.4600000000000001, 0.5000000000000001,\n",
       "                                       0.54, 0.5800000000000001,\n",
       "                                       0.6200000000000001, 0.66,\n",
       "                                       0.7000000000000001, 0.7400000000000001,\n",
       "                                       0.7800000000000001, 0.8200000000000002,\n",
       "                                       0.8600000000000001, 0.9000000000000001,\n",
       "                                       0.9400000000000002,\n",
       "                                       0.9800000000000001]},\n",
       "             refit='Accuracy',\n",
       "             scoring={'Accuracy': 'accuracy',\n",
       "                      'Kappa': make_scorer(cohen_kappa_score)})"
      ]
     },
     "execution_count": 36,
     "metadata": {},
     "output_type": "execute_result"
    }
   ],
   "source": [
    "#Setup and configure settings for Repeated k-Fold CV (k-folds=10, repeats=10)\n",
    "rcv = RepeatedKFold(n_splits=10, n_repeats=3, random_state=101)\n",
    "\n",
    "#define model\n",
    "dtc = DecisionTreeClassifier()\n",
    "scoring = {'Accuracy':'accuracy', 'Kappa':make_scorer(cohen_kappa_score)}\n",
    "alphas = list(np.arange(0.1, 1.0, 0.04))\n",
    "params = {'ccp_alpha':alphas}\n",
    "\n",
    "#create model, perform Repeated CV and evaluate model\n",
    "scores = GridSearchCV(dtc, params, scoring=scoring, cv=rcv, refit='Accuracy', n_jobs=-1)\n",
    "scores.fit(X_train, y_train)"
   ]
  },
  {
   "cell_type": "code",
   "execution_count": 39,
   "metadata": {},
   "outputs": [
    {
     "data": {
      "text/html": [
       "<div>\n",
       "<style scoped>\n",
       "    .dataframe tbody tr th:only-of-type {\n",
       "        vertical-align: middle;\n",
       "    }\n",
       "\n",
       "    .dataframe tbody tr th {\n",
       "        vertical-align: top;\n",
       "    }\n",
       "\n",
       "    .dataframe thead th {\n",
       "        text-align: right;\n",
       "    }\n",
       "</style>\n",
       "<table border=\"1\" class=\"dataframe\">\n",
       "  <thead>\n",
       "    <tr style=\"text-align: right;\">\n",
       "      <th></th>\n",
       "      <th>Complexity</th>\n",
       "      <th>Accuracy</th>\n",
       "      <th>Kappa</th>\n",
       "    </tr>\n",
       "  </thead>\n",
       "  <tbody>\n",
       "    <tr>\n",
       "      <th>0</th>\n",
       "      <td>0.1</td>\n",
       "      <td>0.909231</td>\n",
       "      <td>0.822002</td>\n",
       "    </tr>\n",
       "    <tr>\n",
       "      <th>1</th>\n",
       "      <td>0.14</td>\n",
       "      <td>0.909231</td>\n",
       "      <td>0.822002</td>\n",
       "    </tr>\n",
       "    <tr>\n",
       "      <th>2</th>\n",
       "      <td>0.18</td>\n",
       "      <td>0.909231</td>\n",
       "      <td>0.822002</td>\n",
       "    </tr>\n",
       "    <tr>\n",
       "      <th>3</th>\n",
       "      <td>0.22</td>\n",
       "      <td>0.909231</td>\n",
       "      <td>0.822002</td>\n",
       "    </tr>\n",
       "    <tr>\n",
       "      <th>4</th>\n",
       "      <td>0.26</td>\n",
       "      <td>0.909231</td>\n",
       "      <td>0.822002</td>\n",
       "    </tr>\n",
       "    <tr>\n",
       "      <th>5</th>\n",
       "      <td>0.3</td>\n",
       "      <td>0.909231</td>\n",
       "      <td>0.822002</td>\n",
       "    </tr>\n",
       "    <tr>\n",
       "      <th>6</th>\n",
       "      <td>0.34</td>\n",
       "      <td>0.909231</td>\n",
       "      <td>0.822002</td>\n",
       "    </tr>\n",
       "    <tr>\n",
       "      <th>7</th>\n",
       "      <td>0.38</td>\n",
       "      <td>0.516923</td>\n",
       "      <td>0.000000</td>\n",
       "    </tr>\n",
       "    <tr>\n",
       "      <th>8</th>\n",
       "      <td>0.42</td>\n",
       "      <td>0.516923</td>\n",
       "      <td>0.000000</td>\n",
       "    </tr>\n",
       "    <tr>\n",
       "      <th>9</th>\n",
       "      <td>0.46</td>\n",
       "      <td>0.516923</td>\n",
       "      <td>0.000000</td>\n",
       "    </tr>\n",
       "    <tr>\n",
       "      <th>10</th>\n",
       "      <td>0.5</td>\n",
       "      <td>0.516923</td>\n",
       "      <td>0.000000</td>\n",
       "    </tr>\n",
       "    <tr>\n",
       "      <th>11</th>\n",
       "      <td>0.54</td>\n",
       "      <td>0.516923</td>\n",
       "      <td>0.000000</td>\n",
       "    </tr>\n",
       "    <tr>\n",
       "      <th>12</th>\n",
       "      <td>0.58</td>\n",
       "      <td>0.516923</td>\n",
       "      <td>0.000000</td>\n",
       "    </tr>\n",
       "    <tr>\n",
       "      <th>13</th>\n",
       "      <td>0.62</td>\n",
       "      <td>0.516923</td>\n",
       "      <td>0.000000</td>\n",
       "    </tr>\n",
       "    <tr>\n",
       "      <th>14</th>\n",
       "      <td>0.66</td>\n",
       "      <td>0.516923</td>\n",
       "      <td>0.000000</td>\n",
       "    </tr>\n",
       "    <tr>\n",
       "      <th>15</th>\n",
       "      <td>0.7</td>\n",
       "      <td>0.516923</td>\n",
       "      <td>0.000000</td>\n",
       "    </tr>\n",
       "    <tr>\n",
       "      <th>16</th>\n",
       "      <td>0.74</td>\n",
       "      <td>0.516923</td>\n",
       "      <td>0.000000</td>\n",
       "    </tr>\n",
       "    <tr>\n",
       "      <th>17</th>\n",
       "      <td>0.78</td>\n",
       "      <td>0.516923</td>\n",
       "      <td>0.000000</td>\n",
       "    </tr>\n",
       "    <tr>\n",
       "      <th>18</th>\n",
       "      <td>0.82</td>\n",
       "      <td>0.516923</td>\n",
       "      <td>0.000000</td>\n",
       "    </tr>\n",
       "    <tr>\n",
       "      <th>19</th>\n",
       "      <td>0.86</td>\n",
       "      <td>0.516923</td>\n",
       "      <td>0.000000</td>\n",
       "    </tr>\n",
       "    <tr>\n",
       "      <th>20</th>\n",
       "      <td>0.9</td>\n",
       "      <td>0.516923</td>\n",
       "      <td>0.000000</td>\n",
       "    </tr>\n",
       "    <tr>\n",
       "      <th>21</th>\n",
       "      <td>0.94</td>\n",
       "      <td>0.516923</td>\n",
       "      <td>0.000000</td>\n",
       "    </tr>\n",
       "    <tr>\n",
       "      <th>22</th>\n",
       "      <td>0.98</td>\n",
       "      <td>0.516923</td>\n",
       "      <td>0.000000</td>\n",
       "    </tr>\n",
       "  </tbody>\n",
       "</table>\n",
       "</div>"
      ],
      "text/plain": [
       "   Complexity  Accuracy     Kappa\n",
       "0         0.1  0.909231  0.822002\n",
       "1        0.14  0.909231  0.822002\n",
       "2        0.18  0.909231  0.822002\n",
       "3        0.22  0.909231  0.822002\n",
       "4        0.26  0.909231  0.822002\n",
       "5         0.3  0.909231  0.822002\n",
       "6        0.34  0.909231  0.822002\n",
       "7        0.38  0.516923  0.000000\n",
       "8        0.42  0.516923  0.000000\n",
       "9        0.46  0.516923  0.000000\n",
       "10        0.5  0.516923  0.000000\n",
       "11       0.54  0.516923  0.000000\n",
       "12       0.58  0.516923  0.000000\n",
       "13       0.62  0.516923  0.000000\n",
       "14       0.66  0.516923  0.000000\n",
       "15        0.7  0.516923  0.000000\n",
       "16       0.74  0.516923  0.000000\n",
       "17       0.78  0.516923  0.000000\n",
       "18       0.82  0.516923  0.000000\n",
       "19       0.86  0.516923  0.000000\n",
       "20        0.9  0.516923  0.000000\n",
       "21       0.94  0.516923  0.000000\n",
       "22       0.98  0.516923  0.000000"
      ]
     },
     "execution_count": 39,
     "metadata": {},
     "output_type": "execute_result"
    }
   ],
   "source": [
    "cv_df = pd.DataFrame(scores.cv_results_)\n",
    "cv_res_df = pd.DataFrame(cv_df[['param_ccp_alpha', 'mean_test_Accuracy', 'mean_test_Kappa']])\n",
    "cv_res_df.rename(columns = {'param_ccp_alpha' : 'Complexity', 'mean_test_Accuracy' : 'Accuracy', 'mean_test_Kappa' : 'Kappa'}, inplace=True)\n",
    "cv_res_df"
   ]
  },
  {
   "cell_type": "code",
   "execution_count": 40,
   "metadata": {},
   "outputs": [
    {
     "data": {
      "image/png": "[encoded data removed]",
      "text/plain": [
       "<Figure size 640x480 with 1 Axes>"
      ]
     },
     "metadata": {},
     "output_type": "display_data"
    }
   ],
   "source": [
    "plt.plot(cv_res_df['Complexity'], cv_res_df['Accuracy']);"
   ]
  },
  {
   "attachments": {},
   "cell_type": "markdown",
   "metadata": {},
   "source": [
    "From the above, we will pick a ccp_alpha of 0.34.\n",
    "\n",
    "The most common way to evaluate classification visually is with a confusion matrix. Bascially, if you predict skill level 0 and the original 'true' label was 0, then you have a true positive. Depending on your intent, this might be what you're hoping to maximize.\n",
    "\n",
    "You will explore the types of metrics in Chapter 8 in more detail.\n",
    "\n",
    "Below is a confusion matrix."
   ]
  },
  {
   "cell_type": "code",
   "execution_count": 48,
   "metadata": {},
   "outputs": [
    {
     "data": {
      "image/png": "[encoded data removed]",
      "text/plain": [
       "<Figure size 640x480 with 2 Axes>"
      ]
     },
     "metadata": {},
     "output_type": "display_data"
    }
   ],
   "source": [
    "final_model = scores.best_estimator_\n",
    "dtc_pred = final_model.predict(X_test)\n",
    "ConfusionMatrixDisplay.from_predictions(y_test, dtc_pred)\n",
    "plt.show()"
   ]
  },
  {
   "attachments": {},
   "cell_type": "markdown",
   "metadata": {},
   "source": [
    "In R, the output is much more detailed. Python produces a report that is more focused on the three metrics you will use most often. Again, you will see these in more detail in the next chapter.\n",
    "\n",
    "'Support' is simply the total number of observations for each particular class. So, for the first line, 'class 0' there are 110 observations."
   ]
  },
  {
   "cell_type": "code",
   "execution_count": 49,
   "metadata": {},
   "outputs": [
    {
     "name": "stdout",
     "output_type": "stream",
     "text": [
      "              precision    recall  f1-score   support\n",
      "\n",
      "     class 0       1.00      0.83      0.91       110\n",
      "     class 1       0.78      1.00      0.88        98\n",
      "     class 2       0.00      0.00      0.00         6\n",
      "     class 3       0.00      0.00      0.00         3\n",
      "\n",
      "    accuracy                           0.87       217\n",
      "   macro avg       0.44      0.46      0.45       217\n",
      "weighted avg       0.86      0.87      0.85       217\n",
      "\n"
     ]
    }
   ],
   "source": [
    "target_names = ['class 0', 'class 1', 'class 2', 'class 3']\n",
    "print(classification_report(y_test, dtc_pred, target_names=target_names))"
   ]
  },
  {
   "attachments": {},
   "cell_type": "markdown",
   "metadata": {},
   "source": [
    "We can also call up the Kappa separately if we're worried about an imbalance."
   ]
  },
  {
   "cell_type": "code",
   "execution_count": 51,
   "metadata": {},
   "outputs": [
    {
     "data": {
      "text/plain": [
       "0.7543164449476366"
      ]
     },
     "execution_count": 51,
     "metadata": {},
     "output_type": "execute_result"
    }
   ],
   "source": [
    "cohen_kappa_score(y_test, dtc_pred)"
   ]
  },
  {
   "attachments": {},
   "cell_type": "markdown",
   "metadata": {},
   "source": [
    "Lastly, R focuses on 'specificity' and 'sensitivity'. These are actually two forms of 'recall'. Recall of a positive class is sensitivity while recall of a negative class is specificity.\n",
    "\n",
    "The issue is that this works in binary classification only. For present purposes, we can manipulate the predicted data into a binary for each class we have and then call up specificity and sensitivity."
   ]
  },
  {
   "cell_type": "code",
   "execution_count": 52,
   "metadata": {},
   "outputs": [
    {
     "data": {
      "text/html": [
       "<div>\n",
       "<style scoped>\n",
       "    .dataframe tbody tr th:only-of-type {\n",
       "        vertical-align: middle;\n",
       "    }\n",
       "\n",
       "    .dataframe tbody tr th {\n",
       "        vertical-align: top;\n",
       "    }\n",
       "\n",
       "    .dataframe thead th {\n",
       "        text-align: right;\n",
       "    }\n",
       "</style>\n",
       "<table border=\"1\" class=\"dataframe\">\n",
       "  <thead>\n",
       "    <tr style=\"text-align: right;\">\n",
       "      <th></th>\n",
       "      <th>0</th>\n",
       "      <th>1</th>\n",
       "      <th>2</th>\n",
       "      <th>3</th>\n",
       "    </tr>\n",
       "  </thead>\n",
       "  <tbody>\n",
       "    <tr>\n",
       "      <th>sensitivity</th>\n",
       "      <td>0.827273</td>\n",
       "      <td>1.000000</td>\n",
       "      <td>0.0</td>\n",
       "      <td>0.0</td>\n",
       "    </tr>\n",
       "    <tr>\n",
       "      <th>specificity</th>\n",
       "      <td>1.000000</td>\n",
       "      <td>0.764706</td>\n",
       "      <td>1.0</td>\n",
       "      <td>1.0</td>\n",
       "    </tr>\n",
       "  </tbody>\n",
       "</table>\n",
       "</div>"
      ],
      "text/plain": [
       "                    0         1    2    3\n",
       "sensitivity  0.827273  1.000000  0.0  0.0\n",
       "specificity  1.000000  0.764706  1.0  1.0"
      ]
     },
     "execution_count": 52,
     "metadata": {},
     "output_type": "execute_result"
    }
   ],
   "source": [
    "prfs = []\n",
    "for l in [0,1,2,3]:\n",
    "    prec,recall,_,_ = precision_recall_fscore_support(np.array(y_test).astype(float)==l, np.array(dtc_pred.astype(float))==l, pos_label=True,average=None)\n",
    "    prfs.append([recall[1],recall[0]])\n",
    "\n",
    "pd.DataFrame(prfs, columns = ['sensitivity','specificity']).transpose()"
   ]
  },
  {
   "attachments": {},
   "cell_type": "markdown",
   "metadata": {},
   "source": [
    "Relatively, when compared to our other classifiers in this chapter, the DecisionTreeClassifier performs well - it exceeds KNN  - at 84% Accuracy - with a score of 87%!. \n",
    "\n",
    "We do continue to see, however, this weak classification of Skill Levels 2 and 3. One reason for this is that the data are insufficient to characterize them."
   ]
  },
  {
   "attachments": {},
   "cell_type": "markdown",
   "metadata": {},
   "source": [
    "## Step 4: Visualization"
   ]
  },
  {
   "cell_type": "code",
   "execution_count": 70,
   "metadata": {},
   "outputs": [],
   "source": [
    "#! pip install graphviz\n",
    "from sklearn import tree\n",
    "import graphviz "
   ]
  },
  {
   "cell_type": "code",
   "execution_count": 71,
   "metadata": {},
   "outputs": [
    {
     "data": {
      "image/svg+xml": [
       "<?xml version=\"1.0\" encoding=\"UTF-8\" standalone=\"no\"?>\n",
       "<!DOCTYPE svg PUBLIC \"-//W3C//DTD SVG 1.1//EN\"\n",
       " \"http://www.w3.org/Graphics/SVG/1.1/DTD/svg11.dtd\">\n",
       "<!-- Generated by graphviz version 2.50.0 (20211204.2007)\n",
       " -->\n",
       "<!-- Title: Tree Pages: 1 -->\n",
       "<svg width=\"332pt\" height=\"195pt\"\n",
       " viewBox=\"0.00 0.00 332.00 195.00\" xmlns=\"http://www.w3.org/2000/svg\" xmlns:xlink=\"http://www.w3.org/1999/xlink\">\n",
       "<g id=\"graph0\" class=\"graph\" transform=\"scale(1 1) rotate(0) translate(4 191)\">\n",
       "<title>Tree</title>\n",
       "<polygon fill=\"white\" stroke=\"transparent\" points=\"-4,4 -4,-191 328,-191 328,4 -4,4\"/>\n",
       "<!-- 0 -->\n",
       "<g id=\"node1\" class=\"node\">\n",
       "<title>0</title>\n",
       "<path fill=\"#fcf0e8\" stroke=\"black\" d=\"M230.5,-187C230.5,-187 84.5,-187 84.5,-187 78.5,-187 72.5,-181 72.5,-175 72.5,-175 72.5,-116 72.5,-116 72.5,-110 78.5,-104 84.5,-104 84.5,-104 230.5,-104 230.5,-104 236.5,-104 242.5,-110 242.5,-116 242.5,-116 242.5,-175 242.5,-175 242.5,-181 236.5,-187 230.5,-187\"/>\n",
       "<text text-anchor=\"start\" x=\"101.5\" y=\"-171.8\" font-family=\"Helvetica,sans-Serif\" font-size=\"14.00\">GamesWon ≤ 5.5</text>\n",
       "<text text-anchor=\"start\" x=\"120\" y=\"-156.8\" font-family=\"Helvetica,sans-Serif\" font-size=\"14.00\">gini = 0.528</text>\n",
       "<text text-anchor=\"start\" x=\"110\" y=\"-141.8\" font-family=\"Helvetica,sans-Serif\" font-size=\"14.00\">samples = 650</text>\n",
       "<text text-anchor=\"start\" x=\"80.5\" y=\"-126.8\" font-family=\"Helvetica,sans-Serif\" font-size=\"14.00\">value = [336, 294, 11, 9]</text>\n",
       "<text text-anchor=\"start\" x=\"128.5\" y=\"-111.8\" font-family=\"Helvetica,sans-Serif\" font-size=\"14.00\">class = 0</text>\n",
       "</g>\n",
       "<!-- 1 -->\n",
       "<g id=\"node2\" class=\"node\">\n",
       "<title>1</title>\n",
       "<path fill=\"#e6853f\" stroke=\"black\" d=\"M133,-68C133,-68 12,-68 12,-68 6,-68 0,-62 0,-56 0,-56 0,-12 0,-12 0,-6 6,0 12,0 12,0 133,0 133,0 139,0 145,-6 145,-12 145,-12 145,-56 145,-56 145,-62 139,-68 133,-68\"/>\n",
       "<text text-anchor=\"start\" x=\"35\" y=\"-52.8\" font-family=\"Helvetica,sans-Serif\" font-size=\"14.00\">gini = 0.055</text>\n",
       "<text text-anchor=\"start\" x=\"25\" y=\"-37.8\" font-family=\"Helvetica,sans-Serif\" font-size=\"14.00\">samples = 316</text>\n",
       "<text text-anchor=\"start\" x=\"8\" y=\"-22.8\" font-family=\"Helvetica,sans-Serif\" font-size=\"14.00\">value = [307, 8, 0, 1]</text>\n",
       "<text text-anchor=\"start\" x=\"43.5\" y=\"-7.8\" font-family=\"Helvetica,sans-Serif\" font-size=\"14.00\">class = 0</text>\n",
       "</g>\n",
       "<!-- 0&#45;&gt;1 -->\n",
       "<g id=\"edge1\" class=\"edge\">\n",
       "<title>0&#45;&gt;1</title>\n",
       "<path fill=\"none\" stroke=\"black\" d=\"M125.85,-103.73C118.91,-94.79 111.56,-85.32 104.6,-76.36\"/>\n",
       "<polygon fill=\"black\" stroke=\"black\" points=\"107.25,-74.05 98.35,-68.3 101.72,-78.35 107.25,-74.05\"/>\n",
       "<text text-anchor=\"middle\" x=\"95.22\" y=\"-89.4\" font-family=\"Helvetica,sans-Serif\" font-size=\"14.00\">True</text>\n",
       "</g>\n",
       "<!-- 2 -->\n",
       "<g id=\"node3\" class=\"node\">\n",
       "<title>2</title>\n",
       "<path fill=\"#64e958\" stroke=\"black\" d=\"M312,-68C312,-68 175,-68 175,-68 169,-68 163,-62 163,-56 163,-56 163,-12 163,-12 163,-6 169,0 175,0 175,0 312,0 312,0 318,0 324,-6 324,-12 324,-12 324,-56 324,-56 324,-62 318,-68 312,-68\"/>\n",
       "<text text-anchor=\"start\" x=\"206\" y=\"-52.8\" font-family=\"Helvetica,sans-Serif\" font-size=\"14.00\">gini = 0.258</text>\n",
       "<text text-anchor=\"start\" x=\"196\" y=\"-37.8\" font-family=\"Helvetica,sans-Serif\" font-size=\"14.00\">samples = 334</text>\n",
       "<text text-anchor=\"start\" x=\"171\" y=\"-22.8\" font-family=\"Helvetica,sans-Serif\" font-size=\"14.00\">value = [29, 286, 11, 8]</text>\n",
       "<text text-anchor=\"start\" x=\"214.5\" y=\"-7.8\" font-family=\"Helvetica,sans-Serif\" font-size=\"14.00\">class = 1</text>\n",
       "</g>\n",
       "<!-- 0&#45;&gt;2 -->\n",
       "<g id=\"edge2\" class=\"edge\">\n",
       "<title>0&#45;&gt;2</title>\n",
       "<path fill=\"none\" stroke=\"black\" d=\"M189.52,-103.73C196.54,-94.79 203.98,-85.32 211.02,-76.36\"/>\n",
       "<polygon fill=\"black\" stroke=\"black\" points=\"213.92,-78.33 217.35,-68.3 208.42,-74 213.92,-78.33\"/>\n",
       "<text text-anchor=\"middle\" x=\"220.33\" y=\"-89.42\" font-family=\"Helvetica,sans-Serif\" font-size=\"14.00\">False</text>\n",
       "</g>\n",
       "</g>\n",
       "</svg>\n"
      ],
      "text/plain": [
       "<graphviz.sources.Source at 0x1200b490850>"
      ]
     },
     "execution_count": 71,
     "metadata": {},
     "output_type": "execute_result"
    }
   ],
   "source": [
    "dtc_data = tree.export_graphviz(final_model, out_file=None, feature_names=list(X_train.columns), class_names=['0','1','2','3'], filled=True, rounded=True,\n",
    "                                special_characters=True) \n",
    "graph = graphviz.Source(dtc_data)  \n",
    "graph"
   ]
  },
  {
   "attachments": {},
   "cell_type": "markdown",
   "metadata": {},
   "source": [
    "This is a very useful visualization. The first line of the first internal leaf - at the top of the tree -show you the \"decision criteria\". Here it first split the data into two group by splitting those with less than 5.5 GamesWon from those with greater than 5.5.\n",
    "\n",
    "Granted, as we noted above, the data seem insufficient for further classification, so that's where the model ends - with two leafs. Clearly, this means that the model only see two groups distinctly."
   ]
  }
 ],
 "metadata": {
  "kernelspec": {
   "display_name": "Python 3",
   "language": "python",
   "name": "python3"
  },
  "language_info": {
   "codemirror_mode": {
    "name": "ipython",
    "version": 3
   },
   "file_extension": ".py",
   "mimetype": "text/x-python",
   "name": "python",
   "nbconvert_exporter": "python",
   "pygments_lexer": "ipython3",
   "version": "3.9.13"
  },
  "orig_nbformat": 4
 },
 "nbformat": 4,
 "nbformat_minor": 2
}
