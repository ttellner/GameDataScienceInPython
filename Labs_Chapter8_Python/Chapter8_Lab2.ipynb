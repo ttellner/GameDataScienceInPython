{
 "cells": [
  {
   "attachments": {},
   "cell_type": "markdown",
   "metadata": {},
   "source": [
    "# Chapter 8 Lab 2\n",
    "\n",
    "## Goal\n",
    "We are going to learn how to plot the ROC and the respective AUC curves to evaluate a Naive Bayes model's performance.\n",
    "\n",
    "We will again consider the task of predicting players’ SkillLevel, which takes integer value between 0 and 3, with 0 being novice level and 3 expert.\n",
    "\n",
    "For illustrative purposes, consider the Naive Bayes model from Chapter 7, lab 3 (note that you can use any other model you have trained so far for this purpose).\n",
    "\n",
    "## Brief Refresher\n",
    "\n",
    "AUC stands for Area Under the Curve. The curve in question visualizes the relationship between a model's sensitivity, or True Positive rate and 1-specificity or False positive rate.\n",
    "\n",
    "AUC ranges between 0 and 1 with 1 being good and 0 being bad.\n",
    "\n",
    "## Preparation\n",
    "\n",
    "Load the required packages below."
   ]
  },
  {
   "cell_type": "code",
   "execution_count": 2,
   "metadata": {},
   "outputs": [],
   "source": [
    "from sklearn.model_selection import train_test_split\n",
    "from sklearn.metrics import roc_curve, roc_auc_score,  auc, RocCurveDisplay \n",
    "from sklearn.naive_bayes import GaussianNB\n",
    "import pandas as pd\n",
    "import numpy as np\n",
    "import matplotlib as mpl\n",
    "import matplotlib.pyplot as plt\n",
    "%matplotlib inline\n",
    "import seaborn as sns\n",
    "import sys\n",
    "from io import StringIO\n",
    "\n",
    "import warnings\n",
    "warnings.filterwarnings('ignore')"
   ]
  },
  {
   "attachments": {},
   "cell_type": "markdown",
   "metadata": {},
   "source": [
    "## Step 1: Data Pre-processing and Model Building\n",
    "\n",
    "We've done these steps enough to condense them together in order to speed the process of getting to metric evaluation."
   ]
  },
  {
   "cell_type": "code",
   "execution_count": 3,
   "metadata": {},
   "outputs": [
    {
     "data": {
      "text/html": [
       "<div>\n",
       "<style scoped>\n",
       "    .dataframe tbody tr th:only-of-type {\n",
       "        vertical-align: middle;\n",
       "    }\n",
       "\n",
       "    .dataframe tbody tr th {\n",
       "        vertical-align: top;\n",
       "    }\n",
       "\n",
       "    .dataframe thead th {\n",
       "        text-align: right;\n",
       "    }\n",
       "</style>\n",
       "<table border=\"1\" class=\"dataframe\">\n",
       "  <thead>\n",
       "    <tr style=\"text-align: right;\">\n",
       "      <th></th>\n",
       "      <th>GamesPlayed</th>\n",
       "      <th>GamesWon</th>\n",
       "      <th>GamesLeft</th>\n",
       "      <th>Ditches</th>\n",
       "      <th>Points</th>\n",
       "      <th>Kills</th>\n",
       "      <th>KillsPerMin</th>\n",
       "      <th>Deaths</th>\n",
       "      <th>Assists</th>\n",
       "      <th>CreepsKilled</th>\n",
       "      <th>CreepsDenied</th>\n",
       "      <th>NeutralsKilled</th>\n",
       "      <th>TowersDestroyed</th>\n",
       "      <th>RaxsDestroyed</th>\n",
       "      <th>TotalTime</th>\n",
       "    </tr>\n",
       "  </thead>\n",
       "  <tbody>\n",
       "    <tr>\n",
       "      <th>count</th>\n",
       "      <td>867.000000</td>\n",
       "      <td>867.000000</td>\n",
       "      <td>867.000000</td>\n",
       "      <td>867.000000</td>\n",
       "      <td>867.000000</td>\n",
       "      <td>867.000000</td>\n",
       "      <td>867.000000</td>\n",
       "      <td>867.000000</td>\n",
       "      <td>867.000000</td>\n",
       "      <td>867.000000</td>\n",
       "      <td>867.000000</td>\n",
       "      <td>867.000000</td>\n",
       "      <td>867.000000</td>\n",
       "      <td>867.000000</td>\n",
       "      <td>8.670000e+02</td>\n",
       "    </tr>\n",
       "    <tr>\n",
       "      <th>mean</th>\n",
       "      <td>92.343714</td>\n",
       "      <td>50.369089</td>\n",
       "      <td>1.650519</td>\n",
       "      <td>0.711649</td>\n",
       "      <td>1014.840856</td>\n",
       "      <td>608.660900</td>\n",
       "      <td>0.131799</td>\n",
       "      <td>545.094579</td>\n",
       "      <td>951.763552</td>\n",
       "      <td>7636.831603</td>\n",
       "      <td>677.627451</td>\n",
       "      <td>1259.800461</td>\n",
       "      <td>70.786621</td>\n",
       "      <td>29.740484</td>\n",
       "      <td>2.283400e+05</td>\n",
       "    </tr>\n",
       "    <tr>\n",
       "      <th>std</th>\n",
       "      <td>205.574415</td>\n",
       "      <td>115.795471</td>\n",
       "      <td>3.239320</td>\n",
       "      <td>1.808982</td>\n",
       "      <td>119.954984</td>\n",
       "      <td>1502.754591</td>\n",
       "      <td>0.065829</td>\n",
       "      <td>1204.140278</td>\n",
       "      <td>2230.809200</td>\n",
       "      <td>19801.024410</td>\n",
       "      <td>2029.775852</td>\n",
       "      <td>2969.501221</td>\n",
       "      <td>175.869846</td>\n",
       "      <td>74.661056</td>\n",
       "      <td>4.751062e+05</td>\n",
       "    </tr>\n",
       "    <tr>\n",
       "      <th>min</th>\n",
       "      <td>1.000000</td>\n",
       "      <td>0.000000</td>\n",
       "      <td>0.000000</td>\n",
       "      <td>0.000000</td>\n",
       "      <td>626.837000</td>\n",
       "      <td>0.000000</td>\n",
       "      <td>0.000000</td>\n",
       "      <td>0.000000</td>\n",
       "      <td>0.000000</td>\n",
       "      <td>9.000000</td>\n",
       "      <td>0.000000</td>\n",
       "      <td>0.000000</td>\n",
       "      <td>0.000000</td>\n",
       "      <td>0.000000</td>\n",
       "      <td>1.349000e+03</td>\n",
       "    </tr>\n",
       "    <tr>\n",
       "      <th>25%</th>\n",
       "      <td>3.000000</td>\n",
       "      <td>1.000000</td>\n",
       "      <td>0.000000</td>\n",
       "      <td>0.000000</td>\n",
       "      <td>961.886000</td>\n",
       "      <td>11.000000</td>\n",
       "      <td>0.090000</td>\n",
       "      <td>17.500000</td>\n",
       "      <td>18.000000</td>\n",
       "      <td>160.500000</td>\n",
       "      <td>12.000000</td>\n",
       "      <td>16.000000</td>\n",
       "      <td>1.000000</td>\n",
       "      <td>0.000000</td>\n",
       "      <td>6.270000e+03</td>\n",
       "    </tr>\n",
       "    <tr>\n",
       "      <th>50%</th>\n",
       "      <td>15.000000</td>\n",
       "      <td>7.000000</td>\n",
       "      <td>0.000000</td>\n",
       "      <td>0.000000</td>\n",
       "      <td>996.646000</td>\n",
       "      <td>74.000000</td>\n",
       "      <td>0.130000</td>\n",
       "      <td>93.000000</td>\n",
       "      <td>125.000000</td>\n",
       "      <td>983.000000</td>\n",
       "      <td>76.000000</td>\n",
       "      <td>146.000000</td>\n",
       "      <td>7.000000</td>\n",
       "      <td>3.000000</td>\n",
       "      <td>3.516000e+04</td>\n",
       "    </tr>\n",
       "    <tr>\n",
       "      <th>75%</th>\n",
       "      <td>90.000000</td>\n",
       "      <td>47.500000</td>\n",
       "      <td>2.000000</td>\n",
       "      <td>1.000000</td>\n",
       "      <td>1046.975000</td>\n",
       "      <td>514.500000</td>\n",
       "      <td>0.170000</td>\n",
       "      <td>554.000000</td>\n",
       "      <td>865.000000</td>\n",
       "      <td>6732.000000</td>\n",
       "      <td>541.500000</td>\n",
       "      <td>1130.500000</td>\n",
       "      <td>62.000000</td>\n",
       "      <td>26.000000</td>\n",
       "      <td>2.234100e+05</td>\n",
       "    </tr>\n",
       "    <tr>\n",
       "      <th>max</th>\n",
       "      <td>3156.000000</td>\n",
       "      <td>1764.000000</td>\n",
       "      <td>40.000000</td>\n",
       "      <td>18.000000</td>\n",
       "      <td>2010.240000</td>\n",
       "      <td>23742.000000</td>\n",
       "      <td>0.420000</td>\n",
       "      <td>16988.000000</td>\n",
       "      <td>34390.000000</td>\n",
       "      <td>372360.000000</td>\n",
       "      <td>43910.000000</td>\n",
       "      <td>42900.000000</td>\n",
       "      <td>2601.000000</td>\n",
       "      <td>1141.000000</td>\n",
       "      <td>4.294920e+06</td>\n",
       "    </tr>\n",
       "  </tbody>\n",
       "</table>\n",
       "</div>"
      ],
      "text/plain": [
       "       GamesPlayed     GamesWon   GamesLeft     Ditches       Points  \\\n",
       "count   867.000000   867.000000  867.000000  867.000000   867.000000   \n",
       "mean     92.343714    50.369089    1.650519    0.711649  1014.840856   \n",
       "std     205.574415   115.795471    3.239320    1.808982   119.954984   \n",
       "min       1.000000     0.000000    0.000000    0.000000   626.837000   \n",
       "25%       3.000000     1.000000    0.000000    0.000000   961.886000   \n",
       "50%      15.000000     7.000000    0.000000    0.000000   996.646000   \n",
       "75%      90.000000    47.500000    2.000000    1.000000  1046.975000   \n",
       "max    3156.000000  1764.000000   40.000000   18.000000  2010.240000   \n",
       "\n",
       "              Kills  KillsPerMin        Deaths       Assists   CreepsKilled  \\\n",
       "count    867.000000   867.000000    867.000000    867.000000     867.000000   \n",
       "mean     608.660900     0.131799    545.094579    951.763552    7636.831603   \n",
       "std     1502.754591     0.065829   1204.140278   2230.809200   19801.024410   \n",
       "min        0.000000     0.000000      0.000000      0.000000       9.000000   \n",
       "25%       11.000000     0.090000     17.500000     18.000000     160.500000   \n",
       "50%       74.000000     0.130000     93.000000    125.000000     983.000000   \n",
       "75%      514.500000     0.170000    554.000000    865.000000    6732.000000   \n",
       "max    23742.000000     0.420000  16988.000000  34390.000000  372360.000000   \n",
       "\n",
       "       CreepsDenied  NeutralsKilled  TowersDestroyed  RaxsDestroyed  \\\n",
       "count    867.000000      867.000000       867.000000     867.000000   \n",
       "mean     677.627451     1259.800461        70.786621      29.740484   \n",
       "std     2029.775852     2969.501221       175.869846      74.661056   \n",
       "min        0.000000        0.000000         0.000000       0.000000   \n",
       "25%       12.000000       16.000000         1.000000       0.000000   \n",
       "50%       76.000000      146.000000         7.000000       3.000000   \n",
       "75%      541.500000     1130.500000        62.000000      26.000000   \n",
       "max    43910.000000    42900.000000      2601.000000    1141.000000   \n",
       "\n",
       "          TotalTime  \n",
       "count  8.670000e+02  \n",
       "mean   2.283400e+05  \n",
       "std    4.751062e+05  \n",
       "min    1.349000e+03  \n",
       "25%    6.270000e+03  \n",
       "50%    3.516000e+04  \n",
       "75%    2.234100e+05  \n",
       "max    4.294920e+06  "
      ]
     },
     "execution_count": 3,
     "metadata": {},
     "output_type": "execute_result"
    }
   ],
   "source": [
    "dota_df1 = pd.read_csv('DoTalicious_cleaned1000players.csv')\n",
    "dota_df1.drop(['PlayerID'], axis=1, inplace=True)\n",
    "\n",
    "dota_df1 = dota_df1.rename(columns=lambda x: x.strip())\n",
    "\n",
    "dota_df1['TotalTime'] = pd.to_numeric(dota_df1['TotalTime'], errors='coerce')\n",
    "\n",
    "dota_df1.loc[dota_df1['SkillLevel'] ==' SkillLevelNull', 'SkillLevel'] = '1'\n",
    "\n",
    "dota_df1['SkillLevel'] = pd.Series(dota_df1['SkillLevel'].astype('category'))\n",
    "\n",
    "dota_df1['SkillLevel'] = dota_df1['SkillLevel'].cat.rename_categories({'0':'N', '1':'B', '2':'I', '3':'A'})\n",
    "\n",
    "dota_df1.drop([517], inplace=True)\n",
    "\n",
    "dota_df1.describe()"
   ]
  },
  {
   "attachments": {},
   "cell_type": "markdown",
   "metadata": {},
   "source": [
    "Next, we'll split the data first into predictors and target and then into training and test"
   ]
  },
  {
   "cell_type": "code",
   "execution_count": 4,
   "metadata": {},
   "outputs": [],
   "source": [
    "y = dota_df1['SkillLevel']\n",
    "X = dota_df1.drop(['SkillLevel'], axis=1, inplace=False)\n",
    "\n",
    "X_train, X_test, y_train, y_test = train_test_split(X, y, test_size=0.25, random_state=101)"
   ]
  },
  {
   "attachments": {},
   "cell_type": "markdown",
   "metadata": {},
   "source": [
    "Laslty, since we don't need to standardize for the NaiveBayes, we'll run our model.\n",
    "\n",
    "We'll need to call 'predict_proba' on our model for 'roc_auc_score'. "
   ]
  },
  {
   "cell_type": "code",
   "execution_count": 5,
   "metadata": {},
   "outputs": [],
   "source": [
    "#define model\n",
    "gnb = GaussianNB()\n",
    "gnb.fit(X_train, y_train)\n",
    "gnb_pred = gnb.predict(X_test)\n",
    "gnb_pred_prob = gnb.predict_proba(X_test)"
   ]
  },
  {
   "attachments": {},
   "cell_type": "markdown",
   "metadata": {},
   "source": [
    "## Step 2: Compute AUC\n"
   ]
  },
  {
   "attachments": {},
   "cell_type": "markdown",
   "metadata": {},
   "source": [
    "Python also offers an 'auc_score', but it does not support multi-class scenarios. As a result, we use 'roc_auc_score'."
   ]
  },
  {
   "cell_type": "code",
   "execution_count": 6,
   "metadata": {},
   "outputs": [
    {
     "data": {
      "text/plain": [
       "0.9240146761091477"
      ]
     },
     "execution_count": 6,
     "metadata": {},
     "output_type": "execute_result"
    }
   ],
   "source": [
    "roc_auc_score(y_test, gnb_pred_prob, multi_class='ovr' )"
   ]
  },
  {
   "attachments": {},
   "cell_type": "markdown",
   "metadata": {},
   "source": [
    "To mimic R's method, we need to bin our target."
   ]
  },
  {
   "cell_type": "code",
   "execution_count": 31,
   "metadata": {},
   "outputs": [],
   "source": [
    "from sklearn.preprocessing import LabelBinarizer"
   ]
  },
  {
   "cell_type": "code",
   "execution_count": 32,
   "metadata": {},
   "outputs": [],
   "source": [
    "label_binarizer = LabelBinarizer().fit(y_train)\n",
    "y_test_lb = label_binarizer.transform(y_test)"
   ]
  },
  {
   "attachments": {},
   "cell_type": "markdown",
   "metadata": {},
   "source": [
    "Compare before and after shapes - we've added 4 \"columns\", 1 for each SkillLevel."
   ]
  },
  {
   "cell_type": "code",
   "execution_count": 38,
   "metadata": {},
   "outputs": [
    {
     "name": "stdout",
     "output_type": "stream",
     "text": [
      "y_test shape:  (217,)\n",
      "y_test_lb shape:  (217, 4)\n"
     ]
    }
   ],
   "source": [
    "print(\"y_test shape: \", y_test.shape)\n",
    "print(\"y_test_lb shape: \", y_test_lb.shape)"
   ]
  },
  {
   "cell_type": "code",
   "execution_count": 35,
   "metadata": {},
   "outputs": [
    {
     "data": {
      "image/png": "[encoded data removed]",
      "text/plain": [
       "<Figure size 600x600 with 1 Axes>"
      ]
     },
     "metadata": {},
     "output_type": "display_data"
    }
   ],
   "source": [
    "from itertools import cycle\n",
    "\n",
    "n_classes = len(np.unique(y_test))\n",
    "target_names = ['N', 'B', 'I', 'A']\n",
    "\n",
    "fig, ax = plt.subplots(figsize=(6, 6))\n",
    "\n",
    "colors = cycle([\"aqua\", \"darkorange\", \"cornflowerblue\"])\n",
    "for class_id, color in zip(range(n_classes), colors):\n",
    "    RocCurveDisplay.from_predictions(\n",
    "        y_test_lb[:, class_id],\n",
    "        gnb_pred_prob[:, class_id],\n",
    "        name=f\"ROC curve for {target_names[class_id]}\",\n",
    "        color=color,\n",
    "        ax=ax,\n",
    "    )\n",
    "\n",
    "plt.plot([0, 1], [0, 1], \"k--\", label=\"ROC curve for chance level (AUC = 0.5)\")\n",
    "plt.axis(\"square\")\n",
    "plt.xlabel(\"False Positive Rate\")\n",
    "plt.ylabel(\"True Positive Rate\")\n",
    "plt.title(\"Extension of Receiver Operating Characteristic\\nto One-vs-Rest multiclass\")\n",
    "plt.legend()\n",
    "plt.show()"
   ]
  },
  {
   "attachments": {},
   "cell_type": "markdown",
   "metadata": {},
   "source": [
    "Do you notice the larger \"choppiness\" or steps present in Intermediate and Advanced curves? That's because there is less data available for I and A skill levels.\n",
    "\n",
    "Using 'ovr' - One Versus Rest - Naive Bayes performs well."
   ]
  },
  {
   "attachments": {},
   "cell_type": "markdown",
   "metadata": {},
   "source": [
    "## Conclusion\n",
    "\n",
    "In this lab, we showed you how to draw the ROC curve as well as computing AUC values for a Naive Bayes model, using the ROCR package. You can replicate that for other models that you learned through Chapter 7 labs.\n",
    "\n",
    "In Python, however, depending on the model you choose to use, you may need to call a different function, i.e, 'decision_function' for LinearSVC."
   ]
  }
 ],
 "metadata": {
  "kernelspec": {
   "display_name": "Python 3",
   "language": "python",
   "name": "python3"
  },
  "language_info": {
   "codemirror_mode": {
    "name": "ipython",
    "version": 3
   },
   "file_extension": ".py",
   "mimetype": "text/x-python",
   "name": "python",
   "nbconvert_exporter": "python",
   "pygments_lexer": "ipython3",
   "version": "3.9.13"
  },
  "orig_nbformat": 4
 },
 "nbformat": 4,
 "nbformat_minor": 2
}
