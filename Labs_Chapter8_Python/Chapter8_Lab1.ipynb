{
 "cells": [
  {
   "attachments": {},
   "cell_type": "markdown",
   "metadata": {},
   "source": [
    "# Chapter 8 Lab 1\n",
    "\n",
    "## Goal\n",
    "We are going to learn how to compute and interpret the following scalar metrics:\n",
    "\n",
    "Accuracy\n",
    "True Positive rate (TPR), or sensitivity\n",
    "True negative rate (TNR), or specificity\n",
    "Precision\n",
    "Recall\n",
    "F-measure\n",
    "We will again consider the task of predicting players’ SkillLevel, which takes integer value between 0 and 3, with 0 being novice level and 3 expert.\n",
    "\n",
    "For illustrative purposes, consider the Decision Tree model from Chapter 7, lab 7 (note that you can use any other model you have trained so far for this purpose).\n",
    "\n",
    "## Preparation\n",
    "\n",
    "Load the required packages below."
   ]
  },
  {
   "cell_type": "code",
   "execution_count": 11,
   "metadata": {},
   "outputs": [],
   "source": [
    "from sklearn.model_selection import train_test_split, RepeatedKFold, GridSearchCV\n",
    "from sklearn.metrics import ConfusionMatrixDisplay, cohen_kappa_score, classification_report, precision_recall_fscore_support, make_scorer, confusion_matrix\n",
    "from sklearn.tree import DecisionTreeClassifier\n",
    "import pandas as pd\n",
    "import numpy as np\n",
    "import matplotlib as mpl\n",
    "import matplotlib.pyplot as plt\n",
    "%matplotlib inline\n",
    "import seaborn as sns\n",
    "import sys\n",
    "from io import StringIO\n",
    "\n",
    "import warnings\n",
    "warnings.filterwarnings('ignore')"
   ]
  },
  {
   "attachments": {},
   "cell_type": "markdown",
   "metadata": {},
   "source": [
    "## Step 1: Data Pre-processing and Model Building\n",
    "\n",
    "We've done these steps enough to condense them together in order to speed the process of getting to metric evaluation."
   ]
  },
  {
   "cell_type": "code",
   "execution_count": 3,
   "metadata": {},
   "outputs": [
    {
     "data": {
      "text/html": [
       "<div>\n",
       "<style scoped>\n",
       "    .dataframe tbody tr th:only-of-type {\n",
       "        vertical-align: middle;\n",
       "    }\n",
       "\n",
       "    .dataframe tbody tr th {\n",
       "        vertical-align: top;\n",
       "    }\n",
       "\n",
       "    .dataframe thead th {\n",
       "        text-align: right;\n",
       "    }\n",
       "</style>\n",
       "<table border=\"1\" class=\"dataframe\">\n",
       "  <thead>\n",
       "    <tr style=\"text-align: right;\">\n",
       "      <th></th>\n",
       "      <th>GamesPlayed</th>\n",
       "      <th>GamesWon</th>\n",
       "      <th>GamesLeft</th>\n",
       "      <th>Ditches</th>\n",
       "      <th>Points</th>\n",
       "      <th>Kills</th>\n",
       "      <th>KillsPerMin</th>\n",
       "      <th>Deaths</th>\n",
       "      <th>Assists</th>\n",
       "      <th>CreepsKilled</th>\n",
       "      <th>CreepsDenied</th>\n",
       "      <th>NeutralsKilled</th>\n",
       "      <th>TowersDestroyed</th>\n",
       "      <th>RaxsDestroyed</th>\n",
       "      <th>TotalTime</th>\n",
       "    </tr>\n",
       "  </thead>\n",
       "  <tbody>\n",
       "    <tr>\n",
       "      <th>count</th>\n",
       "      <td>867.000000</td>\n",
       "      <td>867.000000</td>\n",
       "      <td>867.000000</td>\n",
       "      <td>867.000000</td>\n",
       "      <td>867.000000</td>\n",
       "      <td>867.000000</td>\n",
       "      <td>867.000000</td>\n",
       "      <td>867.000000</td>\n",
       "      <td>867.000000</td>\n",
       "      <td>867.000000</td>\n",
       "      <td>867.000000</td>\n",
       "      <td>867.000000</td>\n",
       "      <td>867.000000</td>\n",
       "      <td>867.000000</td>\n",
       "      <td>8.670000e+02</td>\n",
       "    </tr>\n",
       "    <tr>\n",
       "      <th>mean</th>\n",
       "      <td>92.343714</td>\n",
       "      <td>50.369089</td>\n",
       "      <td>1.650519</td>\n",
       "      <td>0.711649</td>\n",
       "      <td>1014.840856</td>\n",
       "      <td>608.660900</td>\n",
       "      <td>0.131799</td>\n",
       "      <td>545.094579</td>\n",
       "      <td>951.763552</td>\n",
       "      <td>7636.831603</td>\n",
       "      <td>677.627451</td>\n",
       "      <td>1259.800461</td>\n",
       "      <td>70.786621</td>\n",
       "      <td>29.740484</td>\n",
       "      <td>2.283400e+05</td>\n",
       "    </tr>\n",
       "    <tr>\n",
       "      <th>std</th>\n",
       "      <td>205.574415</td>\n",
       "      <td>115.795471</td>\n",
       "      <td>3.239320</td>\n",
       "      <td>1.808982</td>\n",
       "      <td>119.954984</td>\n",
       "      <td>1502.754591</td>\n",
       "      <td>0.065829</td>\n",
       "      <td>1204.140278</td>\n",
       "      <td>2230.809200</td>\n",
       "      <td>19801.024410</td>\n",
       "      <td>2029.775852</td>\n",
       "      <td>2969.501221</td>\n",
       "      <td>175.869846</td>\n",
       "      <td>74.661056</td>\n",
       "      <td>4.751062e+05</td>\n",
       "    </tr>\n",
       "    <tr>\n",
       "      <th>min</th>\n",
       "      <td>1.000000</td>\n",
       "      <td>0.000000</td>\n",
       "      <td>0.000000</td>\n",
       "      <td>0.000000</td>\n",
       "      <td>626.837000</td>\n",
       "      <td>0.000000</td>\n",
       "      <td>0.000000</td>\n",
       "      <td>0.000000</td>\n",
       "      <td>0.000000</td>\n",
       "      <td>9.000000</td>\n",
       "      <td>0.000000</td>\n",
       "      <td>0.000000</td>\n",
       "      <td>0.000000</td>\n",
       "      <td>0.000000</td>\n",
       "      <td>1.349000e+03</td>\n",
       "    </tr>\n",
       "    <tr>\n",
       "      <th>25%</th>\n",
       "      <td>3.000000</td>\n",
       "      <td>1.000000</td>\n",
       "      <td>0.000000</td>\n",
       "      <td>0.000000</td>\n",
       "      <td>961.886000</td>\n",
       "      <td>11.000000</td>\n",
       "      <td>0.090000</td>\n",
       "      <td>17.500000</td>\n",
       "      <td>18.000000</td>\n",
       "      <td>160.500000</td>\n",
       "      <td>12.000000</td>\n",
       "      <td>16.000000</td>\n",
       "      <td>1.000000</td>\n",
       "      <td>0.000000</td>\n",
       "      <td>6.270000e+03</td>\n",
       "    </tr>\n",
       "    <tr>\n",
       "      <th>50%</th>\n",
       "      <td>15.000000</td>\n",
       "      <td>7.000000</td>\n",
       "      <td>0.000000</td>\n",
       "      <td>0.000000</td>\n",
       "      <td>996.646000</td>\n",
       "      <td>74.000000</td>\n",
       "      <td>0.130000</td>\n",
       "      <td>93.000000</td>\n",
       "      <td>125.000000</td>\n",
       "      <td>983.000000</td>\n",
       "      <td>76.000000</td>\n",
       "      <td>146.000000</td>\n",
       "      <td>7.000000</td>\n",
       "      <td>3.000000</td>\n",
       "      <td>3.516000e+04</td>\n",
       "    </tr>\n",
       "    <tr>\n",
       "      <th>75%</th>\n",
       "      <td>90.000000</td>\n",
       "      <td>47.500000</td>\n",
       "      <td>2.000000</td>\n",
       "      <td>1.000000</td>\n",
       "      <td>1046.975000</td>\n",
       "      <td>514.500000</td>\n",
       "      <td>0.170000</td>\n",
       "      <td>554.000000</td>\n",
       "      <td>865.000000</td>\n",
       "      <td>6732.000000</td>\n",
       "      <td>541.500000</td>\n",
       "      <td>1130.500000</td>\n",
       "      <td>62.000000</td>\n",
       "      <td>26.000000</td>\n",
       "      <td>2.234100e+05</td>\n",
       "    </tr>\n",
       "    <tr>\n",
       "      <th>max</th>\n",
       "      <td>3156.000000</td>\n",
       "      <td>1764.000000</td>\n",
       "      <td>40.000000</td>\n",
       "      <td>18.000000</td>\n",
       "      <td>2010.240000</td>\n",
       "      <td>23742.000000</td>\n",
       "      <td>0.420000</td>\n",
       "      <td>16988.000000</td>\n",
       "      <td>34390.000000</td>\n",
       "      <td>372360.000000</td>\n",
       "      <td>43910.000000</td>\n",
       "      <td>42900.000000</td>\n",
       "      <td>2601.000000</td>\n",
       "      <td>1141.000000</td>\n",
       "      <td>4.294920e+06</td>\n",
       "    </tr>\n",
       "  </tbody>\n",
       "</table>\n",
       "</div>"
      ],
      "text/plain": [
       "       GamesPlayed     GamesWon   GamesLeft     Ditches       Points  \\\n",
       "count   867.000000   867.000000  867.000000  867.000000   867.000000   \n",
       "mean     92.343714    50.369089    1.650519    0.711649  1014.840856   \n",
       "std     205.574415   115.795471    3.239320    1.808982   119.954984   \n",
       "min       1.000000     0.000000    0.000000    0.000000   626.837000   \n",
       "25%       3.000000     1.000000    0.000000    0.000000   961.886000   \n",
       "50%      15.000000     7.000000    0.000000    0.000000   996.646000   \n",
       "75%      90.000000    47.500000    2.000000    1.000000  1046.975000   \n",
       "max    3156.000000  1764.000000   40.000000   18.000000  2010.240000   \n",
       "\n",
       "              Kills  KillsPerMin        Deaths       Assists   CreepsKilled  \\\n",
       "count    867.000000   867.000000    867.000000    867.000000     867.000000   \n",
       "mean     608.660900     0.131799    545.094579    951.763552    7636.831603   \n",
       "std     1502.754591     0.065829   1204.140278   2230.809200   19801.024410   \n",
       "min        0.000000     0.000000      0.000000      0.000000       9.000000   \n",
       "25%       11.000000     0.090000     17.500000     18.000000     160.500000   \n",
       "50%       74.000000     0.130000     93.000000    125.000000     983.000000   \n",
       "75%      514.500000     0.170000    554.000000    865.000000    6732.000000   \n",
       "max    23742.000000     0.420000  16988.000000  34390.000000  372360.000000   \n",
       "\n",
       "       CreepsDenied  NeutralsKilled  TowersDestroyed  RaxsDestroyed  \\\n",
       "count    867.000000      867.000000       867.000000     867.000000   \n",
       "mean     677.627451     1259.800461        70.786621      29.740484   \n",
       "std     2029.775852     2969.501221       175.869846      74.661056   \n",
       "min        0.000000        0.000000         0.000000       0.000000   \n",
       "25%       12.000000       16.000000         1.000000       0.000000   \n",
       "50%       76.000000      146.000000         7.000000       3.000000   \n",
       "75%      541.500000     1130.500000        62.000000      26.000000   \n",
       "max    43910.000000    42900.000000      2601.000000    1141.000000   \n",
       "\n",
       "          TotalTime  \n",
       "count  8.670000e+02  \n",
       "mean   2.283400e+05  \n",
       "std    4.751062e+05  \n",
       "min    1.349000e+03  \n",
       "25%    6.270000e+03  \n",
       "50%    3.516000e+04  \n",
       "75%    2.234100e+05  \n",
       "max    4.294920e+06  "
      ]
     },
     "execution_count": 3,
     "metadata": {},
     "output_type": "execute_result"
    }
   ],
   "source": [
    "dota_df1 = pd.read_csv('DoTalicious_cleaned1000players.csv')\n",
    "dota_df1.drop(['PlayerID'], axis=1, inplace=True)\n",
    "\n",
    "dota_df1 = dota_df1.rename(columns=lambda x: x.strip())\n",
    "\n",
    "dota_df1['TotalTime'] = pd.to_numeric(dota_df1['TotalTime'], errors='coerce')\n",
    "\n",
    "dota_df1.loc[dota_df1['SkillLevel'] ==' SkillLevelNull', 'SkillLevel'] = '1'\n",
    "\n",
    "dota_df1['SkillLevel'] = pd.Series(dota_df1['SkillLevel'].astype('category'))\n",
    "\n",
    "dota_df1.drop([517], inplace=True)\n",
    "\n",
    "dota_df1.describe()"
   ]
  },
  {
   "attachments": {},
   "cell_type": "markdown",
   "metadata": {},
   "source": [
    "Next, we'll split the data first into predictors and target and then into training and test"
   ]
  },
  {
   "cell_type": "code",
   "execution_count": 4,
   "metadata": {},
   "outputs": [],
   "source": [
    "y = dota_df1['SkillLevel']\n",
    "X = dota_df1.drop(['SkillLevel'], axis=1, inplace=False)\n",
    "\n",
    "X_train, X_test, y_train, y_test = train_test_split(X, y, test_size=0.25, random_state=101)"
   ]
  },
  {
   "attachments": {},
   "cell_type": "markdown",
   "metadata": {},
   "source": [
    "Laslty, since we don't need to standardize for the DecisionTreeClassifier, we'll run our model."
   ]
  },
  {
   "cell_type": "code",
   "execution_count": 5,
   "metadata": {},
   "outputs": [
    {
     "data": {
      "text/html": [
       "<style>#sk-container-id-1 {color: black;background-color: white;}#sk-container-id-1 pre{padding: 0;}#sk-container-id-1 div.sk-toggleable {background-color: white;}#sk-container-id-1 label.sk-toggleable__label {cursor: pointer;display: block;width: 100%;margin-bottom: 0;padding: 0.3em;box-sizing: border-box;text-align: center;}#sk-container-id-1 label.sk-toggleable__label-arrow:before {content: \"▸\";float: left;margin-right: 0.25em;color: #696969;}#sk-container-id-1 label.sk-toggleable__label-arrow:hover:before {color: black;}#sk-container-id-1 div.sk-estimator:hover label.sk-toggleable__label-arrow:before {color: black;}#sk-container-id-1 div.sk-toggleable__content {max-height: 0;max-width: 0;overflow: hidden;text-align: left;background-color: #f0f8ff;}#sk-container-id-1 div.sk-toggleable__content pre {margin: 0.2em;color: black;border-radius: 0.25em;background-color: #f0f8ff;}#sk-container-id-1 input.sk-toggleable__control:checked~div.sk-toggleable__content {max-height: 200px;max-width: 100%;overflow: auto;}#sk-container-id-1 input.sk-toggleable__control:checked~label.sk-toggleable__label-arrow:before {content: \"▾\";}#sk-container-id-1 div.sk-estimator input.sk-toggleable__control:checked~label.sk-toggleable__label {background-color: #d4ebff;}#sk-container-id-1 div.sk-label input.sk-toggleable__control:checked~label.sk-toggleable__label {background-color: #d4ebff;}#sk-container-id-1 input.sk-hidden--visually {border: 0;clip: rect(1px 1px 1px 1px);clip: rect(1px, 1px, 1px, 1px);height: 1px;margin: -1px;overflow: hidden;padding: 0;position: absolute;width: 1px;}#sk-container-id-1 div.sk-estimator {font-family: monospace;background-color: #f0f8ff;border: 1px dotted black;border-radius: 0.25em;box-sizing: border-box;margin-bottom: 0.5em;}#sk-container-id-1 div.sk-estimator:hover {background-color: #d4ebff;}#sk-container-id-1 div.sk-parallel-item::after {content: \"\";width: 100%;border-bottom: 1px solid gray;flex-grow: 1;}#sk-container-id-1 div.sk-label:hover label.sk-toggleable__label {background-color: #d4ebff;}#sk-container-id-1 div.sk-serial::before {content: \"\";position: absolute;border-left: 1px solid gray;box-sizing: border-box;top: 0;bottom: 0;left: 50%;z-index: 0;}#sk-container-id-1 div.sk-serial {display: flex;flex-direction: column;align-items: center;background-color: white;padding-right: 0.2em;padding-left: 0.2em;position: relative;}#sk-container-id-1 div.sk-item {position: relative;z-index: 1;}#sk-container-id-1 div.sk-parallel {display: flex;align-items: stretch;justify-content: center;background-color: white;position: relative;}#sk-container-id-1 div.sk-item::before, #sk-container-id-1 div.sk-parallel-item::before {content: \"\";position: absolute;border-left: 1px solid gray;box-sizing: border-box;top: 0;bottom: 0;left: 50%;z-index: -1;}#sk-container-id-1 div.sk-parallel-item {display: flex;flex-direction: column;z-index: 1;position: relative;background-color: white;}#sk-container-id-1 div.sk-parallel-item:first-child::after {align-self: flex-end;width: 50%;}#sk-container-id-1 div.sk-parallel-item:last-child::after {align-self: flex-start;width: 50%;}#sk-container-id-1 div.sk-parallel-item:only-child::after {width: 0;}#sk-container-id-1 div.sk-dashed-wrapped {border: 1px dashed gray;margin: 0 0.4em 0.5em 0.4em;box-sizing: border-box;padding-bottom: 0.4em;background-color: white;}#sk-container-id-1 div.sk-label label {font-family: monospace;font-weight: bold;display: inline-block;line-height: 1.2em;}#sk-container-id-1 div.sk-label-container {text-align: center;}#sk-container-id-1 div.sk-container {/* jupyter's `normalize.less` sets `[hidden] { display: none; }` but bootstrap.min.css set `[hidden] { display: none !important; }` so we also need the `!important` here to be able to override the default hidden behavior on the sphinx rendered scikit-learn.org. See: https://github.com/scikit-learn/scikit-learn/issues/21755 */display: inline-block !important;position: relative;}#sk-container-id-1 div.sk-text-repr-fallback {display: none;}</style><div id=\"sk-container-id-1\" class=\"sk-top-container\"><div class=\"sk-text-repr-fallback\"><pre>GridSearchCV(cv=RepeatedKFold(n_repeats=3, n_splits=10, random_state=101),\n",
       "             estimator=DecisionTreeClassifier(), n_jobs=-1,\n",
       "             param_grid={&#x27;ccp_alpha&#x27;: [0.1, 0.14, 0.18000000000000002,\n",
       "                                       0.22000000000000003, 0.26,\n",
       "                                       0.30000000000000004, 0.3400000000000001,\n",
       "                                       0.38, 0.42000000000000004,\n",
       "                                       0.4600000000000001, 0.5000000000000001,\n",
       "                                       0.54, 0.5800000000000001,\n",
       "                                       0.6200000000000001, 0.66,\n",
       "                                       0.7000000000000001, 0.7400000000000001,\n",
       "                                       0.7800000000000001, 0.8200000000000002,\n",
       "                                       0.8600000000000001, 0.9000000000000001,\n",
       "                                       0.9400000000000002,\n",
       "                                       0.9800000000000001]},\n",
       "             refit=&#x27;Accuracy&#x27;,\n",
       "             scoring={&#x27;Accuracy&#x27;: &#x27;accuracy&#x27;,\n",
       "                      &#x27;Kappa&#x27;: make_scorer(cohen_kappa_score)})</pre><b>In a Jupyter environment, please rerun this cell to show the HTML representation or trust the notebook. <br />On GitHub, the HTML representation is unable to render, please try loading this page with nbviewer.org.</b></div><div class=\"sk-container\" hidden><div class=\"sk-item sk-dashed-wrapped\"><div class=\"sk-label-container\"><div class=\"sk-label sk-toggleable\"><input class=\"sk-toggleable__control sk-hidden--visually\" id=\"sk-estimator-id-1\" type=\"checkbox\" ><label for=\"sk-estimator-id-1\" class=\"sk-toggleable__label sk-toggleable__label-arrow\">GridSearchCV</label><div class=\"sk-toggleable__content\"><pre>GridSearchCV(cv=RepeatedKFold(n_repeats=3, n_splits=10, random_state=101),\n",
       "             estimator=DecisionTreeClassifier(), n_jobs=-1,\n",
       "             param_grid={&#x27;ccp_alpha&#x27;: [0.1, 0.14, 0.18000000000000002,\n",
       "                                       0.22000000000000003, 0.26,\n",
       "                                       0.30000000000000004, 0.3400000000000001,\n",
       "                                       0.38, 0.42000000000000004,\n",
       "                                       0.4600000000000001, 0.5000000000000001,\n",
       "                                       0.54, 0.5800000000000001,\n",
       "                                       0.6200000000000001, 0.66,\n",
       "                                       0.7000000000000001, 0.7400000000000001,\n",
       "                                       0.7800000000000001, 0.8200000000000002,\n",
       "                                       0.8600000000000001, 0.9000000000000001,\n",
       "                                       0.9400000000000002,\n",
       "                                       0.9800000000000001]},\n",
       "             refit=&#x27;Accuracy&#x27;,\n",
       "             scoring={&#x27;Accuracy&#x27;: &#x27;accuracy&#x27;,\n",
       "                      &#x27;Kappa&#x27;: make_scorer(cohen_kappa_score)})</pre></div></div></div><div class=\"sk-parallel\"><div class=\"sk-parallel-item\"><div class=\"sk-item\"><div class=\"sk-label-container\"><div class=\"sk-label sk-toggleable\"><input class=\"sk-toggleable__control sk-hidden--visually\" id=\"sk-estimator-id-2\" type=\"checkbox\" ><label for=\"sk-estimator-id-2\" class=\"sk-toggleable__label sk-toggleable__label-arrow\">estimator: DecisionTreeClassifier</label><div class=\"sk-toggleable__content\"><pre>DecisionTreeClassifier()</pre></div></div></div><div class=\"sk-serial\"><div class=\"sk-item\"><div class=\"sk-estimator sk-toggleable\"><input class=\"sk-toggleable__control sk-hidden--visually\" id=\"sk-estimator-id-3\" type=\"checkbox\" ><label for=\"sk-estimator-id-3\" class=\"sk-toggleable__label sk-toggleable__label-arrow\">DecisionTreeClassifier</label><div class=\"sk-toggleable__content\"><pre>DecisionTreeClassifier()</pre></div></div></div></div></div></div></div></div></div></div>"
      ],
      "text/plain": [
       "GridSearchCV(cv=RepeatedKFold(n_repeats=3, n_splits=10, random_state=101),\n",
       "             estimator=DecisionTreeClassifier(), n_jobs=-1,\n",
       "             param_grid={'ccp_alpha': [0.1, 0.14, 0.18000000000000002,\n",
       "                                       0.22000000000000003, 0.26,\n",
       "                                       0.30000000000000004, 0.3400000000000001,\n",
       "                                       0.38, 0.42000000000000004,\n",
       "                                       0.4600000000000001, 0.5000000000000001,\n",
       "                                       0.54, 0.5800000000000001,\n",
       "                                       0.6200000000000001, 0.66,\n",
       "                                       0.7000000000000001, 0.7400000000000001,\n",
       "                                       0.7800000000000001, 0.8200000000000002,\n",
       "                                       0.8600000000000001, 0.9000000000000001,\n",
       "                                       0.9400000000000002,\n",
       "                                       0.9800000000000001]},\n",
       "             refit='Accuracy',\n",
       "             scoring={'Accuracy': 'accuracy',\n",
       "                      'Kappa': make_scorer(cohen_kappa_score)})"
      ]
     },
     "execution_count": 5,
     "metadata": {},
     "output_type": "execute_result"
    }
   ],
   "source": [
    "#Setup and configure settings for Repeated k-Fold CV (k-folds=10, repeats=10)\n",
    "rcv = RepeatedKFold(n_splits=10, n_repeats=3, random_state=101)\n",
    "\n",
    "#define model\n",
    "dtc = DecisionTreeClassifier()\n",
    "scoring = {'Accuracy':'accuracy', 'Kappa':make_scorer(cohen_kappa_score)}\n",
    "alphas = list(np.arange(0.1, 1.0, 0.04))\n",
    "params = {'ccp_alpha':alphas}\n",
    "\n",
    "#create model, perform Repeated CV and evaluate model\n",
    "scores = GridSearchCV(dtc, params, scoring=scoring, cv=rcv, refit='Accuracy', n_jobs=-1)\n",
    "scores.fit(X_train, y_train)"
   ]
  },
  {
   "cell_type": "code",
   "execution_count": 6,
   "metadata": {},
   "outputs": [
    {
     "data": {
      "text/html": [
       "<style>#sk-container-id-2 {color: black;background-color: white;}#sk-container-id-2 pre{padding: 0;}#sk-container-id-2 div.sk-toggleable {background-color: white;}#sk-container-id-2 label.sk-toggleable__label {cursor: pointer;display: block;width: 100%;margin-bottom: 0;padding: 0.3em;box-sizing: border-box;text-align: center;}#sk-container-id-2 label.sk-toggleable__label-arrow:before {content: \"▸\";float: left;margin-right: 0.25em;color: #696969;}#sk-container-id-2 label.sk-toggleable__label-arrow:hover:before {color: black;}#sk-container-id-2 div.sk-estimator:hover label.sk-toggleable__label-arrow:before {color: black;}#sk-container-id-2 div.sk-toggleable__content {max-height: 0;max-width: 0;overflow: hidden;text-align: left;background-color: #f0f8ff;}#sk-container-id-2 div.sk-toggleable__content pre {margin: 0.2em;color: black;border-radius: 0.25em;background-color: #f0f8ff;}#sk-container-id-2 input.sk-toggleable__control:checked~div.sk-toggleable__content {max-height: 200px;max-width: 100%;overflow: auto;}#sk-container-id-2 input.sk-toggleable__control:checked~label.sk-toggleable__label-arrow:before {content: \"▾\";}#sk-container-id-2 div.sk-estimator input.sk-toggleable__control:checked~label.sk-toggleable__label {background-color: #d4ebff;}#sk-container-id-2 div.sk-label input.sk-toggleable__control:checked~label.sk-toggleable__label {background-color: #d4ebff;}#sk-container-id-2 input.sk-hidden--visually {border: 0;clip: rect(1px 1px 1px 1px);clip: rect(1px, 1px, 1px, 1px);height: 1px;margin: -1px;overflow: hidden;padding: 0;position: absolute;width: 1px;}#sk-container-id-2 div.sk-estimator {font-family: monospace;background-color: #f0f8ff;border: 1px dotted black;border-radius: 0.25em;box-sizing: border-box;margin-bottom: 0.5em;}#sk-container-id-2 div.sk-estimator:hover {background-color: #d4ebff;}#sk-container-id-2 div.sk-parallel-item::after {content: \"\";width: 100%;border-bottom: 1px solid gray;flex-grow: 1;}#sk-container-id-2 div.sk-label:hover label.sk-toggleable__label {background-color: #d4ebff;}#sk-container-id-2 div.sk-serial::before {content: \"\";position: absolute;border-left: 1px solid gray;box-sizing: border-box;top: 0;bottom: 0;left: 50%;z-index: 0;}#sk-container-id-2 div.sk-serial {display: flex;flex-direction: column;align-items: center;background-color: white;padding-right: 0.2em;padding-left: 0.2em;position: relative;}#sk-container-id-2 div.sk-item {position: relative;z-index: 1;}#sk-container-id-2 div.sk-parallel {display: flex;align-items: stretch;justify-content: center;background-color: white;position: relative;}#sk-container-id-2 div.sk-item::before, #sk-container-id-2 div.sk-parallel-item::before {content: \"\";position: absolute;border-left: 1px solid gray;box-sizing: border-box;top: 0;bottom: 0;left: 50%;z-index: -1;}#sk-container-id-2 div.sk-parallel-item {display: flex;flex-direction: column;z-index: 1;position: relative;background-color: white;}#sk-container-id-2 div.sk-parallel-item:first-child::after {align-self: flex-end;width: 50%;}#sk-container-id-2 div.sk-parallel-item:last-child::after {align-self: flex-start;width: 50%;}#sk-container-id-2 div.sk-parallel-item:only-child::after {width: 0;}#sk-container-id-2 div.sk-dashed-wrapped {border: 1px dashed gray;margin: 0 0.4em 0.5em 0.4em;box-sizing: border-box;padding-bottom: 0.4em;background-color: white;}#sk-container-id-2 div.sk-label label {font-family: monospace;font-weight: bold;display: inline-block;line-height: 1.2em;}#sk-container-id-2 div.sk-label-container {text-align: center;}#sk-container-id-2 div.sk-container {/* jupyter's `normalize.less` sets `[hidden] { display: none; }` but bootstrap.min.css set `[hidden] { display: none !important; }` so we also need the `!important` here to be able to override the default hidden behavior on the sphinx rendered scikit-learn.org. See: https://github.com/scikit-learn/scikit-learn/issues/21755 */display: inline-block !important;position: relative;}#sk-container-id-2 div.sk-text-repr-fallback {display: none;}</style><div id=\"sk-container-id-2\" class=\"sk-top-container\"><div class=\"sk-text-repr-fallback\"><pre>DecisionTreeClassifier(ccp_alpha=0.1)</pre><b>In a Jupyter environment, please rerun this cell to show the HTML representation or trust the notebook. <br />On GitHub, the HTML representation is unable to render, please try loading this page with nbviewer.org.</b></div><div class=\"sk-container\" hidden><div class=\"sk-item\"><div class=\"sk-estimator sk-toggleable\"><input class=\"sk-toggleable__control sk-hidden--visually\" id=\"sk-estimator-id-4\" type=\"checkbox\" checked><label for=\"sk-estimator-id-4\" class=\"sk-toggleable__label sk-toggleable__label-arrow\">DecisionTreeClassifier</label><div class=\"sk-toggleable__content\"><pre>DecisionTreeClassifier(ccp_alpha=0.1)</pre></div></div></div></div></div>"
      ],
      "text/plain": [
       "DecisionTreeClassifier(ccp_alpha=0.1)"
      ]
     },
     "execution_count": 6,
     "metadata": {},
     "output_type": "execute_result"
    }
   ],
   "source": [
    "scores.best_estimator_"
   ]
  },
  {
   "attachments": {},
   "cell_type": "markdown",
   "metadata": {},
   "source": [
    "Now, we use this 'best_params' to predict classes so we can evaluate the results using common metrics."
   ]
  },
  {
   "cell_type": "code",
   "execution_count": 7,
   "metadata": {},
   "outputs": [],
   "source": [
    "final_model = scores.best_estimator_\n",
    "dtc_pred = final_model.predict(X_test)"
   ]
  },
  {
   "attachments": {},
   "cell_type": "markdown",
   "metadata": {},
   "source": [
    "## Step 2: Get performance measures\n",
    "\n",
    "Python has no shortage of metrics reports which you can tap. However, it is helpful to initially run a report and then manually calculate the more common metrics in order to learn them better.\n",
    "\n",
    "However, we will create a confusion table AFTER producing a brief report or two. Then we will use the outcomes of the confusion table in order to calculate certain metrics and compare them to what our code generated in the reports."
   ]
  },
  {
   "cell_type": "code",
   "execution_count": 8,
   "metadata": {},
   "outputs": [
    {
     "name": "stdout",
     "output_type": "stream",
     "text": [
      "              precision    recall  f1-score   support\n",
      "\n",
      "     class 0       1.00      0.83      0.91       110\n",
      "     class 1       0.78      1.00      0.88        98\n",
      "     class 2       0.00      0.00      0.00         6\n",
      "     class 3       0.00      0.00      0.00         3\n",
      "\n",
      "    accuracy                           0.87       217\n",
      "   macro avg       0.44      0.46      0.45       217\n",
      "weighted avg       0.86      0.87      0.85       217\n",
      "\n"
     ]
    }
   ],
   "source": [
    "target_names = ['class 0', 'class 1', 'class 2', 'class 3']\n",
    "print(classification_report(y_test, dtc_pred, target_names=target_names))"
   ]
  },
  {
   "cell_type": "code",
   "execution_count": 9,
   "metadata": {},
   "outputs": [
    {
     "data": {
      "text/html": [
       "<div>\n",
       "<style scoped>\n",
       "    .dataframe tbody tr th:only-of-type {\n",
       "        vertical-align: middle;\n",
       "    }\n",
       "\n",
       "    .dataframe tbody tr th {\n",
       "        vertical-align: top;\n",
       "    }\n",
       "\n",
       "    .dataframe thead th {\n",
       "        text-align: right;\n",
       "    }\n",
       "</style>\n",
       "<table border=\"1\" class=\"dataframe\">\n",
       "  <thead>\n",
       "    <tr style=\"text-align: right;\">\n",
       "      <th></th>\n",
       "      <th>0</th>\n",
       "      <th>1</th>\n",
       "      <th>2</th>\n",
       "      <th>3</th>\n",
       "    </tr>\n",
       "  </thead>\n",
       "  <tbody>\n",
       "    <tr>\n",
       "      <th>sensitivity</th>\n",
       "      <td>0.827273</td>\n",
       "      <td>1.000000</td>\n",
       "      <td>0.0</td>\n",
       "      <td>0.0</td>\n",
       "    </tr>\n",
       "    <tr>\n",
       "      <th>specificity</th>\n",
       "      <td>1.000000</td>\n",
       "      <td>0.764706</td>\n",
       "      <td>1.0</td>\n",
       "      <td>1.0</td>\n",
       "    </tr>\n",
       "  </tbody>\n",
       "</table>\n",
       "</div>"
      ],
      "text/plain": [
       "                    0         1    2    3\n",
       "sensitivity  0.827273  1.000000  0.0  0.0\n",
       "specificity  1.000000  0.764706  1.0  1.0"
      ]
     },
     "execution_count": 9,
     "metadata": {},
     "output_type": "execute_result"
    }
   ],
   "source": [
    "prfs = []\n",
    "for l in [0,1,2,3]:\n",
    "    prec,recall,_,_ = precision_recall_fscore_support(np.array(y_test).astype(float)==l, np.array(dtc_pred.astype(float))==l, pos_label=True,average=None)\n",
    "    prfs.append([recall[1],recall[0]])\n",
    "\n",
    "pd.DataFrame(prfs, columns = ['sensitivity','specificity']).transpose()"
   ]
  },
  {
   "attachments": {},
   "cell_type": "markdown",
   "metadata": {},
   "source": [
    "We're going to print out a confusion matrix - EXCEPT!! - this time we rotate it to align with the R output"
   ]
  },
  {
   "cell_type": "code",
   "execution_count": 21,
   "metadata": {},
   "outputs": [
    {
     "data": {
      "image/png": "[encoded data removed]",
      "text/plain": [
       "<Figure size 700x400 with 2 Axes>"
      ]
     },
     "metadata": {},
     "output_type": "display_data"
    }
   ],
   "source": [
    "fig, ax = plt.subplots(1,1,figsize=(7,4))\n",
    "\n",
    "ConfusionMatrixDisplay(confusion_matrix(dtc_pred, y_test)).plot(values_format=\".0f\", ax=ax)\n",
    "\n",
    "ax.set_xlabel(\"Actual Label\")\n",
    "ax.set_ylabel(\"Predicted Label\")\n",
    "plt.show()"
   ]
  },
  {
   "attachments": {},
   "cell_type": "markdown",
   "metadata": {},
   "source": [
    "# Accuracy\n",
    "\n",
    "Accuracy is computed as follows:\n",
    "\n",
    "$$\\text{Accuracy} = \\frac{\\sum_{i=0}^{3}{\\text{TP}_{i}}}{\\text{Total number of data points}}$$\n",
    "\n",
    "Anything on the 'diagonal' of the matrix is a TP. So add those up and find what percentage of the total they represent.\n",
    "\n",
    "$$\\frac{(91+98)}{215} = 0.871$$\n",
    "\n",
    "The agrees with the Accuracy measure in the classification report above."
   ]
  },
  {
   "attachments": {},
   "cell_type": "markdown",
   "metadata": {},
   "source": [
    "# Sensitivity and Specificity\n",
    "\n",
    "Both of these are class specific.\n",
    "\n",
    "Sensitivity (which is the same as Recall) is the number of True predictions the classifier made out of all possible True predictions it could have made. In other words, it is the fraction of correctly assigned True points, computed as follows:\n",
    "\n",
    "$$\\text{Sensitivity of Class}_i = \\frac{\\text{TP}_i}{\\text{TP}_i + \\text{FN}_i}$$\n",
    "\n",
    "For example, for Class 0:\n",
    "\n",
    "$$\\frac{91}{(91+19)} = 0.83$$\n",
    "\n",
    "This is confirmed by both the sensitivity calculation in the small table above and the recall output for Class 0 in the larger report.\n",
    "\n",
    "Specificity is is the number of False predictions the classifier made out of all possible False predictions it could have made. In other words, it is the fraction of correctly assigned False points, computed as follows:\n",
    "\n",
    "$$\\text{Specificity of Class}_i = \\frac{\\text{TN}_i}{\\text{TN}_i + \\text{FP}_i}$$\n",
    "\n",
    "For Class 1:\n",
    "\n",
    "$$\\frac{91}{(91+19+6+3)} = 0.77$$\n",
    "\n",
    "This is the same result for Class 1 in the smaller table."
   ]
  },
  {
   "attachments": {},
   "cell_type": "markdown",
   "metadata": {},
   "source": [
    "# Precision, Recall and F-Measure\n",
    "\n",
    "All of these are class specific as well.\n",
    "\n",
    "Precision is the classifier's ability to avoid labeling an incorrect positive (that is, something that should be negative is labeled negative). It is calculated:\n",
    "\n",
    "$$\\text{Precision of Class}_i = \\frac{\\text{TP}_i}{\\text{TP}_i + \\text{FP}_i}$$\n",
    "\n",
    "For Class 1:\n",
    "\n",
    "$$\\frac{98}{(98+19+6+3)} = 0.78$$\n",
    "\n",
    "See the large report above to cross check this answer!\n",
    "\n",
    "Recall (which is the same as Sensitivity) is the number of True predictions the classifier made out of all possible True predictions it could have made. In other words, it is the fraction of correctly assigned True points, computed as follows:\n",
    "\n",
    "$$\\text{Recall of Class}_i = \\frac{\\text{TP}_i}{\\text{TP}_i + \\text{FN}_i}$$\n",
    "\n",
    "For example, for Class 0:\n",
    "\n",
    "$$\\frac{91}{(91+19)} = 0.83$$\n",
    "\n",
    "This is confirmed by both the sensitivity calculation in the small table above and the recall output for Class 0 in the larger report.\n",
    "\n",
    "Lastly, the F1 score is the weighted harmonic mean of Precision and Recall. It is calculated:\n",
    "\n",
    "$$\\text{F1 score of Class}_i = \\frac{2 * \\text{precision}_i * \\text{recall}_i}{\\text{precision}_i + \\text{recall}_i}$$\n",
    "\n",
    "For Class 0:\n",
    "\n",
    "$$\\frac{2*1.0*0.83}{(1.0+0.83)} = 0.91$$\n",
    "\n",
    "You can check this answer in the full report above."
   ]
  },
  {
   "attachments": {},
   "cell_type": "markdown",
   "metadata": {},
   "source": [
    "## Conclusion\n",
    "\n",
    "This lab has demonstrated how to calculate scalar performance metrics on classification models such as DecisionTreeClassifier.  Which 'perspective' you take, i.e. whether or not to focus on a model's ability to predict positive cases, negative cases, or avoid certain cases, depends on your use case. A physician trying to diagnose cancer is much more worried about missing a positive case than incorrectly flagging a negative one, for example."
   ]
  }
 ],
 "metadata": {
  "kernelspec": {
   "display_name": "Python 3",
   "language": "python",
   "name": "python3"
  },
  "language_info": {
   "codemirror_mode": {
    "name": "ipython",
    "version": 3
   },
   "file_extension": ".py",
   "mimetype": "text/x-python",
   "name": "python",
   "nbconvert_exporter": "python",
   "pygments_lexer": "ipython3",
   "version": "3.9.13"
  },
  "orig_nbformat": 4
 },
 "nbformat": 4,
 "nbformat_minor": 2
}
