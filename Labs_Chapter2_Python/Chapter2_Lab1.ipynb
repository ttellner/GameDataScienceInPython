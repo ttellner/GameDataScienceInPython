{
 "cells": [
  {
   "cell_type": "markdown",
   "metadata": {},
   "source": [
    "# Chapter2_Lab1"
   ]
  },
  {
   "cell_type": "markdown",
   "metadata": {},
   "source": [
    "## Goal"
   ]
  },
  {
   "cell_type": "markdown",
   "metadata": {},
   "source": [
    "This is the first lab of several labs in this chapter.\n",
    "\n",
    "In this lab, we will introduce different data types in Python. These data types are: vectors, lists, data frame. We will discuss simple examples of variables of these types and ways to manipulate values in these data types. The definition of these variable types are described in the chapter. Please review the chapter for a theoretical introduction.\n",
    "\n",
    "While in this book we will use and introduce different concepts and their use in Python, we do not intend for these labs to be tutorials in Python. We will use several advanced methods and expect readers to keep up with the pace in the book. Interested readers are advised to pick up a book on R or follow the many online tutorials when we introduce a concept or algorithms that are not completely covered in the labs."
   ]
  },
  {
   "cell_type": "markdown",
   "metadata": {},
   "source": [
    "## Vectors"
   ]
  },
  {
   "cell_type": "markdown",
   "metadata": {},
   "source": [
    "In this example, we will create a vector that stores some numbers, we will call this variable: myvariable. Important operation that we can do on all values in this variable are: mean (using function called mean ), min (using function called min ), max (using function called max ), standard deviation (using function called sd ), and quantiles (using function called quantile ). As discussed in the chapter, this is a simple way to get some descriptive statistics done really quickly."
   ]
  },
  {
   "cell_type": "code",
   "execution_count": 30,
   "metadata": {},
   "outputs": [
    {
     "name": "stdout",
     "output_type": "stream",
     "text": [
      "The vector created is:  [ 1  2  3  4  5  5  5 10  4  3  2]\n"
     ]
    }
   ],
   "source": [
    "import numpy as np\n",
    "\n",
    "myvariable = [1, 2, 3, 4, 5, 5, 5, 10, 4, 3, 2]\n",
    "myvector = np.array(myvariable)\n",
    "\n",
    "print(\"The vector created is: \", myvector)"
   ]
  },
  {
   "cell_type": "code",
   "execution_count": 31,
   "metadata": {},
   "outputs": [
    {
     "data": {
      "text/plain": [
       "4.0"
      ]
     },
     "execution_count": 31,
     "metadata": {},
     "output_type": "execute_result"
    }
   ],
   "source": [
    "# Print the mean of the vector:\n",
    "np.mean(myvector)"
   ]
  },
  {
   "cell_type": "code",
   "execution_count": 32,
   "metadata": {},
   "outputs": [
    {
     "data": {
      "text/plain": [
       "1"
      ]
     },
     "execution_count": 32,
     "metadata": {},
     "output_type": "execute_result"
    }
   ],
   "source": [
    "# Print the minimum value of the vector:\n",
    "np.min(myvector)"
   ]
  },
  {
   "cell_type": "code",
   "execution_count": 33,
   "metadata": {},
   "outputs": [
    {
     "data": {
      "text/plain": [
       "10"
      ]
     },
     "execution_count": 33,
     "metadata": {},
     "output_type": "execute_result"
    }
   ],
   "source": [
    "# Print the maximum value of the vector:\n",
    "np.max(myvector)"
   ]
  },
  {
   "cell_type": "markdown",
   "metadata": {},
   "source": [
    "For those readers following along with the R code as well, numpy will return different output since the standard deviation forumula used by R uses (N-1) degrees of freedom and numpy uses N. As a result, set the numpy function's degrees of freedom (ddof) to 1)"
   ]
  },
  {
   "cell_type": "code",
   "execution_count": 34,
   "metadata": {},
   "outputs": [
    {
     "data": {
      "text/plain": [
       "2.4083189157584592"
      ]
     },
     "execution_count": 34,
     "metadata": {},
     "output_type": "execute_result"
    }
   ],
   "source": [
    "# Print the standard deviation of the vector:\n",
    "np.std(myvector, ddof=1)"
   ]
  },
  {
   "cell_type": "code",
   "execution_count": 35,
   "metadata": {},
   "outputs": [
    {
     "data": {
      "text/plain": [
       "array([ 1. ,  2.5,  4. ,  5. , 10. ])"
      ]
     },
     "execution_count": 35,
     "metadata": {},
     "output_type": "execute_result"
    }
   ],
   "source": [
    "np.quantile(myvector, [0.0, 0.25, 0.50, 0.75, 1.0])"
   ]
  },
  {
   "cell_type": "code",
   "execution_count": 36,
   "metadata": {},
   "outputs": [
    {
     "data": {
      "image/png": "[encoded data removed]",
      "text/plain": [
       "<Figure size 640x480 with 1 Axes>"
      ]
     },
     "metadata": {},
     "output_type": "display_data"
    }
   ],
   "source": [
    "# Construct histogram of the array to depict the distribution:\n",
    "import matplotlib.pyplot as plt\n",
    "\n",
    "plt.hist(myvector, bins=5, rwidth=0.98);"
   ]
  },
  {
   "cell_type": "code",
   "execution_count": 37,
   "metadata": {},
   "outputs": [
    {
     "name": "stdout",
     "output_type": "stream",
     "text": [
      "[[ 1  2  3  4  5 10]\n",
      " [ 1  2  2  2  3  1]]\n"
     ]
    }
   ],
   "source": [
    "# Print the counts of each unique elements. In numpy this is a little unwieldly but outputs cleaner when you use dataframes. More on those later.\n",
    "# The top row is the list of the unique elements ands the second row is the count of the element in the top row.\n",
    "\n",
    "elements, element_counts = np.unique(myvector, return_counts=True)\n",
    "print(np.asarray((elements, element_counts)))"
   ]
  },
  {
   "cell_type": "markdown",
   "metadata": {},
   "source": [
    "In addition to getting descriptive statistics as discussed above, it is also important to do specific operations within the vector. An example is removing specific values within the vector. The example below shows you how to remove the element in indexes 2 and 4. Numpy's delete function is used to indicate that you want the vector without these indexes. In R, indexes of vectors in such operations are counted from 1 not 0 as with other languages. However, as you can see by the example below, Python indexes start at 0. Hence, the element '2' - which is the second element in the list - has the index of 1."
   ]
  },
  {
   "cell_type": "code",
   "execution_count": 38,
   "metadata": {},
   "outputs": [
    {
     "data": {
      "text/plain": [
       "array([ 1,  2,  3,  4,  5,  5,  5, 10,  4,  3,  2])"
      ]
     },
     "execution_count": 38,
     "metadata": {},
     "output_type": "execute_result"
    }
   ],
   "source": [
    "myvector"
   ]
  },
  {
   "cell_type": "code",
   "execution_count": 39,
   "metadata": {},
   "outputs": [
    {
     "data": {
      "text/plain": [
       "2"
      ]
     },
     "execution_count": 39,
     "metadata": {},
     "output_type": "execute_result"
    }
   ],
   "source": [
    "myvector[1]"
   ]
  },
  {
   "cell_type": "code",
   "execution_count": 40,
   "metadata": {},
   "outputs": [
    {
     "data": {
      "text/plain": [
       "array([ 1,  3,  5,  5,  5, 10,  4,  3,  2])"
      ]
     },
     "execution_count": 40,
     "metadata": {},
     "output_type": "execute_result"
    }
   ],
   "source": [
    "myvector = np.delete(myvector, [1, 3])\n",
    "myvector"
   ]
  },
  {
   "cell_type": "code",
   "execution_count": 41,
   "metadata": {},
   "outputs": [
    {
     "data": {
      "text/plain": [
       "array([ 1,  2,  3,  4,  5,  5,  5, 10,  4,  3,  2])"
      ]
     },
     "execution_count": 41,
     "metadata": {},
     "output_type": "execute_result"
    }
   ],
   "source": [
    "# Pick every other element in the vector- but first, restore it to the original by inserting the deleted elements back in.\n",
    "\n",
    "myvector = np.insert(myvector, [1,2], [2,4])\n",
    "myvector"
   ]
  },
  {
   "cell_type": "code",
   "execution_count": 42,
   "metadata": {},
   "outputs": [
    {
     "data": {
      "text/plain": [
       "array([1, 3, 5, 5, 4, 2])"
      ]
     },
     "execution_count": 42,
     "metadata": {},
     "output_type": "execute_result"
    }
   ],
   "source": [
    "# You pick every other element by indicating what index you want to start with and then after :: you indicate the \"step\".\n",
    "# To pick every other element, skipping one, the step would be 2.\n",
    "\n",
    "myvector = myvector[0::2]\n",
    "myvector"
   ]
  },
  {
   "cell_type": "markdown",
   "metadata": {},
   "source": [
    "As you can see by this last operation, there are some complex operations that you can perform on vectors, including addition, subtraction, multiplication, division and slicing. Check Python and numpy documentation to learn more."
   ]
  },
  {
   "cell_type": "markdown",
   "metadata": {},
   "source": [
    "## Factors\n",
    "\n",
    "Factors is another data type that is important. This is similar to an Enum data type in other programming languages. A good example of that is hero types, such as mage, fighter, scout, etc. To make a new variable of type factor, we just use the factor function, as follows:"
   ]
  },
  {
   "cell_type": "code",
   "execution_count": null,
   "metadata": {},
   "outputs": [],
   "source": []
  }
 ],
 "metadata": {
  "kernelspec": {
   "display_name": "Python 3.9.13 ('base')",
   "language": "python",
   "name": "python3"
  },
  "language_info": {
   "codemirror_mode": {
    "name": "ipython",
    "version": 3
   },
   "file_extension": ".py",
   "mimetype": "text/x-python",
   "name": "python",
   "nbconvert_exporter": "python",
   "pygments_lexer": "ipython3",
   "version": "3.9.13"
  },
  "orig_nbformat": 4,
  "vscode": {
   "interpreter": {
    "hash": "60790f95b3b586c184cfaca05abf0ee5339eeeac63d325e1c1f0322a7f8da95d"
   }
  }
 },
 "nbformat": 4,
 "nbformat_minor": 2
}
