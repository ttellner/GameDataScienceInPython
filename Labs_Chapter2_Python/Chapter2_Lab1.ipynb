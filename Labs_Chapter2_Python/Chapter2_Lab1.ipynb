{
 "cells": [
  {
   "cell_type": "markdown",
   "metadata": {},
   "source": [
    "# Chapter2_Lab1"
   ]
  },
  {
   "cell_type": "markdown",
   "metadata": {},
   "source": [
    "## Goal"
   ]
  },
  {
   "attachments": {},
   "cell_type": "markdown",
   "metadata": {},
   "source": [
    "This is the first lab of several labs in this chapter.\n",
    "\n",
    "In this lab, we will introduce different data types in Python. The examples in the book are heavily reliant on R code. When referring to lists in R and in Python, you are actually referring to two very different data structures - depending on the context.\n",
    "\n",
    "The most direct comparison to a simple, homogenous Python list is an R vector.  R has vectors built-in that are not as flexible as R lists in terms of what they can hold. On the other hand, you can access descriptive statistic attributes directly on an R vector but cannot on a Python list - even if it is a Python list of numbers. \n",
    "\n",
    "Basically, R spreads out functionality between vectors and lists. Python spreads out that same functionality over more data structure and does so in different ways.\n",
    "\n",
    "These data structures are: lists, tuples, dictionaries and arrays. After that, we'll look at the equivalent of R factors and data frames. We will discuss simple examples of variables of these types and ways to manipulate values in these data types. \n",
    "\n",
    "While in this book we will use and introduce different concepts and their use in Python, we do not intend for these labs to be tutorials in Python. We will use several advanced methods and expect readers to keep up with the pace in the book. Interested readers are advised to pick up a book on R or follow the many online tutorials when we introduce a concept or algorithms that are not completely covered in the labs."
   ]
  },
  {
   "attachments": {},
   "cell_type": "markdown",
   "metadata": {},
   "source": [
    "## From Lists to Arrays"
   ]
  },
  {
   "attachments": {},
   "cell_type": "markdown",
   "metadata": {},
   "source": [
    "Unlike R, Python lists are \"simpler\" than R lists.  In R, vectors are \"atomic\", meaning they are 1D and hold one type of data type - for example, a list of numbers. R lists are technically vectors as well, but just a more complex and flexible - for example they can hold different types of data and are not atomic.\n",
    "\n",
    "In Python, lists are the \"simpler\" of the two in that you use lists to build a vector (which in Python parlance is an array). Python lists do have some of the same flexibility as an R list in their construction but calculating descriptive statistics on using a list attribute is not possible - you have to write your own function to do so.\n",
    "\n",
    "Or, as you will see later, you could convert the list into another structure in order to access the required attributes."
   ]
  },
  {
   "attachments": {},
   "cell_type": "markdown",
   "metadata": {},
   "source": [
    "Here's a simple list:"
   ]
  },
  {
   "cell_type": "code",
   "execution_count": 63,
   "metadata": {},
   "outputs": [],
   "source": [
    "mylist1 = [1, 2, 3, 4, 5, 5, 5, 10, 4, 3, 2]"
   ]
  },
  {
   "attachments": {},
   "cell_type": "markdown",
   "metadata": {},
   "source": [
    "In all appearances, this looks just like a R vector. However, you cannot begin to perform descriptive statistics on this list.\n",
    "\n",
    "However, the experience Python programmer will tell you that you CAN begin performing some descriptive statistical analysis on this list. You can use bincount for example. However, bincount is part of Numpy and we will tackle Numpy when we introduce arrays shortly.\n",
    "\n",
    "The point is, without additional packages like Numpy or Pandas, you have to write more code to start doing the descriptive analytics. That is not the case with R."
   ]
  },
  {
   "attachments": {},
   "cell_type": "markdown",
   "metadata": {},
   "source": [
    "For example, rying to calculate a mean throws an error!"
   ]
  },
  {
   "cell_type": "code",
   "execution_count": 64,
   "metadata": {},
   "outputs": [
    {
     "ename": "AttributeError",
     "evalue": "'list' object has no attribute 'mean'",
     "output_type": "error",
     "traceback": [
      "\u001b[1;31m---------------------------------------------------------------------------\u001b[0m",
      "\u001b[1;31mAttributeError\u001b[0m                            Traceback (most recent call last)",
      "\u001b[1;32m~\\AppData\\Local\\Temp\\ipykernel_48884\\362076624.py\u001b[0m in \u001b[0;36m<module>\u001b[1;34m\u001b[0m\n\u001b[1;32m----> 1\u001b[1;33m \u001b[0mmylist1\u001b[0m\u001b[1;33m.\u001b[0m\u001b[0mmean\u001b[0m\u001b[1;33m(\u001b[0m\u001b[1;33m)\u001b[0m\u001b[1;33m\u001b[0m\u001b[1;33m\u001b[0m\u001b[0m\n\u001b[0m",
      "\u001b[1;31mAttributeError\u001b[0m: 'list' object has no attribute 'mean'"
     ]
    }
   ],
   "source": [
    "mylist1.mean()"
   ]
  },
  {
   "attachments": {},
   "cell_type": "markdown",
   "metadata": {},
   "source": [
    "You could do it the long way:"
   ]
  },
  {
   "cell_type": "code",
   "execution_count": null,
   "metadata": {},
   "outputs": [
    {
     "data": {
      "text/plain": [
       "4.0"
      ]
     },
     "execution_count": 41,
     "metadata": {},
     "output_type": "execute_result"
    }
   ],
   "source": [
    "def find_avg(nums):\n",
    "    avg = sum(nums)/len(nums)\n",
    "    return avg\n",
    "\n",
    "find_avg(mylist1)"
   ]
  },
  {
   "attachments": {},
   "cell_type": "markdown",
   "metadata": {},
   "source": [
    "You can plot the list as you can see below."
   ]
  },
  {
   "cell_type": "code",
   "execution_count": null,
   "metadata": {},
   "outputs": [
    {
     "data": {
      "image/png": "[encoded data removed]",
      "text/plain": [
       "<Figure size 640x480 with 1 Axes>"
      ]
     },
     "metadata": {},
     "output_type": "display_data"
    }
   ],
   "source": [
    "import matplotlib.pyplot as plt\n",
    "plt.hist(mylist1, bins=5, rwidth=0.98);"
   ]
  },
  {
   "attachments": {},
   "cell_type": "markdown",
   "metadata": {},
   "source": [
    "Before we solve the problem of getting some descriptive statistics out of our data, let's look at some other lists."
   ]
  },
  {
   "cell_type": "code",
   "execution_count": null,
   "metadata": {},
   "outputs": [],
   "source": [
    "mylist2 = [[\"Tammy\", \"John\", \"Katherine\", \"Tom\"], [10, 10, 20, 20]]"
   ]
  },
  {
   "attachments": {},
   "cell_type": "markdown",
   "metadata": {},
   "source": [
    "Now, here, we have what appears identical to an R list! But, notice that we cannot name - and therefore access - the individual elements using those names as you can with R. To retrieve the elements we need to use the index:"
   ]
  },
  {
   "cell_type": "code",
   "execution_count": null,
   "metadata": {},
   "outputs": [
    {
     "data": {
      "text/plain": [
       "['Tammy', 'John', 'Katherine', 'Tom']"
      ]
     },
     "execution_count": 59,
     "metadata": {},
     "output_type": "execute_result"
    }
   ],
   "source": [
    "mylist2[0]"
   ]
  },
  {
   "attachments": {},
   "cell_type": "markdown",
   "metadata": {},
   "source": [
    "Also, keep in mind, Python lists can contain different data type without using a list of lists, as in mylist2."
   ]
  },
  {
   "cell_type": "code",
   "execution_count": 97,
   "metadata": {},
   "outputs": [
    {
     "data": {
      "text/plain": [
       "['Tammy', 10]"
      ]
     },
     "execution_count": 97,
     "metadata": {},
     "output_type": "execute_result"
    }
   ],
   "source": [
    "mylist3 = [\"Tammy\", 10]\n",
    "mylist3"
   ]
  },
  {
   "attachments": {},
   "cell_type": "markdown",
   "metadata": {},
   "source": [
    "In some ways, the simplicity of Python lists also ensures their flexibility. In practice, you will eventually have to convert lists to something else for more functionality.\n",
    "\n",
    "Let's quickly look at tuples and dictionaries.  Each of these should be used based on the context in which you are trying to apply them.\n",
    "\n",
    "Tuples for example are lists that are immutable."
   ]
  },
  {
   "cell_type": "code",
   "execution_count": null,
   "metadata": {},
   "outputs": [
    {
     "data": {
      "text/plain": [
       "'tom'"
      ]
     },
     "execution_count": 25,
     "metadata": {},
     "output_type": "execute_result"
    }
   ],
   "source": [
    "mytuple1 = (\"tom\", 10)\n",
    "mytuple1[0]"
   ]
  },
  {
   "attachments": {},
   "cell_type": "markdown",
   "metadata": {},
   "source": [
    "Like lists, tuples can be of different data types and must be accessed by an index. Except, being immutable, they cannot be changed, i.e. elements cannot be appended or deleted.\n",
    "\n",
    "Both lists and tuples must be accessed by an index - which is less than ideal sometimes. Like R vectors, it would be nice to access data by a label. For this, we can turn to dictionaries."
   ]
  },
  {
   "cell_type": "code",
   "execution_count": null,
   "metadata": {},
   "outputs": [
    {
     "data": {
      "text/plain": [
       "'John'"
      ]
     },
     "execution_count": 31,
     "metadata": {},
     "output_type": "execute_result"
    }
   ],
   "source": [
    "mydict1 = {\"player\":[\"Tammy\", \"John\", \"Katherine\", \"Tom\"], \"scores\":[10, 10, 20, 20]}\n",
    "mydict1[\"player\"]"
   ]
  },
  {
   "attachments": {},
   "cell_type": "markdown",
   "metadata": {},
   "source": [
    "You can even get one specific element from an element! For example, you want the second player's names. Remmeber, Python indexing begins at 0, so we'd pull index 1 for the second player."
   ]
  },
  {
   "cell_type": "code",
   "execution_count": null,
   "metadata": {},
   "outputs": [
    {
     "data": {
      "text/plain": [
       "'John'"
      ]
     },
     "execution_count": 32,
     "metadata": {},
     "output_type": "execute_result"
    }
   ],
   "source": [
    "mydict1[\"player\"][1]"
   ]
  },
  {
   "attachments": {},
   "cell_type": "markdown",
   "metadata": {},
   "source": [
    "If we assume each value in the \"scores\" list is the score of each player in the same place in the \"players\" list, i.e. \"Tom\" has a score of 20 because they are both the last entry in their lists respectively, then if we want a player's score, we could just find the player's name and it's index and pull the value of that index from the scores.\n",
    "\n",
    "You can see this below - for John. We call our dictionary by name (mydict1) then \"scores\". But what score? We want John's score, but what score is John's? It's at the same index in scores and John's index in players. (It doesn't necessarily have to be in real life, but in this example it is!)\n",
    "\n",
    "Sound and look complicated? Well, it is. This is why there are other, more suitable structures."
   ]
  },
  {
   "cell_type": "code",
   "execution_count": 96,
   "metadata": {},
   "outputs": [
    {
     "data": {
      "text/plain": [
       "20"
      ]
     },
     "execution_count": 96,
     "metadata": {},
     "output_type": "execute_result"
    }
   ],
   "source": [
    "mydict1[\"scores\"][mydict1[\"player\"].index(\"Tom\")]"
   ]
  },
  {
   "attachments": {},
   "cell_type": "markdown",
   "metadata": {},
   "source": [
    "You can see that the dictionary truly appears most R list-like of the structures we've seen so far. However, none of these supports direct access to desciptive statistics.\n",
    "\n",
    "This is not necessarily a bad thing. You can view these are the building blocks to other, more useful structures that we'll see next and where there is a lot more that you can do that just descriptive statistics!"
   ]
  },
  {
   "attachments": {},
   "cell_type": "markdown",
   "metadata": {},
   "source": [
    "## Arrays (R Vectors)"
   ]
  },
  {
   "attachments": {},
   "cell_type": "markdown",
   "metadata": {},
   "source": [
    "If you give it some thought, R vectors stay true to their name; normally you'd be happiest with a simple list of numbers as a vector. Even if you had, say, a list of other objects that weren't at least stored as integers, you'd code them into integers for analysis.\n",
    "\n",
    "At this point, we step out of \"built-in\" Python functions and begin adding functionality with packages. For arrays, we use Numpy.\n",
    "\n",
    "Numpy arrays can hold non-integer elements - but they all must be homogenous. For example, you cannot mix string elements with integer elements. (Though Python won't throw an error in some interesting cases - one of which we'll see below.)\n",
    "\n",
    "In keeping with our goal of creating an array for computational purposes, we will create a vector that stores only numbers, we will call this variable: myvariable. Important operation that we can do on all values in this variable are: mean (using function called mean ), min (using function called min ), max (using function called max ), standard deviation (using function called sd ), and quantiles (using function called quantile ). As discussed in the chapter, this is a simple way to get some descriptive statistics done really quickly.\n",
    "\n",
    "In Python, in order to access those simple descriptive statistics easily, you have to take an extra step as compared to R, where you can create a vector directly.\n",
    "\n",
    "We'll use the same elements in myvariable that we used for the list \"mylist1\" earlier."
   ]
  },
  {
   "cell_type": "code",
   "execution_count": null,
   "metadata": {},
   "outputs": [
    {
     "name": "stdout",
     "output_type": "stream",
     "text": [
      "The vector created is:  [ 1  2  3  4  5  5  5 10  4  3  2]\n"
     ]
    }
   ],
   "source": [
    "import numpy as np\n",
    "\n",
    "myvariable = [1, 2, 3, 4, 5, 5, 5, 10, 4, 3, 2]\n",
    "myvector = np.array(myvariable)\n",
    "\n",
    "print(\"The vector created is: \", myvector)"
   ]
  },
  {
   "attachments": {},
   "cell_type": "markdown",
   "metadata": {},
   "source": [
    "Now, we can dive right in!"
   ]
  },
  {
   "cell_type": "code",
   "execution_count": null,
   "metadata": {},
   "outputs": [
    {
     "data": {
      "text/plain": [
       "4.0"
      ]
     },
     "execution_count": 5,
     "metadata": {},
     "output_type": "execute_result"
    }
   ],
   "source": [
    "# Print the mean of the vector:\n",
    "np.mean(myvector)"
   ]
  },
  {
   "cell_type": "code",
   "execution_count": null,
   "metadata": {},
   "outputs": [
    {
     "data": {
      "text/plain": [
       "1"
      ]
     },
     "execution_count": 3,
     "metadata": {},
     "output_type": "execute_result"
    }
   ],
   "source": [
    "# Print the minimum value of the vector:\n",
    "np.min(myvector)"
   ]
  },
  {
   "cell_type": "code",
   "execution_count": null,
   "metadata": {},
   "outputs": [
    {
     "data": {
      "text/plain": [
       "10"
      ]
     },
     "execution_count": 4,
     "metadata": {},
     "output_type": "execute_result"
    }
   ],
   "source": [
    "# Print the maximum value of the vector:\n",
    "np.max(myvector)"
   ]
  },
  {
   "attachments": {},
   "cell_type": "markdown",
   "metadata": {},
   "source": [
    "For those readers following along with the R code as well, numpy will return different output for standard deviation since the standard deviation forumula used by R uses (N-1) degrees of freedom and numpy uses N. As a result, set the numpy function's degrees of freedom (ddof) to 1 if you want the same answer in your R and Python code."
   ]
  },
  {
   "cell_type": "code",
   "execution_count": null,
   "metadata": {},
   "outputs": [
    {
     "data": {
      "text/plain": [
       "2.4083189157584592"
      ]
     },
     "execution_count": 5,
     "metadata": {},
     "output_type": "execute_result"
    }
   ],
   "source": [
    "# Print the standard deviation of the vector:\n",
    "np.std(myvector, ddof=1)"
   ]
  },
  {
   "cell_type": "code",
   "execution_count": null,
   "metadata": {},
   "outputs": [
    {
     "data": {
      "text/plain": [
       "array([ 1. ,  2.5,  4. ,  5. , 10. ])"
      ]
     },
     "execution_count": 6,
     "metadata": {},
     "output_type": "execute_result"
    }
   ],
   "source": [
    "np.quantile(myvector, [0.0, 0.25, 0.50, 0.75, 1.0])"
   ]
  },
  {
   "attachments": {},
   "cell_type": "markdown",
   "metadata": {},
   "source": [
    "The plot of this array will look identical to the plot we made with the original list above."
   ]
  },
  {
   "cell_type": "code",
   "execution_count": null,
   "metadata": {},
   "outputs": [
    {
     "data": {
      "image/png": "[encoded data removed]",
      "text/plain": [
       "<Figure size 640x480 with 1 Axes>"
      ]
     },
     "metadata": {},
     "output_type": "display_data"
    }
   ],
   "source": [
    "# Construct histogram of the array to depict the distribution:\n",
    "import matplotlib.pyplot as plt\n",
    "\n",
    "plt.hist(myvector, bins=5, rwidth=0.98);"
   ]
  },
  {
   "cell_type": "code",
   "execution_count": null,
   "metadata": {},
   "outputs": [
    {
     "name": "stdout",
     "output_type": "stream",
     "text": [
      "[[ 1  2  3  4  5 10]\n",
      " [ 1  2  2  2  3  1]]\n"
     ]
    }
   ],
   "source": [
    "# Print the counts of each unique elements. In numpy this is a little unwieldly but outputs cleaner when you use dataframes. More on those later.\n",
    "# The top row is the list of the unique elements ands the second row is the count of the element in the top row.\n",
    "\n",
    "elements, element_counts = np.unique(myvector, return_counts=True)\n",
    "print(np.asarray((elements, element_counts)))"
   ]
  },
  {
   "attachments": {},
   "cell_type": "markdown",
   "metadata": {},
   "source": [
    "In addition to getting descriptive statistics as discussed above, it is also important to do specific operations within the array. An example is removing specific values within the array. The example below shows you how to remove the element in indexes 2 and 4. Numpy's delete function is used to indicate that you want the array without these indexes. In R, indexes of vectors in such operations are counted from 1 not 0 as with other languages. However, as you can see by the example below, Python indexes start at 0. Hence, the element '2' - which is the second element in the list - has the index of 1.\n",
    "\n",
    "Also, please note that these operations can be performed on Python lists as well."
   ]
  },
  {
   "cell_type": "code",
   "execution_count": null,
   "metadata": {},
   "outputs": [
    {
     "data": {
      "text/plain": [
       "array([ 1,  2,  3,  4,  5,  5,  5, 10,  4,  3,  2])"
      ]
     },
     "execution_count": 9,
     "metadata": {},
     "output_type": "execute_result"
    }
   ],
   "source": [
    "myvector"
   ]
  },
  {
   "cell_type": "code",
   "execution_count": null,
   "metadata": {},
   "outputs": [
    {
     "data": {
      "text/plain": [
       "2"
      ]
     },
     "execution_count": 10,
     "metadata": {},
     "output_type": "execute_result"
    }
   ],
   "source": [
    "myvector[1]"
   ]
  },
  {
   "cell_type": "code",
   "execution_count": null,
   "metadata": {},
   "outputs": [
    {
     "data": {
      "text/plain": [
       "array([ 1,  3,  5,  5,  5, 10,  4,  3,  2])"
      ]
     },
     "execution_count": 11,
     "metadata": {},
     "output_type": "execute_result"
    }
   ],
   "source": [
    "myvector = np.delete(myvector, [1, 3])\n",
    "myvector"
   ]
  },
  {
   "cell_type": "code",
   "execution_count": null,
   "metadata": {},
   "outputs": [
    {
     "data": {
      "text/plain": [
       "array([ 1,  2,  3,  4,  5,  5,  5, 10,  4,  3,  2])"
      ]
     },
     "execution_count": 12,
     "metadata": {},
     "output_type": "execute_result"
    }
   ],
   "source": [
    "# Pick every other element in the vector - but first, restore it to the original by inserting the deleted elements back in.\n",
    "\n",
    "myvector = np.insert(myvector, [1,2], [2,4])\n",
    "myvector"
   ]
  },
  {
   "cell_type": "code",
   "execution_count": null,
   "metadata": {},
   "outputs": [
    {
     "data": {
      "text/plain": [
       "array([1, 3, 5, 5, 4, 2])"
      ]
     },
     "execution_count": 13,
     "metadata": {},
     "output_type": "execute_result"
    }
   ],
   "source": [
    "# You pick every other element by indicating what index you want to start with and then after :: you indicate the \"step\".\n",
    "# To pick every other element, skipping one, the step would be 2.\n",
    "\n",
    "myvector = myvector[0::2]\n",
    "myvector"
   ]
  },
  {
   "cell_type": "markdown",
   "metadata": {},
   "source": [
    "As you can see by this last operation, there are some complex operations that you can perform on vectors, including addition, subtraction, multiplication, division and slicing. Check Python and numpy documentation to learn more."
   ]
  },
  {
   "attachments": {},
   "cell_type": "markdown",
   "metadata": {},
   "source": [
    "One last thing...\n",
    "\n",
    "We mentioned that array elements have to be homogenous. However, what if we converted a list like mylist2 above? Remember, the elements were two lists, one of strings and one of integers.\n",
    "\n",
    "Let's see what happens."
   ]
  },
  {
   "cell_type": "code",
   "execution_count": null,
   "metadata": {},
   "outputs": [
    {
     "data": {
      "text/plain": [
       "array([['Tammy', 'John', 'Katherine', 'Tom'],\n",
       "       ['10', '10', '20', '20']], dtype='<U11')"
      ]
     },
     "execution_count": 55,
     "metadata": {},
     "output_type": "execute_result"
    }
   ],
   "source": [
    "myvariable2 = [[\"Tammy\", \"John\", \"Katherine\", \"Tom\"], [10, 10, 20, 20]]\n",
    "myvector2 = np.array(myvariable2)\n",
    "\n",
    "myvector2"
   ]
  },
  {
   "attachments": {},
   "cell_type": "markdown",
   "metadata": {},
   "source": [
    "The output will soon look familiar - it looks like a 2D matrix. \n",
    "\n",
    "The point of the current exercise is to produce the same output and functionality as the R vector - which is 1-dimensional. A vector is intended to be 1-dimensional. By using Python's array features you can go astray because arrays can have more dimensions than 1. As you can see below, this list of lists became more than 1-dimensional."
   ]
  },
  {
   "cell_type": "code",
   "execution_count": null,
   "metadata": {},
   "outputs": [
    {
     "data": {
      "text/plain": [
       "(2, 4)"
      ]
     },
     "execution_count": 60,
     "metadata": {},
     "output_type": "execute_result"
    }
   ],
   "source": [
    "myvector2.shape"
   ]
  },
  {
   "cell_type": "markdown",
   "metadata": {},
   "source": [
    "## Factors\n",
    "\n",
    "Factors is another data type that is important. In R, behind the scenes, the items in the vector fed to the R factor function are represented as integers in memory. Although additional work is involved, you can create the same with a Python enum class. (This is NOT the same as the enumerate function in Python!)"
   ]
  },
  {
   "cell_type": "code",
   "execution_count": null,
   "metadata": {},
   "outputs": [],
   "source": [
    "from enum import Enum\n",
    "class heroType(Enum):\n",
    "    FIGHTER = 1\n",
    "    SCOUT = 2\n",
    "    MAGE = 3"
   ]
  },
  {
   "cell_type": "code",
   "execution_count": null,
   "metadata": {},
   "outputs": [
    {
     "data": {
      "text/plain": [
       "<heroType.SCOUT: 2>"
      ]
     },
     "execution_count": 15,
     "metadata": {},
     "output_type": "execute_result"
    }
   ],
   "source": [
    "heroType(2)"
   ]
  },
  {
   "cell_type": "code",
   "execution_count": null,
   "metadata": {},
   "outputs": [
    {
     "data": {
      "text/plain": [
       "2"
      ]
     },
     "execution_count": 16,
     "metadata": {},
     "output_type": "execute_result"
    }
   ],
   "source": [
    "heroType.SCOUT.value"
   ]
  },
  {
   "attachments": {},
   "cell_type": "markdown",
   "metadata": {},
   "source": [
    "In the end, these data types won't make much practical sense outside of more complex structures and models used in data science. The factor data type in R is better replicated in Python using the pandas library. For example, creating a dataframe column of the categorical type. We'll see more of doing just that when we discuss dataframes below."
   ]
  },
  {
   "attachments": {},
   "cell_type": "markdown",
   "metadata": {},
   "source": [
    "## Dataframes\n",
    "\n",
    "Dataframes are 2D data structures - not too different from the \"matrix\" we created from the array above. In fact, we can create a dataframe from an array - though all the columns will be of the same datatype which can be limiting. Dataframes can have different data types.\n",
    "\n",
    "Let's look at initializing from an array. Let's use the array we stored in the variable \"myvector2\" above an compare the results.\n",
    "\n",
    "We do this by importing Pandas and then passing the array into the DataFrame function."
   ]
  },
  {
   "cell_type": "code",
   "execution_count": 67,
   "metadata": {},
   "outputs": [
    {
     "data": {
      "text/html": [
       "<div>\n",
       "<style scoped>\n",
       "    .dataframe tbody tr th:only-of-type {\n",
       "        vertical-align: middle;\n",
       "    }\n",
       "\n",
       "    .dataframe tbody tr th {\n",
       "        vertical-align: top;\n",
       "    }\n",
       "\n",
       "    .dataframe thead th {\n",
       "        text-align: right;\n",
       "    }\n",
       "</style>\n",
       "<table border=\"1\" class=\"dataframe\">\n",
       "  <thead>\n",
       "    <tr style=\"text-align: right;\">\n",
       "      <th></th>\n",
       "      <th>0</th>\n",
       "      <th>1</th>\n",
       "      <th>2</th>\n",
       "      <th>3</th>\n",
       "    </tr>\n",
       "  </thead>\n",
       "  <tbody>\n",
       "    <tr>\n",
       "      <th>0</th>\n",
       "      <td>Tammy</td>\n",
       "      <td>John</td>\n",
       "      <td>Katherine</td>\n",
       "      <td>Tom</td>\n",
       "    </tr>\n",
       "    <tr>\n",
       "      <th>1</th>\n",
       "      <td>10</td>\n",
       "      <td>10</td>\n",
       "      <td>20</td>\n",
       "      <td>20</td>\n",
       "    </tr>\n",
       "  </tbody>\n",
       "</table>\n",
       "</div>"
      ],
      "text/plain": [
       "       0     1          2    3\n",
       "0  Tammy  John  Katherine  Tom\n",
       "1     10    10         20   20"
      ]
     },
     "execution_count": 67,
     "metadata": {},
     "output_type": "execute_result"
    }
   ],
   "source": [
    "import pandas as pd\n",
    "\n",
    "num_df = pd.DataFrame(myvector2)\n",
    "num_df"
   ]
  },
  {
   "attachments": {},
   "cell_type": "markdown",
   "metadata": {},
   "source": [
    "This dataframe is actually in a bad form - normally you would want the names and numbers (whatever they happen to represent) as columns - or \"features\". For now, just understand what a dataframe looks like and how it is created.\n",
    "\n",
    "The contents are the same as the output as myvector2 - just cleaner - but we now have default columns and row names. We can specify those as well. We'll see this next.\n",
    "\n",
    "You can also initialize dataframes from other strucutres as lists and dictionaries, but most often you'll read in data from a file. Often, this will be a csv file. Two files should have been downloaded with this lab to assist in doing this.\n",
    "\n",
    "The first file has no header."
   ]
  },
  {
   "cell_type": "code",
   "execution_count": 83,
   "metadata": {},
   "outputs": [
    {
     "data": {
      "text/html": [
       "<div>\n",
       "<style scoped>\n",
       "    .dataframe tbody tr th:only-of-type {\n",
       "        vertical-align: middle;\n",
       "    }\n",
       "\n",
       "    .dataframe tbody tr th {\n",
       "        vertical-align: top;\n",
       "    }\n",
       "\n",
       "    .dataframe thead th {\n",
       "        text-align: right;\n",
       "    }\n",
       "</style>\n",
       "<table border=\"1\" class=\"dataframe\">\n",
       "  <thead>\n",
       "    <tr style=\"text-align: right;\">\n",
       "      <th></th>\n",
       "      <th>0</th>\n",
       "      <th>1</th>\n",
       "      <th>2</th>\n",
       "    </tr>\n",
       "  </thead>\n",
       "  <tbody>\n",
       "    <tr>\n",
       "      <th>0</th>\n",
       "      <td>Player1</td>\n",
       "      <td>25</td>\n",
       "      <td>BogTown</td>\n",
       "    </tr>\n",
       "    <tr>\n",
       "      <th>1</th>\n",
       "      <td>Player2</td>\n",
       "      <td>10</td>\n",
       "      <td>Mt Herron</td>\n",
       "    </tr>\n",
       "    <tr>\n",
       "      <th>2</th>\n",
       "      <td>Player3</td>\n",
       "      <td>18</td>\n",
       "      <td>Citadel</td>\n",
       "    </tr>\n",
       "  </tbody>\n",
       "</table>\n",
       "</div>"
      ],
      "text/plain": [
       "         0   1          2\n",
       "0  Player1  25    BogTown\n",
       "1  Player2  10  Mt Herron\n",
       "2  Player3  18    Citadel"
      ]
     },
     "execution_count": 83,
     "metadata": {},
     "output_type": "execute_result"
    }
   ],
   "source": [
    "df_players = pd.read_csv(\"players_nh.txt\", header=None)\n",
    "df_players"
   ]
  },
  {
   "attachments": {},
   "cell_type": "markdown",
   "metadata": {},
   "source": [
    "Notice that we still would have to know what this data is since we don't have column names - because we purposely used a file without a header row. How can we fix that? We can specify the column names when we import the file. This doesn't change the file - just the dataframe."
   ]
  },
  {
   "cell_type": "code",
   "execution_count": 84,
   "metadata": {},
   "outputs": [
    {
     "data": {
      "text/html": [
       "<div>\n",
       "<style scoped>\n",
       "    .dataframe tbody tr th:only-of-type {\n",
       "        vertical-align: middle;\n",
       "    }\n",
       "\n",
       "    .dataframe tbody tr th {\n",
       "        vertical-align: top;\n",
       "    }\n",
       "\n",
       "    .dataframe thead th {\n",
       "        text-align: right;\n",
       "    }\n",
       "</style>\n",
       "<table border=\"1\" class=\"dataframe\">\n",
       "  <thead>\n",
       "    <tr style=\"text-align: right;\">\n",
       "      <th></th>\n",
       "      <th>Player</th>\n",
       "      <th>Level</th>\n",
       "      <th>Location</th>\n",
       "    </tr>\n",
       "  </thead>\n",
       "  <tbody>\n",
       "    <tr>\n",
       "      <th>0</th>\n",
       "      <td>Player1</td>\n",
       "      <td>25</td>\n",
       "      <td>BogTown</td>\n",
       "    </tr>\n",
       "    <tr>\n",
       "      <th>1</th>\n",
       "      <td>Player2</td>\n",
       "      <td>10</td>\n",
       "      <td>Mt Herron</td>\n",
       "    </tr>\n",
       "    <tr>\n",
       "      <th>2</th>\n",
       "      <td>Player3</td>\n",
       "      <td>18</td>\n",
       "      <td>Citadel</td>\n",
       "    </tr>\n",
       "  </tbody>\n",
       "</table>\n",
       "</div>"
      ],
      "text/plain": [
       "    Player  Level   Location\n",
       "0  Player1     25    BogTown\n",
       "1  Player2     10  Mt Herron\n",
       "2  Player3     18    Citadel"
      ]
     },
     "execution_count": 84,
     "metadata": {},
     "output_type": "execute_result"
    }
   ],
   "source": [
    "df_players2 = pd.read_csv(\"players_nh.txt\", names=[\"Player\", \"Level\", \"Location\"])\n",
    "df_players2"
   ]
  },
  {
   "attachments": {},
   "cell_type": "markdown",
   "metadata": {},
   "source": [
    "Ideally however, we'd use a file with a header row. Let's use one now. The second file has the same contents but with column names."
   ]
  },
  {
   "cell_type": "code",
   "execution_count": 85,
   "metadata": {},
   "outputs": [
    {
     "data": {
      "text/html": [
       "<div>\n",
       "<style scoped>\n",
       "    .dataframe tbody tr th:only-of-type {\n",
       "        vertical-align: middle;\n",
       "    }\n",
       "\n",
       "    .dataframe tbody tr th {\n",
       "        vertical-align: top;\n",
       "    }\n",
       "\n",
       "    .dataframe thead th {\n",
       "        text-align: right;\n",
       "    }\n",
       "</style>\n",
       "<table border=\"1\" class=\"dataframe\">\n",
       "  <thead>\n",
       "    <tr style=\"text-align: right;\">\n",
       "      <th></th>\n",
       "      <th>Player</th>\n",
       "      <th>Level</th>\n",
       "      <th>Location</th>\n",
       "    </tr>\n",
       "  </thead>\n",
       "  <tbody>\n",
       "    <tr>\n",
       "      <th>0</th>\n",
       "      <td>Player1</td>\n",
       "      <td>25</td>\n",
       "      <td>BogTown</td>\n",
       "    </tr>\n",
       "    <tr>\n",
       "      <th>1</th>\n",
       "      <td>Player2</td>\n",
       "      <td>10</td>\n",
       "      <td>Mt Herron</td>\n",
       "    </tr>\n",
       "    <tr>\n",
       "      <th>2</th>\n",
       "      <td>Player3</td>\n",
       "      <td>18</td>\n",
       "      <td>Citadel</td>\n",
       "    </tr>\n",
       "  </tbody>\n",
       "</table>\n",
       "</div>"
      ],
      "text/plain": [
       "    Player  Level   Location\n",
       "0  Player1     25    BogTown\n",
       "1  Player2     10  Mt Herron\n",
       "2  Player3     18    Citadel"
      ]
     },
     "execution_count": 85,
     "metadata": {},
     "output_type": "execute_result"
    }
   ],
   "source": [
    "df_players3 = pd.read_csv(\"players.txt\")\n",
    "df_players3"
   ]
  },
  {
   "attachments": {},
   "cell_type": "markdown",
   "metadata": {},
   "source": [
    "I you want to reference one particular column in the dataframe, there are two ways to do so. \"loc\" and \"iloc\". \"loc\" uses the column name and \"iloc\" uses the column index.\n",
    "\n",
    "Notice that the \":\" represents the row indices you want to pull - in this case all of them."
   ]
  },
  {
   "cell_type": "code",
   "execution_count": 87,
   "metadata": {},
   "outputs": [
    {
     "data": {
      "text/plain": [
       "0    25\n",
       "1    10\n",
       "2    18\n",
       "Name: Level, dtype: int64"
      ]
     },
     "execution_count": 87,
     "metadata": {},
     "output_type": "execute_result"
    }
   ],
   "source": [
    "df_players3.loc[ :, \"Level\"]"
   ]
  },
  {
   "cell_type": "code",
   "execution_count": 88,
   "metadata": {},
   "outputs": [
    {
     "data": {
      "text/plain": [
       "0    25\n",
       "1    10\n",
       "2    18\n",
       "Name: 1, dtype: int64"
      ]
     },
     "execution_count": 88,
     "metadata": {},
     "output_type": "execute_result"
    }
   ],
   "source": [
    "df_players.iloc[ :, 1]"
   ]
  },
  {
   "attachments": {},
   "cell_type": "markdown",
   "metadata": {},
   "source": [
    "By nesting your column names in another list, you can pull more than one column at a time."
   ]
  },
  {
   "cell_type": "code",
   "execution_count": 89,
   "metadata": {},
   "outputs": [
    {
     "data": {
      "text/html": [
       "<div>\n",
       "<style scoped>\n",
       "    .dataframe tbody tr th:only-of-type {\n",
       "        vertical-align: middle;\n",
       "    }\n",
       "\n",
       "    .dataframe tbody tr th {\n",
       "        vertical-align: top;\n",
       "    }\n",
       "\n",
       "    .dataframe thead th {\n",
       "        text-align: right;\n",
       "    }\n",
       "</style>\n",
       "<table border=\"1\" class=\"dataframe\">\n",
       "  <thead>\n",
       "    <tr style=\"text-align: right;\">\n",
       "      <th></th>\n",
       "      <th>Player</th>\n",
       "      <th>Level</th>\n",
       "    </tr>\n",
       "  </thead>\n",
       "  <tbody>\n",
       "    <tr>\n",
       "      <th>0</th>\n",
       "      <td>Player1</td>\n",
       "      <td>25</td>\n",
       "    </tr>\n",
       "    <tr>\n",
       "      <th>1</th>\n",
       "      <td>Player2</td>\n",
       "      <td>10</td>\n",
       "    </tr>\n",
       "    <tr>\n",
       "      <th>2</th>\n",
       "      <td>Player3</td>\n",
       "      <td>18</td>\n",
       "    </tr>\n",
       "  </tbody>\n",
       "</table>\n",
       "</div>"
      ],
      "text/plain": [
       "    Player  Level\n",
       "0  Player1     25\n",
       "1  Player2     10\n",
       "2  Player3     18"
      ]
     },
     "execution_count": 89,
     "metadata": {},
     "output_type": "execute_result"
    }
   ],
   "source": [
    "df_players3.loc[ :, [\"Player\",\"Level\"]]"
   ]
  },
  {
   "cell_type": "code",
   "execution_count": 91,
   "metadata": {},
   "outputs": [
    {
     "data": {
      "text/html": [
       "<div>\n",
       "<style scoped>\n",
       "    .dataframe tbody tr th:only-of-type {\n",
       "        vertical-align: middle;\n",
       "    }\n",
       "\n",
       "    .dataframe tbody tr th {\n",
       "        vertical-align: top;\n",
       "    }\n",
       "\n",
       "    .dataframe thead th {\n",
       "        text-align: right;\n",
       "    }\n",
       "</style>\n",
       "<table border=\"1\" class=\"dataframe\">\n",
       "  <thead>\n",
       "    <tr style=\"text-align: right;\">\n",
       "      <th></th>\n",
       "      <th>Player</th>\n",
       "      <th>Level</th>\n",
       "    </tr>\n",
       "  </thead>\n",
       "  <tbody>\n",
       "    <tr>\n",
       "      <th>0</th>\n",
       "      <td>Player1</td>\n",
       "      <td>25</td>\n",
       "    </tr>\n",
       "    <tr>\n",
       "      <th>1</th>\n",
       "      <td>Player2</td>\n",
       "      <td>10</td>\n",
       "    </tr>\n",
       "    <tr>\n",
       "      <th>2</th>\n",
       "      <td>Player3</td>\n",
       "      <td>18</td>\n",
       "    </tr>\n",
       "  </tbody>\n",
       "</table>\n",
       "</div>"
      ],
      "text/plain": [
       "    Player  Level\n",
       "0  Player1     25\n",
       "1  Player2     10\n",
       "2  Player3     18"
      ]
     },
     "execution_count": 91,
     "metadata": {},
     "output_type": "execute_result"
    }
   ],
   "source": [
    "df_players3.iloc[ :, [0, 1]]"
   ]
  },
  {
   "attachments": {},
   "cell_type": "markdown",
   "metadata": {},
   "source": [
    "Lastly, though not a pratical use of these, you can also limit the rows you pull."
   ]
  },
  {
   "cell_type": "code",
   "execution_count": 93,
   "metadata": {},
   "outputs": [
    {
     "data": {
      "text/html": [
       "<div>\n",
       "<style scoped>\n",
       "    .dataframe tbody tr th:only-of-type {\n",
       "        vertical-align: middle;\n",
       "    }\n",
       "\n",
       "    .dataframe tbody tr th {\n",
       "        vertical-align: top;\n",
       "    }\n",
       "\n",
       "    .dataframe thead th {\n",
       "        text-align: right;\n",
       "    }\n",
       "</style>\n",
       "<table border=\"1\" class=\"dataframe\">\n",
       "  <thead>\n",
       "    <tr style=\"text-align: right;\">\n",
       "      <th></th>\n",
       "      <th>Player</th>\n",
       "      <th>Level</th>\n",
       "    </tr>\n",
       "  </thead>\n",
       "  <tbody>\n",
       "    <tr>\n",
       "      <th>0</th>\n",
       "      <td>Player1</td>\n",
       "      <td>25</td>\n",
       "    </tr>\n",
       "    <tr>\n",
       "      <th>1</th>\n",
       "      <td>Player2</td>\n",
       "      <td>10</td>\n",
       "    </tr>\n",
       "  </tbody>\n",
       "</table>\n",
       "</div>"
      ],
      "text/plain": [
       "    Player  Level\n",
       "0  Player1     25\n",
       "1  Player2     10"
      ]
     },
     "execution_count": 93,
     "metadata": {},
     "output_type": "execute_result"
    }
   ],
   "source": [
    "df_players3.loc[ 0:1, [\"Player\",\"Level\"]]"
   ]
  },
  {
   "cell_type": "code",
   "execution_count": 94,
   "metadata": {},
   "outputs": [
    {
     "data": {
      "text/html": [
       "<div>\n",
       "<style scoped>\n",
       "    .dataframe tbody tr th:only-of-type {\n",
       "        vertical-align: middle;\n",
       "    }\n",
       "\n",
       "    .dataframe tbody tr th {\n",
       "        vertical-align: top;\n",
       "    }\n",
       "\n",
       "    .dataframe thead th {\n",
       "        text-align: right;\n",
       "    }\n",
       "</style>\n",
       "<table border=\"1\" class=\"dataframe\">\n",
       "  <thead>\n",
       "    <tr style=\"text-align: right;\">\n",
       "      <th></th>\n",
       "      <th>Player</th>\n",
       "      <th>Level</th>\n",
       "    </tr>\n",
       "  </thead>\n",
       "  <tbody>\n",
       "    <tr>\n",
       "      <th>0</th>\n",
       "      <td>Player1</td>\n",
       "      <td>25</td>\n",
       "    </tr>\n",
       "  </tbody>\n",
       "</table>\n",
       "</div>"
      ],
      "text/plain": [
       "    Player  Level\n",
       "0  Player1     25"
      ]
     },
     "execution_count": 94,
     "metadata": {},
     "output_type": "execute_result"
    }
   ],
   "source": [
    "df_players3.iloc[ 0:1, [0,1]]"
   ]
  },
  {
   "attachments": {},
   "cell_type": "markdown",
   "metadata": {},
   "source": [
    "Notice a sudden difference in the output? \"loc's\" index is inclusive, while iloc is not! However, for \"loc\" it would probably be better to use row names instead - hence the index range being inclusive is more useful. If our rows were the real names of players, i.e. 'Katherine', 'Tom' and 'John', and we wanted the data for all three, if it weren't inclusive the output would drop the row for 'John'."
   ]
  },
  {
   "attachments": {},
   "cell_type": "markdown",
   "metadata": {},
   "source": [
    "Panda's dataframes are masterful for manipulating data. You should refer to the documentation to learn more. But before wrapping up, let's look at one simple filtering operation. Of our three players, only one has reached Level 20 or higher. How can we find out who that is?"
   ]
  },
  {
   "cell_type": "code",
   "execution_count": 95,
   "metadata": {},
   "outputs": [
    {
     "data": {
      "text/html": [
       "<div>\n",
       "<style scoped>\n",
       "    .dataframe tbody tr th:only-of-type {\n",
       "        vertical-align: middle;\n",
       "    }\n",
       "\n",
       "    .dataframe tbody tr th {\n",
       "        vertical-align: top;\n",
       "    }\n",
       "\n",
       "    .dataframe thead th {\n",
       "        text-align: right;\n",
       "    }\n",
       "</style>\n",
       "<table border=\"1\" class=\"dataframe\">\n",
       "  <thead>\n",
       "    <tr style=\"text-align: right;\">\n",
       "      <th></th>\n",
       "      <th>Player</th>\n",
       "      <th>Level</th>\n",
       "      <th>Location</th>\n",
       "    </tr>\n",
       "  </thead>\n",
       "  <tbody>\n",
       "    <tr>\n",
       "      <th>0</th>\n",
       "      <td>Player1</td>\n",
       "      <td>25</td>\n",
       "      <td>BogTown</td>\n",
       "    </tr>\n",
       "  </tbody>\n",
       "</table>\n",
       "</div>"
      ],
      "text/plain": [
       "    Player  Level Location\n",
       "0  Player1     25  BogTown"
      ]
     },
     "execution_count": 95,
     "metadata": {},
     "output_type": "execute_result"
    }
   ],
   "source": [
    "player_lvl20 = df_players3[df_players3[\"Level\"]>=20]\n",
    "player_lvl20"
   ]
  },
  {
   "attachments": {},
   "cell_type": "markdown",
   "metadata": {},
   "source": [
    "Only Player1 has reached Level 20 or higher!\n",
    "\n",
    "We'll see some more of what a dataframe can do in the next lab when we read in and parse a larger data file."
   ]
  }
 ],
 "metadata": {
  "kernelspec": {
   "display_name": "Python 3.9.13 ('base')",
   "language": "python",
   "name": "python3"
  },
  "language_info": {
   "codemirror_mode": {
    "name": "ipython",
    "version": 3
   },
   "file_extension": ".py",
   "mimetype": "text/x-python",
   "name": "python",
   "nbconvert_exporter": "python",
   "pygments_lexer": "ipython3",
   "version": "3.9.13"
  },
  "orig_nbformat": 4,
  "vscode": {
   "interpreter": {
    "hash": "60790f95b3b586c184cfaca05abf0ee5339eeeac63d325e1c1f0322a7f8da95d"
   }
  }
 },
 "nbformat": 4,
 "nbformat_minor": 2
}
